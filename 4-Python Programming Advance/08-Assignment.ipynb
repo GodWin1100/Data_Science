{
 "cells": [
  {
   "cell_type": "markdown",
   "metadata": {},
   "source": [
    "# Python Programming Advance Assignment-08\n"
   ]
  },
  {
   "cell_type": "markdown",
   "metadata": {},
   "source": [
    "## 1. Given a sentence as txt, return `True` if any two adjacent words have this property: One word ends with a vowel, while the word immediately after begins with a vowel `(a e i o u)`.\n",
    "\n",
    "Examples\n",
    "\n",
    "```py\n",
    "vowel_links(\"a very large appliance\") ➞ True\n",
    "\n",
    "vowel_links(\"go to edabit\") ➞ True\n",
    "\n",
    "vowel_links(\"an open fire\") ➞ False\n",
    "\n",
    "vowel_links(\"a sudden applause\") ➞ False\n",
    "```\n"
   ]
  },
  {
   "cell_type": "code",
   "execution_count": 7,
   "metadata": {},
   "outputs": [
    {
     "data": {
      "text/plain": [
       "(True, True, False, False)"
      ]
     },
     "execution_count": 7,
     "metadata": {},
     "output_type": "execute_result"
    }
   ],
   "source": [
    "def vowel_links(string: str) -> bool:\n",
    "    vowel = \"aeiou\"\n",
    "    arr = string.split(\" \")\n",
    "    for i in range(len(arr) - 1):\n",
    "        if arr[i][-1] in vowel and arr[i + 1][0] in vowel:\n",
    "            return True\n",
    "    return False\n",
    "\n",
    "\n",
    "vowel_links(\"a very large appliance\"), vowel_links(\"go to edabit\"), vowel_links(\"an open fire\"), vowel_links(\n",
    "    \"a sudden applause\"\n",
    ")\n"
   ]
  },
  {
   "cell_type": "markdown",
   "metadata": {},
   "source": [
    "## 2. You are given three inputs: a string, one letter, and a second letter.\n",
    "\n",
    "Write a function that returns `True` if every instance of the first letter occurs before every instance of the second letter.\n",
    "\n",
    "Examples\n",
    "\n",
    "```py\n",
    "first_before_second(\"a rabbit jumps joyfully\", \"a\", \"j\") ➞ True\n",
    "# Every instance of \"a\" occurs before every instance of \"j\".\n",
    "\n",
    "first_before_second(\"knaves knew about waterfalls\", \"k\", \"w\") ➞  True\n",
    "\n",
    "first_before_second(\"happy birthday\", \"a\", \"y\") ➞ False\n",
    "# The \"a\" in \"birthday\" occurs after the \"y\" in \"happy\".\n",
    "\n",
    "first_before_second(\"precarious kangaroos\", \"k\", \"a\") ➞ False\n",
    "```\n"
   ]
  },
  {
   "cell_type": "code",
   "execution_count": 10,
   "metadata": {},
   "outputs": [
    {
     "data": {
      "text/plain": [
       "(True, True, False, False)"
      ]
     },
     "execution_count": 10,
     "metadata": {},
     "output_type": "execute_result"
    }
   ],
   "source": [
    "def first_before_second(string: str, first: str, second: str) -> bool:\n",
    "    return True if string.index(second) > string.rindex(first) else False\n",
    "\n",
    "\n",
    "first_before_second(\"a rabbit jumps joyfully\", \"a\", \"j\"), first_before_second(\n",
    "    \"knaves knew about waterfalls\", \"k\", \"w\"\n",
    "), first_before_second(\"happy birthday\", \"a\", \"y\"), first_before_second(\"precarious kangaroos\", \"k\", \"a\")\n"
   ]
  },
  {
   "cell_type": "markdown",
   "metadata": {},
   "source": [
    "## 3. Create a function that returns the characters from a list or string `r` on odd or even positions, depending on the specifier `s`. The specifier will be \"odd\" for items on odd positions (1, 3, 5, ...) and \"even\" for items on even positions (2, 4, 6, ...).\n",
    "\n",
    "Examples\n",
    "\n",
    "```py\n",
    "char_at_pos([2, 4, 6, 8, 10], \"even\") ➞ [4, 8]\n",
    "# 4 & 8 occupy the 2nd & 4th positions\n",
    "\n",
    "char_at_pos(\"EDABIT\", \"odd\") ➞ \"EAI\"\n",
    "# \"E\", \"A\" and \"I\" occupy the 1st, 3rd and 5th positions\n",
    "\n",
    "char_at_pos([\"A\", \"R\", \"B\", \"I\", \"T\", \"R\", \"A\", \"R\", \"I\", \"L\", \"Y\"], \"odd\") ➞ [\"A\", \"B\", \"T\", \"A\", \"I\", \"Y\"]\n",
    "```\n"
   ]
  },
  {
   "cell_type": "code",
   "execution_count": 12,
   "metadata": {},
   "outputs": [
    {
     "data": {
      "text/plain": [
       "([4, 8], 'EAI', ['A', 'B', 'T', 'A', 'I', 'Y'])"
      ]
     },
     "execution_count": 12,
     "metadata": {},
     "output_type": "execute_result"
    }
   ],
   "source": [
    "def char_at_pos(r: (str and list), s: str) -> (str and list):\n",
    "    return r[0::2] if s == \"odd\" else r[1::2]\n",
    "\n",
    "\n",
    "char_at_pos([2, 4, 6, 8, 10], \"even\"), char_at_pos(\"EDABIT\", \"odd\"), char_at_pos(\n",
    "    [\"A\", \"R\", \"B\", \"I\", \"T\", \"R\", \"A\", \"R\", \"I\", \"L\", \"Y\"], \"odd\"\n",
    ")\n"
   ]
  },
  {
   "cell_type": "markdown",
   "metadata": {},
   "source": [
    "## 4. Write a function that returns the greatest common divisor of all list elements. If the greatest common divisor is 1, return 1.\n",
    "\n",
    "Examples\n",
    "\n",
    "```py\n",
    "GCD([10, 20, 40]) ➞ 10\n",
    "\n",
    "GCD([1, 2, 3, 100]) ➞ 1\n",
    "\n",
    "GCD([1024, 192, 2048, 512]) ➞ 64\n",
    "```\n"
   ]
  },
  {
   "cell_type": "code",
   "execution_count": 14,
   "metadata": {},
   "outputs": [
    {
     "data": {
      "text/plain": [
       "(10, 1, 64)"
      ]
     },
     "execution_count": 14,
     "metadata": {},
     "output_type": "execute_result"
    }
   ],
   "source": [
    "from math import gcd\n",
    "from functools import reduce\n",
    "\n",
    "\n",
    "def GCD(lst: list) -> int:\n",
    "    return reduce(gcd, lst)\n",
    "\n",
    "\n",
    "GCD([10, 20, 40]), GCD([1, 2, 3, 100]), GCD([1024, 192, 2048, 512])\n"
   ]
  },
  {
   "cell_type": "markdown",
   "metadata": {},
   "source": [
    "## 5. A number/string is a palindrome if the digits/characters are the same when read both forward and backward. Examples include \"racecar\" and 12321. Given a positive number n, check if n or the binary representation of n is palindromic. Return the following:\n",
    "\n",
    "- \"`Decimal only.`\" if only n is a palindrome.\n",
    "- \"`Binary only.`\" if only the binary representation of n is a palindrome.\n",
    "- \"`Decimal and binary.`\" if both are palindromes.\n",
    "- \"`Neither!`\" if neither are palindromes.\n",
    "\n",
    "Examples\n",
    "\n",
    "```py\n",
    "palindrome_type(1306031) ➞ \"Decimal only.\"\n",
    "# decimal = 1306031\n",
    "# binary  = \"100111110110110101111\"\n",
    "\n",
    "palindrome_type(427787) ➞ \"Binary only.\"\n",
    "# decimal = 427787\n",
    "# binary  = \"1101000011100001011\"\n",
    "\n",
    "palindrome_type(313) ➞ \"Decimal and binary.\"\n",
    "# decimal = 313\n",
    "# binary  = 100111001\n",
    "\n",
    "palindrome_type(934) ➞ \"Neither!\"\n",
    "# decimal = 934\n",
    "# binary  = \"1110100110\"\n",
    "```\n"
   ]
  },
  {
   "cell_type": "code",
   "execution_count": 20,
   "metadata": {},
   "outputs": [
    {
     "data": {
      "text/plain": [
       "('Decimal Only', 'Binary Only', 'Decimal and binary', 'Neither!')"
      ]
     },
     "execution_count": 20,
     "metadata": {},
     "output_type": "execute_result"
    }
   ],
   "source": [
    "def palindrome_type(num: int) -> str:\n",
    "    num_str = str(num)\n",
    "    bin_str = bin(num)[2:]\n",
    "    if num_str == num_str[::-1] and bin_str == bin_str[::-1]:\n",
    "        return \"Decimal and binary.\"\n",
    "    elif num_str == num_str[::-1]:\n",
    "        return \"Decimal Only.\"\n",
    "    elif bin_str == bin_str[::-1]:\n",
    "        return \"Binary Only.\"\n",
    "    else:\n",
    "        return \"Neither!\"\n",
    "\n",
    "\n",
    "palindrome_type(1306031), palindrome_type(427787), palindrome_type(313), palindrome_type(934)\n"
   ]
  }
 ],
 "metadata": {
  "kernelspec": {
   "display_name": "Python 3.8.10 ('fsds')",
   "language": "python",
   "name": "python3"
  },
  "language_info": {
   "codemirror_mode": {
    "name": "ipython",
    "version": 3
   },
   "file_extension": ".py",
   "mimetype": "text/x-python",
   "name": "python",
   "nbconvert_exporter": "python",
   "pygments_lexer": "ipython3",
   "version": "3.8.10"
  },
  "orig_nbformat": 4,
  "vscode": {
   "interpreter": {
    "hash": "20f5f825ba7e1e0138bea706cf7ce76ba178632e6be331b5251920b13e58ac94"
   }
  }
 },
 "nbformat": 4,
 "nbformat_minor": 2
}
