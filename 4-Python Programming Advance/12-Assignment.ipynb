{
 "cells": [
  {
   "cell_type": "markdown",
   "metadata": {},
   "source": [
    "# Python Programming Advance Assignment-12\n"
   ]
  },
  {
   "cell_type": "markdown",
   "metadata": {},
   "source": [
    "## 1. For this challenge, forget how to add two numbers together:\n",
    "\n",
    "Examples\n",
    "\n",
    "```py\n",
    "meme_sum(26, 39) ➞ 515\n",
    "# 2+3 = 5, 6+9 = 15\n",
    "# 26 + 39 = 515\n",
    "\n",
    "meme_sum(122, 81) ➞ 1103\n",
    "# 1+0 = 1, 2+8 = 10, 2+1 = 3\n",
    "# 122 + 81 = 1103\n",
    "\n",
    "meme_sum(1222, 30277) ➞ 31499\n",
    "```\n"
   ]
  },
  {
   "cell_type": "code",
   "execution_count": 16,
   "metadata": {},
   "outputs": [
    {
     "data": {
      "text/plain": [
       "(515, 1103, 31499)"
      ]
     },
     "execution_count": 16,
     "metadata": {},
     "output_type": "execute_result"
    }
   ],
   "source": [
    "def meme_sum(a: int, b: int) -> int:\n",
    "    a = str(a)[::-1]\n",
    "    b = str(b)[::-1]\n",
    "    max_len = max(len(a), len(b))\n",
    "    a = a.ljust(max_len, \"0\")\n",
    "    b = b.ljust(max_len, \"0\")\n",
    "    output = \"\"\n",
    "    for i in range(max_len):\n",
    "        output += str(int(a[i]) + int(b[i]))[::-1]\n",
    "    return int(output[::-1])\n",
    "\n",
    "\n",
    "meme_sum(26, 39), meme_sum(122, 81), meme_sum(1222, 30277)\n"
   ]
  },
  {
   "cell_type": "markdown",
   "metadata": {},
   "source": [
    "## 2. Given an integer, create a function that returns the next prime. If the number is prime, return the number itself.\n",
    "\n",
    "Examples\n",
    "\n",
    "```py\n",
    "next_prime(12) ➞ 13\n",
    "\n",
    "next_prime(24) ➞ 29\n",
    "\n",
    "next_prime(11) ➞ 11\n",
    "# 11 is a prime, so we return the number itself.\n",
    "```\n"
   ]
  },
  {
   "cell_type": "code",
   "execution_count": 1,
   "metadata": {},
   "outputs": [
    {
     "data": {
      "text/plain": [
       "(13, 29, 11)"
      ]
     },
     "execution_count": 1,
     "metadata": {},
     "output_type": "execute_result"
    }
   ],
   "source": [
    "def is_prime(num: int) -> bool:\n",
    "    if num > 1:\n",
    "        for i in range(2, int(num**0.5) + 1):\n",
    "            if num % i == 0:\n",
    "                return False\n",
    "        return True\n",
    "    return False\n",
    "\n",
    "\n",
    "def next_prime(num: int) -> int:\n",
    "    if is_prime(num):\n",
    "        return num\n",
    "    counter = num\n",
    "    while True:\n",
    "        if is_prime(counter):\n",
    "            return counter\n",
    "        counter += 1\n",
    "\n",
    "\n",
    "next_prime(12), next_prime(24), next_prime(11)\n"
   ]
  },
  {
   "cell_type": "markdown",
   "metadata": {},
   "source": [
    "## 3. If a person traveled up a hill for 18mins at 20mph and then traveled back down the same path at 60mph then their average speed traveled was 30mph.\n",
    "\n",
    "Write a function that returns the average speed traveled given an uphill time, uphill rate and a downhill rate. Uphill time is given in minutes. Return the rate as an integer (mph). No rounding is necessary.\n",
    "\n",
    "Examples\n",
    "\n",
    "```py\n",
    "ave_spd(18, 20, 60) ➞ 30\n",
    "\n",
    "ave_spd(30, 10, 30) ➞ 15\n",
    "\n",
    "ave_spd(30, 8, 24) ➞ 12\n",
    "```\n"
   ]
  },
  {
   "cell_type": "code",
   "execution_count": 3,
   "metadata": {},
   "outputs": [
    {
     "data": {
      "text/plain": [
       "(30, 15, 12)"
      ]
     },
     "execution_count": 3,
     "metadata": {},
     "output_type": "execute_result"
    }
   ],
   "source": [
    "def ave_spd(up_time: int, up_speed: int, down_speed: int) -> int:\n",
    "    distance = up_speed * up_time / 60\n",
    "    down_time = distance / down_speed\n",
    "    return int(2 * distance / (up_time / 60 + down_time))\n",
    "\n",
    "\n",
    "ave_spd(18, 20, 60), ave_spd(30, 10, 30), ave_spd(30, 8, 24)\n"
   ]
  },
  {
   "cell_type": "markdown",
   "metadata": {},
   "source": [
    "## 4. The Kempner Function, applied to a composite number, permits to find the smallest integer greater than zero whose factorial is exactly divided by the number.\n",
    "\n",
    "```py\n",
    "kempner(6) ➞ 3\n",
    "\n",
    "1! = 1 % 6 > 0\n",
    "2! = 2 % 6 > 0\n",
    "3! = 6 % 6 === 0\n",
    "\n",
    "kempner(10) ➞ 5\n",
    "\n",
    "1! = 1 % 10 > 0\n",
    "2! = 2 % 10 > 0\n",
    "3! = 6 % 10 > 0\n",
    "4! = 24 % 10 > 0\n",
    "5! = 120 % 10 === 0\n",
    "```\n",
    "\n",
    "A Kempner Function applied to a prime will always return the prime itself.\n",
    "\n",
    "```py\n",
    "kempner(2) ➞ 2\n",
    "kempner(5) ➞ 5\n",
    "```\n",
    "\n",
    "Given an integer `n`, implement a Kempner Function.\n",
    "\n",
    "Examples\n",
    "\n",
    "```py\n",
    "kempner(6) ➞ 3\n",
    "\n",
    "kempner(10) ➞ 5\n",
    "\n",
    "kempner(2) ➞ 2\n",
    "```\n"
   ]
  },
  {
   "cell_type": "code",
   "execution_count": 14,
   "metadata": {},
   "outputs": [
    {
     "data": {
      "text/plain": [
       "(3, 5, 2)"
      ]
     },
     "execution_count": 14,
     "metadata": {},
     "output_type": "execute_result"
    }
   ],
   "source": [
    "def fact(num: int) -> int:\n",
    "    if num < 1:\n",
    "        return 1\n",
    "    else:\n",
    "        return num * fact(num - 1)\n",
    "\n",
    "\n",
    "def kempner(num: int) -> int:\n",
    "    count = 1\n",
    "    while True:\n",
    "        if fact(count) % num == 0:\n",
    "            return count\n",
    "        count += 1\n",
    "\n",
    "\n",
    "kempner(6), kempner(10), kempner(2)\n"
   ]
  },
  {
   "cell_type": "markdown",
   "metadata": {},
   "source": [
    "## 5. You work in a factory, and your job is to take items from a conveyor belt and pack them into boxes. Each box can hold a maximum of 10 kgs. Given a list containing the weight (in kg) of each item, how many boxes would you need to pack all of the items?\n",
    "\n",
    "Example\n",
    "\n",
    "```py\n",
    "boxes([2, 1, 2, 5, 4, 3, 6, 1, 1, 9, 3, 2]) ➞ 5\n",
    "\n",
    "# Box 1 = [2, 1, 2, 5] (10kg)\n",
    "# Box 2 = [4, 3] (7kg)\n",
    "# Box 3 = [6, 1, 1] (8kg)\n",
    "# Box 4 = [9] (9kg)\n",
    "# Box 5 = [3, 2] (5kg)\n",
    "```\n"
   ]
  },
  {
   "cell_type": "code",
   "execution_count": 59,
   "metadata": {},
   "outputs": [
    {
     "name": "stdout",
     "output_type": "stream",
     "text": [
      "[[2, 1, 2, 5], [4, 3], [6, 1, 1], [9], [3, 2]]\n"
     ]
    },
    {
     "data": {
      "text/plain": [
       "5"
      ]
     },
     "execution_count": 59,
     "metadata": {},
     "output_type": "execute_result"
    }
   ],
   "source": [
    "def boxes(lst: list) -> int:\n",
    "    res = 0\n",
    "    temp = []\n",
    "    current = 0\n",
    "    for i in range(1, len(lst)):\n",
    "        if sum(lst[current : i + 1]) > 10:\n",
    "            temp.append(lst[current:i])\n",
    "            res += 1\n",
    "            current = i\n",
    "        elif sum(lst[current : i + 1]) == 10:\n",
    "            temp.append(lst[current : i + 1])\n",
    "            res += 1\n",
    "            current = i + 1\n",
    "        elif i == len(lst) - 1:\n",
    "            temp.append(lst[current : i + 1])\n",
    "            res += 1\n",
    "    print(temp)\n",
    "    return res\n",
    "\n",
    "\n",
    "boxes([2, 1, 2, 5, 4, 3, 6, 1, 1, 9, 3, 2])\n"
   ]
  }
 ],
 "metadata": {
  "kernelspec": {
   "display_name": "Python 3.8.10 ('fsds')",
   "language": "python",
   "name": "python3"
  },
  "language_info": {
   "codemirror_mode": {
    "name": "ipython",
    "version": 3
   },
   "file_extension": ".py",
   "mimetype": "text/x-python",
   "name": "python",
   "nbconvert_exporter": "python",
   "pygments_lexer": "ipython3",
   "version": "3.8.10"
  },
  "orig_nbformat": 4,
  "vscode": {
   "interpreter": {
    "hash": "20f5f825ba7e1e0138bea706cf7ce76ba178632e6be331b5251920b13e58ac94"
   }
  }
 },
 "nbformat": 4,
 "nbformat_minor": 2
}
