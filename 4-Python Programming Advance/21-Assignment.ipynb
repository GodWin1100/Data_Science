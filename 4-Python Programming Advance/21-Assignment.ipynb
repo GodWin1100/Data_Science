{
 "cells": [
  {
   "cell_type": "markdown",
   "metadata": {},
   "source": [
    "# Python Programming Advance Assignment-21\n"
   ]
  },
  {
   "cell_type": "markdown",
   "metadata": {},
   "source": [
    "## 1. Given a sentence, return the number of words which have the same first and last letter.\n",
    "\n",
    "Examples\n",
    "\n",
    "```py\n",
    "count_same_ends(\"Pop! goes the balloon\") ➞ 1\n",
    "\n",
    "count_same_ends(\"And the crowd goes wild!\") ➞ 0\n",
    "\n",
    "count_same_ends(\"No I am not in a gang.\") ➞ 1\n",
    "```\n"
   ]
  },
  {
   "cell_type": "code",
   "execution_count": 9,
   "metadata": {},
   "outputs": [
    {
     "data": {
      "text/plain": [
       "(1, 0, 1)"
      ]
     },
     "execution_count": 9,
     "metadata": {},
     "output_type": "execute_result"
    }
   ],
   "source": [
    "import re\n",
    "\n",
    "\n",
    "def count_same_ends(string: str) -> int:\n",
    "    return sum(\n",
    "        [\n",
    "            re.sub(r\"[^\\d\\w]\", \"\", i)[0] == re.sub(r\"[^\\d\\w]\", \"\", i)[-1]\n",
    "            for i in string.lower().split()\n",
    "            if len(re.sub(r\"[^\\d\\w]\", \"\", i)) > 1\n",
    "        ]\n",
    "    )\n",
    "\n",
    "\n",
    "count_same_ends(\"Pop! goes the balloon\"), count_same_ends(\"And the crowd goes wild!\"), count_same_ends(\n",
    "    \"No I am not in a gang.\"\n",
    "),\n"
   ]
  },
  {
   "cell_type": "markdown",
   "metadata": {},
   "source": [
    "## 2. The Atbash cipher is an encryption method in which each letter of a word is replaced with its \"mirror\" letter in the alphabet: `A <=> Z; B <=> Y; C <=> X`; etc. Create a function that takes a string and applies the Atbash cipher to it.\n",
    "\n",
    "Examples\n",
    "\n",
    "```py\n",
    "atbash(\"apple\") ➞ \"zkkov\"\n",
    "\n",
    "atbash(\"Hello world!\") ➞ \"Svool dliow!\"\n",
    "\n",
    "atbash(\"Christmas is the 25th of December\") ➞ \"Xsirhgnzh rh gsv 25gs lu Wvxvnyvi\"\n",
    "```\n"
   ]
  },
  {
   "cell_type": "code",
   "execution_count": 18,
   "metadata": {},
   "outputs": [
    {
     "data": {
      "text/plain": [
       "('zkkov', 'Svool dliow!', 'Xsirhgnzh rh gsv 25gs lu Wvxvnyvi')"
      ]
     },
     "execution_count": 18,
     "metadata": {},
     "output_type": "execute_result"
    }
   ],
   "source": [
    "def atbash(string: str) -> str:\n",
    "    res = \"\"\n",
    "    for i in string:\n",
    "        if i.isalpha():\n",
    "            N = ord(\"a\") + ord(\"z\")\n",
    "            if i.isupper():\n",
    "                N = ord(\"A\") + ord(\"Z\")\n",
    "            res += chr(N - ord(i))\n",
    "        else:\n",
    "            res += i\n",
    "    return res\n",
    "\n",
    "\n",
    "atbash(\"apple\"), atbash(\"Hello world!\"), atbash(\"Christmas is the 25th of December\"),\n"
   ]
  },
  {
   "cell_type": "markdown",
   "metadata": {},
   "source": [
    "## 3. Create a class Employee that will take a full name as argument, as well as a set of none, one or more keywords. Each instance should have a name and a lastname attributes plus one more attribute for each of the keywords, if any.\n",
    "\n",
    "Examples\n",
    "\n",
    "```py\n",
    "john = Employee(\"John Doe\")\n",
    "mary = Employee(\"Mary Major\", salary=120000)\n",
    "richard = Employee(\"Richard Roe\", salary=110000, height=178)\n",
    "giancarlo = Employee(\"Giancarlo Rossi\", salary=115000, height=182, nationality=\"Italian\")\n",
    "\n",
    "john.name ➞ \"John\"\n",
    "mary.lastname ➞ \"Major\"\n",
    "richard.height ➞ 178\n",
    "giancarlo.nationality ➞ \"Italian\"\n",
    "```\n"
   ]
  },
  {
   "cell_type": "code",
   "execution_count": 22,
   "metadata": {},
   "outputs": [
    {
     "data": {
      "text/plain": [
       "('John', 'Major', 178, 'Italian')"
      ]
     },
     "execution_count": 22,
     "metadata": {},
     "output_type": "execute_result"
    }
   ],
   "source": [
    "class Employee:\n",
    "    def __init__(self, name: str, salary: int = None, height: int = None, nationality: str = None):\n",
    "        self.name, self.lastname = name.split()\n",
    "        self.salary = salary\n",
    "        self.height = height\n",
    "        self.nationality = nationality\n",
    "\n",
    "\n",
    "john = Employee(\"John Doe\")\n",
    "mary = Employee(\"Mary Major\", salary=120000)\n",
    "richard = Employee(\"Richard Roe\", salary=110000, height=178)\n",
    "giancarlo = Employee(\"Giancarlo Rossi\", salary=115000, height=182, nationality=\"Italian\")\n",
    "\n",
    "john.name, mary.lastname, richard.height, giancarlo.nationality\n"
   ]
  },
  {
   "cell_type": "markdown",
   "metadata": {},
   "source": [
    "## 4. Create a function that determines whether each seat can \"see\" the front-stage. A number can \"see\" the front-stage if it is strictly greater than the number before it.\n",
    "\n",
    "Everyone can see the front-stage in the example below:\n",
    "\n",
    "```py\n",
    "# FRONT STAGE\n",
    "[[1, 2, 3, 2, 1, 1],\n",
    "[2, 4, 4, 3, 2, 2],\n",
    "[5, 5, 5, 5, 4, 4],\n",
    "[6, 6, 7, 6, 5, 5]]\n",
    "\n",
    "# Starting from the left, the 6 > 5 > 2 > 1, so all numbers can see.\n",
    "# 6 > 5 > 4 > 2 - so all numbers can see, etc.\n",
    "\n",
    "Not everyone can see the front-stage in the example below:\n",
    "\n",
    "# FRONT STAGE\n",
    "[[1, 2, 3, 2, 1, 1],\n",
    "[2, 4, 4, 3, 2, 2],\n",
    "[5, 5, 5, 10, 4, 4],\n",
    "[6, 6, 7, 6, 5, 5]]\n",
    "\n",
    "# The 10 is directly in front of the 6 and blocking its view.\n",
    "\n",
    "```\n",
    "\n",
    "The function should return True if every number can see the front-stage, and False if even a single number cannot.\n",
    "\n",
    "Examples\n",
    "\n",
    "```py\n",
    "can_see_stage([\n",
    "  [1, 2, 3],\n",
    "  [4, 5, 6],\n",
    "  [7, 8, 9]\n",
    "]) ➞ True\n",
    "\n",
    "can_see_stage([\n",
    "  [0, 0, 0],\n",
    "  [1, 1, 1],\n",
    "  [2, 2, 2]\n",
    "]) ➞ True\n",
    "\n",
    "can_see_stage([\n",
    "  [2, 0, 0],\n",
    "  [1, 1, 1],\n",
    "  [2, 2, 2]\n",
    "]) ➞ False\n",
    "\n",
    "can_see_stage([\n",
    "  [1, 0, 0],\n",
    "  [1, 1, 1],\n",
    "  [2, 2, 2]\n",
    "]) ➞ False\n",
    "\n",
    "# Number must be strictly smaller than\n",
    "# the number directly behind it.\n",
    "\n",
    "```\n"
   ]
  },
  {
   "cell_type": "code",
   "execution_count": 34,
   "metadata": {},
   "outputs": [
    {
     "data": {
      "text/plain": [
       "(True, True, False, False)"
      ]
     },
     "execution_count": 34,
     "metadata": {},
     "output_type": "execute_result"
    }
   ],
   "source": [
    "def can_see_stage(lst: list) -> bool:\n",
    "    for j in range(len(lst[0])):\n",
    "        for i in range(len(lst) - 1):\n",
    "            if lst[i][j] >= lst[i + 1][j]:\n",
    "                return False\n",
    "    return True\n",
    "\n",
    "\n",
    "can_see_stage([[1, 2, 3], [4, 5, 6], [7, 8, 9]]), can_see_stage([[0, 0, 0], [1, 1, 1], [2, 2, 2]]), can_see_stage(\n",
    "    [[2, 0, 0], [1, 1, 1], [2, 2, 2]]\n",
    "), can_see_stage([[1, 0, 0], [1, 1, 1], [2, 2, 2]]),\n"
   ]
  },
  {
   "cell_type": "markdown",
   "metadata": {},
   "source": [
    "## 5. Create a Pizza class with the attributes order_number and ingredients (which is given as a list). Only the ingredients will be given as input. You should also make it so that its possible to choose a ready made pizza flavour rather than typing out the ingredients manually! As well as creating this Pizza class, hard-code the following pizza flavours.\n",
    "\n",
    "| Name          | Ingredients               |\n",
    "| ------------- | ------------------------- |\n",
    "| hawaiian      | ham, pineapple            |\n",
    "| meat_festival | beef, meatball, bacon     |\n",
    "| garden_feast  | spinach, olives, mushroom |\n",
    "\n",
    "Examples\n",
    "\n",
    "```py\n",
    "p1 = Pizza([\"bacon\", \"parmesan\", \"ham\"])    # order 1\n",
    "p2 = Pizza.garden_feast()                  # order 2\n",
    "\n",
    "p1.ingredients ➞ [\"bacon\", \"parmesan\", \"ham\"]\n",
    "\n",
    "p2.ingredients ➞ [\"spinach\", \"olives\", \"mushroom\"]\n",
    "\n",
    "p1.order_number ➞ 1\n",
    "\n",
    "p2.order_number ➞ 2\n",
    "```\n"
   ]
  },
  {
   "cell_type": "code",
   "execution_count": 31,
   "metadata": {},
   "outputs": [
    {
     "data": {
      "text/plain": [
       "(['bacon', 'parmesan', 'ham'], ['spinach', 'olives', 'mushrooom'], 1, 2)"
      ]
     },
     "execution_count": 31,
     "metadata": {},
     "output_type": "execute_result"
    }
   ],
   "source": [
    "class Pizza:\n",
    "    order_count = 0\n",
    "\n",
    "    def __init__(self, ingredients: list = None):\n",
    "        self.ingredients = ingredients\n",
    "        self.order_number = Pizza.order_count + 1\n",
    "        Pizza.order_count = self.order_number\n",
    "\n",
    "    def hawaiian():\n",
    "        return Pizza([\"ham\", \"pineapple\"])\n",
    "\n",
    "    def meat_festival():\n",
    "        return Pizza([\"beef\", \"meatball\", \"bacon\"])\n",
    "\n",
    "    def garden_feast():\n",
    "        return Pizza([\"spinach\", \"olives\", \"mushrooom\"])\n",
    "\n",
    "\n",
    "p1 = Pizza([\"bacon\", \"parmesan\", \"ham\"])\n",
    "p2 = Pizza.garden_feast()\n",
    "\n",
    "p1.ingredients, p2.ingredients, p1.order_number, p2.order_number,\n"
   ]
  }
 ],
 "metadata": {
  "kernelspec": {
   "display_name": "Python 3.8.10 ('fsds')",
   "language": "python",
   "name": "python3"
  },
  "language_info": {
   "codemirror_mode": {
    "name": "ipython",
    "version": 3
   },
   "file_extension": ".py",
   "mimetype": "text/x-python",
   "name": "python",
   "nbconvert_exporter": "python",
   "pygments_lexer": "ipython3",
   "version": "3.8.10"
  },
  "orig_nbformat": 4,
  "vscode": {
   "interpreter": {
    "hash": "20f5f825ba7e1e0138bea706cf7ce76ba178632e6be331b5251920b13e58ac94"
   }
  }
 },
 "nbformat": 4,
 "nbformat_minor": 2
}
