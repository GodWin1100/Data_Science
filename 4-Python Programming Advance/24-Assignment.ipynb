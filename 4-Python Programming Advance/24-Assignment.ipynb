{
 "cells": [
  {
   "cell_type": "markdown",
   "metadata": {},
   "source": [
    "# Python Programming Advance Assignment-24\n"
   ]
  },
  {
   "cell_type": "markdown",
   "metadata": {},
   "source": [
    "## 1. Implement a class iterator to flatten a nested list of lists of integers. Each list element is either an integer or a list. There can be many levels of nested lists in lists.\n",
    "\n",
    "The class initializes with a nested list. It also has two methods:\n",
    "\n",
    "1. `next()` returns an integer in the order of appearance.\n",
    "2. `hasNext()` returns True / False regarding if all integers have been retrieved or not.\n",
    "\n",
    "Write the Class implementation for three required methods.\n",
    "\n",
    "Examples\n",
    "\n",
    "```py\n",
    "ni, actual = NestedIterator([[1, 1], 2, [1, 1]]), []\n",
    "while ni.hasNext():\n",
    "    actual.append(ni.next())\n",
    "actual ➞ [1, 1, 2, 1, 1]\n",
    "\n",
    "ni, actual = NestedIterator([1, [4, [6]]]), []\n",
    "while ni.hasNext():\n",
    "    actual.append(ni.next())\n",
    "actual ➞ [1, 4, 6]\n",
    "\n",
    "ni, actual = NestedIterator([[[]], []]), []\n",
    "while ni.hasNext():\n",
    "    actual.append(ni.next())\n",
    "actual ➞ []\n",
    "```\n"
   ]
  },
  {
   "cell_type": "code",
   "execution_count": 9,
   "metadata": {},
   "outputs": [],
   "source": [
    "class NestedIterator:\n",
    "    def __init__(self, lst: list):\n",
    "        self.data = []\n",
    "        self.__flatten(lst)\n",
    "\n",
    "    def __flatten(self, lst):\n",
    "        for elem in lst:\n",
    "            if isinstance(elem, list):\n",
    "                self.__flatten(elem)\n",
    "            else:\n",
    "                self.data.append(elem)\n",
    "\n",
    "    def hasNext(self):\n",
    "        return True if len(self.data) else False\n",
    "\n",
    "    def next(self):\n",
    "        return self.data.pop(0)\n"
   ]
  },
  {
   "cell_type": "code",
   "execution_count": 10,
   "metadata": {},
   "outputs": [
    {
     "data": {
      "text/plain": [
       "[1, 1, 2, 1, 1]"
      ]
     },
     "execution_count": 10,
     "metadata": {},
     "output_type": "execute_result"
    }
   ],
   "source": [
    "ni, actual = NestedIterator([[1, 1], 2, [1, 1]]), []\n",
    "while ni.hasNext():\n",
    "    actual.append(ni.next())\n",
    "actual\n"
   ]
  },
  {
   "cell_type": "code",
   "execution_count": 11,
   "metadata": {},
   "outputs": [
    {
     "data": {
      "text/plain": [
       "[1, 4, 6]"
      ]
     },
     "execution_count": 11,
     "metadata": {},
     "output_type": "execute_result"
    }
   ],
   "source": [
    "ni, actual = NestedIterator([1, [4, [6]]]), []\n",
    "while ni.hasNext():\n",
    "    actual.append(ni.next())\n",
    "actual\n"
   ]
  },
  {
   "cell_type": "code",
   "execution_count": 12,
   "metadata": {},
   "outputs": [
    {
     "data": {
      "text/plain": [
       "[]"
      ]
     },
     "execution_count": 12,
     "metadata": {},
     "output_type": "execute_result"
    }
   ],
   "source": [
    "ni, actual = NestedIterator([[[]], []]), []\n",
    "while ni.hasNext():\n",
    "    actual.append(ni.next())\n",
    "actual\n"
   ]
  },
  {
   "cell_type": "markdown",
   "metadata": {},
   "source": [
    "## 2. Implement the class `Shape` that receives perimeter and density function into `__init__` method. The list of consecutive corners defines shape of a 2-dimensional object. The density function defines the mass distribution inside the shape. To compute mass in a certain point `m(x, y) = small_square * density(x, y)`. The `__init__` method calls other internal methods that compute three characteristics of the shape:\n",
    "\n",
    "- area\n",
    "- total mass\n",
    "- center of mass (xc, yc)\n",
    "\n",
    "The computational grid has distance between two neighboring points as `2 * delta`, the distance between a grid point and the perimeter wall is delta.\n",
    "\n",
    "Examples\n",
    "\n",
    "```py\n",
    "sh_ex1 = Shape([(1, 1), (3, 1), (3, 2), (1, 2)], lambda x, y: 100 + 100 * x)\n",
    "\n",
    "sh_ex1.area ➞ 2.0\n",
    "\n",
    "sh_ex1.mass ➞ 600.0\n",
    "\n",
    "sh_ex1.mass_center ➞ (2.1, 1.5)\n",
    "```\n",
    "\n",
    "The example can be verified via analytical integration. Other shapes in Tests are slightly more complicated and require numerical integration as illustrated here:\n",
    "\n",
    "![complicated example](./a24-2.png)\n"
   ]
  },
  {
   "cell_type": "code",
   "execution_count": 17,
   "metadata": {},
   "outputs": [
    {
     "data": {
      "text/plain": [
       "(2, 600.0, (2.0, 1.5))"
      ]
     },
     "execution_count": 17,
     "metadata": {},
     "output_type": "execute_result"
    }
   ],
   "source": [
    "class Shape:\n",
    "    def __init__(self, perimeter, density_function):\n",
    "        self.area = self.__area(perimeter)\n",
    "        self.mass = self.__mass(perimeter, density_function)\n",
    "        self.mass_center = self.__mass_center(perimeter)\n",
    "\n",
    "    def __area(self, perimeter):\n",
    "        return abs(perimeter[0][0] - perimeter[1][0]) * abs(perimeter[1][1] - perimeter[2][1])\n",
    "\n",
    "    def __mass(self, perimeter, density_function):\n",
    "        return self.area * sum([density_function(*elem) for elem in perimeter]) / 4\n",
    "\n",
    "    def __mass_center(self, perimeter):\n",
    "        return ((perimeter[1][0] + perimeter[0][0]) / 2, (perimeter[2][1] + perimeter[1][1]) / 2)\n",
    "\n",
    "\n",
    "sh_ex1 = Shape([(1, 1), (3, 1), (3, 2), (1, 2)], lambda x, y: 100 + 100 * x)\n",
    "sh_ex1.area, sh_ex1.mass, sh_ex1.mass_center\n"
   ]
  },
  {
   "cell_type": "markdown",
   "metadata": {},
   "source": [
    "## 3. Given a 3x3 matrix of a completed tic-tac-toe game, create a function that returns whether the game is a win for `\"X\"`, `\"O\"`, or a `\"Draw\"`, where `\"X\"` and `\"O\"` represent themselves on the matrix, and `\"E\"` represents an empty spot.\n",
    "\n",
    "Examples\n",
    "\n",
    "```py\n",
    "tic_tac_toe([\n",
    "  [\"X\", \"O\", \"X\"],\n",
    "  [\"O\", \"X\",  \"O\"],\n",
    "  [\"O\", \"X\",  \"X\"]\n",
    "]) ➞ \"X\"\n",
    "\n",
    "tic_tac_toe([\n",
    "  [\"O\", \"O\", \"O\"],\n",
    "  [\"O\", \"X\", \"X\"],\n",
    "  [\"E\", \"X\", \"X\"]\n",
    "]) ➞ \"O\"\n",
    "\n",
    "tic_tac_toe([\n",
    "  [\"X\", \"X\", \"O\"],\n",
    "  [\"O\", \"O\", \"X\"],\n",
    "  [\"X\", \"X\", \"O\"]\n",
    "]) ➞ \"Draw\"\n",
    "```\n"
   ]
  },
  {
   "cell_type": "code",
   "execution_count": 66,
   "metadata": {},
   "outputs": [],
   "source": [
    "import numpy as np\n",
    "\n",
    "\n",
    "def tic_tac_toe(lst: list) -> str:\n",
    "    arr = np.array(lst)\n",
    "    for elem in arr:\n",
    "        if len((set(elem))) == 1:\n",
    "            return elem[0]\n",
    "    for elem in arr.T:\n",
    "        if len((set(elem))) == 1:\n",
    "            return elem[0]\n",
    "    if len(set(arr.diagonal())) == 1:\n",
    "        return arr.diagonal()[0]\n",
    "    if len(set(np.flipud(arr).diagonal())) == 1:\n",
    "        return arr.diagonal()[0]\n",
    "    return \"Draw\"\n"
   ]
  },
  {
   "cell_type": "code",
   "execution_count": 68,
   "metadata": {},
   "outputs": [
    {
     "data": {
      "text/plain": [
       "('X', 'O', 'Draw')"
      ]
     },
     "execution_count": 68,
     "metadata": {},
     "output_type": "execute_result"
    }
   ],
   "source": [
    "tic_tac_toe([[\"X\", \"O\", \"X\"], [\"O\", \"X\", \"O\"], [\"O\", \"X\", \"X\"]]), tic_tac_toe(\n",
    "    [[\"O\", \"O\", \"O\"], [\"O\", \"X\", \"X\"], [\"E\", \"X\", \"X\"]]\n",
    "), tic_tac_toe([[\"X\", \"X\", \"O\"], [\"O\", \"O\", \"X\"], [\"X\", \"X\", \"O\"]])\n"
   ]
  },
  {
   "cell_type": "markdown",
   "metadata": {},
   "source": [
    "## 4. Your computer might have been infected by a virus! Create a function that finds the viruses in files and removes them from your computer.\n",
    "\n",
    "Examples\n",
    "\n",
    "```py\n",
    "remove_virus(\"PC Files: spotifysetup.exe, virus.exe, dog.jpg\") ➞ \"PC Files: spotifysetup.exe, dog.jpg\"\n",
    "\n",
    "remove_virus(\"PC Files: antivirus.exe, cat.pdf, lethalmalware.exe, dangerousvirus.exe \") ➞ \"PC Files: antivirus.exe, cat.pdf\"\n",
    "\n",
    "remove_virus(\"PC Files: notvirus.exe, funnycat.gif\") ➞ \"PC Files: notvirus.exe, funnycat.gif\"\n",
    "```\n"
   ]
  },
  {
   "cell_type": "code",
   "execution_count": 69,
   "metadata": {},
   "outputs": [
    {
     "data": {
      "text/plain": [
       "('PC Files: spotifysetup.exe, dog.jpg',\n",
       " 'PC Files: antivirus.exe, cat.pdf',\n",
       " 'PC Files: notvirus.exe, funnycat.gif')"
      ]
     },
     "execution_count": 69,
     "metadata": {},
     "output_type": "execute_result"
    }
   ],
   "source": [
    "def remove_virus(string: str) -> str:\n",
    "    lst = [elem.strip() for elem in string.replace(\"PC Files: \", \"\").split(\",\")]\n",
    "    res = [elem for elem in lst if elem not in [\"virus.exe\", \"dangerousvirus.exe\", \"lethalmalware.exe\"]]\n",
    "    return f\"PC Files: {', '.join(res)}\"\n",
    "\n",
    "\n",
    "remove_virus(\"PC Files: spotifysetup.exe, virus.exe, dog.jpg\"), remove_virus(\n",
    "    \"PC Files: antivirus.exe, cat.pdf, lethalmalware.exe, dangerousvirus.exe \"\n",
    "), remove_virus(\"PC Files: notvirus.exe, funnycat.gif\"),\n"
   ]
  },
  {
   "cell_type": "markdown",
   "metadata": {},
   "source": [
    "## 5. In a video game, a meteor will fall toward the main character's home planet. Given the meteor's trajectory as a string in the form `y = mx + b` and the character's position as a tuple of `(x, y)`, return True if the meteor will hit the character and False if it will not.\n",
    "\n",
    "Examples\n",
    "\n",
    "```py\n",
    "will_hit(\"y = 2x - 5\", (0, 0)) ➞ False\n",
    "\n",
    "will_hit(\"y = -4x + 6\", (1, 2)) ➞ True\n",
    "\n",
    "will_hit(\"y = 2x + 6\", (3, 2)) ➞ False\n",
    "```\n"
   ]
  },
  {
   "cell_type": "code",
   "execution_count": 76,
   "metadata": {},
   "outputs": [
    {
     "data": {
      "text/plain": [
       "(False, True, False)"
      ]
     },
     "execution_count": 76,
     "metadata": {},
     "output_type": "execute_result"
    }
   ],
   "source": [
    "def will_hit(line: str, coord: tuple) -> bool:\n",
    "    return eval(line.replace(\"x\", \"*\" + str(coord[0])).replace(\"y\", str(coord[1])).replace(\"=\", \"==\"))\n",
    "\n",
    "\n",
    "will_hit(\"y = 2x - 5\", (0, 0)), will_hit(\"y = -4x + 6\", (1, 2)), will_hit(\"y = 2x + 6\", (3, 2)),\n"
   ]
  }
 ],
 "metadata": {
  "kernelspec": {
   "display_name": "Python 3.8.10 ('fsds')",
   "language": "python",
   "name": "python3"
  },
  "language_info": {
   "codemirror_mode": {
    "name": "ipython",
    "version": 3
   },
   "file_extension": ".py",
   "mimetype": "text/x-python",
   "name": "python",
   "nbconvert_exporter": "python",
   "pygments_lexer": "ipython3",
   "version": "3.8.10"
  },
  "orig_nbformat": 4,
  "vscode": {
   "interpreter": {
    "hash": "20f5f825ba7e1e0138bea706cf7ce76ba178632e6be331b5251920b13e58ac94"
   }
  }
 },
 "nbformat": 4,
 "nbformat_minor": 2
}
