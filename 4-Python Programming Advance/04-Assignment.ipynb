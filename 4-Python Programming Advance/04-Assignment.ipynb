{
 "cells": [
  {
   "cell_type": "markdown",
   "metadata": {},
   "source": [
    "# Python Programming Advance-04\n"
   ]
  },
  {
   "cell_type": "markdown",
   "metadata": {},
   "source": [
    "## 1. In mathematics, the Fibonacci numbers, commonly denoted Fn, form a sequence, called the Fibonacci sequence, such that each number is the sum of the two preceding ones, starting from 0 and 1:\n",
    "\n",
    "$F_0 = 0, F_1 = 1$  \n",
    "$F_n = F_{n-1} + F_{n-2}, \\text{for } n > 1$\n",
    "\n",
    "The beginning of the sequence is this:\n",
    "\n",
    "> 0, 1, 1, 2, 3, 5, 8, 13, 21, 34, 55, 89, 144, ...\n",
    "\n",
    "The function fastFib(num) returns the fibonacci number Fn, of the given num as an argument.\n",
    "\n",
    "Examples\n",
    "\n",
    "```py\n",
    "fib_fast(5) ➞ 5\n",
    "\n",
    "fib_fast(10) ➞ 55\n",
    "\n",
    "fib_fast(20) ➞ 6765\n",
    "\n",
    "fib_fast(50) ➞ 12586269025\n",
    "```\n"
   ]
  },
  {
   "cell_type": "code",
   "execution_count": 13,
   "metadata": {},
   "outputs": [
    {
     "data": {
      "text/plain": [
       "(5, 55, 6765, 12586269025)"
      ]
     },
     "execution_count": 13,
     "metadata": {},
     "output_type": "execute_result"
    }
   ],
   "source": [
    "def fib_fast(num: int) -> int:\n",
    "    \"\"\"Fibonacci number given it's position starting from 0.as_integer_ratio\n",
    "\n",
    "    Args:\n",
    "        num (int): Position\n",
    "\n",
    "    Returns:\n",
    "        int: Fibonacci number of given `num` position\n",
    "    \"\"\"\n",
    "    if num <= 0:\n",
    "        return 0\n",
    "    elif num == 1:\n",
    "        return 1\n",
    "    n, m, fib = 0, 1, 0\n",
    "    for i in range(num - 1):\n",
    "        fib = n + m\n",
    "        n, m = m, fib\n",
    "    return fib\n",
    "\n",
    "\n",
    "fib_fast(5), fib_fast(10), fib_fast(20), fib_fast(50)\n"
   ]
  },
  {
   "cell_type": "markdown",
   "metadata": {},
   "source": [
    "## 2. Create a function that takes a strings characters as ASCII and returns each characters hexadecimal value as a string.\n",
    "\n",
    "Examples\n",
    "\n",
    "```py\n",
    "convert_to_hex(\"hello world\") ➞ \"68 65 6c 6c 6f 20 77 6f 72 6c 64\"\n",
    "\n",
    "convert_to_hex(\"Big Boi\") ➞ \"42 69 67 20 42 6f 69\"\n",
    "\n",
    "convert_to_hex(\"Marty Poppinson\") ➞ \"4d 61 72 74 79 20 50 6f 70 70 69 6e 73 6f 6e\"\n",
    "```\n"
   ]
  },
  {
   "cell_type": "code",
   "execution_count": 14,
   "metadata": {},
   "outputs": [
    {
     "data": {
      "text/plain": [
       "('68 65 6c 6c 6f 20 77 6f 72 6c 64',\n",
       " '42 69 67 20 42 6f 69',\n",
       " '4d 61 72 74 79 20 50 6f 70 70 69 6e 73 6f 6e')"
      ]
     },
     "execution_count": 14,
     "metadata": {},
     "output_type": "execute_result"
    }
   ],
   "source": [
    "def convert_to_hex(string: str) -> str:\n",
    "    \"\"\"Convert string to hexadecimal equivalent string\n",
    "\n",
    "    Args:\n",
    "        string (str): string to be converted\n",
    "\n",
    "    Returns:\n",
    "        str: hexadecimal value of string\n",
    "    \"\"\"\n",
    "    return \" \".join([hex(ord(i))[2:] for i in string])\n",
    "\n",
    "\n",
    "convert_to_hex(\"hello world\"), convert_to_hex(\"Big Boi\"), convert_to_hex(\"Marty Poppinson\")\n"
   ]
  },
  {
   "attachments": {},
   "cell_type": "markdown",
   "metadata": {},
   "source": [
    "## 3. Someone has attempted to censor my strings by replacing every vowel with a \\*, l\\*k* th*s. Luckily, I've been able to find the vowels that were removed.\n",
    "\n",
    "Given a censored string and a string of the censored vowels, return the original uncensored string.\n",
    "\n",
    "Example\n",
    "\n",
    "```py\n",
    "uncensor(\"Wh*r* d*d my v*w*ls g*?\", \"eeioeo\") ➞ \"Where did my vowels go?\"\n",
    "\n",
    "uncensor(\"abcd\", \"\") ➞ \"abcd\"\n",
    "\n",
    "uncensor(\"*PP*RC*S*\", \"UEAE\") ➞ \"UPPERCASE\"\n",
    "```\n"
   ]
  },
  {
   "cell_type": "code",
   "execution_count": 15,
   "metadata": {},
   "outputs": [
    {
     "data": {
      "text/plain": [
       "('Where did my vowels go?', 'abcd', 'UPPERCASE')"
      ]
     },
     "execution_count": 15,
     "metadata": {},
     "output_type": "execute_result"
    }
   ],
   "source": [
    "def uncensor(string: str, vowel: str) -> str:\n",
    "    \"\"\"Return original uncensored string.\n",
    "\n",
    "    Args:\n",
    "        string (str): Censored string\n",
    "        vowel (str): positional sorted vowels\n",
    "\n",
    "    Returns:\n",
    "        str: Uncensored String\n",
    "    \"\"\"\n",
    "    n = string.count(\"*\")\n",
    "    for i in range(n):\n",
    "        string = string.replace(\"*\", vowel[i], 1)\n",
    "    return string\n",
    "\n",
    "\n",
    "uncensor(\"Wh*r* d*d my v*w*ls g*?\", \"eeioeo\"), uncensor(\"abcd\", \"\"), uncensor(\"*PP*RC*S*\", \"UEAE\")\n"
   ]
  },
  {
   "cell_type": "markdown",
   "metadata": {},
   "source": [
    "## 4. Write a function that takes an IP address and returns the domain name using PTR DNS records.\n",
    "\n",
    "Example\n",
    "\n",
    "```py\n",
    "get_domain(\"8.8.8.8\") ➞ \"dns.google\"\n",
    "\n",
    "get_domain(\"8.8.4.4\") ➞ \"dns.google\"\n",
    "```\n"
   ]
  },
  {
   "cell_type": "code",
   "execution_count": 16,
   "metadata": {},
   "outputs": [
    {
     "data": {
      "text/plain": [
       "('dns.google', 'dns.google')"
      ]
     },
     "execution_count": 16,
     "metadata": {},
     "output_type": "execute_result"
    }
   ],
   "source": [
    "import socket\n",
    "\n",
    "\n",
    "def get_domain(ip: str) -> str:\n",
    "    \"\"\"Return domain name given it's `ip`\n",
    "\n",
    "    Args:\n",
    "        ip (str): IP address\n",
    "\n",
    "    Returns:\n",
    "        str: Domain Name\n",
    "    \"\"\"\n",
    "    return socket.gethostbyaddr(ip)[0]\n",
    "\n",
    "\n",
    "get_domain(\"8.8.8.8\"), get_domain(\"8.8.4.4\")\n"
   ]
  },
  {
   "cell_type": "markdown",
   "metadata": {},
   "source": [
    "## 5. Create a function that takes an integer n and returns the factorial of factorials. See below examples for a better understanding:\n",
    "\n",
    "Examples\n",
    "\n",
    "```py\n",
    "fact_of_fact(4) ➞ 288\n",
    "\n",
    "# 4! * 3! * 2! * 1! = 288\n",
    "\n",
    "fact_of_fact(5) ➞ 34560\n",
    "\n",
    "fact_of_fact(6) ➞ 24883200\n",
    "```\n"
   ]
  },
  {
   "cell_type": "code",
   "execution_count": 17,
   "metadata": {},
   "outputs": [
    {
     "data": {
      "text/plain": [
       "(288, 34560, 24883200)"
      ]
     },
     "execution_count": 17,
     "metadata": {},
     "output_type": "execute_result"
    }
   ],
   "source": [
    "def fact(n):\n",
    "    return 1 if n < 1 else n * fact(n - 1)\n",
    "\n",
    "\n",
    "def fact_of_fact(num: int) -> int:\n",
    "    \"\"\"Return factorial of factorials\n",
    "\n",
    "    Args:\n",
    "        num (int): number to find factorial of it's factorial\n",
    "\n",
    "    Returns:\n",
    "        int: factorial of factorial\n",
    "    \"\"\"\n",
    "    res = 1\n",
    "    for i in range(1, num + 1):\n",
    "        res *= fact(i)\n",
    "    return res\n",
    "\n",
    "\n",
    "fact_of_fact(4), fact_of_fact(5), fact_of_fact(6)\n"
   ]
  }
 ],
 "metadata": {
  "kernelspec": {
   "display_name": "Python 3.8.10 ('fsds')",
   "language": "python",
   "name": "python3"
  },
  "language_info": {
   "codemirror_mode": {
    "name": "ipython",
    "version": 3
   },
   "file_extension": ".py",
   "mimetype": "text/x-python",
   "name": "python",
   "nbconvert_exporter": "python",
   "pygments_lexer": "ipython3",
   "version": "3.8.10"
  },
  "orig_nbformat": 4,
  "vscode": {
   "interpreter": {
    "hash": "20f5f825ba7e1e0138bea706cf7ce76ba178632e6be331b5251920b13e58ac94"
   }
  }
 },
 "nbformat": 4,
 "nbformat_minor": 2
}
