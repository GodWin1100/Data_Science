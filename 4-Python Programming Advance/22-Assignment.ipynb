{
 "cells": [
  {
   "cell_type": "markdown",
   "metadata": {},
   "source": [
    "# Python Programming Advance Assignment-22\n"
   ]
  },
  {
   "cell_type": "markdown",
   "metadata": {},
   "source": [
    "1. Create a class Smoothie and do the following:\n",
    "\n",
    "   - Create an instance attribute called ingredients.\n",
    "   - Create a get_cost method which calculates the total cost of the ingredients used to make the smoothie.\n",
    "   - Create a get_price method which returns the number from get_cost plus the number from get_cost multiplied by 1.5. Round to two decimal places.\n",
    "   - Create a get_name method which gets the ingredients and puts them in alphabetical order into a nice descriptive sentence. If there are multiple ingredients, add the word \"Fusion\" to the end but otherwise, add \"Smoothie\". Remember to change \"-berries\" to \"-berry\". See the examples below.\n",
    "\n",
    "| Ingredient   | Price |\n",
    "| ------------ | ----- |\n",
    "| Strawberries | $1.50 |\n",
    "| Banana       | $0.50 |\n",
    "| Mango        | $2.50 |\n",
    "| Blueberries  | $1.00 |\n",
    "| Raspberries  | $1.00 |\n",
    "| Apple        | $1.75 |\n",
    "| Pineapple    | $3.50 |\n",
    "\n",
    "Examples\n",
    "\n",
    "```py\n",
    "s1 = Smoothie([\"Banana\"])\n",
    "\n",
    "s1.ingredients ➞ [\"Banana\"]\n",
    "\n",
    "s1.get_cost() ➞ \"$0.50\"\n",
    "\n",
    "s1.get_price() ➞ \"$1.25\"\n",
    "\n",
    "s1.get_name() ➞ \"Banana Smoothie\"\n",
    "\n",
    "s2 = Smoothie([\"Raspberries\", \"Strawberries\", \"Blueberries\"])\n",
    "\n",
    "s2.ingredients ➞ [\"Raspberries\", \"Strawberries\", \"Blueberries\"]\n",
    "\n",
    "s2.get_cost() ➞ \"$3.50\"\n",
    "\n",
    "s2.get_price() ➞ \"$8.75\"\n",
    "\n",
    "s2.get_name() ➞ \"Blueberry Raspberry Strawberry Fusion\"\n",
    "```\n"
   ]
  },
  {
   "cell_type": "code",
   "execution_count": 2,
   "metadata": {},
   "outputs": [
    {
     "data": {
      "text/plain": [
       "(['Banana'],\n",
       " '$0.50',\n",
       " '$1.25',\n",
       " 'Banana Smoothie',\n",
       " ['Raspberries', 'Strawberries', 'Blueberries'],\n",
       " '$3.50',\n",
       " '$8.75',\n",
       " 'Blueberry Raspberry Strawberry Fusion')"
      ]
     },
     "execution_count": 2,
     "metadata": {},
     "output_type": "execute_result"
    }
   ],
   "source": [
    "class Smoothie:\n",
    "    __prices = {\n",
    "        \"Strawberries\": 1.50,\n",
    "        \"Banana\": 0.50,\n",
    "        \"Mango\": 2.50,\n",
    "        \"Blueberries\": 1.00,\n",
    "        \"Raspberries\": 1.00,\n",
    "        \"Apple\": 1.75,\n",
    "        \"Pineapple\": 3.50,\n",
    "    }\n",
    "\n",
    "    def __init__(self, ingredients: list):\n",
    "        self.ingredients = ingredients\n",
    "        self.__cost = None\n",
    "\n",
    "    def get_cost(self):\n",
    "        self.__cost = sum([Smoothie.__prices[ingredient] for ingredient in self.ingredients])\n",
    "        return f\"${self.__cost:.2f}\"\n",
    "\n",
    "    def get_price(self):\n",
    "        return f\"${round(self.__cost*2.5,2)}\"\n",
    "\n",
    "    def get_name(self):\n",
    "        if len(self.ingredients) > 1:\n",
    "            return (\n",
    "                f\"{' '.join(sorted([ingredient.replace('berries','berry') for ingredient in self.ingredients]))} Fusion\"\n",
    "            )\n",
    "        return f\"{self.ingredients[0]} Smoothie\"\n",
    "\n",
    "\n",
    "s1 = Smoothie([\"Banana\"])\n",
    "\n",
    "s2 = Smoothie([\"Raspberries\", \"Strawberries\", \"Blueberries\"])\n",
    "s1.ingredients, s1.get_cost(), s1.get_price(), s1.get_name(), s2.ingredients, s2.get_cost(), s2.get_price(), s2.get_name()\n"
   ]
  },
  {
   "cell_type": "markdown",
   "metadata": {},
   "source": [
    "## 2. Your task is to write a program which allows teachers to create a multiple choice test in a class called `Testpaper` and to be also able to assign a minimum pass mark. The testpaper's subject should also be included. The attributes are in the following order:\n",
    "\n",
    "1. `subject`\n",
    "2. `markscheme`\n",
    "3. `pass_mark`\n",
    "\n",
    "As well as that, we need to create student objects to take the test itself! Create another class called `Student` and do the following:\n",
    "\n",
    "- Create an attribute called `tests_taken` and set the default as `'No tests taken'`.\n",
    "- Make a method called `take_test()`, which takes in the testpaper object they are completing and the student's answers. Compare what they wrote to the mark scheme, and append to the/create a dictionary assigned to `tests_taken` in the way as shown in the point below.\n",
    "- Each key in the dictionary should be the testpaper subject and each value should be a string in the format seen in the examples below (whether or not the student has failed, and their percentage in brackets).\n",
    "\n",
    "Examples\n",
    "\n",
    "```py\n",
    "paper1 = Testpaper(\"Maths\", [\"1A\", \"2C\", \"3D\", \"4A\", \"5A\"], \"60%\")\n",
    "paper2 = Testpaper(\"Chemistry\", [\"1C\", \"2C\", \"3D\", \"4A\"], \"75%\")\n",
    "paper3 = Testpaper(\"Computing\", [\"1D\", \"2C\", \"3C\", \"4B\", \"5D\", \"6C\", \"7A\"], \"75%\")\n",
    "\n",
    "student1 = Student()\n",
    "student2 = Student()\n",
    "\n",
    "student1.tests_taken ➞ \"No tests taken\"\n",
    "student1.take_test(paper1, [\"1A\", \"2D\", \"3D\", \"4A\", \"5A\"])\n",
    "student1.tests_taken ➞ {\"Maths\" : \"Passed! (80%)\"}\n",
    "\n",
    "student2.take_test(paper2, [\"1C\", \"2D\", \"3A\", \"4C\"])\n",
    "student2.take_test(paper3, [\"1A\", \"2C\", \"3A\", \"4C\", \"5D\", \"6C\", \"7B\"])\n",
    "student2.tests_taken ➞ {\"Chemistry\" : \"Failed! (25%)\", \"Computing\" : \"Failed! (43%)\"}\n",
    "```\n"
   ]
  },
  {
   "cell_type": "code",
   "execution_count": 22,
   "metadata": {},
   "outputs": [
    {
     "data": {
      "text/plain": [
       "('No tests taken',\n",
       " None,\n",
       " {'Maths': 'Passed! (80%)'},\n",
       " None,\n",
       " None,\n",
       " {'Chemistry': 'Failed! (25%)', 'Computing': 'Failed! (43%)'})"
      ]
     },
     "execution_count": 22,
     "metadata": {},
     "output_type": "execute_result"
    }
   ],
   "source": [
    "class Testpaper:\n",
    "    def __init__(self, subject: str, markscheme: list, pass_mark: str):\n",
    "        self.subject = subject\n",
    "        self.markscheme = markscheme\n",
    "        self.pass_mark = pass_mark\n",
    "\n",
    "\n",
    "class Student:\n",
    "    def __init__(self):\n",
    "        self.tests_taken = \"No tests taken\"\n",
    "\n",
    "    def take_test(self, test_paper: Testpaper, answer: list) -> None:\n",
    "        correct = round(\n",
    "            sum([c_ans == ans for c_ans, ans in zip(test_paper.markscheme, answer)]) / len(test_paper.markscheme) * 100\n",
    "        )\n",
    "        pass_fail = None\n",
    "        if isinstance(self.tests_taken, str):\n",
    "            self.tests_taken = {}\n",
    "        if correct >= int(test_paper.pass_mark.replace(\"%\", \"\")):\n",
    "            pass_fail = \"Passed!\"\n",
    "        else:\n",
    "            pass_fail = \"Failed!\"\n",
    "        self.tests_taken[test_paper.subject] = f\"{pass_fail} ({correct}%)\"\n",
    "\n",
    "\n",
    "paper1 = Testpaper(\"Maths\", [\"1A\", \"2C\", \"3D\", \"4A\", \"5A\"], \"60%\")\n",
    "paper2 = Testpaper(\"Chemistry\", [\"1C\", \"2C\", \"3D\", \"4A\"], \"75%\")\n",
    "paper3 = Testpaper(\"Computing\", [\"1D\", \"2C\", \"3C\", \"4B\", \"5D\", \"6C\", \"7A\"], \"75%\")\n",
    "\n",
    "student1 = Student()\n",
    "student2 = Student()\n",
    "\n",
    "student1.tests_taken, student1.take_test(\n",
    "    paper1, [\"1A\", \"2D\", \"3D\", \"4A\", \"5A\"]\n",
    "), student1.tests_taken, student2.take_test(paper2, [\"1C\", \"2D\", \"3A\", \"4C\"]), student2.take_test(\n",
    "    paper3, [\"1A\", \"2C\", \"3A\", \"4C\", \"5D\", \"6C\", \"7B\"]\n",
    "), student2.tests_taken\n"
   ]
  },
  {
   "cell_type": "markdown",
   "metadata": {},
   "source": [
    "## 3. Due to unforeseen circumstances in Suburbia, the trains will be delayed by a further 10 minutes.\n",
    "\n",
    "Create a function that will help to plan out and manage these delays! Create a function called `manage_delays` that does the following:\n",
    "\n",
    "- Parameters will be the train object, a destination and number of minutes the delay is.\n",
    "- Increment to the train object's expected_time by the delay, if the destination given is in the train object's destinations.\n",
    "\n",
    "Examples\n",
    "\n",
    "```py\n",
    "trains = [\n",
    "  Train([\"Townsville\", \"Suburbia\", \"Urbantska\"], \"13:04\"),\n",
    "  Train([\"Farmsdale\", \"Suburbia\", \"Lakeside Valley\"], \"13:20\"),\n",
    "  Train([\"Suburbia\", \"Townsville\", \"Lakeside Valley\"], \"13:22\")\n",
    "]\n",
    "\n",
    "for t in trains:\n",
    "    manage_delays(t, \"Lakeside Valley\", 60)\n",
    "\n",
    "trains[0].expected_time ➞ \"13:04\"\n",
    "\n",
    "trains[1].expected_time ➞ \"14:20\"\n",
    "\n",
    "trains[2].expected_time ➞ \"14:22\"\n",
    "```\n"
   ]
  },
  {
   "cell_type": "code",
   "execution_count": 24,
   "metadata": {},
   "outputs": [
    {
     "data": {
      "text/plain": [
       "('13:04', '14:20', '14:22')"
      ]
     },
     "execution_count": 24,
     "metadata": {},
     "output_type": "execute_result"
    }
   ],
   "source": [
    "class Train:\n",
    "    def __init__(self, destination: list, expected_time: str):\n",
    "        self.destination = destination\n",
    "        self.expected_time = expected_time\n",
    "\n",
    "\n",
    "def manage_delays(train_obj: Train, destination: str, delay_min: int) -> None:\n",
    "    if destination in train_obj.destination:\n",
    "        hour, minute = train_obj.expected_time.split(\":\")\n",
    "        total_second = int(hour) * 3600 + (int(minute) + delay_min) * 60\n",
    "        hour, second = divmod(total_second, 3600)\n",
    "        minute, second = divmod(second, 60)\n",
    "        train_obj.expected_time = f\"{hour}:{minute}\"\n",
    "\n",
    "\n",
    "trains = [\n",
    "    Train([\"Townsville\", \"Suburbia\", \"Urbantska\"], \"13:04\"),\n",
    "    Train([\"Farmsdale\", \"Suburbia\", \"Lakeside Valley\"], \"13:20\"),\n",
    "    Train([\"Suburbia\", \"Townsville\", \"Lakeside Valley\"], \"13:22\"),\n",
    "]\n",
    "\n",
    "for t in trains:\n",
    "    manage_delays(t, \"Lakeside Valley\", 60)\n",
    "\n",
    "trains[0].expected_time, trains[1].expected_time, trains[2].expected_time\n"
   ]
  },
  {
   "cell_type": "markdown",
   "metadata": {},
   "source": [
    "## 4. Ted works as a computer programmer at Minecraft Inc. His boss has just given him an important assignment to update the code for the minecart tracks by the end of April. However, he has recently had to self-isolate due to Covid-19 and has left the code for the tracks BACK AT WORK!! He has the shorthand for the tracks he's supposed to look at, and where the carts are suppost to end up, but not the actual code.\n",
    "\n",
    "He knows that:\n",
    "\n",
    "1. `\"-->\"` = \"Speed-Up Track\" ⁠— If a minecart interacts with this track, it's velocity increases by 2.67 BPS unless it's at its maximum speed of 8 BPS.\n",
    "2. `\"<-->\"` = \"Powered Track\" ⁠— If a minecart interacts with this track, it's velocity remains the same.\n",
    "3. `\"<--\"` = \"Slow-Down Track\" ⁠— If a minecart interacts with this track, it's velocity decreases by 2.67 BPS unless it's velocity equals 0, at which point it stops.\n",
    "4. `\"---\"` = \"Unpowered Track\" ⁠— If a minecart interacts with this track, it's velocity decreases by 1 BPS unless it's velocity equals 0, at which point it stops.\n",
    "\n",
    "Help Ted by writing a class for the tracks that interact with the provided `Minecart` class as shown above. And then write a function that will take a list of the shorthand tracks and:\n",
    "\n",
    "- If the Minecart reaches the last peice of Track, return True.\n",
    "- Else return the index of the Track where the Minecart stops.\n",
    "\n",
    "Examples\n",
    "\n",
    "```py\n",
    "mine_run([\"-->\", \"-->\", \"-->\", \"<--\", \"<--\", \"<--\"]) ➞ True\n",
    "\n",
    "mine_run([\"-->\", \"<--\", \"-->\", \"-->\", \"<-->\", \"---\"]) ➞ 1\n",
    "```\n"
   ]
  },
  {
   "cell_type": "code",
   "execution_count": 33,
   "metadata": {},
   "outputs": [
    {
     "data": {
      "text/plain": [
       "(True, 1)"
      ]
     },
     "execution_count": 33,
     "metadata": {},
     "output_type": "execute_result"
    }
   ],
   "source": [
    "class Minecraft:\n",
    "    def __init__(self, tracks: list):\n",
    "        self.tracks = tracks\n",
    "\n",
    "\n",
    "def mine_run(tracks: list):\n",
    "    min_speed, max_speed = 0, 8\n",
    "    speed = 0\n",
    "    n_track = len(tracks)\n",
    "    for i in range(n_track):\n",
    "        if tracks[i] == \"-->\":\n",
    "            if speed + 2.67 > max_speed:\n",
    "                speed = max_speed\n",
    "            else:\n",
    "                speed += 2.67\n",
    "        elif tracks[i] == \"<--\":\n",
    "            if speed - 2.67 > min_speed:\n",
    "                speed -= 2.67\n",
    "            elif speed - 2.67 <= min_speed and i != n_track - 1:\n",
    "                return i\n",
    "        elif tracks[i] == \"<-->\":\n",
    "            continue\n",
    "        else:\n",
    "            if speed - 1 > min_speed:\n",
    "                speed -= 1\n",
    "            elif speed - 1 <= min_speed and i != n_track - 1:\n",
    "                return i\n",
    "    return True\n",
    "\n",
    "\n",
    "mine_run([\"-->\", \"-->\", \"-->\", \"<--\", \"<--\", \"<--\"]), mine_run([\"-->\", \"<--\", \"-->\", \"-->\", \"<-->\", \"---\"])\n"
   ]
  },
  {
   "cell_type": "markdown",
   "metadata": {},
   "source": [
    "## 5. Make a `Rectangle` class with four parameters, an `x`, a `y` (representing the top-left corner of the rectangle), a `width` and a `height` exclusively in that order. Lastly, make a function `intersecting` that takes two Rectangle objects and returns `True` if those objects are intersecting (colliding), else return `False`.\n",
    "\n",
    "Examples\n",
    "\n",
    "```py\n",
    "a = Rectangle(10, 20, 100, 20)\n",
    "b = Rectangle(10, 40, 15, 20)\n",
    "c = Rectangle(50, 50, 20, 30)\n",
    "\n",
    "intersecting(a, b) ➞ True\n",
    "\n",
    "intersecting(a, c) ➞ False\n",
    "\n",
    "intersecting(b, c) ➞ True\n",
    "```\n"
   ]
  },
  {
   "cell_type": "code",
   "execution_count": 35,
   "metadata": {},
   "outputs": [
    {
     "data": {
      "text/plain": [
       "(True, False, True)"
      ]
     },
     "execution_count": 35,
     "metadata": {},
     "output_type": "execute_result"
    }
   ],
   "source": [
    "class Rectangle:\n",
    "    def __init__(self, x, y, width, height):\n",
    "        self.x = x\n",
    "        self.y = y\n",
    "        self.width = width\n",
    "        self.height = height\n",
    "\n",
    "\n",
    "def intersecting(rect_1: Rectangle, rect_2: Rectangle) -> bool:\n",
    "    return (\n",
    "        True\n",
    "        if (rect_2.y - rect_1.y == rect_1.height) or (rect_2.y - rect_1.y + rect_1.height == rect_2.height)\n",
    "        else False\n",
    "    )\n",
    "\n",
    "\n",
    "a = Rectangle(10, 20, 100, 20)\n",
    "b = Rectangle(10, 40, 15, 20)\n",
    "c = Rectangle(50, 50, 20, 30)\n",
    "\n",
    "intersecting(a, b), intersecting(a, c), intersecting(b, c)\n"
   ]
  }
 ],
 "metadata": {
  "kernelspec": {
   "display_name": "Python 3.8.10 ('fsds')",
   "language": "python",
   "name": "python3"
  },
  "language_info": {
   "codemirror_mode": {
    "name": "ipython",
    "version": 3
   },
   "file_extension": ".py",
   "mimetype": "text/x-python",
   "name": "python",
   "nbconvert_exporter": "python",
   "pygments_lexer": "ipython3",
   "version": "3.8.16"
  },
  "orig_nbformat": 4,
  "vscode": {
   "interpreter": {
    "hash": "20f5f825ba7e1e0138bea706cf7ce76ba178632e6be331b5251920b13e58ac94"
   }
  }
 },
 "nbformat": 4,
 "nbformat_minor": 2
}
