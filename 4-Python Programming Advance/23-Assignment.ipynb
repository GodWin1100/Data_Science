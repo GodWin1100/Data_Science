{
 "cells": [
  {
   "cell_type": "markdown",
   "metadata": {},
   "source": [
    "# Python Programming Advance Assignment-23\n"
   ]
  },
  {
   "cell_type": "markdown",
   "metadata": {},
   "source": [
    "## 1. Create a class `Sudoku` that takes a string as an argument. The string will contain the numbers of a regular 9x9 sudoku board left to right and top to bottom, with zeros filling up the empty cells.\n",
    "\n",
    "Attributes\n",
    "\n",
    "An instance of the class `Sudoku` will have one attribute:\n",
    "\n",
    "- `board`: a list representing the board, with sublist for each row, with the numbers as integers. Empty cell represented with 0.\n",
    "\n",
    "Methods\n",
    "\n",
    "An instance of the class Sudoku wil have three methods:\n",
    "\n",
    "- `get_row(n)`: will return the row in position `n`.\n",
    "- `get_col(n)`: will return the column in position `n`.\n",
    "- `get_sqr([n, m])`: will return the square in position `n` if only one argument is given, and the square to which the cell in position `(n, m)` belongs to if two arguments are given.\n",
    "\n",
    "Example  \n",
    "![Sudoku](./a23-1.png)\n",
    "\n",
    "```py\n",
    "game = Sudoku(\"417950030000000700060007000050009106800600000000003400900005000000430000200701580\")\n",
    "\n",
    "\n",
    "game.board ➞ [\n",
    "  [4, 1, 7, 9, 5, 0, 0, 3, 0],\n",
    "  [0, 0, 0, 0, 0, 0, 7, 0, 0],\n",
    "  [0, 6, 0, 0, 0, 7, 0, 0, 0],\n",
    "  [0, 5, 0, 0, 0, 9, 1, 0, 6],\n",
    "  [8, 0, 0, 6, 0, 0, 0, 0, 0],\n",
    "  [0, 0, 0, 0, 0, 3, 4, 0, 0],\n",
    "  [9, 0, 0, 0, 0, 5, 0, 0, 0],\n",
    "  [0, 0, 0, 4, 3, 0, 0, 0, 0],\n",
    "  [2, 0, 0, 7, 0, 1, 5, 8, 0]\n",
    "]\n",
    "\n",
    "game.get_row(0) ➞ [4, 1, 7, 9, 5, 0, 0, 3, 0]\n",
    "game.get_col(8) ➞ [0, 0, 0, 6, 0, 0, 0, 0, 0]\n",
    "game.get_sqr(1) ➞ [9, 5, 0, 0, 0, 0, 0, 0, 7]\n",
    "game.get_sqr(1, 8) ➞ [0, 3, 0, 7, 0, 0, 0, 0, 0]\n",
    "game.get_sqr(8, 3) ➞ [0, 0, 5, 4, 3, 0, 7, 0, 1]\n",
    "```\n"
   ]
  },
  {
   "cell_type": "code",
   "execution_count": 32,
   "metadata": {},
   "outputs": [
    {
     "data": {
      "text/plain": [
       "array([[4, 1, 7, 9, 5, 0, 0, 3, 0],\n",
       "       [0, 0, 0, 0, 0, 0, 7, 0, 0],\n",
       "       [0, 6, 0, 0, 0, 7, 0, 0, 0],\n",
       "       [0, 5, 0, 0, 0, 9, 1, 0, 6],\n",
       "       [8, 0, 0, 6, 0, 0, 0, 0, 0],\n",
       "       [0, 0, 0, 0, 0, 3, 4, 0, 0],\n",
       "       [9, 0, 0, 0, 0, 5, 0, 0, 0],\n",
       "       [0, 0, 0, 4, 3, 0, 0, 0, 0],\n",
       "       [2, 0, 0, 7, 0, 1, 5, 8, 0]])"
      ]
     },
     "execution_count": 32,
     "metadata": {},
     "output_type": "execute_result"
    }
   ],
   "source": [
    "import numpy as np\n",
    "\n",
    "\n",
    "class Sudoku:\n",
    "    def __init__(self, board_nums: str):\n",
    "        self.board = np.array([int(i) for i in board_nums]).reshape(9, 9)\n",
    "\n",
    "    def get_row(self, n: int):\n",
    "        return self.board[n]\n",
    "\n",
    "    def get_col(self, n: int):\n",
    "        return self.board[:, n]\n",
    "\n",
    "    def get_sqr(self, n: int, m: int = None):\n",
    "        if not m:\n",
    "            return self.board[n // 3 * 3 : n // 3 * 3 + 3, n % 3 * 3 : n % 3 * 3 + 3].flatten()\n",
    "        return self.board[n // 3 * 3 : n // 3 * 3 + 3, m // 3 * 3 : m // 3 * 3 + 3].flatten()\n",
    "\n",
    "\n",
    "game = Sudoku(\"417950030000000700060007000050009106800600000000003400900005000000430000200701580\")\n",
    "game.board\n"
   ]
  },
  {
   "cell_type": "code",
   "execution_count": 33,
   "metadata": {},
   "outputs": [
    {
     "data": {
      "text/plain": [
       "(array([4, 1, 7, 9, 5, 0, 0, 3, 0]),\n",
       " array([0, 0, 0, 6, 0, 0, 0, 0, 0]),\n",
       " array([9, 5, 0, 0, 0, 0, 0, 0, 7]),\n",
       " array([0, 3, 0, 7, 0, 0, 0, 0, 0]),\n",
       " array([0, 0, 5, 4, 3, 0, 7, 0, 1]))"
      ]
     },
     "execution_count": 33,
     "metadata": {},
     "output_type": "execute_result"
    }
   ],
   "source": [
    "game.get_row(0), game.get_col(8), game.get_sqr(1), game.get_sqr(1, 8), game.get_sqr(8, 3)\n"
   ]
  },
  {
   "cell_type": "markdown",
   "metadata": {},
   "source": [
    "## 2. The function input is two non-empty linked lists representing two non-negative integers. The digits are stored in reverse order, and each of their nodes contains a single digit. Add the two numbers and return the sum as a linked list, in which the digits are also stored in reversed order. The class `ListNode`, building block of the linked list, is defined in the Tests tab.\n",
    "\n",
    "Class definition\n",
    "\n",
    "```py\n",
    "class ListNode:\n",
    "    def __init__(self, val=0, next=None):\n",
    "        self.val = val\n",
    "        self.next = next\n",
    "```\n",
    "\n",
    "Examples\n",
    "\n",
    "```py\n",
    "lt1 = ListNode(2)\n",
    "lt1.add_data([4, 3])\n",
    "lt2 = ListNode(5)\n",
    "lt2.add_data([6, 4])\n",
    "# print(lt1.get_data())    # [2, 4, 3]\n",
    "# print(lt2.get_data())    # [5, 6, 4]\n",
    "# print(342 + 465)         # 807\n",
    "add_two_numbers(lt1, lt2).get_data() ➞ [7, 0, 8]\n",
    "\n",
    "lt1 = ListNode(0)\n",
    "lt2 = ListNode(0)\n",
    "# print(lt1.get_data())    # [0]\n",
    "# print(lt2.get_data())    # [0]\n",
    "# print(0 + 0)             # 0\n",
    "add_two_numbers(lt1, lt2).get_data() ➞ [0]\n",
    "\n",
    "lt1 = ListNode(9)\n",
    "lt1.add_data([9,9,9,9,9,9])\n",
    "lt2 = ListNode(9)\n",
    "lt2.add_data([9,9,9])\n",
    "# print(lt1.get_data())    # [9, 9, 9, 9, 9, 9, 9]\n",
    "# print(lt2.get_data())    # [9, 9, 9, 9]\n",
    "# print(9999999 + 9999)    # 10009998\n",
    "add_two_numbers(lt1, lt2).get_data() ➞ [8, 9, 9, 9, 0, 0, 0, 1]\n",
    "```\n"
   ]
  },
  {
   "cell_type": "code",
   "execution_count": 34,
   "metadata": {},
   "outputs": [],
   "source": [
    "class Node:\n",
    "    def __init__(self, val: int = 0, next=None):\n",
    "        self.val = val\n",
    "        self.next = next\n",
    "\n",
    "\n",
    "class ListNode:\n",
    "    def __init__(self, head):\n",
    "        self.head = Node(head)\n",
    "\n",
    "    def add_data(self, node_datas):\n",
    "        for node_data in node_datas:\n",
    "            temp_node = Node(node_data)\n",
    "            if not self.head:\n",
    "                self.head = temp_node\n",
    "                return\n",
    "            last_node = self.head\n",
    "            while last_node.next:\n",
    "                last_node = last_node.next\n",
    "            last_node.next = temp_node\n",
    "\n",
    "    def get_data(self):\n",
    "        res = []\n",
    "        last_node = self.head\n",
    "        res.append(last_node.val)\n",
    "        while last_node.next:\n",
    "            last_node = last_node.next\n",
    "            res.append(last_node.val)\n",
    "        return res\n",
    "\n",
    "\n",
    "def add_two_numbers(node_1: ListNode, node_2: ListNode):\n",
    "    one_data = \"\".join([str(i) for i in node_1.get_data()])[::-1]\n",
    "    two_data = \"\".join([str(i) for i in node_2.get_data()])[::-1]\n",
    "    res = int(one_data) + int(two_data)\n",
    "    res = [int(i) for i in str(res)[::-1]]\n",
    "    return res\n"
   ]
  },
  {
   "cell_type": "code",
   "execution_count": 35,
   "metadata": {},
   "outputs": [
    {
     "data": {
      "text/plain": [
       "([2, 4, 3], [5, 6, 4], [7, 0, 8])"
      ]
     },
     "execution_count": 35,
     "metadata": {},
     "output_type": "execute_result"
    }
   ],
   "source": [
    "lt1 = ListNode(2)\n",
    "lt1.add_data([4, 3])\n",
    "lt2 = ListNode(5)\n",
    "lt2.add_data([6, 4])\n",
    "lt1.get_data(), lt2.get_data(), add_two_numbers(lt1, lt2)\n"
   ]
  },
  {
   "cell_type": "code",
   "execution_count": 36,
   "metadata": {},
   "outputs": [
    {
     "data": {
      "text/plain": [
       "([0], [0], [0])"
      ]
     },
     "execution_count": 36,
     "metadata": {},
     "output_type": "execute_result"
    }
   ],
   "source": [
    "lt1 = ListNode(0)\n",
    "lt2 = ListNode(0)\n",
    "lt1.get_data(), lt2.get_data(), add_two_numbers(lt1, lt2)\n"
   ]
  },
  {
   "cell_type": "code",
   "execution_count": 37,
   "metadata": {},
   "outputs": [
    {
     "data": {
      "text/plain": [
       "([9, 9, 9, 9, 9, 9, 9], [9, 9, 9, 9], [8, 9, 9, 9, 0, 0, 0, 1])"
      ]
     },
     "execution_count": 37,
     "metadata": {},
     "output_type": "execute_result"
    }
   ],
   "source": [
    "lt1 = ListNode(9)\n",
    "lt1.add_data([9, 9, 9, 9, 9, 9])\n",
    "lt2 = ListNode(9)\n",
    "lt2.add_data([9, 9, 9])\n",
    "lt1.get_data(), lt2.get_data(), add_two_numbers(lt1, lt2)\n"
   ]
  },
  {
   "cell_type": "markdown",
   "metadata": {},
   "source": [
    "## 3. Write a class called `CoffeeShop`, which has three instance variables:\n",
    "\n",
    "1.  `name`: a string (basically, of the shop)\n",
    "2.  `menu`: a list of items (of dict type), with each item containing the item (name of the item), type (whether a food or a drink) and price.\n",
    "3.  `orders`: an empty list\n",
    "\n",
    "and seven `methods`:\n",
    "\n",
    "1. `add_order`: adds the name of the item to the end of the orders list if it exists on the menu, otherwise, return \"This item is currently unavailable!\"\n",
    "2. `fulfill_order`: if the orders list is not empty, return \"The {item} is ready!\". If the orders list is empty, return \"All orders have been fulfilled!\"\n",
    "3. `list_orders`: returns the item names of the orders taken, otherwise, an empty list.\n",
    "4. `due_amount`: returns the total amount due for the orders taken.\n",
    "5. `cheapest_item`: returns the name of the cheapest item on the menu.\n",
    "6. `drinks_only`: returns only the item names of type drink from the menu.\n",
    "7. `food_only`: returns only the item names of type food from the menu.\n",
    "\n",
    "IMPORTANT: Orders are fulfilled in a `FIFO` (first-in, first-out) order.\n",
    "\n",
    "Examples\n",
    "\n",
    "```py\n",
    "tcs.add_order(\"hot cocoa\") ➞ \"This item is currently unavailable!\"\n",
    "# Tesha's coffee shop does not sell hot cocoa\n",
    "tcs.add_order(\"iced tea\") ➞ \"This item is currently unavailable!\"\n",
    "# specifying the variant of \"iced tea\" will help the process\n",
    "\n",
    "tcs.add_order(\"cinnamon roll\") ➞  \"Order added!\"\n",
    "tcs.add_order(\"iced coffee\") ➞ \"Order added!\"\n",
    "tcs.list_orders ➞ [\"cinnamon roll\", \"iced coffee\"]\n",
    "# all items of the current order\n",
    "\n",
    "tcs.due_amount() ➞ 2.17\n",
    "\n",
    "tcs.fulfill_order() ➞ \"The cinnamon roll is ready!\"\n",
    "tcs.fulfill_order() ➞ \"The iced coffee is ready!\"\n",
    "tcs.fulfill_order() ➞ \"All orders have been fulfilled!\"\n",
    "# all orders have been presumably served\n",
    "\n",
    "tcs.list_orders() ➞ []\n",
    "# an empty list is returned if all orders have been exhausted\n",
    "\n",
    "tcs.due_amount() ➞ 0.0\n",
    "# no new orders taken, expect a zero payable\n",
    "\n",
    "tcs.cheapest_item() ➞ \"lemonade\"\n",
    "tcs.drinks_only() ➞ [\"orange juice\", \"lemonade\", \"cranberry juice\", \"pineapple juice\", \"lemon iced tea\", \"vanilla chai latte\", \"hot chocolate\", \"iced coffee\"]\n",
    "tcs.food_only() ➞ [\"tuna sandwich\", \"ham and cheese sandwich\", \"bacon and egg\", \"steak\", \"hamburger\", \"cinnamon roll\"]\n",
    "```\n"
   ]
  },
  {
   "cell_type": "code",
   "execution_count": 38,
   "metadata": {},
   "outputs": [],
   "source": [
    "class CoffeeShop:\n",
    "    def __init__(self, name: str, menu: list, orders: list = []):\n",
    "        self.name = name\n",
    "        self.menu = menu\n",
    "        self.orders = orders\n",
    "\n",
    "    def add_order(self, order: str):\n",
    "        avail = [elem[\"name\"].lower() for elem in self.menu]\n",
    "        if order.lower() not in avail:\n",
    "            return \"This item is currently unavailable\"\n",
    "        self.orders.append(order.lower())\n",
    "        return \"Order added!\"\n",
    "\n",
    "    def fulfill_order(self):\n",
    "        if self.orders:\n",
    "            return f\"The {self.orders.pop(0)} is ready!\"\n",
    "        return \"All orders have been fulfilled!\"\n",
    "\n",
    "    def list_orders(self):\n",
    "        return self.orders\n",
    "\n",
    "    def due_amount(self):\n",
    "        return sum([elem[\"price\"] for elem in self.menu if elem[\"name\"].lower() in self.orders])\n",
    "\n",
    "    def cheapest_item(self):\n",
    "        return min(self.menu, key=lambda x: x[\"price\"])[\"name\"]\n",
    "\n",
    "    def drinks_only(self):\n",
    "        return [elem[\"name\"] for elem in self.menu if elem[\"type\"] == \"drink\"]\n",
    "\n",
    "    def foods_only(self):\n",
    "        return [elem[\"name\"] for elem in self.menu if elem[\"type\"] == \"food\"]\n"
   ]
  },
  {
   "cell_type": "code",
   "execution_count": 39,
   "metadata": {},
   "outputs": [
    {
     "data": {
      "text/plain": [
       "('This item is currently unavailable',\n",
       " 'This item is currently unavailable',\n",
       " 'Order added!',\n",
       " 'Order added!')"
      ]
     },
     "execution_count": 39,
     "metadata": {},
     "output_type": "execute_result"
    }
   ],
   "source": [
    "MENU = [\n",
    "    {\"name\": \"Orange Juice\", \"type\": \"drink\", \"price\": 25.50},\n",
    "    {\"name\": \"Lemonade\", \"type\": \"drink\", \"price\": 10},\n",
    "    {\"name\": \"Cranberry Juice\", \"type\": \"drink\", \"price\": 40},\n",
    "    {\"name\": \"Pineapple Juice\", \"type\": \"drink\", \"price\": 40},\n",
    "    {\"name\": \"Lemon Iced Tea\", \"type\": \"drink\", \"price\": 80},\n",
    "    {\"name\": \"Vanilla Chai Latte\", \"type\": \"drink\", \"price\": 90},\n",
    "    {\"name\": \"Hot Chocolate\", \"type\": \"drink\", \"price\": 100},\n",
    "    {\"name\": \"Iced Coffee\", \"type\": \"drink\", \"price\": 70.12},\n",
    "    {\"name\": \"Tuna Sandwich\", \"type\": \"food\", \"price\": 120},\n",
    "    {\"name\": \"Ham Cheese Sandwich\", \"type\": \"food\", \"price\": 180},\n",
    "    {\"name\": \"Bacon And Egg\", \"type\": \"food\", \"price\": 120},\n",
    "    {\"name\": \"Chicken Biryani\", \"type\": \"food\", \"price\": 360},\n",
    "    {\"name\": \"Veg Burger\", \"type\": \"food\", \"price\": 90},\n",
    "    {\"name\": \"Cinnamon Roll\", \"type\": \"food\", \"price\": 60.25},\n",
    "]\n",
    "tcs = CoffeeShop(\"TCS\", MENU)\n",
    "tcs.add_order(\"hot cocoa\"), tcs.add_order(\"iced tea\"), tcs.add_order(\"cinnamon roll\"), tcs.add_order(\"iced coffee\")\n"
   ]
  },
  {
   "cell_type": "code",
   "execution_count": 40,
   "metadata": {},
   "outputs": [
    {
     "data": {
      "text/plain": [
       "(['cinnamon roll', 'iced coffee'], 130.37)"
      ]
     },
     "execution_count": 40,
     "metadata": {},
     "output_type": "execute_result"
    }
   ],
   "source": [
    "tcs.list_orders(), tcs.due_amount()\n"
   ]
  },
  {
   "cell_type": "code",
   "execution_count": 41,
   "metadata": {},
   "outputs": [
    {
     "data": {
      "text/plain": [
       "('The cinnamon roll is ready!',\n",
       " 'The iced coffee is ready!',\n",
       " 'All orders have been fulfilled!',\n",
       " [],\n",
       " 0)"
      ]
     },
     "execution_count": 41,
     "metadata": {},
     "output_type": "execute_result"
    }
   ],
   "source": [
    "tcs.fulfill_order(), tcs.fulfill_order(), tcs.fulfill_order(), tcs.list_orders(), tcs.due_amount()\n"
   ]
  },
  {
   "cell_type": "code",
   "execution_count": 42,
   "metadata": {},
   "outputs": [
    {
     "data": {
      "text/plain": [
       "('Lemonade',\n",
       " ['Orange Juice',\n",
       "  'Lemonade',\n",
       "  'Cranberry Juice',\n",
       "  'Pineapple Juice',\n",
       "  'Lemon Iced Tea',\n",
       "  'Vanilla Chai Latte',\n",
       "  'Hot Chocolate',\n",
       "  'Iced Coffee'],\n",
       " ['Tuna Sandwich',\n",
       "  'Ham Cheese Sandwich',\n",
       "  'Bacon And Egg',\n",
       "  'Chicken Biryani',\n",
       "  'Veg Burger',\n",
       "  'Cinnamon Roll'])"
      ]
     },
     "execution_count": 42,
     "metadata": {},
     "output_type": "execute_result"
    }
   ],
   "source": [
    "tcs.cheapest_item(), tcs.drinks_only(), tcs.foods_only()\n"
   ]
  },
  {
   "cell_type": "markdown",
   "metadata": {},
   "source": [
    "## 4. In this challenge, write a function `loneliest_number` to find the last Lonely number inside a sequence. A number is Lonely if the distance from its closest Prime sets a new record of the sequence.\n",
    "\n",
    "```\n",
    "Sequence = from 0 to 3\n",
    "\n",
    "# Any number lower than 3 doesn't have a Prime preceeding it...\n",
    "# ...so that you'll consider only its next closest Prime.\n",
    "\n",
    "0 has distance 2 from its closest Prime (2)\n",
    "# It's a new record! 0 It's the first lonely number of the sequence\n",
    "1 has distance 1 from its closest Prime (2)\n",
    "2 has distance 1 from 3\n",
    "3 has distance 1 from 2\n",
    "\n",
    "# The sequence 0 to 3  has only one Lonely number: 0\n",
    "\n",
    "Sequence = Numbers from 5 to 10\n",
    "\n",
    "5 has distance 2 from its closest Prime (3 or 7)\n",
    "# It's a new record! 5 It's the first lonely number of the sequence\n",
    "6 has distance 1 from 5 or 7\n",
    "7 has distance 2 from 5\n",
    "8 has distance 1 from 7\n",
    "9 has distance 2 from 7 or 11\n",
    "10 has distance 1 from 11\n",
    "\n",
    "# The sequence 5 to 10  has only one Lonely number: 5\n",
    "\n",
    "Sequence = Numbers from 19 to 24\n",
    "\n",
    "19 has distance 2 from its closest Prime (17)\n",
    "# It's a new record! 19 It's the first lonely number of the sequence\n",
    "20 has distance 1 from 19\n",
    "21 has distance 2 from 5\n",
    "22 has distance 1 from 23\n",
    "23 has distance 4 from 17 or 29\n",
    "# It's a new record! 23 is the second lonely number of the sequence\n",
    "24 has distance 1 from 23\n",
    "\n",
    "# The sequence 19 to 24  has two Lonely numbers: 19 and 23\n",
    "```\n",
    "\n",
    "The function loneliest_number must accept two integers lo and hi being the inclusive bounds of the sequence to analyze, and returns a dictionay (dict) object with the following keys and values:\n",
    "\n",
    "- number: is the last Lonely number found in the given sequence;\n",
    "- distance: is the distance of the number from its closest Prime;\n",
    "- closest: is the Prime closest to number (if two Primes are equally distant from number, return the higher Prime).\n",
    "\n",
    "Examples\n",
    "\n",
    "```py\n",
    "loneliest_number(0, 22) ➞ {\n",
    "  number: 0, distance: 2, closest: 2\n",
    "}\n",
    "\n",
    "loneliest_number(8, 123) ➞ {\n",
    "  number: 53, distance: 6, closest: 59\n",
    "}\n",
    "\n",
    "loneliest_number(938, 1190) ➞ {\n",
    "  number: 1140, distance: 11, closest: 1151\n",
    "}\n",
    "\n",
    "loneliest_number(120, 1190) ➞ {\n",
    "  number: 211, distance: 12, closest: 223\n",
    "}\n",
    "```\n"
   ]
  },
  {
   "cell_type": "code",
   "execution_count": 9,
   "metadata": {},
   "outputs": [],
   "source": [
    "def gen_primes():\n",
    "    n = 2\n",
    "    primes = set()\n",
    "    while True:\n",
    "        for p in primes:\n",
    "            if n % p == 0:\n",
    "                break\n",
    "        else:\n",
    "            primes.add(n)\n",
    "            yield n\n",
    "        n += 1\n"
   ]
  },
  {
   "cell_type": "code",
   "execution_count": 34,
   "metadata": {},
   "outputs": [
    {
     "data": {
      "text/plain": [
       "({'number': 0, 'distance': 2, 'closest': 2},\n",
       " {'number': 120, 'distance': 7, 'closest': 127},\n",
       " {'number': 1140, 'distance': 11, 'closest': 1151},\n",
       " {'number': 211, 'distance': 12, 'closest': 223})"
      ]
     },
     "execution_count": 34,
     "metadata": {},
     "output_type": "execute_result"
    }
   ],
   "source": [
    "def loneliest_number(start: int, end: int):\n",
    "    prime_list = []\n",
    "    output = {\"number\": 0, \"distance\": 0, \"closest\": 0}\n",
    "    prev_prime = None\n",
    "    for x in gen_primes():\n",
    "        if x < start:\n",
    "            prev_prime = x\n",
    "        if x >= start:\n",
    "            prime_list.append(x)\n",
    "        if x > end:\n",
    "            prime_list.insert(0, prev_prime) if prev_prime else None\n",
    "            break\n",
    "    temp = []\n",
    "    for ele in range(start, end):\n",
    "        org_ele = ele\n",
    "        while True:\n",
    "            if ele in prime_list:\n",
    "                n_f_prime = ele if ele != org_ele else prime_list[prime_list.index(ele) + 1]\n",
    "                n_b_prime = prime_list[prime_list.index(ele) - 1] if prime_list.index(ele) > 0 else 0\n",
    "                closest_distance = (\n",
    "                    min(org_ele - n_b_prime, n_f_prime - org_ele) if n_b_prime != 0 else n_f_prime - org_ele\n",
    "                )\n",
    "                closest_prime = n_f_prime if n_b_prime == 0 or closest_distance == n_f_prime - org_ele else n_b_prime\n",
    "                temp.append(closest_distance)\n",
    "                if output[\"distance\"] < closest_distance:\n",
    "                    output = {\"number\": org_ele, \"distance\": closest_distance, \"closest\": closest_prime}\n",
    "                break\n",
    "            else:\n",
    "                ele += 1\n",
    "    # print(temp)\n",
    "    return output\n",
    "\n",
    "\n",
    "loneliest_number(0, 22), loneliest_number(8, 123), loneliest_number(938, 1190), loneliest_number(120, 1190)\n",
    "# in  8, 123 120 is the last loneliest number found hence answer is 120\n"
   ]
  },
  {
   "cell_type": "markdown",
   "metadata": {},
   "source": [
    "## 5. Implement a class `Selfie` that can store the current state of the object in the form of binary string. It can take multiple pictures and then recover to a state it was before. During testing an object will be provided with new attributes and their values. It will store its state. Then the values will be changed. Then it will be given new attributes. It will store its state again. It will be repeated few times.\n",
    "\n",
    "Later the states of the object will be recovered given an index. The return value should be a new Selfie with the requested historic state and the state history of the new object should be updated with a copy of current object's state history.\n",
    "\n",
    "The object also knows how many states it has stored. If the index is not within the range of stored states, the object stays as is. If the argument is invalid, `n < 0` or `n >= self.n_states()`, the current object (or a copy thereof) should be returned.\n",
    "\n",
    "Examples\n",
    "\n",
    "```py\n",
    "p = Selfie()\n",
    "p.x = 2\n",
    "p.save_state()\n",
    "p.x = 5\n",
    "p = p.recover_state(0)\n",
    "p.x ➞ 2\n",
    "```\n"
   ]
  },
  {
   "cell_type": "code",
   "execution_count": null,
   "metadata": {},
   "outputs": [
    {
     "data": {
      "text/plain": [
       "2"
      ]
     },
     "execution_count": 5,
     "metadata": {},
     "output_type": "execute_result"
    }
   ],
   "source": [
    "class Selfie:\n",
    "    def __init__(self, state=None):\n",
    "        self.x = state\n",
    "        self.__history = []\n",
    "\n",
    "    def n_states(self):\n",
    "        return len(self.__history)\n",
    "\n",
    "    def save_state(self):\n",
    "        self.__history.append(self.x)\n",
    "\n",
    "    def recover_state(self, index: int):\n",
    "        if not (index < 0 or index >= self.n_states()):\n",
    "            self.x = self.__history[index]\n",
    "        return self\n",
    "\n",
    "\n",
    "p = Selfie()\n",
    "p.x = 2\n",
    "p.save_state()\n",
    "p.x = 5\n",
    "p = p.recover_state(0)\n",
    "p.x\n"
   ]
  }
 ],
 "metadata": {
  "kernelspec": {
   "display_name": "Python 3.8.10 ('fsds')",
   "language": "python",
   "name": "python3"
  },
  "language_info": {
   "codemirror_mode": {
    "name": "ipython",
    "version": 3
   },
   "file_extension": ".py",
   "mimetype": "text/x-python",
   "name": "python",
   "nbconvert_exporter": "python",
   "pygments_lexer": "ipython3",
   "version": "3.8.10"
  },
  "orig_nbformat": 4,
  "vscode": {
   "interpreter": {
    "hash": "20f5f825ba7e1e0138bea706cf7ce76ba178632e6be331b5251920b13e58ac94"
   }
  }
 },
 "nbformat": 4,
 "nbformat_minor": 2
}
