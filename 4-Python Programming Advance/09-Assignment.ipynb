{
 "cells": [
  {
   "cell_type": "markdown",
   "metadata": {},
   "source": [
    "# Python Programming Advance-09\n"
   ]
  },
  {
   "cell_type": "markdown",
   "metadata": {},
   "source": [
    "## 1. YouTube offers different playback speed options for users. This allows users to increase or decrease the speed of the video content. Given the actual duration and playback speed of the video, calculate the playback duration of the video.\n",
    "\n",
    "Examples\n",
    "\n",
    "```py\n",
    "playback_duration(\"00:30:00\", 2) ➞ \"00:15:00\"\n",
    "\n",
    "playback_duration(\"01:20:00\", 1.5) ➞ \"00:53:20\"\n",
    "\n",
    "playback_duration(\"51:20:09\", 0.5) ➞ \"102:40:18\"\n",
    "```\n"
   ]
  },
  {
   "cell_type": "code",
   "execution_count": 28,
   "metadata": {},
   "outputs": [
    {
     "data": {
      "text/plain": [
       "('00:15:00', '00:53:20', '102:40:18')"
      ]
     },
     "execution_count": 28,
     "metadata": {},
     "output_type": "execute_result"
    }
   ],
   "source": [
    "import datetime\n",
    "\n",
    "\n",
    "def playback_duration(duration: str, speed: float) -> str:\n",
    "    hour, minute, second = duration.split(\":\")\n",
    "    result = datetime.timedelta(hours=int(hour), minutes=int(minute), seconds=int(second)) / speed\n",
    "    totalSeconds = result.total_seconds()\n",
    "    hours, remainder = divmod(totalSeconds, 3600)\n",
    "    minutes, seconds = divmod(remainder, 60)\n",
    "    return f\"{int(hours):0>2}:{int(minutes):02d}:{int(seconds):02d}\"\n",
    "\n",
    "\n",
    "playback_duration(\"00:30:00\", 2), playback_duration(\"01:20:00\", 1.5), playback_duration(\"51:20:09\", 0.5)\n"
   ]
  },
  {
   "cell_type": "code",
   "execution_count": 31,
   "metadata": {},
   "outputs": [
    {
     "data": {
      "text/plain": [
       "('00:15:00', '00:53:20', '102:40:18')"
      ]
     },
     "execution_count": 31,
     "metadata": {},
     "output_type": "execute_result"
    }
   ],
   "source": [
    "def playback_duration(duration: str, speed: float) -> str:\n",
    "    hour, minute, second = duration.split(\":\")\n",
    "    totalSeconds = (int(hour) * 3600 + int(minute) * 60 + int(second)) / speed\n",
    "    hours, remainder = divmod(totalSeconds, 3600)\n",
    "    minutes, seconds = divmod(remainder, 60)\n",
    "    return f\"{int(hours):0>2}:{int(minutes):02d}:{int(seconds):02d}\"\n",
    "\n",
    "\n",
    "playback_duration(\"00:30:00\", 2), playback_duration(\"01:20:00\", 1.5), playback_duration(\"51:20:09\", 0.5)\n"
   ]
  },
  {
   "cell_type": "markdown",
   "metadata": {},
   "source": [
    "## 2. We needs your help to construct a building which will be a pile of $n$ cubes. The cube at the bottom will have a volume of $n^3$, the cube above will have volume of $(n-1)^3$ and so on until the top which will have a volume of $1^3$.\n",
    "\n",
    "Given the total volume m of the building, can you find the number of cubes $n$ required for the building?\n",
    "\n",
    "In other words, you have to return an integer $n$ such that:\n",
    "\n",
    "$n^3 + (n-1)^3 + ... + 1^3 == m$\n",
    "\n",
    "Return `None` if there is no such number.\n",
    "\n",
    "Examples\n",
    "\n",
    "```py\n",
    "pile_of_cubes(1071225) ➞ 45\n",
    "\n",
    "pile_of_cubes(4183059834009) ➞ 2022\n",
    "\n",
    "pile_of_cubes(16) ➞ None\n",
    "```\n"
   ]
  },
  {
   "cell_type": "code",
   "execution_count": 33,
   "metadata": {},
   "outputs": [
    {
     "data": {
      "text/plain": [
       "(45, 2022, None)"
      ]
     },
     "execution_count": 33,
     "metadata": {},
     "output_type": "execute_result"
    }
   ],
   "source": [
    "def pile_of_cubes(vol_cubes: int) -> (int or None):\n",
    "    cube = 1\n",
    "    while True:\n",
    "        vol_cube = (cube * (cube + 1) / 2) ** 2\n",
    "        if vol_cube == vol_cubes:\n",
    "            return cube\n",
    "        elif vol_cube < vol_cubes:\n",
    "            cube += 1\n",
    "        else:\n",
    "            return None\n",
    "\n",
    "\n",
    "pile_of_cubes(1071225), pile_of_cubes(4183059834009), pile_of_cubes(16)\n"
   ]
  },
  {
   "cell_type": "markdown",
   "metadata": {},
   "source": [
    "## 3. A fulcrum of a list is an integer such that all elements to the left of it and all elements to the right of it sum to the same value. Write a function that finds the fulcrum of a list.\n",
    "\n",
    "To illustrate:\n",
    "\n",
    "```\n",
    "find_fulcrum([3, 1, 5, 2, 4, 6, -1]) ➞ 2\n",
    "// Since [3, 1, 5] and [4, 6, -1] both sum to 9\n",
    "```\n",
    "\n",
    "Examples\n",
    "\n",
    "```py\n",
    "find_fulcrum([1, 2, 4, 9, 10, -10, -9, 3]) ➞ 4\n",
    "\n",
    "find_fulcrum([9, 1, 9]) ➞ 1\n",
    "\n",
    "find_fulcrum([7, -1, 0, -1, 1, 1, 2, 3]) ➞ 0\n",
    "\n",
    "find_fulcrum([8, 8, 8, 8]) ➞ -1\n",
    "```\n"
   ]
  },
  {
   "cell_type": "code",
   "execution_count": 43,
   "metadata": {},
   "outputs": [
    {
     "data": {
      "text/plain": [
       "(4, 1, 0, -1)"
      ]
     },
     "execution_count": 43,
     "metadata": {},
     "output_type": "execute_result"
    }
   ],
   "source": [
    "def find_fulcrum(lst: list) -> int:\n",
    "    for i in range(1, len(lst)):\n",
    "        if sum(lst[:i]) == sum(lst[i + 1 :]):\n",
    "            return lst[i]\n",
    "    return -1\n",
    "\n",
    "\n",
    "find_fulcrum([1, 2, 4, 9, 10, -10, -9, 3]), find_fulcrum([9, 1, 9]), find_fulcrum(\n",
    "    [7, -1, 0, -1, 1, 1, 2, 3]\n",
    "), find_fulcrum([8, 8, 8, 8])\n"
   ]
  },
  {
   "cell_type": "markdown",
   "metadata": {},
   "source": [
    "## 4. Given a list of integers representing the color of each sock, determine how many pairs of socks with matching colors there are. For example, there are 7 socks with colors `[1, 2, 1, 2, 1, 3, 2]`. There is one pair of color 1 and one of color 2. There are three odd socks left, one of each color. The number of pairs is 2.\n",
    "\n",
    "Create a function that returns an integer representing the number of matching pairs of socks that are available.\n",
    "\n",
    "Examples\n",
    "\n",
    "```py\n",
    "sock_merchant([10, 20, 20, 10, 10, 30, 50, 10, 20]) ➞ 3\n",
    "\n",
    "sock_merchant([50, 20, 30, 90, 30, 20, 50, 20, 90]) ➞ 4\n",
    "\n",
    "sock_merchant([]) ➞ 0\n",
    "```\n"
   ]
  },
  {
   "cell_type": "code",
   "execution_count": 47,
   "metadata": {},
   "outputs": [
    {
     "data": {
      "text/plain": [
       "(3, 4, 0)"
      ]
     },
     "execution_count": 47,
     "metadata": {},
     "output_type": "execute_result"
    }
   ],
   "source": [
    "from collections import Counter\n",
    "\n",
    "\n",
    "def sock_merchant(socks: list) -> int:\n",
    "    return sum([i // 2 for i in Counter(socks).values()])\n",
    "\n",
    "\n",
    "sock_merchant([10, 20, 20, 10, 10, 30, 50, 10, 20]), sock_merchant([50, 20, 30, 90, 30, 20, 50, 20, 90]), sock_merchant(\n",
    "    []\n",
    ")\n"
   ]
  },
  {
   "cell_type": "markdown",
   "metadata": {},
   "source": [
    "## 5. Create a function that takes a string containing integers as well as other characters and return the sum of the negative integers only.\n",
    "\n",
    "Examples\n",
    "\n",
    "```py\n",
    "negative_sum(\"-12 13%14&-11\") ➞ -23\n",
    "# -12 + -11 = -23\n",
    "\n",
    "negative_sum(\"22 13%14&-11-22 13 12\") ➞ -33\n",
    "# -11 + -22 = -33\n",
    "```\n"
   ]
  },
  {
   "cell_type": "code",
   "execution_count": 48,
   "metadata": {},
   "outputs": [
    {
     "data": {
      "text/plain": [
       "(-23, -33)"
      ]
     },
     "execution_count": 48,
     "metadata": {},
     "output_type": "execute_result"
    }
   ],
   "source": [
    "import re\n",
    "\n",
    "\n",
    "def negative_sum(string: str) -> int:\n",
    "    return sum([int(ele) for ele in re.findall(r\"-\\d+\", string)])\n",
    "\n",
    "\n",
    "negative_sum(\"-12 13%14&-11\"), negative_sum(\"22 13%14&-11-22 13 12\")\n"
   ]
  }
 ],
 "metadata": {
  "kernelspec": {
   "display_name": "Python 3.8.10 ('fsds')",
   "language": "python",
   "name": "python3"
  },
  "language_info": {
   "codemirror_mode": {
    "name": "ipython",
    "version": 3
   },
   "file_extension": ".py",
   "mimetype": "text/x-python",
   "name": "python",
   "nbconvert_exporter": "python",
   "pygments_lexer": "ipython3",
   "version": "3.8.10"
  },
  "orig_nbformat": 4,
  "vscode": {
   "interpreter": {
    "hash": "20f5f825ba7e1e0138bea706cf7ce76ba178632e6be331b5251920b13e58ac94"
   }
  }
 },
 "nbformat": 4,
 "nbformat_minor": 2
}
