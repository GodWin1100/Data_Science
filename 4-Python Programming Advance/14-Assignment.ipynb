{
 "cells": [
  {
   "cell_type": "markdown",
   "metadata": {},
   "source": [
    "# Python Programming Advance Assignment-14\n"
   ]
  },
  {
   "cell_type": "markdown",
   "metadata": {},
   "source": [
    "## 1. Given a list of numbers, create a function that removes 25% from every number in the list except the smallest number, and adds the total amount removed to the smallest number.\n",
    "\n",
    "Examples\n",
    "\n",
    "```py\n",
    "show_the_love([4, 1, 4]) ➞ [3, 3, 3]\n",
    "\n",
    "show_the_love([16, 10, 8]) ➞ [12, 7.5, 14.5]\n",
    "\n",
    "show_the_love([2, 100]) ➞ [27, 75]\n",
    "```\n"
   ]
  },
  {
   "cell_type": "code",
   "execution_count": 4,
   "metadata": {},
   "outputs": [
    {
     "data": {
      "text/plain": [
       "([3.0, 3.0, 3.0], [12.0, 7.5, 14.5], [27.0, 75.0])"
      ]
     },
     "execution_count": 4,
     "metadata": {},
     "output_type": "execute_result"
    }
   ],
   "source": [
    "def show_the_love(lst: list) -> list:\n",
    "    temp = lst.copy()\n",
    "    temp.remove(min(temp))\n",
    "    min_i = lst.index(min(lst))\n",
    "    res = [i * 0.75 for i in temp]\n",
    "    res.insert(min_i, min(lst) + sum(i * 0.25 for i in temp))\n",
    "    return res\n",
    "\n",
    "\n",
    "show_the_love([4, 1, 4]), show_the_love([16, 10, 8]), show_the_love([2, 100]),\n"
   ]
  },
  {
   "cell_type": "markdown",
   "metadata": {},
   "source": [
    "## 2. Create a function that takes in two words as input and returns a list of three elements, in the following order:\n",
    "\n",
    "1.  Shared letters between two words.\n",
    "2.  Letters unique to word 1.\n",
    "3.  Letters unique to word 2.\n",
    "\n",
    "Each element should have unique letters, and have each letter be alphabetically sorted.\n",
    "\n",
    "Examples\n",
    "\n",
    "```py\n",
    "letters(\"sharp\", \"soap\") ➞ [\"aps\", \"hr\", \"o\"]\n",
    "\n",
    "letters(\"board\", \"bored\") ➞ [\"bdor\", \"a\", \"e\"]\n",
    "\n",
    "letters(\"happiness\", \"envelope\") ➞ [\"enp\", \"ahis\", \"lov\"]\n",
    "\n",
    "letters(\"kerfuffle\", \"fluffy\") ➞ [\"flu\", \"ekr\", \"y\"]\n",
    "# Even with multiple matching letters (e.g. 3 f's), there should\n",
    "# only exist a single \"f\" in your first element.\n",
    "\n",
    "letters(\"match\", \"ham\") ➞ [\"ahm\", \"ct\", \"\"]\n",
    "# \"ham\" does not contain any letters that are not found already\n",
    "# in \"match\".\n",
    "```\n"
   ]
  },
  {
   "cell_type": "code",
   "execution_count": 12,
   "metadata": {},
   "outputs": [
    {
     "data": {
      "text/plain": [
       "(['psa', 'rh', 'o'],\n",
       " ['rbdo', 'a', 'e'],\n",
       " ['npe', 'shai', 'vlo'],\n",
       " ['ulf', 'rek', 'y'],\n",
       " ['ham', 'tc', ''])"
      ]
     },
     "execution_count": 12,
     "metadata": {},
     "output_type": "execute_result"
    }
   ],
   "source": [
    "def letters(string1: str, string2: str) -> list:\n",
    "    string1, string2 = set(string1), set(string2)\n",
    "    return [\n",
    "        \"\".join(string1.intersection(string2)),\n",
    "        \"\".join(string1.difference(string2)),\n",
    "        \"\".join(string2.difference(string1)),\n",
    "    ]\n",
    "\n",
    "\n",
    "letters(\"sharp\", \"soap\"), letters(\"board\", \"bored\"), letters(\"happiness\", \"envelope\"), letters(\n",
    "    \"kerfuffle\", \"fluffy\"\n",
    "), letters(\"match\", \"ham\")\n"
   ]
  },
  {
   "cell_type": "markdown",
   "metadata": {},
   "source": [
    "## 3. Write a function that pairs the first number in an array with the last, the second number with the second to last, etc.\n",
    "\n",
    "Examples\n",
    "\n",
    "```py\n",
    "pairs([1, 2, 3, 4, 5, 6, 7]) ➞ [[1, 7], [2, 6], [3, 5], [4, 4]]\n",
    "\n",
    "pairs([1, 2, 3, 4, 5, 6]) ➞ [[1, 6], [2, 5], [3, 4]]\n",
    "\n",
    "pairs([5, 9, 8, 1, 2]) ➞ [[5, 2], [9, 1], [8, 8]]\n",
    "\n",
    "pairs([]) ➞ []\n",
    "```\n"
   ]
  },
  {
   "cell_type": "code",
   "execution_count": 32,
   "metadata": {},
   "outputs": [
    {
     "data": {
      "text/plain": [
       "([[1, 7], [2, 6], [3, 5], [4, 4]],\n",
       " [[1, 6], [2, 5], [3, 4], [4, 3]],\n",
       " [[5, 2], [9, 1], [8, 8]],\n",
       " [])"
      ]
     },
     "execution_count": 32,
     "metadata": {},
     "output_type": "execute_result"
    }
   ],
   "source": [
    "def pairs(lst: list) -> list:\n",
    "    if not lst:\n",
    "        return []\n",
    "    res = []\n",
    "    for i in range(len(lst) // 2 + 1):\n",
    "        res.append([lst[i], lst[-(i + 1)]])\n",
    "    return res\n",
    "\n",
    "\n",
    "pairs([1, 2, 3, 4, 5, 6, 7]), pairs([1, 2, 3, 4, 5, 6]), pairs([5, 9, 8, 1, 2]), pairs([]),\n"
   ]
  },
  {
   "cell_type": "markdown",
   "metadata": {},
   "source": [
    "## 4. Write a function that adds two numbers. The catch, however, is that the numbers will be strings.\n",
    "\n",
    "Examples\n",
    "\n",
    "```py\n",
    "add_str_nums(\"4\", \"5\") ➞ \"9\"\n",
    "\n",
    "add_str_nums(\"abcdefg\", \"3\") ➞ \"-1\"\n",
    "\n",
    "add_str_nums(\"1\", \"\") ➞ \"1\"\n",
    "\n",
    "add_str_nums(\"1874682736267235927359283579235789257\", \"32652983572985729\") ➞ \"1874682736267235927391936562808774986\"\n",
    "```\n"
   ]
  },
  {
   "cell_type": "code",
   "execution_count": 97,
   "metadata": {},
   "outputs": [
    {
     "data": {
      "text/plain": [
       "('9', '-1', '1', '1874682736267235927391936562808774986')"
      ]
     },
     "execution_count": 97,
     "metadata": {},
     "output_type": "execute_result"
    }
   ],
   "source": [
    "def add_str_nums(str1: str, str2: str) -> str:\n",
    "    str1 = str1 if len(str1) > 0 else \"0\"\n",
    "    str2 = str2 if len(str2) > 0 else \"0\"\n",
    "    if not (str1.isdigit() and str2.isdigit()):\n",
    "        return \"-1\"\n",
    "    return str(int(str1) + int(str2))\n",
    "\n",
    "\n",
    "add_str_nums(\"4\", \"5\"), add_str_nums(\"abcdefg\", \"3\"), add_str_nums(\"1\", \"\"), add_str_nums(\n",
    "    \"1874682736267235927359283579235789257\", \"32652983572985729\"\n",
    "),\n"
   ]
  },
  {
   "cell_type": "markdown",
   "metadata": {},
   "source": [
    "## 5. lPaeesh le pemu mnxit ehess rtnisg! Oh, sorry, that was supposed to say: Please help me unmix these strings!\n",
    "\n",
    "Somehow my strings have all become mixed up; every pair of characters has been swapped. Help me undo this so I can understand my strings again.\n",
    "\n",
    "Examples\n",
    "\n",
    "```py\n",
    "unmix(\"123456\") ➞ \"214365\"\n",
    "\n",
    "unmix(\"hTsii  s aimex dpus rtni.g\") ➞ \"This is a mixed up string.\"\n",
    "\n",
    "unmix(\"badce\") ➞ \"abcde\"\n",
    "```\n"
   ]
  },
  {
   "cell_type": "code",
   "execution_count": 102,
   "metadata": {},
   "outputs": [
    {
     "data": {
      "text/plain": [
       "('214365', 'This is a mixed up string.', 'abcde')"
      ]
     },
     "execution_count": 102,
     "metadata": {},
     "output_type": "execute_result"
    }
   ],
   "source": [
    "def unmix(string: str) -> str:\n",
    "    res = [i + j for i, j in zip(string[1::2], string[::2])]\n",
    "    if len(string) % 2:\n",
    "        res.append(string[-1])\n",
    "    return \"\".join(res)\n",
    "\n",
    "\n",
    "unmix(\"123456\"), unmix(\"hTsii  s aimex dpus rtni.g\"), unmix(\"badce\")\n"
   ]
  }
 ],
 "metadata": {
  "kernelspec": {
   "display_name": "Python 3.8.10 ('fsds')",
   "language": "python",
   "name": "python3"
  },
  "language_info": {
   "codemirror_mode": {
    "name": "ipython",
    "version": 3
   },
   "file_extension": ".py",
   "mimetype": "text/x-python",
   "name": "python",
   "nbconvert_exporter": "python",
   "pygments_lexer": "ipython3",
   "version": "3.8.10"
  },
  "orig_nbformat": 4,
  "vscode": {
   "interpreter": {
    "hash": "20f5f825ba7e1e0138bea706cf7ce76ba178632e6be331b5251920b13e58ac94"
   }
  }
 },
 "nbformat": 4,
 "nbformat_minor": 2
}
