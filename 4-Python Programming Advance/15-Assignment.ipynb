{
 "cells": [
  {
   "cell_type": "markdown",
   "metadata": {},
   "source": [
    "# Python Programming Advance Assignment-15\n"
   ]
  },
  {
   "cell_type": "markdown",
   "metadata": {},
   "source": [
    "## 1. Write a function that returns True if a given name can generate an array of words.\n",
    "\n",
    "Examples\n",
    "\n",
    "```py\n",
    "anagram(\"Justin Bieber\", [\"injures\", \"ebb\", \"it\"]) ➞ True\n",
    "\n",
    "anagram(\"Natalie Portman\", [\"ornamental\", \"pita\"]) ➞ True\n",
    "\n",
    "anagram(\"Chris Pratt\", [\"chirps\", \"rat\"]) ➞ False\n",
    "# Not all letters are used\n",
    "\n",
    "anagram(\"Jeff Goldblum\", [\"jog\", \"meld\", \"bluffs\"]) ➞ False\n",
    "# \"s\" does not exist in the original name\n",
    "```\n"
   ]
  },
  {
   "cell_type": "code",
   "execution_count": 7,
   "metadata": {},
   "outputs": [
    {
     "data": {
      "text/plain": [
       "(True, True, False, False)"
      ]
     },
     "execution_count": 7,
     "metadata": {},
     "output_type": "execute_result"
    }
   ],
   "source": [
    "from collections import Counter\n",
    "\n",
    "\n",
    "def anagram(word: str, lst: list) -> bool:\n",
    "    if Counter(word.lower().replace(\" \", \"\")) == Counter(\"\".join(lst).lower()):\n",
    "        return True\n",
    "    return False\n",
    "\n",
    "\n",
    "anagram(\"Justin Bieber\", [\"injures\", \"ebb\", \"it\"]), anagram(\"Natalie Portman\", [\"ornamental\", \"pita\"]), anagram(\n",
    "    \"Chris Pratt\", [\"chirps\", \"rat\"]\n",
    "), anagram(\"Jeff Goldblum\", [\"jog\", \"meld\", \"bluffs\"]),\n"
   ]
  },
  {
   "cell_type": "markdown",
   "metadata": {},
   "source": [
    "## 2. Given an array of users, each defined by an object with the following properties: name, score, reputation create a function that sorts the array to form the correct leaderboard.\n",
    "\n",
    "The leaderboard takes into consideration the score of each user of course, but an emphasis is put on their reputation in the community, so to get the trueScore, you should add the reputation multiplied by 2 to the score.\n",
    "\n",
    "Once you know the trueScore of each user, sort the array according to it in descending order.\n",
    "\n",
    "Examples\n",
    "\n",
    "```py\n",
    "leaderboards([\n",
    "  { \"name\": \"a\", \"score\": 100, \"reputation\": 20 },\n",
    "  { \"name\": \"b\", \"score\": 90, \"reputation\": 40 },\n",
    "  { \"name\": \"c\", \"score\": 115, \"reputation\": 30 },\n",
    "]) ➞ [\n",
    "  { \"name\": \"c\", \"score\": 115, \"reputation\": 30 },  # trueScore = 175\n",
    "  { \"name\": \"b\", \"score\": 90, \"reputation\": 40 },   # trueScore = 170\n",
    "  { \"name\": \"a\", \"score\": 100, \"reputation\": 20 }   # trueScore = 140\n",
    "]\n",
    "```\n"
   ]
  },
  {
   "cell_type": "code",
   "execution_count": 31,
   "metadata": {},
   "outputs": [
    {
     "data": {
      "text/plain": [
       "[{'name': 'c', 'score': 115, 'reputation': 30},\n",
       " {'name': 'b', 'score': 90, 'reputation': 40},\n",
       " {'name': 'a', 'score': 100, 'reputation': 20}]"
      ]
     },
     "execution_count": 31,
     "metadata": {},
     "output_type": "execute_result"
    }
   ],
   "source": [
    "def leaderboards(lst: list) -> list:\n",
    "    a = sorted(lst, key=lambda x: x[\"reputation\"] * 2 + x[\"score\"], reverse=True)\n",
    "    return a\n",
    "\n",
    "\n",
    "leaderboards(\n",
    "    [\n",
    "        {\"name\": \"a\", \"score\": 100, \"reputation\": 20},\n",
    "        {\"name\": \"b\", \"score\": 90, \"reputation\": 40},\n",
    "        {\"name\": \"c\", \"score\": 115, \"reputation\": 30},\n",
    "    ]\n",
    ")\n"
   ]
  },
  {
   "cell_type": "markdown",
   "metadata": {},
   "source": [
    "## 3. Create a function that, given a phrase and a number of letters guessed, returns a string with hyphens - for every letter of the phrase not guessed, and each letter guessed in place.\n",
    "\n",
    "Examples\n",
    "\n",
    "```py\n",
    "hangman(\"helicopter\", [\"o\", \"e\", \"s\"]) ➞ \"-e---o--e-\"\n",
    "\n",
    "hangman(\"tree\", [\"r\", \"t\", \"e\"]) ➞ \"tree\"\n",
    "\n",
    "hangman(\"Python rules\", [\"a\", \"n\", \"p\", \"r\", \"z\"]) ➞ \"P----n r----\"\n",
    "\n",
    "hangman(\"He's a very naughty boy!\", [\"e\", \"a\", \"y\"]) ➞ \"-e'- a -e-y -a----y –y!\"\n",
    "```\n"
   ]
  },
  {
   "cell_type": "code",
   "execution_count": 45,
   "metadata": {},
   "outputs": [
    {
     "data": {
      "text/plain": [
       "('-e---o--e-', 'tree', 'P----n r----', \"-e'- a -e-y -a----y --y!\")"
      ]
     },
     "execution_count": 45,
     "metadata": {},
     "output_type": "execute_result"
    }
   ],
   "source": [
    "def hangman(word: str, lst: list) -> str:\n",
    "    res = word\n",
    "    for i in res:\n",
    "        if i.lower() not in lst + [\" \", \"'\", \"!\"]:\n",
    "            res = res.replace(i, \"-\")\n",
    "    return res\n",
    "\n",
    "\n",
    "hangman(\"helicopter\", [\"o\", \"e\", \"s\"]), hangman(\"tree\", [\"r\", \"t\", \"e\"]), hangman(\n",
    "    \"Python rules\", [\"a\", \"n\", \"p\", \"r\", \"z\"]\n",
    "), hangman(\"He's a very naughty boy!\", [\"e\", \"a\", \"y\"]),\n"
   ]
  },
  {
   "cell_type": "code",
   "execution_count": 11,
   "metadata": {},
   "outputs": [
    {
     "data": {
      "text/plain": [
       "('-e---o--e-', 'tree', 'P----n r----', \"-e'- a -e-y -a----y --y!\")"
      ]
     },
     "execution_count": 11,
     "metadata": {},
     "output_type": "execute_result"
    }
   ],
   "source": [
    "import re\n",
    "\n",
    "\n",
    "def hangman(word: str, lst: list) -> str:\n",
    "    pattern = r'\\s~!@#$%^&*()[\\],./;\\'{}:\"<>?' + \"\".join(lst)\n",
    "    res = re.sub(rf\"[^{pattern}]\", \"-\", word, flags=re.I)\n",
    "    return res\n",
    "\n",
    "\n",
    "hangman(\"helicopter\", [\"o\", \"e\", \"s\"]), hangman(\"tree\", [\"r\", \"t\", \"e\"]), hangman(\n",
    "    \"Python rules\", [\"a\", \"n\", \"p\", \"r\", \"z\"]\n",
    "), hangman(\"He's a very naughty boy!\", [\"e\", \"a\", \"y\"]),\n"
   ]
  },
  {
   "cell_type": "markdown",
   "metadata": {},
   "source": [
    "## 4. The Collatz sequence is as follows:\n",
    "\n",
    "- Start with some given integer n.\n",
    "- If it is even, the next number will be n divided by 2.\n",
    "- If it is odd, multiply it by 3 and add 1 to make the next number.\n",
    "- The sequence stops when it reaches 1.\n",
    "\n",
    "According to the Collatz conjecture, it will always reach 1. If that's true, you can construct a finite sequence following the aforementioned method for any given integer.\n",
    "\n",
    "Write a function that takes in an integer n and returns the highest integer in the corresponding Collatz sequence.\n",
    "\n",
    "Examples\n",
    "\n",
    "```py\n",
    "max_collatz(10) ➞ 16\n",
    "# Collatz sequence: 10, 5, 16, 8, 4, 2, 1\n",
    "\n",
    "max_collatz(32) ➞ 32\n",
    "# Collatz sequence: 32, 16, 8, 4, 2, 1\n",
    "\n",
    "max_collatz(85) ➞ 256\n",
    "# Collatz sequence: 85, 256, 128, 64, 32, 16, 8, 4, 2, 1\n",
    "```\n"
   ]
  },
  {
   "cell_type": "code",
   "execution_count": 56,
   "metadata": {},
   "outputs": [
    {
     "data": {
      "text/plain": [
       "(16, 32, 256)"
      ]
     },
     "execution_count": 56,
     "metadata": {},
     "output_type": "execute_result"
    }
   ],
   "source": [
    "def max_collatz(num: int) -> int:\n",
    "    res = num\n",
    "    while num > 1:\n",
    "        if num % 2:\n",
    "            num = num * 3 + 1\n",
    "        else:\n",
    "            num /= 2\n",
    "        if res < num:\n",
    "            res = num\n",
    "    return int(res)\n",
    "\n",
    "\n",
    "max_collatz(10), max_collatz(32), max_collatz(85)\n"
   ]
  },
  {
   "cell_type": "markdown",
   "metadata": {},
   "source": [
    "## 5. Write a function that sorts a list of integers by their digit length in descending order, then settles ties by sorting numbers with the same digit length in ascending order.\n",
    "\n",
    "Examples\n",
    "\n",
    "```py\n",
    "digit_sort([77, 23, 5, 7, 101])\n",
    "➞ [101, 23, 77, 5, 7]\n",
    "\n",
    "digit_sort([1, 5, 9, 2, 789, 563, 444])\n",
    "➞ [444, 563, 789, 1, 2, 5, 9]\n",
    "\n",
    "digit_sort([53219, 3772, 564, 32, 1])\n",
    "➞ [53219, 3772, 564, 32, 1]\n",
    "```\n"
   ]
  },
  {
   "cell_type": "code",
   "execution_count": 60,
   "metadata": {},
   "outputs": [
    {
     "data": {
      "text/plain": [
       "([101, 23, 77, 5, 7], [444, 563, 789, 1, 2, 5, 9], [53219, 3772, 564, 32, 1])"
      ]
     },
     "execution_count": 60,
     "metadata": {},
     "output_type": "execute_result"
    }
   ],
   "source": [
    "def digit_sort(lst: list) -> list:\n",
    "    return sorted(lst, key=lambda x: (len(str(x)), -x), reverse=True)\n",
    "\n",
    "\n",
    "digit_sort([77, 23, 5, 7, 101]), digit_sort([1, 5, 9, 2, 789, 563, 444]), digit_sort([53219, 3772, 564, 32, 1])\n"
   ]
  }
 ],
 "metadata": {
  "kernelspec": {
   "display_name": "Python 3.8.10 ('fsds')",
   "language": "python",
   "name": "python3"
  },
  "language_info": {
   "codemirror_mode": {
    "name": "ipython",
    "version": 3
   },
   "file_extension": ".py",
   "mimetype": "text/x-python",
   "name": "python",
   "nbconvert_exporter": "python",
   "pygments_lexer": "ipython3",
   "version": "3.8.10"
  },
  "orig_nbformat": 4,
  "vscode": {
   "interpreter": {
    "hash": "20f5f825ba7e1e0138bea706cf7ce76ba178632e6be331b5251920b13e58ac94"
   }
  }
 },
 "nbformat": 4,
 "nbformat_minor": 2
}
