{
 "cells": [
  {
   "cell_type": "markdown",
   "metadata": {},
   "source": [
    "# Machine Learning Assignment-11"
   ]
  },
  {
   "cell_type": "markdown",
   "metadata": {},
   "source": [
    "## 1.\tGiven X be a discrete random variable with the following PMF\n",
    "![Q1 Equ](./a11-1.png)\n",
    "  1. Find the range RX of the random variable X.\n",
    "  2. Find P(X ≤ 0.5)\n",
    "  3. Find P(0.25<X<0.75)\n",
    "  4. P(X = 0.2|X<0.6)\n",
    "\n"
   ]
  },
  {
   "cell_type": "markdown",
   "metadata": {},
   "source": [
    "1. $R_X = \\{0.2, 0.4, 0.5, 0.8, 1\\}$\n",
    "2. $P(X \\le 0.5) = P(0.2) + P(0.4) + P(0.5) = 0.1 + 0.2 + 0.2 = 0.5$\n",
    "3. $P(0.25 \\lt X \\lt 0.75) = P(0.4) + P(0.5) = 0.2 + 0.2 = 0.4$\n",
    "4. $P(X = 0.2 | X \\lt 0.6) = \\frac{P((X = 0.2) \\> \\text{and} \\> (X \\lt 0.6))}{P(X \\lt 0.6)} = \\frac{P(X = 0.2)}{P(X \\lt 0.6)} = \\frac{0.1}{0.1 + 0.2 + 0.2} = 0.2$\n"
   ]
  },
  {
   "cell_type": "markdown",
   "metadata": {},
   "source": [
    "## 2. Two equal and fair dice are rolled, and we observed two numbers X and Y.\n",
    "\n",
    "1. Find RX, RY, and the PMFs of X and Y.\n",
    "\n",
    "2. Find P(X = 2,Y = 6).\n",
    "\n",
    "3. Find P(X>3|Y = 2).\n",
    "\n",
    "4. If Z = X + Y. Find the range and PMF of Z.\n",
    "\n",
    "5. Find P(X = 4|Z = 8).\n",
    "\n"
   ]
  },
  {
   "cell_type": "markdown",
   "metadata": {},
   "source": [
    "1.  $$\n",
    "    \\begin{aligned}\n",
    "    R_X = R_Y &= {1, 2, 3, 4, 5, 6} \\\\\n",
    "    P_X(k) = P_Y(k) &=\n",
    "    \\begin{cases}\n",
    "     \\frac{1}{6} & \\text{for} \\> k = 1, 2, 3, 4, 5, 6 \\\\\n",
    "     0 &\\text{otherwise}\n",
    "    \\end{cases}\n",
    "    \\end{aligned}\n",
    "    $$\n",
    "---\n",
    "2.  $$\n",
    "    \\begin{aligned}\n",
    "    P(X=2, Y=6) &= P(X=2) P(Y=6) \\\\\n",
    "        &= \\frac{1}{6}\\cdot\\frac{1}{6} \\\\\n",
    "        &= \\frac{1}{36}\n",
    "    \\end{aligned}\n",
    "    $$\n",
    "---\n",
    "3.  $X$ and $Y$ are independent, $\\therefore Y$ does not impact probability for $X$\n",
    "    $$\n",
    "    \\begin{aligned}\n",
    "    P(X>3|Y=2) &= P(X>3) \\\\\n",
    "    &=P_X(4)+P_X(5)+P_X(6) \\\\\n",
    "    &=\\frac{1}{6}+\\frac{1}{6}+\\frac{1}{6}=\\frac{1}{2}\n",
    "    \\end{aligned}\n",
    "    $$\n",
    "---\n",
    "4.  $$\n",
    "    \\begin{aligned}\n",
    "    R_Z &= \\{2,3,4,...,12\\} \\\\\n",
    "    P_Z(k) \\> \\text{for} \\> k&=2,3,4,...,12 \\\\\n",
    "    P_Z(2) = P(Z=2) &= P(X=1,Y=1) \\\\\n",
    "    P_Z(3) = P(Z=3) &= P(X=1, Y=2) + P(X=2, Y=1)\\\\\n",
    "    \\therefore P_Z(k) \\> \\text{for} \\> k&=2,3,4,...,12 \\\\\n",
    "    &= P_Z(2) , P_Z(3) , P_Z(4) , P_Z(5) , P_Z(6) , P_Z(7) , P_Z(8) , P_Z(9) , P_Z(10) , P_Z(11) , P_Z(12) \\\\\n",
    "    &= \\frac{1}{36} , \\frac{1}{18} , \\frac{1}{12} , \\frac{1}{9} , \\frac{5}{36} , \\frac{1}{6} , \\frac{5}{36} , \\frac{1}{9} , \\frac{1}{12} , \\frac{1}{18} , \\frac{1}{36}\n",
    "    \\end{aligned}\n",
    "    $$\n",
    "---\n",
    "5.  $$\n",
    "    \\begin{aligned}\n",
    "    P(X=4 | Z=8) &= \\frac{P(X=4, Z=8)}{P(Z=8)} \\\\\n",
    "    &=\\frac{P(X=4),P(Y=4)}{P(Z=8)} \\\\\n",
    "    &= \\frac{\\frac{1}{6}\\cdot\\frac{1}{6}}{\\frac{5}{36}} \\\\\n",
    "    &= \\frac{1}{5}\n",
    "    \\end{aligned}\n",
    "    $$\n"
   ]
  },
  {
   "cell_type": "markdown",
   "metadata": {},
   "source": [
    "## 3. In an exam, there were 20 multiple-choice questions. Each question had 4 possible options. A student knew the answer to 10 questions, but the other 10 questions were unknown to him, and he chose answers randomly. If the student X's score is equal to the total number of correct answers, then find out the PMF of X. What is P(X>15)?\n",
    "\n"
   ]
  },
  {
   "cell_type": "markdown",
   "metadata": {},
   "source": [
    "$$\n",
    "\\begin{aligned}\n",
    "P(X>15) &= P_X(16) + P_X(17) + P_X(18) + P_X(19) + P_X(20) \\\\\n",
    "&=\n",
    "\\binom{10}{6}\\frac{1}{4}^6 \\frac{3}{4}^4 +\n",
    "\\binom{10}{7}\\frac{1}{4}^7 \\frac{3}{4}^3 +\n",
    "\\binom{10}{8}\\frac{1}{4}^8 \\frac{3}{4}^2 +\n",
    "\\binom{10}{9}\\frac{1}{4}^9 \\frac{3}{4}^1 +\n",
    "\\binom{10}{10}\\frac{1}{4}^{10} \\frac{3}{4}^0\n",
    "\\end{aligned}\n",
    "$$\n"
   ]
  },
  {
   "cell_type": "markdown",
   "metadata": {},
   "source": [
    "## 4. The number of students arriving at a college between a time interval is a Poisson random variable. On average, 10 students arrive per hour. Let Y be the number of students arriving from 10 am to 11:30 am. What is P(10<Y≤15)?\n",
    "\n"
   ]
  },
  {
   "cell_type": "markdown",
   "metadata": {},
   "source": [
    "We are looking at an interval of length 1.5 hours, so the number of customers in this interval is $X∼\\text{Poisson}(λ=1.5×10=15)$. Thus,\n",
    "$$\n",
    "\\begin{aligned}\n",
    "P(10 < X \\le 15) &= \\sum_{k=11}^{15} P_X(k)\\\\\n",
    "&= \\sum_{k=11}^{15}\\frac{e^{-15}15^k}{k!}\\\\\n",
    "&= e^{-15} \\begin{bmatrix}\\frac{15^{11}}{11!}+\\frac{15^{12}}{12!}+\\frac{15^{13}}{13!}+\\frac{15^{14}}{14!}+\\frac{15^{15}}{15!}+ \\end{bmatrix} \\\\\n",
    "&=0.4496\n",
    "\\end{aligned}\n",
    "$$"
   ]
  },
  {
   "cell_type": "markdown",
   "metadata": {},
   "source": [
    "## 5. Two independent random variables, X and Y,are given such that X~Poisson(α) and Y~Poisson(β). State a new random variable as Z = X + Y. Find out the PMF of Z.\n",
    "\n"
   ]
  },
  {
   "cell_type": "markdown",
   "metadata": {},
   "source": [
    "- $P_Z(k)=P(X+Y=k)=\\frac{e^{-(\\alpha+\\beta)}}{k!}(\\alpha+\\beta)^k$\n",
    "- $\\therefore Z \\backsim \\text{Poisson}(\\alpha+\\beta)$"
   ]
  },
  {
   "cell_type": "markdown",
   "metadata": {},
   "source": [
    "## 6. There is a discrete random variable X with the pmf.\n",
    "\n",
    "![Q6-1](./a11-6-1.png)\n",
    "\n",
    "- If we define a new random variable Y = (X + 1)2 then\n",
    "\n",
    "1. Find the range of Y.\n",
    "2. Find the pmf of Y.\n",
    "\n",
    "- Assuming X is a continuous random variable with PDF\n",
    "  ![Q6-2](./a11-6-2.png)\n",
    "\n",
    "1. Find EX and Var(X).\n",
    "2. Find P(X ≥ 2).\n",
    "\n",
    "- If X is a continuous random variable with pdf  \n",
    "  ![Q6-3](./a11-6-3.png)\n",
    "\n",
    "- If $X\\backsim \\text{Uniform}^{\\left(\\frac{-\\pi}{2},\\pi\\right)}$ and Y = sin(X), then find $f_Y(y)$.\n",
    "\n",
    "- If X is a random variable with CDF  \n",
    "   ![Q6-4](./a11-6-4.png)\n",
    "  1. What kind of random variable is X: discrete, continuous, or mixed?\n",
    "  2. Find the PDF of X, fX(x).\n",
    "  3. Find E(eX).\n",
    "  4. Find P(X = 0|X≤0.5).\n",
    "\n",
    "- There are two random variables X and Y with joint PMF given in Table below\n",
    "   ![Q6-5](./a11-6-5.png)\n",
    "\n",
    "1. Find P(X≤2, Y≤4).\n",
    "2. Find the marginal PMFs of X and Y.\n",
    "3. Find P(Y = 2|X = 1).\n",
    "4. Are X and Y independent?\n"
   ]
  },
  {
   "cell_type": "markdown",
   "metadata": {},
   "source": [
    "## 7. A box containing 40 white shirts and 60 black shirts. If we choose 10 shirts (without replacement) at random, find the joint PMF of X and Y, where X is the number of white shirts and Y is the number of black shirts.\n",
    "\n"
   ]
  },
  {
   "cell_type": "markdown",
   "metadata": {},
   "source": [
    "## 8. If A and B are two jointly continuous random variables with joint PDF\n",
    "![Q8](./a11-7.png)\n",
    "1. Find fX(a) and fY(b).\n",
    "2. Are A and B independent of each other?\n",
    "3. Find the conditional PDF of A given B = b, fA|B(a|b).\n",
    "4. Find E[A|B = b], for 0 ≤ y ≤ 1.\n",
    "5. Find Var(A|B = b), for 0 ≤ y ≤ 1.\n",
    "\n"
   ]
  },
  {
   "cell_type": "markdown",
   "metadata": {},
   "source": [
    "## 9. There are 100 men on a ship. If Xi is the ith man's weight on the ship and Xi's are independent and identically distributed and EXi = μ = 170 and σXi = σ = 30. Find the probability that the men's total weight on the ship exceeds 18,000.\n",
    "\n"
   ]
  },
  {
   "cell_type": "markdown",
   "metadata": {},
   "source": [
    "## 10. Let X1, X2, ……, X25 are independent and identically distributed. And have the following PMF. If Y = X1 + X2 + … + Xn, estimate P(4 ≤ Y ≤ 6) using central limit theorem.\n"
   ]
  }
 ],
 "metadata": {
  "kernelspec": {
   "display_name": "Python 3.10.4 64-bit",
   "language": "python",
   "name": "python3"
  },
  "language_info": {
   "name": "python",
   "version": "3.10.4"
  },
  "orig_nbformat": 4,
  "vscode": {
   "interpreter": {
    "hash": "2e4a015a5e8b3d416719d76fc156fe7e163a5f8678adc2f1ead049a4ae2a6091"
   }
  }
 },
 "nbformat": 4,
 "nbformat_minor": 2
}
