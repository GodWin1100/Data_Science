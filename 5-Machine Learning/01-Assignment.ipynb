{
 "cells": [
  {
   "cell_type": "markdown",
   "metadata": {},
   "source": [
    "# Machine Learning Assignment-01\n"
   ]
  },
  {
   "cell_type": "markdown",
   "metadata": {},
   "source": [
    "## 1. What does one mean by the term \"machine learning\"?\n"
   ]
  },
  {
   "cell_type": "markdown",
   "metadata": {},
   "source": [
    "- Machine learning popularly known as ML is a branch of Artificial Intelligence (AI).\n",
    "- It allows software applications to become more accurate at predicting outcomes without being explicitly programmed to do so.\n",
    "- ML algorithms use historical data as input to predict new output values.\n"
   ]
  },
  {
   "cell_type": "markdown",
   "metadata": {},
   "source": [
    "## 2. Can you think of 4 distinct types of issues where it shines?\n"
   ]
  },
  {
   "cell_type": "markdown",
   "metadata": {},
   "source": [
    "1. Image/speech/text Recognition\n",
    "2. Time Series Forecasting\n",
    "3. Recommendation system\n",
    "4. Regression prediction\n"
   ]
  },
  {
   "cell_type": "markdown",
   "metadata": {},
   "source": [
    "## 3. What is a labelled training set, and how does it work?\n"
   ]
  },
  {
   "cell_type": "markdown",
   "metadata": {},
   "source": [
    "- In supervised learning we use data which has target variable known which is also known as labelled dataset.\n",
    "- We split the training and testing data to avoid data leakage.\n",
    "- We train the model with labelled training data and test the model against test data and cross verify predicted and actual target.\n"
   ]
  },
  {
   "cell_type": "markdown",
   "metadata": {},
   "source": [
    "## 4. What are the two most important tasks that are supervised?\n"
   ]
  },
  {
   "cell_type": "markdown",
   "metadata": {},
   "source": [
    "1. Regression\n",
    "2. Classification\n"
   ]
  },
  {
   "cell_type": "markdown",
   "metadata": {},
   "source": [
    "## 5. Can you think of four examples of unsupervised tasks?\n"
   ]
  },
  {
   "cell_type": "markdown",
   "metadata": {},
   "source": [
    "1. Clustering\n",
    "2. Visualization\n",
    "3. Dimensionality Reduction\n",
    "4. Association Rule Learning\n"
   ]
  },
  {
   "cell_type": "markdown",
   "metadata": {},
   "source": [
    "## 6. State the machine learning model that would be best to make a robot walk through various unfamiliar terrains?\n"
   ]
  },
  {
   "cell_type": "markdown",
   "metadata": {},
   "source": [
    "- The best Machine Learning algorithm to allow a Robot to walk in unfamiliar terrains is Reinforced Learning, where the robot can learn from response of the terrain to optimize itself.\n"
   ]
  },
  {
   "cell_type": "markdown",
   "metadata": {},
   "source": [
    "## 7. Which algorithm will you use to divide your customers into different groups?\n"
   ]
  },
  {
   "cell_type": "markdown",
   "metadata": {},
   "source": [
    "- The Best Algorithm to Segment Customers into different groups:\n",
    "  - Supervised Learning (if the groups have known labels)\n",
    "    - Classification\n",
    "  - Unsupervised Learning (if there are no group labels)\n",
    "    - Clustering\n"
   ]
  },
  {
   "cell_type": "markdown",
   "metadata": {},
   "source": [
    "## 8. Will you consider the problem of spam detection to be a supervised or unsupervised learning problem?\n"
   ]
  },
  {
   "cell_type": "markdown",
   "metadata": {},
   "source": [
    "- Spam detection is a Supervised Machine Learning problem because the labels are known (spam or no spam) while training the model.\n"
   ]
  },
  {
   "cell_type": "markdown",
   "metadata": {},
   "source": [
    "## 9. What is the concept of an online learning system?\n"
   ]
  },
  {
   "cell_type": "markdown",
   "metadata": {},
   "source": [
    "- Online learning system is a learning system in which the machine learns continuously, as data is given in small streams continuously.\n"
   ]
  },
  {
   "cell_type": "markdown",
   "metadata": {},
   "source": [
    "## 10. What is out-of-core learning, and how does it differ from core learning?\n"
   ]
  },
  {
   "cell_type": "markdown",
   "metadata": {},
   "source": [
    "- Out-of-core learning system is a system that can handle data that cannot fit into your computer memory.\n",
    "- It uses online learning system to feed data in small bits.\n"
   ]
  },
  {
   "cell_type": "markdown",
   "metadata": {},
   "source": [
    "## 11. What kind of learning algorithm makes predictions using a similarity measure?\n"
   ]
  },
  {
   "cell_type": "markdown",
   "metadata": {},
   "source": [
    "- Learning algorithm that relies on a similarity measure to make predictions is instance-based algorithm.\n"
   ]
  },
  {
   "cell_type": "markdown",
   "metadata": {},
   "source": [
    "## 12. What's the difference between a model parameter and a hyperparameter in a learning algorithm?\n"
   ]
  },
  {
   "cell_type": "markdown",
   "metadata": {},
   "source": [
    "- Model parameter determines how a model will predict given a new instance; model usually has more than one parameter (i.e. slope of a linear model).\n",
    "- Hyperparameter is a parameter for the learning algorithm, not of a model.\n"
   ]
  },
  {
   "cell_type": "markdown",
   "metadata": {},
   "source": [
    "## 13. What are the criteria that model-based learning algorithms look for? What is the most popular method they use to achieve success? What method do they use to make predictions?\n"
   ]
  },
  {
   "cell_type": "markdown",
   "metadata": {},
   "source": [
    "- Model based learning algorithm search for the optimal value of parameters in a model that will give the best results for the new instances.\n",
    "- We often use a cost function or similar to determine what the parameter value has to be in order to minimize the function.\n",
    "- The model makes prediction by using the value of the new instance and the parameters in its function.\n"
   ]
  },
  {
   "cell_type": "markdown",
   "metadata": {},
   "source": [
    "## 14. Can you name four of the most important Machine Learning challenges?\n"
   ]
  },
  {
   "cell_type": "markdown",
   "metadata": {},
   "source": [
    "1. Overfitting the data\n",
    "2. Underfitting the data\n",
    "3. Lack of data\n",
    "4. nonrepresentative data\n"
   ]
  },
  {
   "cell_type": "markdown",
   "metadata": {},
   "source": [
    "## 15. What happens if the model performs well on the training data but fails to generalize the results to new situations? Can you think of three different options?\n"
   ]
  },
  {
   "cell_type": "markdown",
   "metadata": {},
   "source": [
    "- If the model performs poorly to new instances, then it has overfit on the training data.\n",
    "- To solve this, we can do any of the following:\n",
    "  - get more data,\n",
    "  - implement a simpler model, or\n",
    "  - eliminate outliers or noise from the existing data set.\n"
   ]
  },
  {
   "cell_type": "markdown",
   "metadata": {},
   "source": [
    "## 16. What exactly is a test set, and why would you need one?\n"
   ]
  },
  {
   "cell_type": "markdown",
   "metadata": {},
   "source": [
    "- Test set is a set of data that you test your model (fit using training data) to see how it performs.\n",
    "- Test set is necessary so that you can determine how good (or bad) your model performs.\n"
   ]
  },
  {
   "cell_type": "markdown",
   "metadata": {},
   "source": [
    "## 17. What is a validation set's purpose?\n"
   ]
  },
  {
   "cell_type": "markdown",
   "metadata": {},
   "source": [
    "- Validation set is a set used to compare between different training models.\n"
   ]
  },
  {
   "cell_type": "markdown",
   "metadata": {},
   "source": [
    "## 18. What precisely is the train-dev kit, when will you need it, how do you put it to use?\n"
   ]
  },
  {
   "cell_type": "markdown",
   "metadata": {},
   "source": [
    "- train-dev kit, is data which split the data into train and dev set.\n",
    "- dev set is used to compare and rank different model, to decide which performs best.\n",
    "- train split can be done for testing the model in production or\n",
    "- can perform cross-validation which is a tool to compare models without needing a separate validation set.\n"
   ]
  },
  {
   "cell_type": "markdown",
   "metadata": {},
   "source": [
    "## 19. What could go wrong if you use the test set to tune hyperparameters?\n"
   ]
  },
  {
   "cell_type": "markdown",
   "metadata": {},
   "source": [
    "- If you tune hyperparameters using the test sets, then it may not perform well on the out-of-sample data because the model is tuned just for that specific set.\n"
   ]
  }
 ],
 "metadata": {
  "kernelspec": {
   "display_name": "Python 3.10.4 64-bit",
   "language": "python",
   "name": "python3"
  },
  "language_info": {
   "name": "python",
   "version": "3.10.4"
  },
  "orig_nbformat": 4,
  "vscode": {
   "interpreter": {
    "hash": "2e4a015a5e8b3d416719d76fc156fe7e163a5f8678adc2f1ead049a4ae2a6091"
   }
  }
 },
 "nbformat": 4,
 "nbformat_minor": 2
}
