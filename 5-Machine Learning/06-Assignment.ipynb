{
 "cells": [
  {
   "cell_type": "markdown",
   "metadata": {},
   "source": [
    "# Machine Learning Assignment-06\n"
   ]
  },
  {
   "cell_type": "markdown",
   "metadata": {},
   "source": [
    "## 1. In the sense of machine learning, what is a model? What is the best way to train a model?\n"
   ]
  },
  {
   "cell_type": "markdown",
   "metadata": {},
   "source": [
    "- A machine learning model is a program that can find patterns or make decisions from a previously unseen dataset.\n",
    "- You train a model over a set of data, providing it an algorithm that it can use to reason over and learn from those data.\n",
    "- Best way to train a model:\n",
    "  1. Begin with existing data\n",
    "  2. Analyze data to identify patterns\n",
    "  3. Start Training & Testing\n",
    "  4. Hyper-tune model parameter\n",
    "  5. Deploy for prediction\n"
   ]
  },
  {
   "cell_type": "markdown",
   "metadata": {},
   "source": [
    "## 2. In the sense of machine learning, explain the \"No Free Lunch\" theorem.\n"
   ]
  },
  {
   "cell_type": "markdown",
   "metadata": {},
   "source": [
    "- The \"No Free Lunch\" Theorem, often abbreviated as NFL or NFLT, is a theoretical finding that suggests all optimization algorithms perform equally well when their performance is averaged over all possible objective functions.\n",
    "- In computational complexity and optimization the \"No Free Lunch\" theorem is a result that states that for certain types of mathematical problems, the computational cost of finding a solution, averaged over all problems in the class, is the same for any solution method.\n",
    "- In Simple Words “No Free Lunch” theorem means we can’t rely on one model to be best of all models.\n",
    "- We have to understand data properly and make use of ML understanding and make use of models to find best out of it.\n"
   ]
  },
  {
   "cell_type": "markdown",
   "metadata": {},
   "source": [
    "## 3. Describe the K-fold cross-validation mechanism in detail.\n"
   ]
  },
  {
   "cell_type": "markdown",
   "metadata": {},
   "source": [
    "- In K-fold cross validation, data $D$ is subset into $k$ subsets randomly.\n",
    "- Let us assume $S_1...S_k$ are the subsets where $S_k$ is the $k^{th}$ randomly split subset of data $D$.\n",
    "- In the first iteration, $D-S_1$ is used for training and $S_1$ for testing the model.\n",
    "- When the model has been trained and tested, evaluation can be done, score is noted elsewhere and the trained model is discarded.\n",
    "- These k-iterations go on where $\\frac{1}{k}$ subset of $D$ is always set aside for testing the data and $D-\\frac{1}{k}$ subsets are used for training, evaluating and discarding the model.\n",
    "- At the end of all the iterations, average of all the evaluation scores is taken and used as output.\n"
   ]
  },
  {
   "cell_type": "markdown",
   "metadata": {},
   "source": [
    "## 4. Describe the bootstrap sampling method. What is the aim of it?\n"
   ]
  },
  {
   "cell_type": "markdown",
   "metadata": {},
   "source": [
    "- The bootstrap method is a statistical technique for estimating quantities about a population by averaging estimates from multiple small data samples.\n",
    "- Importantly, samples are constructed by drawing observations from a large data sample one at a time and returning them to the data sample after they have been chosen.\n",
    "- This allows a given observation to be included in a given small sample more than once.\n",
    "- This approach to sampling is called sampling with replacement.\n",
    "- Bootstrapping means randomly selecting data points with replacement from population to form sample dataset\n"
   ]
  },
  {
   "cell_type": "markdown",
   "metadata": {},
   "source": [
    "## 5. What is the significance of calculating the Kappa value for a classification model? Demonstrate how to measure the Kappa value of a classification model using a sample collection of results.\n"
   ]
  },
  {
   "cell_type": "markdown",
   "metadata": {},
   "source": [
    "- Kappa value or Cohen's Kappa coefficient is an evaluation metric for classification models.\n",
    "- Its significance as an evaluation metric is that it can be used to evaluate multi class classification models and also works on models trained on imbalanced datasets(scores like accuracy scores fail for imbalanced datasets).\n",
    "- In simpler words, it basically tells you how much better your classifier is performing over the performance of a classifier that simply guesses at random according to the frequency of each class.\n",
    "- Cohen's kappa is always less than or equal to 1.\n",
    "- Values of 0 or less, indicate that the classifier is useless Cohen suggested the Kappa result be interpreted as follows:\n",
    "  - values ≤ 0 as indicating no agreement,\n",
    "  - 0.01–0.20 as none to slight,\n",
    "  - 0.21–0.40 as fair,\n",
    "  - 0.41– 0.60 as moderate,\n",
    "  - 0.61–0.80 as substantial,\n",
    "  - 0.81–1.00 as almost perfect agreement.\n"
   ]
  },
  {
   "cell_type": "markdown",
   "metadata": {},
   "source": [
    "## 6. Describe the model ensemble method. In machine learning, what part does it play?\n"
   ]
  },
  {
   "cell_type": "markdown",
   "metadata": {},
   "source": [
    "- Ensemble methods or ensemble machine learning models are models where more than one models are being used spontaneously to produce better results then individually trained model.\n",
    "- Ensemble method are broadly classified into Boosting and Bagging category.\n",
    "- Eg, Random Forest, XGBoost, AdaBoost, etc.\n"
   ]
  },
  {
   "cell_type": "markdown",
   "metadata": {},
   "source": [
    "## 7. What is a descriptive model's main purpose? Give examples of real-world problems that descriptive models were used to solve.\n"
   ]
  },
  {
   "cell_type": "markdown",
   "metadata": {},
   "source": [
    "- A descriptive model is used for tasks that would benefit from the insight gained from summarizing data in new and interesting ways.\n",
    "- As opposed to predictive models that predict a target of interest, in a descriptive model, no single feature is more important than any other.\n",
    "- In fact, because there is no target to learn, the process of training a descriptive model is called unsupervised learning.\n",
    "- It is used in customer classification as real life problem.\n"
   ]
  },
  {
   "cell_type": "markdown",
   "metadata": {},
   "source": [
    "## 8. Describe how to evaluate a linear regression model.\n"
   ]
  },
  {
   "cell_type": "markdown",
   "metadata": {},
   "source": [
    "- Evaluation of a linear regression model can be done using R-square.\n",
    "- R square is calculated as the sum of squared errors in predictions made, divided by summation of all sum of squares.\n",
    "- R square measures how much of the change in target variable can be explained by the linear regressor.\n",
    "- Its value ranges from 0 to 1 where 0 means poor performance and 1 means good.\n",
    "- Some other techniques which can be used to evaluate a linear regression model are:\n",
    "  1. Mean Square Error(MSE)/Root Mean Square Error(RMSE)\n",
    "  2. Mean Absolute Error(MAE)\n"
   ]
  },
  {
   "cell_type": "markdown",
   "metadata": {},
   "source": [
    "## 9. Distinguish :\n",
    "\n",
    "- Descriptive vs. predictive models\n",
    "- Underfitting vs. overfitting the model\n",
    "- Bootstrapping vs. cross-validation\n"
   ]
  },
  {
   "cell_type": "markdown",
   "metadata": {},
   "source": [
    "| Descriptive Model                                                                                | Predictive Model                                                                |\n",
    "| :----------------------------------------------------------------------------------------------- | :------------------------------------------------------------------------------ |\n",
    "| Descriptive models are built to identify trends and underlying patterns.                         | Predictive models are built to predict a dependent variable value.              |\n",
    "| Most of descriptive models are built using unsupervised machine learning.                        | Most of predictive models are built using classification and regression models. |\n",
    "| Example for descriptive model: Finding why consumers are engaging more with a social media post. | Example for predictive model: Predicting the chances of cancer in a patient.    |\n",
    "\n",
    "---\n",
    "\n",
    "| Underfitting                                                                                                                                                                             | Overfitting                                                                                                                                               |\n",
    "| :--------------------------------------------------------------------------------------------------------------------------------------------------------------------------------------- | :-------------------------------------------------------------------------------------------------------------------------------------------------------- |\n",
    "| Underfitting is a situation arising when the hypothesis is way too simple, or when the machine learning model is way too simple to produce good results.                                 | Overfitting is a situation arising when the hypothesis is way too complex, or when the machine learning model is way too complex to produce good results. |\n",
    "| Underfitting causes a model to produce poor results due to heavily simplified algorithm reacting lightly to changes in the unseen data for independent variables from the training data. | Overfitting makes a model produce poor results due to slightest variations in the unseen data for independent variables from the training data            |\n",
    "| Underfitting is also called High Bias.                                                                                                                                                   | Overfitting is also called High variance                                                                                                                  |\n",
    "\n",
    "---\n",
    "\n",
    "| Bootstrapping                                                                                                                                                                                             | Cross-Validation                                                                                    |\n",
    "| :-------------------------------------------------------------------------------------------------------------------------------------------------------------------------------------------------------- | :-------------------------------------------------------------------------------------------------- |\n",
    "| Boostrap sampling is a method of sampling in which the repeated sampling is done with replacement using a data $D$ in random draws over which machine learning models are trained for better performance. | Cross validation is a method used to check the efficacy of the machine learning model on test data. |\n",
    "| End goal of bootstrapping is to reduce overfitting and increase performance.                                                                                                                              | End goal of cross validation is only to produce test scores to check efficacy of model              |\n",
    "| Bootstrapping is best employed in Random Forest Classifier.                                                                                                                                               | Cross Validation is best employed using K-fold cross validation technique.                          |\n"
   ]
  },
  {
   "cell_type": "markdown",
   "metadata": {},
   "source": [
    "## 10. Make quick notes on:\n",
    "\n",
    "          - LOOCV.\n",
    "          - F-measurement\n",
    "          - The width of the silhouette\n",
    "          - Receiver operating characteristic curve\n"
   ]
  },
  {
   "cell_type": "markdown",
   "metadata": {},
   "source": [
    "- LOOCV or Leave One Out Cross Validation is a form of K-fold cross validation where only one observation is left out for validation purpose while the rest of the data is used for model training each iteration.\n",
    "- It is computationally taxing and should only be used for data with low dimensionality.\n",
    "\n",
    "---\n",
    "\n",
    "- Harmonic mean of Precision score and recall score is called F-measurement or F-score.\n",
    "- It is formulated as $F_1 = 2 \\times \\frac{\\text{precision} \\cdot \\text{recall}}{\\text{precision}+\\text{recall}}$ where pr is precision score and re is recall score.\n",
    "\n",
    "---\n",
    "\n",
    "- Estimate of average inter cluster distance to give efficacy/performance of cluster algorithms is called width of the silhouette.\n",
    "- It can also be defined as how identical/similar a data point 'x' is to the data points inside the cluster to which x is assigned.\n",
    "- Its value ranges from -1 to 1 where 1 means good and -1 means bad.\n",
    "\n",
    "---\n",
    "\n",
    "- Curve plotted between True Positive Rate and False Positive Rate is Receiver Operating Characteristics curve and is used to find the area under the curve for ROC-AUC score for binary classification evaluation.\n",
    "- True Positive Rate and False Positive Rate are calculated for different thresholds values where thresholds take values starting from the highest probability scores assigned to data points and goes up to the lowest probability score.\n",
    "- The curve is impacted by presence of outliers, and simple models.\n",
    "- Extensions can be made to this curve to suit multiclass classification evaluation requirements.\n"
   ]
  }
 ],
 "metadata": {
  "language_info": {
   "name": "python"
  },
  "orig_nbformat": 4
 },
 "nbformat": 4,
 "nbformat_minor": 2
}
