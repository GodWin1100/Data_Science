{
 "cells": [
  {
   "cell_type": "markdown",
   "metadata": {},
   "source": [
    "# Machine Learning Assignment-10\n"
   ]
  },
  {
   "cell_type": "markdown",
   "metadata": {},
   "source": [
    "## 1. Define the Bayesian interpretation of probability.\n"
   ]
  },
  {
   "cell_type": "markdown",
   "metadata": {},
   "source": [
    "- Bayesian probability is the study of subjective probabilities or belief in an outcome, compared to the frequent approach where probabilities are based purely on the past occurrence of the event.\n",
    "- A Bayesian Network captures the joint probabilities of the events represented by the model.\n"
   ]
  },
  {
   "cell_type": "markdown",
   "metadata": {},
   "source": [
    "## 2. Define probability of a union of two events with equation.\n"
   ]
  },
  {
   "cell_type": "markdown",
   "metadata": {},
   "source": [
    "- The general probability addition rule for the union of two events states that $P(A\\cup B)=P(A)+P(B)−P(A\\cap B)$, where $A∩B$ is the intersection of the two sets.\n"
   ]
  },
  {
   "cell_type": "markdown",
   "metadata": {},
   "source": [
    "## 3. What is joint probability? What is its formula?\n"
   ]
  },
  {
   "cell_type": "markdown",
   "metadata": {},
   "source": [
    "- Probabilities are combined using multiplication, therefore the joint probability of independent events is calculated as the probability of event A multiplied by the probability of event B.\n",
    "- This can be stated formally as $P(A \\> \\text{and} \\> B) = P(A)*P(B)$\n"
   ]
  },
  {
   "cell_type": "markdown",
   "metadata": {},
   "source": [
    "## 4. What is chain rule of probability?\n"
   ]
  },
  {
   "cell_type": "markdown",
   "metadata": {},
   "source": [
    "- The chain rule, or general product rule, calculates any component of the joint distribution of a set of random variables using only conditional probabilities.\n",
    "- $P(A1, A2, ..., An) = P(A1| A2, ..., An) * P(A2| A3, ..., An) * P(An-1|An) P(An)$\n"
   ]
  },
  {
   "cell_type": "markdown",
   "metadata": {},
   "source": [
    "## 5. What is conditional probability means? What is the formula of it?\n"
   ]
  },
  {
   "cell_type": "markdown",
   "metadata": {},
   "source": [
    "- Conditional probability is defined as the likelihood of an event or outcome occurring, based on the occurrence of a previous event or outcome.\n",
    "- Conditional probability is calculated by multiplying the probability of the preceding event by the updated probability of the succeeding, or conditional, event.\n",
    "- Formula: $P(A|B)=\\frac{P(A\\>\\cap \\>B)}{P(B)}$\n",
    "- Let's take a real-life example. Probability of selling a TV on a given normal day may be only 30%. But if we consider that given day is Diwali, then there are much more chances of selling a TV. The conditional Probability of selling a TV on a day given that Day is Diwali might be 70%.\n"
   ]
  },
  {
   "cell_type": "markdown",
   "metadata": {},
   "source": [
    "## 6. What are continuous random variables?\n"
   ]
  },
  {
   "cell_type": "markdown",
   "metadata": {},
   "source": [
    "- A continuous random variable is a random variable that has only continuous values.\n",
    "- Continuous values are uncountable and are related to real numbers.\n",
    "- Examples of continuous random variables.\n",
    "  - Age of a fossil: Possible values = all real numbers on the interval `[minimum age, maximum age]`\n"
   ]
  },
  {
   "cell_type": "markdown",
   "metadata": {},
   "source": [
    "## 7. What are Bernoulli distributions? What is the formula of it?\n"
   ]
  },
  {
   "cell_type": "markdown",
   "metadata": {},
   "source": [
    "- The Bernoulli distribution is a discrete distribution having two possible outcomes labelled by $n=0$ and $n=1$ in which $n=1$ (\"success\") occurs with probability $p$ and $n=0$ (\"failure\") occurs with probability $q=1-p$, where $0<p<1$.\n",
    "- Formula: $P(n)=p^n(1-p)^{1-n}$\n"
   ]
  },
  {
   "cell_type": "markdown",
   "metadata": {},
   "source": [
    "## 8. What is binomial distribution? What is the formula?\n"
   ]
  },
  {
   "cell_type": "markdown",
   "metadata": {},
   "source": [
    "- A distribution where only two outcomes are possible, such as success or failure, gain or loss, win or lose and where the probability of success and failure is same for all the trials is called a Binomial Distribution.\n",
    "- The outcomes need not be equally likely.\n",
    "- Formula: $P(x)=\\frac{n!}{(n-x)! x!}p^x q^{n-x}$\n"
   ]
  },
  {
   "cell_type": "markdown",
   "metadata": {},
   "source": [
    "## 9. What is Poisson distribution? What is the formula?\n"
   ]
  },
  {
   "cell_type": "markdown",
   "metadata": {},
   "source": [
    "- There are some experiments, which involve the occurring of the number of outcomes during a given time interval (or in a region of space).\n",
    "- Such a process is called Poisson Process.\n",
    "- The entire no. of such processes in a day is modeled by Poisson distribution.\n",
    "- For Eg: The number of emergency calls recorded at a hospital in a day.\n",
    "- Formula: $P(x)=\\frac{e^{-\\lambda}\\lambda^x}{x!}$\n"
   ]
  },
  {
   "cell_type": "markdown",
   "metadata": {},
   "source": [
    "## 10. Define covariance.\n"
   ]
  },
  {
   "cell_type": "markdown",
   "metadata": {},
   "source": [
    "- Covariance ( $\\text{Cov}(x,y)$ ) is a statistical measure that shows whether two variables are related by measuring how the variables change in relation to each other.\n",
    "- Direction of data is understood by covariance.\n"
   ]
  },
  {
   "cell_type": "markdown",
   "metadata": {},
   "source": [
    "## 11. Define correlation\n"
   ]
  },
  {
   "cell_type": "markdown",
   "metadata": {},
   "source": [
    "- Correlation ( $\\frac{\\text{cov}(x,y)}{\\sigma_x\\times\\sigma_y}$ ) is a measure of how two variable change in relation to each other, it goes one step further than covariance in that correlation tells how strong the relationship is.\n",
    "- Direction and strength of data is understood by correlation.\n"
   ]
  },
  {
   "cell_type": "markdown",
   "metadata": {},
   "source": [
    "## 12. Define sampling with replacement. Give example.\n"
   ]
  },
  {
   "cell_type": "markdown",
   "metadata": {},
   "source": [
    "- When a sampling unit is drawn from a finite population and is returned to that population, after its characteristic(s) have been recorded, before the next unit is drawn, the sampling is said to be “with replacement”\n",
    "- Eg. Bootstrap\n"
   ]
  },
  {
   "cell_type": "markdown",
   "metadata": {},
   "source": [
    "## 13. What is sampling without replacement? Give example.\n"
   ]
  },
  {
   "cell_type": "markdown",
   "metadata": {},
   "source": [
    "- In sampling without replacement, each sample unit of the population has only one chance to be selected in the sample.\n",
    "- For example, if one draws a simple random sample such that no unit occurs more than one time in the sample, the sample is drawn without replacement.\n",
    "- Eg. Resampling/Permutation (it can be with or without replacement)\n"
   ]
  },
  {
   "cell_type": "markdown",
   "metadata": {},
   "source": [
    "## 14. What is hypothesis? Give example.\n"
   ]
  },
  {
   "cell_type": "markdown",
   "metadata": {},
   "source": [
    "- A hypothesis is a proposed explanation for a phenomenon.\n",
    "- For a hypothesis to be a scientific hypothesis, the scientific method requires that one can test it.\n",
    "- It is an assumption that is made based on some evidence.\n",
    "- Eg. Hypothesis: \"Students who eat breakfast will perform better on a math exam than students who do not eat breakfast.\"\n",
    "- Eg. Hypothesis test (t-Test, chi-square test, F-test)\n"
   ]
  }
 ],
 "metadata": {
  "kernelspec": {
   "display_name": "Python 3.10.4 64-bit",
   "language": "python",
   "name": "python3"
  },
  "language_info": {
   "name": "python",
   "version": "3.10.4"
  },
  "orig_nbformat": 4,
  "vscode": {
   "interpreter": {
    "hash": "2e4a015a5e8b3d416719d76fc156fe7e163a5f8678adc2f1ead049a4ae2a6091"
   }
  }
 },
 "nbformat": 4,
 "nbformat_minor": 2
}
