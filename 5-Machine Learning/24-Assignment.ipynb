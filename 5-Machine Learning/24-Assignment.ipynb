{
 "cells": [
  {
   "cell_type": "markdown",
   "metadata": {},
   "source": [
    "# Machine Learning Assignment-24"
   ]
  },
  {
   "cell_type": "markdown",
   "metadata": {},
   "source": [
    "## 1. What is your definition of clustering? What are a few clustering algorithms you might think of?\n"
   ]
  },
  {
   "cell_type": "markdown",
   "id": "cd14eccd",
   "metadata": {},
   "source": [
    "- Clustering is the task of assigning the population or data points into a number of groups such that data points in the same groups are more similar to other data points in the same group and dissimilar to the data points in other groups.\n",
    "- Clustering algorithm falls under unsupervised learning and few algorithms are:\n",
    "  - K-Means\n",
    "  - Hierarchical Clustering\n",
    "  - DBScan\n",
    "  - Gaussian Mixture Clustering\n",
    "  - Affinity Propagation Clustering"
   ]
  },
  {
   "cell_type": "markdown",
   "metadata": {},
   "source": [
    "## 2. What are some of the most popular clustering algorithm applications?\n"
   ]
  },
  {
   "cell_type": "markdown",
   "id": "a9a3778a",
   "metadata": {},
   "source": [
    "- Cluster data points into set of cluster to get classification classes/cluster.\n",
    "- Applied in Computer Vision to cluster texture/feature into groups.\n",
    "- To find similar groups from large dataset."
   ]
  },
  {
   "cell_type": "markdown",
   "metadata": {},
   "source": [
    "## 3. When using `K-Means`, describe two strategies for selecting the appropriate number of clusters.\n"
   ]
  },
  {
   "cell_type": "markdown",
   "metadata": {},
   "source": [
    "- We can use WCSS vs No. of cluster graph to select appropriate number of cluster where there is sharp/elbow like drop in WCSS.\n",
    "- Silhouette score can be considered for selecting the appropriate number of cluster where each cluster has average silhouette score."
   ]
  },
  {
   "cell_type": "markdown",
   "metadata": {},
   "source": [
    "## 4. What is mark propagation and how does it work? Why would you do it, and how would you do it?\n"
   ]
  },
  {
   "cell_type": "markdown",
   "metadata": {},
   "source": [
    "## 5. Provide two examples of clustering algorithms that can handle large datasets. And two that look for high-density areas?\n"
   ]
  },
  {
   "cell_type": "markdown",
   "metadata": {},
   "source": [
    "## 6. Can you think of a scenario in which constructive learning will be advantageous? How can you go about putting it into action?\n"
   ]
  },
  {
   "cell_type": "markdown",
   "metadata": {},
   "source": [
    "## 7. How do you tell the difference between anomaly and novelty detection?\n"
   ]
  },
  {
   "cell_type": "markdown",
   "metadata": {},
   "source": [
    "## 8. What is a Gaussian mixture, and how does it work? What are some of the things you can do about it?\n"
   ]
  },
  {
   "cell_type": "markdown",
   "metadata": {},
   "source": [
    "## 9. When using a Gaussian mixture model, can you name two techniques for determining the correct number of clusters?"
   ]
  }
 ],
 "metadata": {
  "kernelspec": {
   "display_name": "Python 3.10.4 64-bit",
   "language": "python",
   "name": "python3"
  },
  "language_info": {
   "codemirror_mode": {
    "name": "ipython",
    "version": 3
   },
   "file_extension": ".py",
   "mimetype": "text/x-python",
   "name": "python",
   "nbconvert_exporter": "python",
   "pygments_lexer": "ipython3",
   "version": "3.9.13"
  },
  "orig_nbformat": 4,
  "vscode": {
   "interpreter": {
    "hash": "2e4a015a5e8b3d416719d76fc156fe7e163a5f8678adc2f1ead049a4ae2a6091"
   }
  }
 },
 "nbformat": 4,
 "nbformat_minor": 2
}
