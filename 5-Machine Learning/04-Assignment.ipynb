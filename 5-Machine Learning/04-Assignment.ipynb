{
 "cells": [
  {
   "cell_type": "markdown",
   "metadata": {},
   "source": [
    "# Machine Learning Assignment-04\n"
   ]
  },
  {
   "cell_type": "markdown",
   "metadata": {},
   "source": [
    "## 1. What are the key tasks involved in getting ready to work with machine learning modeling?\n"
   ]
  },
  {
   "cell_type": "markdown",
   "metadata": {},
   "source": [
    "1. Data Collection\n",
    "2. Data Preparation\n",
    "3. Choosing a Model\n",
    "4. Training the Model\n",
    "5. Evaluation of the Model\n",
    "6. Hyperparameter Tuning\n",
    "7. Prediction\n"
   ]
  },
  {
   "cell_type": "markdown",
   "metadata": {},
   "source": [
    "## 2. What are the different forms of data used in machine learning? Give a specific example for each of them.\n"
   ]
  },
  {
   "cell_type": "markdown",
   "metadata": {},
   "source": [
    "- Most data can be categorized into 4 basic types from a Machine Learning perspective:\n",
    "- Numerical Data\n",
    "\n",
    "  - Numerical data is any data where data points are exact numbers. Statisticians also might call numerical data, quantitative data.\n",
    "  - This data has meaning as a measurement such as house prices or as a count, such as a number of residential properties in Los Angeles or how many houses sold in the past year.\n",
    "  - Numerical data can be characterized by continuous or discrete data. Continuous data can assume any value within a range whereas discrete data has distinct values.\n",
    "\n",
    "- Categorical Data\n",
    "\n",
    "  - Categorical data represents characteristics, such as a hockey player’s position, team, hometown.\n",
    "  - Categorical data can take numerical values.\n",
    "  - For example, maybe we would use 1 for the color red and 2 for blue.\n",
    "  - But these numbers don’t have a mathematical meaning. That is, we can’t add them together or take the average.\n",
    "\n",
    "- Time-Series Data\n",
    "\n",
    "  - Time series data is a sequence of numbers collected at regular intervals over some period of time.\n",
    "  - It is very important, especially in particular fields like finance.\n",
    "  - Time series data has a temporal value attached to it, so this would be something like a date or a timestamp that you can look for trends in time.\n",
    "\n",
    "- Text Data\n",
    "  - Text data is basically just words.\n",
    "  - A lot of the time the first thing that you do with text is you turn it into numbers using some interesting functions like the bag of words formulation.\n"
   ]
  },
  {
   "cell_type": "markdown",
   "metadata": {},
   "source": [
    "## 3. Distinguish:\n",
    "\n",
    "- Numeric VS categorical attributes\n",
    "- Feature selection VS dimensionality reduction\n"
   ]
  },
  {
   "cell_type": "markdown",
   "metadata": {},
   "source": [
    "| Numeric Attributes                                                                                                                                                                                            | Categorical Attributes                                                                                                       |\n",
    "| :------------------------------------------------------------------------------------------------------------------------------------------------------------------------------------------------------------ | :--------------------------------------------------------------------------------------------------------------------------- |\n",
    "| Numerical data are values obtained for quantitative variable, and carries a sense of magnitude related to the context of the variable (hence, they are always numbers or symbols carrying a numerical value). | Categorical data are values obtained for a qualitative variable. categorical data numbers do not carry a sense of magnitude. |\n",
    "| Numerical data always belong to either ordinal, ratio, or interval type                                                                                                                                       | categorical data belong to nominal type.                                                                                     |\n",
    "| Numerical data are analyzed using statistical methods in descriptive statistics, regression, time series and many more.                                                                                       | Categorical data usually descriptive methods and graphical methods are employed. Some non-parametric tests are also used.    |\n",
    "\n",
    "---\n",
    "\n",
    "| Feature Selection                                                                                                                  | Dimensionality Reduction                                                                                                                                                                                                                                             |\n",
    "| :--------------------------------------------------------------------------------------------------------------------------------- | :------------------------------------------------------------------------------------------------------------------------------------------------------------------------------------------------------------------------------------------------------------------- |\n",
    "| In feature selection you just select a subset of the original feature set, without any manipulation of the data on the other hand. | Dimensionality reduction is typically choosing a new representation within which you can describe most but not all of the variance within your data, thereby retaining the relevant information, while reducing the amount of information necessary to represent it. |\n"
   ]
  },
  {
   "cell_type": "markdown",
   "metadata": {},
   "source": [
    "## 4. Make quick notes on any two of the following:\n",
    "\n",
    "- The histogram\n",
    "- Use a scatter plot\n",
    "- PCA (Principal Component Analysis)\n"
   ]
  },
  {
   "cell_type": "markdown",
   "metadata": {},
   "source": [
    "- The histogram:\n",
    "\n",
    "  - A Histogram is a graphical representation that organizes a group of data points into user-specified ranges.\n",
    "  - Similar in appearance to a bar graph, the histogram condenses a data series into an easily interpreted visual by taking many data points and grouping them into logical ranges or bins.\n",
    "\n",
    "---\n",
    "\n",
    "- Use a scatter plot:\n",
    "\n",
    "  - A scatter plot (aka scatter chart, scatter graph) uses dots to represent values for two different numeric variables.\n",
    "  - The position of each dot on the horizontal and vertical axis indicates values for an individual data point.\n",
    "  - Scatter plots are used to observe relationships between variables.\n",
    "\n",
    "---\n",
    "\n",
    "- PCA (Principal Component Analysis):\n",
    "\n",
    "  - Principal Component Analysis or PCA is a widely used technique for dimensionality reduction of the large data set.\n",
    "  - Reducing the number of components or features costs some accuracy and on the other hand, it makes the large data set simpler, easy to explore and visualize.\n"
   ]
  },
  {
   "cell_type": "markdown",
   "metadata": {},
   "source": [
    "## 5. Why is it necessary to investigate data? Is there a discrepancy in how qualitative and quantitative data are explored?\n"
   ]
  },
  {
   "cell_type": "markdown",
   "metadata": {},
   "source": [
    "- If your data set is messy, building models will not help you to solve your problem.\n",
    "- What will happen is _Garbage In, Garbage Out_.\n",
    "- In order to build a powerful machine learning algorithm.\n",
    "- We need to explore and understand our data set before we define a predictive task and solve it.\n"
   ]
  },
  {
   "cell_type": "markdown",
   "metadata": {},
   "source": [
    "## 6. What are the various histogram shapes? What exactly are ‘bins'?\n"
   ]
  },
  {
   "cell_type": "markdown",
   "metadata": {},
   "source": [
    "- The different types of a Histogram are:\n",
    "\n",
    "  - Uniform Histogram\n",
    "  - Symmetric Histogram\n",
    "  - Bimodal Histogram\n",
    "  - Probability Histogram.\n",
    "\n",
    "---\n",
    "\n",
    "- The bin in a histogram is the choice of unit and spacing on the X-axis.\n",
    "- All the data in a probability distribution represented visually by a histogram is filled into the corresponding bins.\n",
    "- The height of each bin is a measurement of the frequency with which data appears inside the range of that bin in the distribution.\n"
   ]
  },
  {
   "cell_type": "markdown",
   "metadata": {},
   "source": [
    "## 7. How do we deal with data outliers?\n"
   ]
  },
  {
   "cell_type": "markdown",
   "metadata": {},
   "source": [
    "- Dropping outliers.\n",
    "- Filtering data.\n",
    "- Clipping the data.\n",
    "- Imputation of data.\n"
   ]
  },
  {
   "cell_type": "markdown",
   "metadata": {},
   "source": [
    "## 8. What are the various central inclination measures? Why does mean vary too much from median in certain data sets?\n"
   ]
  },
  {
   "cell_type": "markdown",
   "metadata": {},
   "source": [
    "- `Mean`, `Median` and `Mode` are three general Central Inclination Measures.\n",
    "- `Mean` varies more than `Median` due to presence of outliers, as mean is averaging all points while median in like finding a middle number.\n"
   ]
  },
  {
   "cell_type": "markdown",
   "metadata": {},
   "source": [
    "## 9. Describe how a scatter plot can be used to investigate bivariate relationships. Is it possible to find outliers using a scatter plot?\n"
   ]
  },
  {
   "cell_type": "markdown",
   "metadata": {},
   "source": [
    "- Scatter Plot (aka scatter chart, scatter graph) uses dots to represent values for two different numeric variables.\n",
    "- The position of each dot on the horizontal and vertical axis indicates values for an individual data point.\n",
    "- So this visualization gives us the idea of bivariate relationship.\n",
    "- Scatter plot can also help finding outliers as outliers can be visualized at farther distance than regular data.\n"
   ]
  },
  {
   "cell_type": "markdown",
   "metadata": {},
   "source": [
    "## 10. Describe how cross-tabs can be used to figure out how two variables are related.\n"
   ]
  },
  {
   "cell_type": "markdown",
   "metadata": {},
   "source": [
    "- Cross tabulation is a method to quantitatively analyze the relationship between multiple variables.\n",
    "- Also known as contingency tables or cross tabs, cross tabulation groups variables to understand the correlation between different variables.\n",
    "- It also shows how correlations change from one variable grouping to another.\n"
   ]
  }
 ],
 "metadata": {
  "language_info": {
   "name": "python"
  },
  "orig_nbformat": 4
 },
 "nbformat": 4,
 "nbformat_minor": 2
}
