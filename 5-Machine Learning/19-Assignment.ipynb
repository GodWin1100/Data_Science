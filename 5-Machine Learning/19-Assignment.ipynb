{
 "cells": [
  {
   "cell_type": "markdown",
   "metadata": {},
   "source": [
    "# Machine Learning Assignment-19\n"
   ]
  },
  {
   "cell_type": "markdown",
   "metadata": {},
   "source": [
    "## 1. A set of one-dimensional data points is given to you: $5, 10, 15, 20, 25, 30, 35$. Assume that $k = 2$ and that the first set of random centroid is $15, 32$, and that the second set is $12, 30$.\n",
    "\n",
    "- a) Using the `k-means` method, create two clusters for each set of centroid described above.\n",
    "- b) For each set of centroid values, calculate the `SSE`.\n"
   ]
  },
  {
   "cell_type": "code",
   "execution_count": 39,
   "metadata": {},
   "outputs": [
    {
     "name": "stdout",
     "output_type": "stream",
     "text": [
      "Centroid: [15 32]\n",
      "SSE: 175.0\n",
      "Centroid: [12 30]\n",
      "SSE: 175.0\n"
     ]
    }
   ],
   "source": [
    "import warnings\n",
    "\n",
    "warnings.filterwarnings(\"ignore\")\n",
    "from sklearn.cluster import KMeans\n",
    "import numpy as np\n",
    "\n",
    "x = np.arange(5, 36, 5).reshape(-1, 1)\n",
    "k = 2\n",
    "init_centroid = np.array([[15, 32], [12, 30]])\n",
    "SSE = []\n",
    "for centroid in init_centroid:\n",
    "    print(f\"Centroid: {centroid}\")\n",
    "    kmeans = KMeans(n_clusters=k, init=centroid.reshape(-1, 1), n_init=1)\n",
    "    kmeans.fit(x)\n",
    "    sse = kmeans.inertia_\n",
    "    print(f\"SSE: {sse}\")\n",
    "    SSE.append(sse)\n"
   ]
  },
  {
   "cell_type": "markdown",
   "metadata": {},
   "source": [
    "## 2. Describe how the Market Basket Research makes use of association analysis concepts.\n"
   ]
  },
  {
   "cell_type": "markdown",
   "metadata": {},
   "source": [
    "- In market basket analysis, association rules are used to predict the likelihood of products being purchased together.\n",
    "- Association rules count the frequency of items that occur together, seeking to find associations that occur far more often than expected.\n",
    "- The `Apriori` algorithm is commonly cited by data scientists in research articles about market basket analysis and is used to identify frequent items in the database, then evaluate their frequency as the datasets are expanded to larger sizes.\n"
   ]
  },
  {
   "cell_type": "markdown",
   "metadata": {},
   "source": [
    "## 3. Give an example of the `Apriori` algorithm for learning association rules.\n"
   ]
  },
  {
   "cell_type": "markdown",
   "metadata": {},
   "source": [
    "- `Apriori` algorithm operates on a database containing a huge number of transactions. For example, the items customers but at a Big Bazar.\n",
    "- `Apriori` algorithm helps the customers to buy their products with ease and increases the sales performance of the particular store.\n",
    "- If `{Grapes, Apple, Mango}` is frequent, then `{Grapes,Mango}` must also be frequent.\n"
   ]
  },
  {
   "cell_type": "markdown",
   "metadata": {},
   "source": [
    "## 4. In hierarchical clustering, how is the distance between clusters measured? Explain how this metric is used to decide when to end the iteration.\n"
   ]
  },
  {
   "cell_type": "markdown",
   "metadata": {},
   "source": [
    "- To calculate distance between clusters we use Single Linkage, Complete Linkage, Average Linkage or Centroid Linkage and distance is measured with Euclidean Distance.\n",
    "- We used specified linkage and keep merging small cluster into big cluster and iteration is stopped when only one cluster is left.\n"
   ]
  },
  {
   "cell_type": "markdown",
   "metadata": {},
   "source": [
    "## 5. In the `k-means` algorithm, how do you recompute the cluster centroids?\n"
   ]
  },
  {
   "cell_type": "markdown",
   "metadata": {},
   "source": [
    "- The initial centroids were chosen arbitrarily, your model then updates them with new cluster values.\n",
    "- Updated cluster centorid is the average or the mean value of all the datapoints within that cluster.\n",
    "- The stopping criterion tells our algo when to stop updating the clusters.\n",
    "- Some of the stopping conditions are:\n",
    "  - The datapoints assigned to specific cluster remain the same (takes too much time)\n",
    "  - Centroids remain the same (time consuming)\n",
    "  - The distance of datapoints from their centroid is minimum (the thresh you’ve set)\n",
    "  - Fixed number of iterations have reached (insufficient iterations → poor results, choose max iteration wisely)\n"
   ]
  },
  {
   "cell_type": "markdown",
   "metadata": {},
   "source": [
    "## 6. At the start of the clustering exercise, discuss one method for determining the required number of clusters.\n"
   ]
  },
  {
   "cell_type": "markdown",
   "metadata": {},
   "source": [
    "- **The Elbow Method**\n",
    "  - Calculate the Within-Cluster-Sum of Squared (WCSS) for different values of $k$, and choose the k for which WSS becomes first starts to diminish.\n",
    "  - In the plot of WCSS-versus-k, this is visible as an elbow.\n",
    "- **The Silhouette Method**\n",
    "  - The silhouette value measures how similar a point is to its own cluster (cohesion) compared to other clusters (separation).\n",
    "  - The range of the Silhouette value is between +1 and -1.\n",
    "  - A high value is desirable and indicates that the point is placed in the correct cluster.\n",
    "  - If many points have a negative Silhouette value, it may indicate that we have created too many or too few clusters.\n"
   ]
  },
  {
   "cell_type": "markdown",
   "metadata": {},
   "source": [
    "## 7. Discuss the `k-means` algorithm's advantages and disadvantages.\n"
   ]
  },
  {
   "cell_type": "markdown",
   "metadata": {},
   "source": [
    "- Advantages of k-means\n",
    "  - Relatively simple to implement.\n",
    "  - Scales to large data sets.\n",
    "  - Guarantees convergence.\n",
    "  - Can warm-start the positions of centroids.\n",
    "  - Easily adapts to new examples.\n",
    "  - Generalizes to clusters of different shapes and sizes, such as elliptical clusters.\n",
    "- Disadvantages of k-means\n",
    "  - Choosing $k$ manually\n",
    "  - Being dependent on initial values\n",
    "  - Clustering data of varying sizes and density\n",
    "  - Clustering outliers\n",
    "  - Scaling with number of dimensions\n"
   ]
  },
  {
   "cell_type": "markdown",
   "metadata": {},
   "source": [
    "## 8. Draw a diagram to demonstrate the principle of clustering.\n"
   ]
  },
  {
   "cell_type": "markdown",
   "metadata": {},
   "source": [
    "- Clustering is based on base principle of type of clustering method\n",
    "  - Partitioning Clustering  \n",
    "    ![Partitioning Clustering](./a19-8-1.png)\n",
    "    - Density-Based Clustering  \n",
    "      ![Density-Based Clustering](./a19-8-2.png)\n",
    "    - Distribution Model-Based Clustering  \n",
    "      ![Distribution Model-Based Clustering](./a19-8-3.png)\n",
    "    - Hierarchical Clustering  \n",
    "      ![Hierarchical Clustering](./a19-8-4.png)\n",
    "    - Fuzzy Clustering\n"
   ]
  },
  {
   "cell_type": "markdown",
   "metadata": {},
   "source": [
    "## 9. During your study, you discovered seven findings, which are listed in the data points below. Using the `K-means` algorithm, you want to build three clusters from these observations. The clusters $C1$, $C2$, and $C3$ have the following findings after the first iteration:\n",
    "\n",
    "$$\n",
    "\\begin{aligned}\n",
    "C1&: (2,2), (4,4), (6,6); \\\\\n",
    "C2&: (0,4), (4,0); \\\\\n",
    "C3&: (5,5), (9,9);\\\\\n",
    "\\end{aligned}\n",
    "$$\n",
    "\n",
    "- What would the cluster centroids be if you were to run a second iteration?\n",
    "- What would this clustering's SSE be?\n"
   ]
  },
  {
   "cell_type": "markdown",
   "metadata": {},
   "source": [
    "$$\n",
    "\\begin{aligned}\n",
    "C1 &= (\\frac{2+4+6}{3},\\frac{2+4+6}{3}) &= (4,4) \\\\\n",
    "C2 &= (\\frac{0+4}{2},\\frac{4+0}{2}) &= (2,2) \\\\\n",
    "C3 &= (\\frac{5+9}{2},\\frac{5+9}{2}) &= (7,7) \\\\\n",
    "\\end{aligned}\n",
    "$$\n"
   ]
  },
  {
   "cell_type": "code",
   "execution_count": 38,
   "metadata": {},
   "outputs": [
    {
     "name": "stdout",
     "output_type": "stream",
     "text": [
      "Cluster 0 SSE: 16\n",
      "Cluster 1 SSE: 16\n",
      "Cluster 2 SSE: 16\n"
     ]
    }
   ],
   "source": [
    "data_point = np.array([[[2, 2], [4, 4], [6, 6]], [[0, 4], [4, 0]], [[5, 5], [9, 9]]])\n",
    "cluster_centroid = np.array([[4, 4], [2, 2], [7, 7]])\n",
    "for i, points in enumerate(data_point):\n",
    "    print(f\"Cluster {i} SSE: {((points-cluster_centroid[i])**2).sum()}\")\n"
   ]
  },
  {
   "cell_type": "markdown",
   "metadata": {},
   "source": [
    "## 10. In a software project, the team is attempting to determine if software flaws discovered during testing are identical. Based on the text analytics of the defect details, they decided to build 5 clusters of related defects. Any new defect formed after the 5 clusters of defects have been identified must be listed as one of the forms identified by clustering. A simple diagram can be used to explain this process. Assume you have 20 defect data points that are clustered into 5 clusters and you used the `k-means` algorithm.\n"
   ]
  },
  {
   "cell_type": "code",
   "execution_count": 108,
   "metadata": {},
   "outputs": [
    {
     "data": {
      "text/plain": [
       "<matplotlib.legend.Legend at 0x1fec80f5100>"
      ]
     },
     "execution_count": 108,
     "metadata": {},
     "output_type": "execute_result"
    },
    {
     "data": {
      "image/png": "[encoded data removed]",
      "text/plain": [
       "<Figure size 432x288 with 1 Axes>"
      ]
     },
     "metadata": {
      "needs_background": "light"
     },
     "output_type": "display_data"
    }
   ],
   "source": [
    "import numpy as np\n",
    "from sklearn.cluster import KMeans\n",
    "from matplotlib import pyplot as plt\n",
    "\n",
    "np.random.seed(17)\n",
    "defects = np.random.randint(1, 50, (20, 1))\n",
    "kmeans = KMeans(5, random_state=64)\n",
    "cluster_label = kmeans.fit_predict(defects)\n",
    "new_defect = [[28]]\n",
    "new_defect_cluster = kmeans.predict(new_defect)\n",
    "ax1 = plt.scatter(defects, defects, c=cluster_label)\n",
    "handle1, label1 = ax1.legend_elements()\n",
    "ax2 = plt.scatter(kmeans.cluster_centers_, kmeans.cluster_centers_, c=\"r\", alpha=0.6, s=100, ec=\"k\", label=\"Centroid\")\n",
    "ax_new = plt.scatter(new_defect, new_defect, c=new_defect_cluster, s=150, ec=\"r\", lw=2, label=\"New defect\")\n",
    "plt.legend(\n",
    "    handles=[ax2, *handle1, ax_new],\n",
    "    labels=[\"Centroid\", *label1, \"New Defect\"],\n",
    "    bbox_to_anchor=[1, 1],\n",
    "    title=\"Legend\",\n",
    "    shadow=True,\n",
    ")\n"
   ]
  }
 ],
 "metadata": {
  "kernelspec": {
   "display_name": "Python 3.8.10 ('fsds')",
   "language": "python",
   "name": "python3"
  },
  "language_info": {
   "codemirror_mode": {
    "name": "ipython",
    "version": 3
   },
   "file_extension": ".py",
   "mimetype": "text/x-python",
   "name": "python",
   "nbconvert_exporter": "python",
   "pygments_lexer": "ipython3",
   "version": "3.8.10"
  },
  "orig_nbformat": 4,
  "vscode": {
   "interpreter": {
    "hash": "20f5f825ba7e1e0138bea706cf7ce76ba178632e6be331b5251920b13e58ac94"
   }
  }
 },
 "nbformat": 4,
 "nbformat_minor": 2
}
