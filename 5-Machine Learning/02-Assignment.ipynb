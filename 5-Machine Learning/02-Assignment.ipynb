{
 "cells": [
  {
   "cell_type": "markdown",
   "metadata": {},
   "source": [
    "# Machine Learning Assignment-02\n"
   ]
  },
  {
   "cell_type": "markdown",
   "metadata": {},
   "source": [
    "## 1. What is the concept of human learning? Please give two examples.\n"
   ]
  },
  {
   "cell_type": "markdown",
   "metadata": {},
   "source": [
    "- Human learning is the form of learning which requires higher order mental processes like thinking, reasoning, intelligence, etc.\n",
    "- We learn different concepts from childhood. For example:\n",
    "  - Learning through Association - Classical Conditioning.\n",
    "  - Learning through consequences – Operant Conditioning.\n",
    "  - Learning through observation – Modeling/Observational Learning.\n"
   ]
  },
  {
   "cell_type": "markdown",
   "metadata": {},
   "source": [
    "## 2. What different forms of human learning are there? Are there any machine learning equivalents?\n"
   ]
  },
  {
   "cell_type": "markdown",
   "metadata": {},
   "source": [
    "- Artificial Intelligence Learning Theories, Machine Learning, Reinforcement Learning, Supervised Learning, Unsupervised Learning.\n",
    "- ML equivalents like Linear regression, decision trees, random forest and classification are some commonly used techniques that are actually examples of supervised learning which are equivalent of human learning.\n"
   ]
  },
  {
   "cell_type": "markdown",
   "metadata": {},
   "source": [
    "## 3. What is machine learning, and how does it work? What are the key responsibilities of machine learning?\n"
   ]
  },
  {
   "cell_type": "markdown",
   "metadata": {},
   "source": [
    "- Machine learning is a branch of Artificial intelligence (AI) that teaches computers on how to think in a similar way to how humans do, like by Learning and improving upon past experiences.\n",
    "- It works by exploring data and identifying patterns, and involves minimal human intervention.\n",
    "- Key elements are:\n",
    "  - Representation\n",
    "  - Evaluation\n",
    "  - Optimization\n"
   ]
  },
  {
   "cell_type": "markdown",
   "metadata": {},
   "source": [
    "## 4. Define the terms \"penalty\" and \"reward\" in the context of reinforcement learning.\n"
   ]
  },
  {
   "cell_type": "markdown",
   "metadata": {},
   "source": [
    "- A Reinforcement Learning Algorithm, which may also be referred to as an agent, learns by interacting with its environment.\n",
    "- The agent receives rewards by performing correctly and penalties for performing incorrectly.\n",
    "- The agent learns without intervention from a human by maximizing its reward and minimizing its penalty.\n"
   ]
  },
  {
   "cell_type": "markdown",
   "metadata": {},
   "source": [
    "## 5. Explain the term \"learning as a search\"?\n"
   ]
  },
  {
   "cell_type": "markdown",
   "metadata": {},
   "source": [
    "- Learning can be viewed as a search through the space of all sentences in a concept description language for a sentence that best describes the data.\n",
    "- Alternatively, it can be viewed as a search through all hypotheses in a hypothesis space.\n"
   ]
  },
  {
   "cell_type": "markdown",
   "metadata": {},
   "source": [
    "## 6. What are the various goals of machine learning? What is the relationship between these and human learning?\n"
   ]
  },
  {
   "cell_type": "markdown",
   "metadata": {},
   "source": [
    "- The Goal of machine learning, closely coupled with the goal of AI, is to achieve a through understanding about the nature of learning process (both human learning and other forms of learning), about the computational aspects of learning behaviors, and to implant the learning capability in computer systems.\n",
    "- Humans have the ability to learn, however with the progress in artificial intelligence, machine learning has become a resource which can augment or even replace human learning. Learning does not happen all at once, but it builds upon and is shaped by previous knowledge.\n"
   ]
  },
  {
   "cell_type": "markdown",
   "metadata": {},
   "source": [
    "## 7. Illustrate the various elements of machine learning using a real-life illustration.\n"
   ]
  },
  {
   "cell_type": "markdown",
   "metadata": {},
   "source": [
    "- Data\n",
    "- Task\n",
    "- Model\n",
    "- Loss Function\n",
    "- Learning Algorithm\n",
    "- Evaluation\n"
   ]
  },
  {
   "cell_type": "markdown",
   "metadata": {},
   "source": [
    "## 8. Provide an example of the abstraction method.\n"
   ]
  },
  {
   "cell_type": "markdown",
   "metadata": {},
   "source": [
    "- In Machine Learning, Abstraction is supported primarily at the level of modules.\n",
    "- Abstraction is defined as a mapping between formalisms that reduces the computational complexity of the task at stake.\n",
    "- Abstraction means displaying only essential information and hiding the details.\n",
    "- Data abstraction refers to providing only essential information about the data to the outside world, hiding the background details or implementation.\n"
   ]
  },
  {
   "cell_type": "markdown",
   "metadata": {},
   "source": [
    "## 9. What is the concept of generalization? What function does it play in the machine learning process?\n"
   ]
  },
  {
   "cell_type": "markdown",
   "metadata": {},
   "source": [
    "- Generalization refers to your model's ability to adapt properly to new, previously unseen data, drawn from the same distribution as the one used to create the model.\n",
    "- We find the best trade-off between underfitting and overfitting so that a trained model obtains the best performance.\n"
   ]
  },
  {
   "cell_type": "markdown",
   "metadata": {},
   "source": [
    "## 10. What is classification, exactly? What are the main distinctions between classification and regression?\n"
   ]
  },
  {
   "cell_type": "markdown",
   "metadata": {},
   "source": [
    "- Classification refers to a predictive modeling problem where a class label is predicted for a given example of input data.\n",
    "- Classification is the task of predicting a discrete class label. Whereas Regression is the task of predicting a continuous quantity.\n"
   ]
  },
  {
   "cell_type": "markdown",
   "metadata": {},
   "source": [
    "## 11. What is regression, and how does it work? Give an example of a real-world problem that was solved using regression.\n"
   ]
  },
  {
   "cell_type": "markdown",
   "metadata": {},
   "source": [
    "- Regression is a Supervised Machine Learning technique which is used to predict continuous values.\n",
    "- The ultimate goal of a regression algorithm is to plot a best-fit line or a curve between the data.\n",
    "- A simple linear regression real life example could mean you finding a relationship between the revenue and temperature, with a sample size for revenue as the dependent variable.\n",
    "- In case of multiple variable regression, you can find the relationship between temperature, pricing and number of workers to the revenue.\n"
   ]
  },
  {
   "cell_type": "markdown",
   "metadata": {},
   "source": [
    "## 12. Describe the clustering mechanism in detail.\n"
   ]
  },
  {
   "cell_type": "markdown",
   "metadata": {},
   "source": [
    "- Clustering is the task of dividing the population or data points into a number of groups such that data points in the same groups are more similar to other data points in the same group than those in other groups.\n",
    "- In simple words, the aim is to segregate groups with similar traits and assign them into clusters.\n"
   ]
  },
  {
   "cell_type": "markdown",
   "metadata": {},
   "source": [
    "## 13. Make brief observations on two of the following topics:\n",
    "\n",
    "- Machine learning algorithms are used\n",
    "- Studying under supervision\n",
    "- Studying without supervision\n",
    "- Reinforcement learning is a form of learning based on positive reinforcement.\n"
   ]
  },
  {
   "cell_type": "markdown",
   "metadata": {},
   "source": [
    "- Machine learning algorithms are used:\n",
    "\n",
    "  - At its Most basic, Machine Learning uses programmed algorithms that receive and analyses input data to predict output values within an acceptable range.\n",
    "  - As new data is fed to these algorithms, they learn and optimize their operations to improve performance, developing intelligence over time.\n",
    "\n",
    "- Studying Under Supervision:\n",
    "  - In machine learning, there are two important categories- Supervised and Unsupervised learning.Supervised learning, an algorithm learns from a training dataset.\n",
    "  - We know the correct answers or desired output, the algorithm makes predictions using the given dataset and is corrected by the “supervisor”.\n"
   ]
  }
 ],
 "metadata": {
  "kernelspec": {
   "display_name": "Python 3.10.4 64-bit",
   "language": "python",
   "name": "python3"
  },
  "language_info": {
   "name": "python",
   "version": "3.10.4"
  },
  "orig_nbformat": 4,
  "vscode": {
   "interpreter": {
    "hash": "2e4a015a5e8b3d416719d76fc156fe7e163a5f8678adc2f1ead049a4ae2a6091"
   }
  }
 },
 "nbformat": 4,
 "nbformat_minor": 2
}
