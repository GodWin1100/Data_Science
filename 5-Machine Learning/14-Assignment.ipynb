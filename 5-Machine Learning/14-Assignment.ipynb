{
 "cells": [
  {
   "cell_type": "markdown",
   "metadata": {},
   "source": [
    "# Machine Learning Assignment-14\n"
   ]
  },
  {
   "cell_type": "markdown",
   "metadata": {},
   "source": [
    "## 1. What is the concept of supervised learning? What is the significance of the name?\n"
   ]
  },
  {
   "cell_type": "markdown",
   "metadata": {},
   "source": [
    "- Supervised learning, also known as supervised machine learning, is a subcategory of machine learning and artificial intelligence.\n",
    "- Supervised learning uses a training set to teach models to yield the desired output.\n",
    "- This training dataset includes inputs and correct outputs, which allow the model to learn over time.\n",
    "- The algorithm measures its accuracy through the loss function, adjusting until the error has been sufficiently minimized.\n",
    "- It is defined by its use of labeled datasets to train algorithms to classify data or predict outcomes accurately.\n"
   ]
  },
  {
   "cell_type": "markdown",
   "metadata": {},
   "source": [
    "## 2. In the hospital sector, offer an example of supervised learning.\n"
   ]
  },
  {
   "cell_type": "markdown",
   "metadata": {},
   "source": [
    "- Identifying Diseases based on symptoms\n",
    "- Medical Image Diagnosis (ML and DL)\n",
    "- ML based behavioral modification\n"
   ]
  },
  {
   "cell_type": "markdown",
   "metadata": {},
   "source": [
    "## 3. Give three supervised learning examples.\n"
   ]
  },
  {
   "cell_type": "markdown",
   "metadata": {},
   "source": [
    "- Linear Regression\n",
    "- Naive Bayes\n",
    "- Logistic Regression\n",
    "- Decision Trees\n",
    "- Support Vector Machine\n"
   ]
  },
  {
   "cell_type": "markdown",
   "metadata": {},
   "source": [
    "## 4. In supervised learning, what are classification and regression?\n"
   ]
  },
  {
   "cell_type": "markdown",
   "metadata": {},
   "source": [
    "- Classification is about predicting a label and regression is about predicting a quantity.\n",
    "- That classification is the problem of predicting a discrete class label output.\n",
    "- That regression is the problem of predicting a continuous quantity output.\n"
   ]
  },
  {
   "cell_type": "markdown",
   "metadata": {},
   "source": [
    "## 5. Give some popular classification algorithms as examples.\n"
   ]
  },
  {
   "cell_type": "markdown",
   "metadata": {},
   "source": [
    "- Decision Tree Classifier\n",
    "- Naive Bayes Classifier\n",
    "- Support Vector Machine Classifier\n",
    "- Random Forest Classifier\n"
   ]
  },
  {
   "cell_type": "markdown",
   "metadata": {},
   "source": [
    "## 6. Briefly describe the SVM model.\n"
   ]
  },
  {
   "cell_type": "markdown",
   "metadata": {},
   "source": [
    "- Support Vector Machine or SVM is one of the most popular Supervised Learning algorithms, which is used for Classification as well as Regression problems.\n",
    "- Primarily, it is used for (Binary)Classification problems in Machine Learning.\n",
    "- The goal of the SVM algorithm is to create the best line or decision boundary that can segregate n-dimensional space into classes so that we can easily put the new data point in the correct category in the future.\n",
    "- This best decision boundary is called a hyperplane.\n",
    "- SVM chooses the extreme points/vectors that help in creating the hyperplane.\n",
    "- These extreme cases are called as support vectors, and hence algorithm is termed as Support Vector Machine.\n"
   ]
  },
  {
   "cell_type": "markdown",
   "metadata": {},
   "source": [
    "## 7. In SVM, what is the cost of misclassification?\n"
   ]
  },
  {
   "cell_type": "markdown",
   "metadata": {},
   "source": [
    "- Misclassification costs are basically weights applied to specific outcomes.\n",
    "- These weights are factored into the model and may actually change the prediction.\n",
    "- In cost-sensitive learning instead of each instance being either correctly or incorrectly classified, each class (or instance) is given a misclassification cost.\n",
    "- Thus, instead of trying to optimize the accuracy, the problem is then to minimize the total misclassification cost.\n"
   ]
  },
  {
   "cell_type": "markdown",
   "metadata": {},
   "source": [
    "## 8. In the SVM model, define Support Vectors.\n"
   ]
  },
  {
   "cell_type": "markdown",
   "metadata": {},
   "source": [
    "- Support vectors are data points that are closer to the hyperplane and influence the position and orientation of the hyperplane.\n",
    "- Using these support vectors, we maximize the margin of the classifier.\n",
    "- Deleting the support vectors will change the position of the hyperplane.\n",
    "- These are the points that help us build our SVM.\n"
   ]
  },
  {
   "cell_type": "markdown",
   "metadata": {},
   "source": [
    "## 9. In the SVM model, define the kernel.\n"
   ]
  },
  {
   "cell_type": "markdown",
   "metadata": {},
   "source": [
    "- SVM algorithms use a set of mathematical functions that are defined as the kernel.\n",
    "- The function of kernel is to take data as input and transform it into the required form.\n",
    "- These functions can be different types.\n",
    "- For example linear, nonlinear, polynomial, radial basis function (RBF), and sigmoid.\n"
   ]
  },
  {
   "cell_type": "markdown",
   "metadata": {},
   "source": [
    "## 10. What are the factors that influence SVM's effectiveness?\n"
   ]
  },
  {
   "cell_type": "markdown",
   "metadata": {},
   "source": [
    "- Dimension of Data and No. of samples\n",
    "- Amount of data and noise in data set.\n",
    "- Separation between data class.\n"
   ]
  },
  {
   "cell_type": "markdown",
   "metadata": {},
   "source": [
    "## 11. What are the benefits of using the SVM model?\n"
   ]
  },
  {
   "cell_type": "markdown",
   "metadata": {},
   "source": [
    "- SVM works relatively well when there is a clear margin of separation between classes.\n",
    "- SVM is more effective in high dimensional spaces.\n",
    "- SVM is effective in cases where the number of dimensions is greater than the number of samples.\n",
    "- SVM is relatively memory efficient\n"
   ]
  },
  {
   "cell_type": "markdown",
   "metadata": {},
   "source": [
    "## 12. What are the drawbacks of using the SVM model?\n"
   ]
  },
  {
   "cell_type": "markdown",
   "metadata": {},
   "source": [
    "- SVM algorithm is not suitable for large data sets.\n",
    "- SVM does not perform very well when the data set has more noise i.e. target classes are overlapping.\n",
    "- In cases where the number of features for each data point exceeds the number of training data samples, the SVM will under-perform.\n",
    "- As the support vector classifier works by putting data points, above and below the classifying hyperplane there is no probabilistic explanation for the classification.\n"
   ]
  },
  {
   "cell_type": "markdown",
   "metadata": {},
   "source": [
    "## 13. Notes should be written on\n",
    "\n",
    "1. The kNN algorithm has a validation flaw.\n",
    "2. In the kNN algorithm, the k value is chosen.\n",
    "3. A decision tree with inductive bias\n"
   ]
  },
  {
   "cell_type": "markdown",
   "metadata": {},
   "source": [
    "- **The kNN algorithm has a validation flaw.**\n",
    "  - The relatively low accuracy of kNN is caused by several factors.\n",
    "  - One of them is that every characteristic of the method has the same result on calculating distance.\n",
    "  - The solution of this problem is to give weight to each data characteristic.\n",
    "- **In the kNN algorithm, the k value is chosen.**\n",
    "  - The optimal K value usually found is the square root of N, where N is the total number of samples.\n",
    "  - Use an error plot or accuracy plot to find the most favorable K value.\n",
    "  - KNN performs well with multi-label classes, but you must be aware of the outliers.\n",
    "- **A decision tree with inductive bias**\n",
    "  - Shorter trees are preferred over longer ones.\n",
    "  - Trees that place high information gain attributes close to the root are preferred over those that do not.\n"
   ]
  },
  {
   "cell_type": "markdown",
   "metadata": {},
   "source": [
    "## 14. What are some of the benefits of the kNN algorithm?\n"
   ]
  },
  {
   "cell_type": "markdown",
   "metadata": {},
   "source": [
    "- Quick calculation time.\n",
    "- Simple algorithm – to interpret.\n",
    "- Versatile – useful for regression and classification.\n",
    "- High accuracy – you do not need to compare with better-supervised learning models.\n"
   ]
  },
  {
   "cell_type": "markdown",
   "metadata": {},
   "source": [
    "## 15. What are some of the kNN algorithm's drawbacks?\n"
   ]
  },
  {
   "cell_type": "markdown",
   "metadata": {},
   "source": [
    "- Accuracy depends on the quality of the data.\n",
    "- With large data, the prediction stage might be slow.\n",
    "- Sensitive to the scale of the data and irrelevant features.\n",
    "- Require high memory – need to store all of the training data.\n",
    "- Given that it stores all of the training, it can be computationally expensive.\n"
   ]
  },
  {
   "cell_type": "markdown",
   "metadata": {},
   "source": [
    "## 16. Explain the decision tree algorithm in a few words.\n"
   ]
  },
  {
   "cell_type": "markdown",
   "metadata": {},
   "source": [
    "- A decision tree is a graphical representation of all the possible solutions to a decision based on certain conditions.\n",
    "- Tree models where the target variable can take a finite set of values are called classification trees and target variable can take continuous values (numbers) are called regression trees.\n",
    "- Feature split is done based on Entropy or Information Gain and Gini Index.\n",
    "- A decision tree simply asks a question, and based on the answer (Yes/No), it further split the tree into subtrees.\n"
   ]
  },
  {
   "cell_type": "markdown",
   "metadata": {},
   "source": [
    "## 17. What is the difference between a node and a leaf in a decision tree?\n"
   ]
  },
  {
   "cell_type": "markdown",
   "metadata": {},
   "source": [
    "- A decision tree is a flowchart-like structure in which each internal node represents a \"test\" on an attribute (e.g. whether a coin flip comes up heads or tails), each branch represents the outcome of the test, and each leaf node represents a class label (decision taken after computing all attributes).\n",
    "- Leaf node has no further split or sub-tree and are at lowest level.\n"
   ]
  },
  {
   "cell_type": "markdown",
   "metadata": {},
   "source": [
    "## 18. What is a decision tree's entropy?\n"
   ]
  },
  {
   "cell_type": "markdown",
   "metadata": {},
   "source": [
    "- Entropy helps us to build an appropriate decision tree for selecting the best splitter.\n",
    "- Entropy can be defined as a measure of the purity of the sub split.\n",
    "- Entropy always lies between 0 to 1.\n"
   ]
  },
  {
   "cell_type": "markdown",
   "metadata": {},
   "source": [
    "## 19. In a decision tree, define knowledge gain.\n"
   ]
  },
  {
   "cell_type": "markdown",
   "metadata": {},
   "source": [
    "- Information gain is the reduction in entropy or surprise by transforming a dataset and is often used in training decision trees.\n",
    "- Information gain is calculated by comparing the entropy of the dataset before and after a transformation.\n"
   ]
  },
  {
   "cell_type": "markdown",
   "metadata": {},
   "source": [
    "## 20. Choose three advantages of the decision tree approach and write them down.\n"
   ]
  },
  {
   "cell_type": "markdown",
   "metadata": {},
   "source": [
    "- It is simple to understand as it follows the same process which a human follow while making any decision in real-life.\n",
    "- It can be very useful for solving decision-related problems.\n",
    "- It helps to think about all the possible outcomes for a problem.\n",
    "- There is less requirement of data cleaning compared to other algorithms.\n"
   ]
  },
  {
   "cell_type": "markdown",
   "metadata": {},
   "source": [
    "## 21. Make a list of three flaws in the decision tree process.\n"
   ]
  },
  {
   "cell_type": "markdown",
   "metadata": {},
   "source": [
    "- The decision tree contains lots of layers, which makes it complex.\n",
    "- It may have an overfitting issue, which can be resolved using the Random Forest algorithm.\n",
    "- For more class labels, the computational complexity of the decision tree may increase.\n"
   ]
  },
  {
   "cell_type": "markdown",
   "metadata": {},
   "source": [
    "## 22. Briefly describe the random forest model.\n"
   ]
  },
  {
   "cell_type": "markdown",
   "metadata": {},
   "source": [
    "- The random forest is a classification algorithm consisting of many decisions trees.\n",
    "- It uses bagging and feature randomness when building each individual tree to try to create an uncorrelated forest of trees whose prediction by committee is more accurate than that of any individual tree.\n"
   ]
  }
 ],
 "metadata": {
  "language_info": {
   "name": "python"
  },
  "orig_nbformat": 4
 },
 "nbformat": 4,
 "nbformat_minor": 2
}
