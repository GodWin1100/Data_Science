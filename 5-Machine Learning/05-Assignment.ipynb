{
 "cells": [
  {
   "cell_type": "markdown",
   "metadata": {},
   "source": [
    "# Machine Learning Assignment-05\n"
   ]
  },
  {
   "cell_type": "markdown",
   "metadata": {},
   "source": [
    "## 1. What are the key tasks that machine learning entails? What does data pre-processing imply?\n"
   ]
  },
  {
   "cell_type": "markdown",
   "metadata": {},
   "source": [
    "- There are Five core tasks in the common ML workflow:\n",
    "  - Get Data: The first step in the Machine Learning process is getting data.\n",
    "  - Cleaning, Preparing & Manipulating Data: Real-world data often has unorganized, missing, or noisy elements.\n",
    "  - Train Model: This step is where the magic happens!\n",
    "  - Testing and evaluation of Model.\n",
    "  - Hyper-tuning of model.\n",
    "- Data preprocessing involves transforming raw data to well-formed data sets so that data mining analytics can be applied.\n",
    "- Preprocessing involves both data validation and data imputation\n",
    "- The Goal of Data Validation is to assess whether the data in question is both complete and accurate.\n",
    "- The Goal of Data Imputation is to correct errors and input missing values, Either Manually or Automatically through business process automation (BPA) programming.\n"
   ]
  },
  {
   "cell_type": "markdown",
   "metadata": {},
   "source": [
    "## 2. Describe quantitative and qualitative data in depth. Make a distinction between the two.\n"
   ]
  },
  {
   "cell_type": "markdown",
   "metadata": {},
   "source": [
    "- **Quantitative Data Type:** This Type Of Data Type Consists Of Numerical Values. Anything Which Is Measured By Numbers. E.G., Profit, Quantity Sold, Height, Weight, Temperature, Etc. This Is Again Of Two Types\n",
    "  - **Discrete Data Type:** The Numeric Data Which Have Discrete Values Or Whole Numbers. This Type Of Variable Value If Expressed In Decimal Format Will Have No Proper Meaning. Their Values Can Be Counted. E.G.: – No. Of Cars You Have, No. Of Marbles In Containers, Students In A Class, Etc.\n",
    "  - **Continuous Data Type:** The Numerical Measures Which Can Take The Value Within A Certain Range. This Type Of Variable Value If Expressed In Decimal Format Has True Meaning. Their Values Can Not Be Counted But Measured. The Value Can Be Infinite E.G.: Height, Weight, Time, Area, Distance, Measurement Of Rainfall, Etc.\n",
    "\n",
    "---\n",
    "\n",
    "- **Qualitative Data Type:** These Are The Data Types That Cannot Be Expressed In Numbers. This Describes Categories Or Groups And Is Hence Known As The Categorical Data Type. This Can Be Divided Into:-\n",
    "  - **Structured Data:** This Type Of Data Is Either Number Or Words. This Can Take Numerical Values But Mathematical Operations Cannot Be Performed On It. This Type Of Data Is Expressed In Tabular Format. E.G.) Sunny=1, Cloudy=2, Windy=3 Or Binary Form Data Like 0 Or1, Good Or Bad, Etc.\n",
    "  - **Unstructured Data:** This Type Of Data Does Not Have The Proper Format And Therefore Known As Unstructured Data.This Comprises Textual Data, Sounds, Images, Videos, Etc.\n"
   ]
  },
  {
   "cell_type": "markdown",
   "metadata": {},
   "source": [
    "## 3. Create a basic data collection that includes some sample records. Have at least one attribute from each of the machine learning data types.\n"
   ]
  },
  {
   "cell_type": "markdown",
   "metadata": {},
   "source": [
    "- The following is a basic data collection that includes some sample records.\n",
    "\n",
    "  1. **Determine What Information You Want to Collect:**\n",
    "\n",
    "     - The first thing you need to do is choose what details you want to collect.\n",
    "     - You’ll need to decide what topics the information will cover, who you want to collect it from and how much data you need.\n",
    "     - As an example, you may decide to collect data about which type of articles are most popular on your website among visitors who are between the ages of 18 and 34.\n",
    "     - You might also choose to gather information about the average age of all of the customers who bought a product from your company within the last month.\n",
    "\n",
    "       ***\n",
    "\n",
    "  2. **Set a Timeframe for Data Collection:**\n",
    "\n",
    "     - In the early stages of your planning process, you should establish a timeframe for your data collection.\n",
    "     - You may want to gather some types of data continuously.\n",
    "     - When it comes to transactional data and website visitor data, for example, you may want to set up a method for tracking that data over the long term.\n",
    "     - If you’re tracking data for a specific campaign, however, you’ll track it over a defined period. In these instances, you’ll have a schedule for when you’ll start and end your data collection.\n",
    "\n",
    "       ***\n",
    "\n",
    "  3. **Determine Your Data Collection Method:**\n",
    "\n",
    "     - Choose the data collection method that will make up the core of your data-gathering strategy.\n",
    "     - To select the right collection method, you’ll need to consider the type of information you want to collect, the timeframe over which you’ll obtain it and the other aspects you determined.\n",
    "\n",
    "       ***\n",
    "\n",
    "  4. **Collect the Data:**\n",
    "\n",
    "     - Implement data collection strategy and start collecting data.\n",
    "     - You can store and organize your data in your storage.\n",
    "     - It may be useful to create a schedule for when you will check in with how your data collection is proceeding, especially if you are collecting data continuously.\n",
    "     - You may want to make updates to your plan as conditions change and you get new information.\n",
    "\n",
    "       ***\n",
    "\n",
    "  5. **Analyze the Data and Implement Your Findings:**\n",
    "     - Once you’ve collected all of your data, it’s time to analyze it and organize your findings.\n",
    "     - The analysis phase is crucial because it turns raw data into valuable insights that you can use to enhance your marketing strategies, products and business decisions.\n",
    "\n",
    "---\n",
    "\n",
    "- Data Types as per Machine Learning Algorithm\n",
    "  1. **Regression**\n",
    "     - Algorithm will yield some numeric value.\n",
    "     - Requires all feature in numeric type.\n",
    "  2. **Classification**\n",
    "     - Requires target feature with class label.\n",
    "     - Label can be binary class or multi-class.\n",
    "  3. **Clustering**\n",
    "     - Main difference from classification tasks is that you don’t actually know what the groups and the principles of their division are.\n",
    "     - Algorithm find the rules of classification and number of classes from feature itself.\n",
    "  4. **Ranking**\n",
    "     - Some machine learning algorithms just rank objects by a number of features.\n",
    "     - Ranking is actively used to recommend movies in video streaming services or show the products that a customer might purchase with a high probability based on his or her previous search and purchase activities.\n"
   ]
  },
  {
   "cell_type": "markdown",
   "metadata": {},
   "source": [
    "## 4. What are the various causes of machine learning data issues? What are the ramifications?\n"
   ]
  },
  {
   "cell_type": "markdown",
   "metadata": {},
   "source": [
    "- Noisy data, dirty data, and incomplete data are the quintessential enemies of ideal Machine Learning. The solution to this conundrum is to take the time to evaluate and scope data with meticulous data governance, data integration, and data exploration until you get clear data.\n",
    "- Ramifications or major issues in machine learning are:\n",
    "  - Machine learning systems rely on data.\n",
    "  - The complexity and quality trade-off.\n",
    "  - Sampling bias in data.\n",
    "  - Changing expectations and concept drift.\n",
    "  - Monitoring and maintenance.\n"
   ]
  },
  {
   "cell_type": "markdown",
   "metadata": {},
   "source": [
    "## 5. Demonstrate various approaches to categorical data exploration with appropriate examples.\n"
   ]
  },
  {
   "cell_type": "markdown",
   "metadata": {},
   "source": [
    "- Unique Value Count\n",
    "  - One of the first things which can be useful during data exploration is to see how many unique values are there in categorical columns.\n",
    "- Frequency Count\n",
    "  - Frequency count is finding how frequent individual values occur in column.\n",
    "- Cramer-V correlation between all Categorical columns\n",
    "  - Cramer-V is a very useful data exploration technique to find the correlation between categorical variables.\n",
    "  - And the result of Cramer-V can also be visualised using heat-map.\n",
    "- Correlation between two specific categorical columns\n",
    "  - Once you have checked correlation between categorical columns using Cramer-V correlation matrix, you can further explore correlation between any two categorical columns.\n",
    "  - This can be done using a bubble plot between the two columns with size of the bubble indicating the number of occurrences\n",
    "- Aside from this if categorical column is paired with numerical column then numerical analysis can help where numerical data is segregated/separated based on categories.\n"
   ]
  },
  {
   "cell_type": "markdown",
   "metadata": {},
   "source": [
    "## 6. How would the learning activity be affected if certain variables have missing values? Having said that, what can be done about it?\n"
   ]
  },
  {
   "cell_type": "markdown",
   "metadata": {},
   "source": [
    "- Missing data can reduce the statistical power of a study and can produce biased estimates, leading to invalid conclusions.\n",
    "- Before looking for any insights from the data, we have to first perform preprocessing tasks which then only allow us to use that data for further observation and train our machine learning model.\n",
    "- Missing value in a dataset is a very common phenomenon in the reality.\n",
    "- Missing value correction is required to reduce bias and to produce powerful suitable models.\n",
    "- Most of the algorithms can’t handle missing data, thus you need to act in some way to simply not let your code crash. So, let’s begin with the methods to solve the problem.\n",
    "- Methods for dealing with missing values.\n",
    "  - Drop the data if missing value is minimal.\n",
    "  - Impute missing value with mean, median or mode in case of most occurring category or add new category as unknown.\n",
    "  - Missing value can be imputed with KNN or regression algorithm.\n"
   ]
  },
  {
   "cell_type": "markdown",
   "metadata": {},
   "source": [
    "## 7. Describe the various methods for dealing with missing data values in depth.\n"
   ]
  },
  {
   "cell_type": "markdown",
   "metadata": {},
   "source": [
    "- **Delete the observations:**\n",
    "  - If there is a large number of observations in the dataset, where all the classes to be predicted are sufficiently represented in the training data, then try deleting the missing value observations, which would not bring significant change in your feed to your model.\n",
    "  - For Example Implement this method in a given dataset, we can delete the entire row which contains missing values.\n",
    "- **Replace missing values with the most frequent value:**\n",
    "  - You can always impute them based on Mode in the case of categorical variables, just make sure you don’t have highly skewed class distributions.\n",
    "- **Develop a model to predict missing values:**\n",
    "  - One smart way of doing this could be training a classifier over your columns with missing values as a dependent variable against other features of your data set and trying to impute based on the newly trained classifier.\n"
   ]
  },
  {
   "cell_type": "markdown",
   "metadata": {},
   "source": [
    "## 8. What are the various data pre-processing techniques? Explain dimensionality reduction and function selection in a few words.\n"
   ]
  },
  {
   "cell_type": "markdown",
   "metadata": {},
   "source": [
    "- Various data pre-processing techniques:\n",
    "  - Data cleaning.\n",
    "  - Dimensionality Reduction.\n",
    "  - Feature Engineering.\n",
    "  - Sampling Data.\n",
    "  - Data Transformation.\n",
    "  - Imbalanced Data.\n",
    "\n",
    "---\n",
    "\n",
    "- **Dimensionality Reduction:**\n",
    "  - This reduce the size of data by encoding mechanisms.\n",
    "  - It can be lossy or lossless.\n",
    "  - If after reconstruction from compressed data, original data can be retrieved, such reduction are called lossless reduction else it is called lossy reduction.\n",
    "  - The two effective methods of dimensionality reduction are: Wavelet transforms and PCA (Principal Component Analysis).\n",
    "- **Feature selection:**\n",
    "  - It is simply selecting and excluding given features without changing them.\n"
   ]
  },
  {
   "cell_type": "markdown",
   "metadata": {},
   "source": [
    "## 9. Answer the following\n",
    "\n",
    "1. What is the IQR? What criteria are used to assess it?\n",
    "2. Describe the various components of a box plot in detail? When will the lower whisker surpass the upper whisker in length? How can box plots be used to identify outliers?\n"
   ]
  },
  {
   "cell_type": "markdown",
   "metadata": {},
   "source": [
    "- Q1 is the first quartile of the data, i.e., to say 25% of the data lies between minimum and Q1.\n",
    "- Q3 is the third quartile of the data, i.e., to say 75% of the data lies between minimum and Q3.\n",
    "- The difference between Q3 and Q1 is called the Inter-Quartile Range or IQR.\n",
    "\n",
    "---\n",
    "\n",
    "- Minimum is the minimum value in the dataset\n",
    "- Maximum is the maximum value in the dataset.\n",
    "- So the difference between the two tells us about the range of dataset.\n",
    "- The median is the median (or centre point), also called second quartile, of the data (resulting from the fact that the data is ordered).\n",
    "- Q1 is the first quartile of the data, i.e., to say 25% of the data lies between minimum and Q1.\n",
    "- Q3 is the third quartile of the data, i.e., to say 75%\n",
    "- When the data is left skewed, lower whisker will be longer than upper whisker.\n",
    "- The difference between Q3 and Q1 is called the Inter-Quartile Range or IQR.\n",
    "- To detect the outliers this method is used, we define a new range, let’s call it decision range, and any data point lying outside this range is considered as outlier and is accordingly dealt with. The range is as given below:\n",
    "  ```\n",
    "  Lower Bound: (Q1 - 1.5 * IQR)\n",
    "  Upper Bound: (Q3 + 1.5 * IQR)\n",
    "  ```\n"
   ]
  },
  {
   "cell_type": "markdown",
   "metadata": {},
   "source": [
    "## 10. Make brief notes on any two of the following:\n",
    "\n",
    "- Data collected at regular intervals\n",
    "- The gap between the quartiles\n",
    "- Use a cross-tab\n"
   ]
  },
  {
   "cell_type": "markdown",
   "metadata": {},
   "source": [
    "- **Data collected at regular intervals:**\n",
    "  - Interval data is one of the two types of discrete data.\n",
    "  - An example of interval data is the data collected on a thermometer—its gradation or markings are equidistant.\n",
    "  - Unlike ordinal data, interval data always take numerical values where the distance between two points on the scale is standardised and equal.\n",
    "- **The gap between the quartiles:**\n",
    "  - Q1 is the first quartile of the data, i.e., to say 25% of the data lies between minimum and Q1.\n",
    "  - Q3 is the third quartile of the data, i.e., to say 75% of the data lies between minimum and Q3.\n",
    "  - The difference between Q3 and Q1 is called the Inter-Quartile Range or IQR.\n"
   ]
  },
  {
   "cell_type": "markdown",
   "metadata": {},
   "source": [
    "## 11. Make a comparison between:\n",
    "\n",
    "- Data with nominal and ordinal values\n",
    "- Histogram and box plot\n",
    "- The average and median\n"
   ]
  },
  {
   "cell_type": "markdown",
   "metadata": {},
   "source": [
    "- **The average and median:**\n",
    "  - The mean (informally, the “average“) is found by adding all of the numbers together and dividing by the number of items in the set: 10 + 10 + 20 + 40 + 70 / 5 = 30.\n",
    "  - The median is found by ordering the set from lowest to highest and finding the exact middle. The median is just the middle number: 20\n",
    "- **Histogram and barplot:**\n",
    "  - Histograms and box plots are very similar in that they both help to visualize and describe numeric data.\n",
    "  - Although histograms are better in determining the underlying distribution of the data, box plots allow you to compare multiple data sets better than histograms as they are less detailed and take up less space.\n"
   ]
  }
 ],
 "metadata": {
  "kernelspec": {
   "display_name": "Python 3.10.4 64-bit",
   "language": "python",
   "name": "python3"
  },
  "language_info": {
   "name": "python",
   "version": "3.10.4"
  },
  "orig_nbformat": 4,
  "vscode": {
   "interpreter": {
    "hash": "2e4a015a5e8b3d416719d76fc156fe7e163a5f8678adc2f1ead049a4ae2a6091"
   }
  }
 },
 "nbformat": 4,
 "nbformat_minor": 2
}
