{
 "cells": [
  {
   "cell_type": "markdown",
   "metadata": {},
   "source": [
    "# Machine Learning Assignment-17\n"
   ]
  },
  {
   "cell_type": "markdown",
   "metadata": {},
   "source": [
    "## 1. Using a graph to illustrate slope and intercept, define basic linear regression.\n"
   ]
  },
  {
   "cell_type": "markdown",
   "metadata": {},
   "source": [
    "- The equation $y=mx+c$ represents a straight line graphically, where $m$ is its slope/gradient and $c$ its x-intercept.\n",
    "- ![Linear Regression](./a17-1.png)\n"
   ]
  },
  {
   "cell_type": "markdown",
   "metadata": {},
   "source": [
    "## 2. In a graph, explain the terms rise, run, and slope.\n"
   ]
  },
  {
   "cell_type": "markdown",
   "metadata": {},
   "source": [
    "- `Rise` means how many units you move up or down from point to point. On the graph that would be a change in the $y$ values.\n",
    "- `Run` means how far left or right you move from point to point.\n",
    "- The `slope` of a line refers to its direction and steepness.\n"
   ]
  },
  {
   "cell_type": "markdown",
   "metadata": {},
   "source": [
    "## 3. Use a graph to demonstrate slope, linear positive slope, and linear negative slope, as well as the different conditions that contribute to the slope.\n"
   ]
  },
  {
   "cell_type": "markdown",
   "metadata": {},
   "source": [
    "- The steepness of a hill is called a slope. The same goes for the steepness of a line.\n",
    "- The slope is defined as the ratio of the vertical change between two points, the rise, to the horizontal change between the same two points, the run.\n",
    "- $\\text{Slope}=\\frac{\\text{Rise}}{\\text{Run}}=\\frac{\\text{Change in Y}}{\\text{Change in X}}$\n",
    "- The slope of a line is usually represented by the letter $m$.\n",
    "- ($x_1, y_1$) represents the first point whereas ($x_2, y_2$) represents the second point.\n",
    "- $m=\\frac{Y_2−Y_1}{X_2−X_1}$\n",
    "- It is important to keep the x-and y-coordinates in the same order in both the numerator and the denominator otherwise you will get the wrong slope.\n",
    "\n",
    "![image.png](./a17-3.png)\n"
   ]
  },
  {
   "cell_type": "markdown",
   "metadata": {},
   "source": [
    "## 4. Use a graph to demonstrate curve linear negative slope and curve linear positive slope.\n"
   ]
  },
  {
   "cell_type": "markdown",
   "metadata": {},
   "source": [
    "- Curve Linear Negative Slope  \n",
    "  ![negative slope](./a17-4-.png)\n",
    "- Both of the curves are downward sloping.\n",
    "- Straight lines that are downward sloping have negative slopes; curves that are downward sloping also have negative slopes.\n",
    "- The slope changes from point to point on a curve, but all of the slopes along these two curves will be negative.\n",
    "\n",
    "---\n",
    "\n",
    "- Curve Linear Positive Slope  \n",
    "  ![positive slope](./a17-4%2B.png)\n",
    "- Both graphs, show curves sloping upward from left to right.\n",
    "- As with upward sloping straight lines, we can say that generally the slope of the curve is positive.\n",
    "- While the slope will differ at each point on the curve, it will always be positive\n"
   ]
  },
  {
   "cell_type": "markdown",
   "metadata": {},
   "source": [
    "## 5. Use a graph to show the maximum and low points of curves.\n"
   ]
  },
  {
   "cell_type": "markdown",
   "metadata": {},
   "source": [
    "- Maximum and minimum points on a graph are found at points where the slope of the curve is zero.\n",
    "\n",
    "---\n",
    "\n",
    "- A **maximum point** is the point on the curve with the highest y-coordinate and a slope of zero.  \n",
    "  ![max point](./a17-5max.png)\n",
    "- Point A is at the maximum point for this curve. Point A is at the highest point on this curve. It has a greater y-coordinate value than any other point on the curve and has a slope of zero.\n",
    "\n",
    "---\n",
    "\n",
    "- **A minimum point** is the point on the curve with the lowest y-coordinate and a slope of zero.  \n",
    "  ![min point](./a17-5min.png)\n",
    "- Point A is at the minimum point for this curve. Point A is at the lowest point on this curve. It has a lower y-coordinate value than any other point on the curve and has a slope of zero.\n"
   ]
  },
  {
   "cell_type": "markdown",
   "metadata": {},
   "source": [
    "## 6. Use the formulas for a and b to explain ordinary least squares.\n"
   ]
  },
  {
   "cell_type": "markdown",
   "metadata": {},
   "source": [
    "- $y = ax + b$ where $x$ and $y$ denotes observed variables, $a$ is slope and $b$ is intercept.\n"
   ]
  },
  {
   "cell_type": "markdown",
   "metadata": {},
   "source": [
    "## 7. Provide a step-by-step explanation of the OLS algorithm.\n"
   ]
  },
  {
   "cell_type": "markdown",
   "metadata": {},
   "source": [
    "- Notations\n",
    "  - $x$ independent variable\n",
    "  - $\\bar{x}$ is the mean of $x$\n",
    "  - $y$ dependent variable\n",
    "  - $\\bar{y}$ is the mean of $y$\n",
    "  - $\\hat{y}$ is the estimated of $y$, that is represented by the regression model.\n",
    "  - $n$ is the number of observation data\n",
    "- Steps\n",
    "  1. Set a difference between dependent variable and its estimation: $(y-\\hat{y})$\n",
    "  2. Square the difference: $(y-\\hat{y})^2$\n",
    "  3. Take summation for all data $S=\\sum(y-\\hat{y})^2=\\sum(y-\\alpha x-b)^2$\n",
    "  4. To get the parameters that make the sum of square difference become minimum, take partial derivative for each parameter and equate it with zero, $\\frac{dS}{d\\alpha}=0$\n"
   ]
  },
  {
   "cell_type": "markdown",
   "metadata": {},
   "source": [
    "## 8. What is the regression's standard error? To represent the same, make a graph.\n"
   ]
  },
  {
   "cell_type": "markdown",
   "metadata": {},
   "source": [
    "- The standard error of the regression $(S)$, also known as the standard error of the estimate, represents the average distance that the observed values fall from the regression line.\n",
    "- Conveniently, it tells you how wrong the regression model is on average using the units of the response variable.\n",
    "- From the graph we can see Example 2 is covering most of the point with less error compare to Example 1.\n",
    "  ![standard error graph](./a17-8.png)\n"
   ]
  },
  {
   "cell_type": "markdown",
   "metadata": {},
   "source": [
    "## 9. Provide an example of multiple linear regression.\n"
   ]
  },
  {
   "cell_type": "markdown",
   "metadata": {},
   "source": [
    "- Multiple Linear Regression is one of the important regression algorithms which models the linear relationship between a single dependent continuous variable and more than one independent variable.\n",
    "- Example: Prediction of CO2 emission based on engine size and number of cylinders in a car.\n"
   ]
  },
  {
   "cell_type": "markdown",
   "metadata": {},
   "source": [
    "## 10. Describe the regression analysis assumptions and the BLUE principle.\n"
   ]
  },
  {
   "cell_type": "markdown",
   "metadata": {},
   "source": [
    "- There are four assumptions associated with a linear regression model:\n",
    "- **Linearity:** The relationship between X and the mean of Y is linear.\n",
    "- **Homoscedasticity:** The variance of residual is the same for any value of X.\n",
    "- **Independence:** Observations are independent of each other.\n",
    "- **BLUE:** is an acronym for the following: _Best Linear Unbiased Estimator_.\n",
    "  - In this context, the definition of “best” refers to the minimum variance or the narrowest sampling distribution.\n"
   ]
  },
  {
   "cell_type": "markdown",
   "metadata": {},
   "source": [
    "## 11. Describe two major issues with regression analysis.\n"
   ]
  },
  {
   "cell_type": "markdown",
   "metadata": {},
   "source": [
    "- It involves very lengthy and complicated procedure of calculations and analysis.\n",
    "- It cannot be used in case of qualitative phenomenon viz. honesty, crime etc.\n",
    "- The overall idea of regression is to examine two things:\n",
    "  1. Does a set of predictor variables do a good job in predicting an outcome (dependent) variable?\n",
    "  2. Which variables in particular are significant predictors of the outcome variable, and in what way do they–indicated by the magnitude and sign of the beta\n",
    "- Issues are:\n",
    "  - Nonconstant Variance and Weighted Least Squares\n",
    "  - Autocorrelation and Time Series Methods\n",
    "  - Regression with Autoregressive Errors\n",
    "  - Multicollinearity\n",
    "  - Uncorrelated Predictors\n",
    "  - Highly Correlated Predictors\n",
    "  - Detecting Multicollinearity Using Variance Inflation Factors\n",
    "  - Reducing Data-based Multicollinearity\n",
    "  - Reducing Structural Multicollinearity\n"
   ]
  },
  {
   "cell_type": "markdown",
   "metadata": {},
   "source": [
    "## 12. How can the linear regression model's accuracy be improved?\n"
   ]
  },
  {
   "cell_type": "markdown",
   "metadata": {},
   "source": [
    "- Different Methods to Boost the Accuracy of a Model :\n",
    "  - Add more data. Having more data is always a good idea.\n",
    "  - Treat missing and Outlier values.\n",
    "  - Feature Engineering.\n",
    "  - Feature Selection.\n",
    "  - Multiple algorithms.\n",
    "  - Algorithm Tuning.\n",
    "  - Ensemble methods.\n"
   ]
  },
  {
   "cell_type": "markdown",
   "metadata": {},
   "source": [
    "## 13. Using an example, describe the polynomial regression model in detail.\n"
   ]
  },
  {
   "cell_type": "markdown",
   "metadata": {},
   "source": [
    "- In statistics, polynomial regression is a form of regression analysis in which the relationship between the independent variable $x$ and the dependent variable $y$ is modelled as an $n^{th}$ degree polynomial in $x$.\n",
    "- For this reason, polynomial regression is considered to be a special case of multiple linear regression.\n",
    "- Polynomial regression is one of the machine learning algorithms used for making predictions.\n",
    "- For example, it is widely applied to predict the spread rate of COVID-19 and other infectious diseases.\n"
   ]
  },
  {
   "cell_type": "markdown",
   "metadata": {},
   "source": [
    "## 14. Provide a detailed explanation of logistic regression.\n"
   ]
  },
  {
   "cell_type": "markdown",
   "metadata": {},
   "source": [
    "- Logistic regression is a statistical analysis method used to predict a data value based on prior observations of a data set.\n",
    "- Based on historical data about earlier outcomes involving the same input criteria, it then scores new cases on their probability of falling into a particular outcome category.\n"
   ]
  },
  {
   "cell_type": "markdown",
   "metadata": {},
   "source": [
    "## 15. What are the logistic regression assumptions?\n"
   ]
  },
  {
   "cell_type": "markdown",
   "metadata": {},
   "source": [
    "- Basic assumptions that must be met for logistic regression include:-\n",
    "  - independence of errors,\n",
    "  - linearity in the logit for continuous variables,\n",
    "  - absence of multicollinearity, and\n",
    "  - lack of strongly influential outliers.\n"
   ]
  },
  {
   "cell_type": "markdown",
   "metadata": {},
   "source": [
    "## 16. Go through the details of maximum likelihood estimation.\n"
   ]
  },
  {
   "cell_type": "markdown",
   "metadata": {},
   "source": [
    "- Maximum likelihood estimation (MLE) is a method of estimating the parameters of an assumed probability distribution, given some observed data.\n",
    "- This is achieved by maximizing a likelihood function so that, under the assumed statistical model, the observed data is most probable.\n",
    "- Parameters could be defined as blueprints for the model because based on that the algorithm works.\n",
    "- MLE is a widely used technique in machine learning, time series, panel data and discrete data.0\n"
   ]
  }
 ],
 "metadata": {
  "kernelspec": {
   "display_name": "Python 3.10.4 64-bit",
   "language": "python",
   "name": "python3"
  },
  "language_info": {
   "name": "python",
   "version": "3.10.4"
  },
  "orig_nbformat": 4,
  "vscode": {
   "interpreter": {
    "hash": "2e4a015a5e8b3d416719d76fc156fe7e163a5f8678adc2f1ead049a4ae2a6091"
   }
  }
 },
 "nbformat": 4,
 "nbformat_minor": 2
}
