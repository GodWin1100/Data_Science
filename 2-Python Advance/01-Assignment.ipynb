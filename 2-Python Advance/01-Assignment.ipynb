{
 "cells": [
  {
   "cell_type": "markdown",
   "metadata": {},
   "source": [
    "# Python Advance Assignment-01"
   ]
  },
  {
   "cell_type": "markdown",
   "metadata": {},
   "source": [
    "## 1. What is the purpose of Python's OOP?\n",
    "\n",
    "\n",
    "\n"
   ]
  },
  {
   "cell_type": "markdown",
   "metadata": {},
   "source": [
    "- In Python, object-oriented Programming (OOPs) is a programming paradigm that uses objects and classes in programming. \n",
    "- It focuses on creating reusable code also known as **DRY** (Don't Repeat Yourself).\n",
    "- 7 Principle of OOPs are:\n",
    "    1. Class\n",
    "    2. Object\n",
    "    3. Method\n",
    "    4. Inheritance\n",
    "    5. Polymorphism\n",
    "    6. Data Abstraction\n",
    "    7. Encapsulation"
   ]
  },
  {
   "cell_type": "markdown",
   "metadata": {},
   "source": [
    "## 2. Where does an inheritance search look for an attribute?\n",
    "\n",
    "\n",
    "\n"
   ]
  },
  {
   "cell_type": "markdown",
   "metadata": {},
   "source": [
    "Inheritance search is simply a search of the tree from bottom to top looking for the lowest occurrence of an attribute name."
   ]
  },
  {
   "cell_type": "markdown",
   "metadata": {},
   "source": [
    "## 3. How do you distinguish between a class object and an instance object?\n",
    "\n",
    "\n",
    "\n"
   ]
  },
  {
   "cell_type": "markdown",
   "metadata": {},
   "source": [
    "- Class object are defined at the time of declaring class whereas instance object is instantiated whenever Class object is called.\n",
    "- Class variables affect the entire class. Thus, when a class variable is updated, all the instances are updated.\n",
    "- All the instances take the same value for class variables at first but we can update them for an instance later on. The changes we make on an instance do not affect the value of class variables for other instances."
   ]
  },
  {
   "cell_type": "markdown",
   "metadata": {},
   "source": [
    "## 4. What makes the first argument in a class’s method function special?\n",
    "\n",
    "\n",
    "\n"
   ]
  },
  {
   "cell_type": "markdown",
   "metadata": {},
   "source": [
    "- The first parameter of methods is the instance the method is called on it refers to the class itself. It's the convention to name first parameter as `self` but it's not special to code, it's just another object name.\n",
    "- Assigning to an instance attribute, that Class instance needs to know what instance to assign to, and that's why it needs `self`."
   ]
  },
  {
   "cell_type": "markdown",
   "metadata": {},
   "source": [
    "## 5. What is the purpose of the `__init__` method?\n",
    "\n",
    "\n",
    "\n"
   ]
  },
  {
   "cell_type": "markdown",
   "metadata": {},
   "source": [
    "- `__init__` is the reserved method in python which serves the role of constructor.\n",
    "- Its used to initialize instance object variables if they are expected at the time of object creation."
   ]
  },
  {
   "cell_type": "markdown",
   "metadata": {},
   "source": [
    "## 6. What is the process for creating a class instance?\n",
    "\n",
    "\n",
    "\n"
   ]
  },
  {
   "cell_type": "markdown",
   "metadata": {},
   "source": [
    "- To create instances of a class, you can call the class using class name and pass in required arguments its `__init__` method requires.\n",
    "```py\n",
    "class Test:\n",
    "  def __init__(self,subject):\n",
    "    self.subject=subject\n",
    "\n",
    "math=Test(\"math\") # here math is instance of class Test\n",
    "```"
   ]
  },
  {
   "cell_type": "markdown",
   "metadata": {},
   "source": [
    "## 7. What is the process for creating a class?\n",
    "\n",
    "\n",
    "\n"
   ]
  },
  {
   "cell_type": "markdown",
   "metadata": {},
   "source": [
    "In python a class is created by the keyword `class`."
   ]
  },
  {
   "cell_type": "markdown",
   "metadata": {},
   "source": [
    "## 8. How would you define the superclasses of a class?\n"
   ]
  },
  {
   "cell_type": "markdown",
   "metadata": {},
   "source": [
    "By passing the class instance of `A` as an argument to another class `B`. class `A` is now superclass.\n",
    "```py\n",
    "class Wheel: # Superclass\n",
    "  pass\n",
    "\n",
    "class Bike(Wheel):\n",
    "  pass\n",
    "```"
   ]
  }
 ],
 "metadata": {
  "kernelspec": {
   "display_name": "Python 3.10.4 64-bit",
   "language": "python",
   "name": "python3"
  },
  "language_info": {
   "name": "python",
   "version": "3.10.4"
  },
  "orig_nbformat": 4,
  "vscode": {
   "interpreter": {
    "hash": "2e4a015a5e8b3d416719d76fc156fe7e163a5f8678adc2f1ead049a4ae2a6091"
   }
  }
 },
 "nbformat": 4,
 "nbformat_minor": 2
}
