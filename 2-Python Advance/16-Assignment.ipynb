{
 "cells": [
  {
   "cell_type": "markdown",
   "metadata": {},
   "source": [
    "# Python Advance Assignment-16\n"
   ]
  },
  {
   "cell_type": "markdown",
   "metadata": {},
   "source": [
    "## Q1. What is the benefit of regular expressions?\n"
   ]
  },
  {
   "cell_type": "markdown",
   "metadata": {},
   "source": [
    "- Regular Expressions, also known as regex or regexp, it's used to match strings of text such as particular characters, words, or patterns of characters.\n",
    "- It means that we can match and extract any string pattern from the text with the help of regular expressions.\n",
    "- Operations such as finding, replacing and formatting the data is possible using Regular Expressions.\n"
   ]
  },
  {
   "cell_type": "markdown",
   "metadata": {},
   "source": [
    "## Q2. Describe the difference between the effects of `\"(ab)c+\"` and `\"a(bc)+.\"`. Which of these, if any, is the unqualified pattern `\"abc+\"`?\n"
   ]
  },
  {
   "cell_type": "markdown",
   "metadata": {},
   "source": [
    "- `a(bc)+.` is unqualified as `(bc)` can be present for once or more than once which does not match `abc+`.\n",
    "- `(ab)c+` is qualified as `(ab)` group will match and `c+` will match if there's 1 or more than 1 occurrence of `c` same as `abc+`\n"
   ]
  },
  {
   "cell_type": "markdown",
   "metadata": {},
   "source": [
    "## Q3. How much do you need to use the following sentence while using regular expressions? `import re`\n"
   ]
  },
  {
   "cell_type": "markdown",
   "metadata": {},
   "source": [
    "- `re` is the package/module which allows python user to use regex.\n",
    "- Hence whenever we want to use regex we need to use `import re`\n"
   ]
  },
  {
   "cell_type": "markdown",
   "metadata": {},
   "source": [
    "## Q4. Which characters have special significance in square brackets when expressing a range, and under what circumstances?\n"
   ]
  },
  {
   "cell_type": "markdown",
   "metadata": {},
   "source": [
    "- In square brackets we can use the vast majority of special characters without escaping:\n",
    "  - Symbols `. + ( )` never need escaping.\n",
    "  - A hyphen `-` is not escaped in the beginning or the end (where it does not define a range).\n",
    "  - A caret `^` is only escaped in the beginning (where it means exclusion).\n",
    "  - The closing square bracket `]` is always escaped (if we need to look for that symbol).\n",
    "- All special characters are allowed without escaping, except when they mean something for square brackets.\n",
    "- the only special characters or metacharacters inside a character class are the closing bracket `]`, the backslash `\\`, the caret `^`, and the hyphen `-`\n"
   ]
  },
  {
   "cell_type": "markdown",
   "metadata": {},
   "source": [
    "## Q5. How does compiling a regular-expression object benefit you?\n"
   ]
  },
  {
   "cell_type": "markdown",
   "metadata": {},
   "source": [
    "- We can compile a regular expression pattern into pattern objects, which can be used for pattern matching.\n",
    "- It also helps to search a pattern again without rewriting it.\n"
   ]
  },
  {
   "cell_type": "markdown",
   "metadata": {},
   "source": [
    "## Q6. What are some examples of how to use the match object returned by `re.match` and `re.search`?\n"
   ]
  },
  {
   "cell_type": "markdown",
   "metadata": {},
   "source": [
    "- The `re.search()` and `re.match()` both are functions of re module in python. These functions are very efficient and fast for searching in strings. The function searches for some substring in a string and returns a match object if found, else it returns none.\n",
    "- There is a difference between the use of both functions. Both return the first match of a substring found in the string, but `re.match()` searches only from the beginning of the string and return match object if found. But if a match of substring is found somewhere in the middle of the string, it returns none.\n",
    "- While `re.search()` searches for the whole string even if the string contains multi-lines and tries to find a match of the substring in all the lines of string\n"
   ]
  },
  {
   "cell_type": "markdown",
   "metadata": {},
   "source": [
    "## Q7. What is the difference between using a vertical bar (`|`) as an alteration and using square brackets as a character set?\n"
   ]
  },
  {
   "cell_type": "markdown",
   "metadata": {},
   "source": [
    "- Vertical bar is used to check OR condition whereas square brackets are used for check a specific char in the string\n"
   ]
  },
  {
   "cell_type": "markdown",
   "metadata": {},
   "source": [
    "## Q8. In regular-expression search patterns, why is it necessary to use the raw-string indicator (r)? In replacement strings?\n"
   ]
  },
  {
   "cell_type": "markdown",
   "metadata": {},
   "source": [
    "- Raw Strings are used in the regular-expression search patterns, so that backslashes do not have to be escaped.\n"
   ]
  }
 ],
 "metadata": {
  "language_info": {
   "name": "python"
  },
  "orig_nbformat": 4
 },
 "nbformat": 4,
 "nbformat_minor": 2
}
