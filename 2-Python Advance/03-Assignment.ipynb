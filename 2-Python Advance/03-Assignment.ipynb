{
 "cells": [
  {
   "cell_type": "markdown",
   "metadata": {},
   "source": [
    "# Python Advance Assignment-03"
   ]
  },
  {
   "cell_type": "markdown",
   "metadata": {},
   "source": [
    "## 1. What is the concept of an abstract superclass?\n",
    "\n",
    "\n",
    "\n"
   ]
  },
  {
   "cell_type": "markdown",
   "metadata": {},
   "source": [
    "- A class is called an Abstract class if it contains one or more abstract methods. \n",
    "- An abstract method is a method that is declared, but contains no implementation. \n",
    "- Abstract classes may not be instantiated, and its abstract methods must be implemented by its subclasses."
   ]
  },
  {
   "cell_type": "markdown",
   "metadata": {},
   "source": [
    "## 2. What happens when a class statement's top level contains a basic assignment statement?\n",
    "\n",
    "\n",
    "\n"
   ]
  },
  {
   "cell_type": "markdown",
   "metadata": {},
   "source": [
    "- When a Class statement's top level contains a basic assignment statement, its usually treated as a class attribute or class level variable."
   ]
  },
  {
   "cell_type": "markdown",
   "metadata": {},
   "source": [
    "## 3. Why does a class need to manually call a superclass's `__init__` method?\n",
    "\n",
    "\n",
    "\n"
   ]
  },
  {
   "cell_type": "markdown",
   "metadata": {},
   "source": [
    "- child class is not able to call parent's class `__init__` by default if it has `__init__` method.\n",
    "- superclass `__init__` method is called as `super().__init__()`"
   ]
  },
  {
   "cell_type": "markdown",
   "metadata": {},
   "source": [
    "## 4. How can you augment, instead of completely replacing, an inherited method?\n",
    "\n",
    "\n",
    "\n"
   ]
  },
  {
   "cell_type": "markdown",
   "metadata": {},
   "source": [
    "- `super()` method can be used to augment, instead of completely replacing, an inherited method or call desire method by calling class and passing self of the object.\n"
   ]
  },
  {
   "cell_type": "markdown",
   "metadata": {},
   "source": [
    "## 5. How is the local scope of a class different from that of a function?\n"
   ]
  },
  {
   "cell_type": "markdown",
   "metadata": {},
   "source": [
    "- A Variable which is defined inside a function is local to that function and it is accessible from the point at which it is defined until the end of the function, and exists for as long as the function is executing.\n",
    "- Variables which are defined in the class body can be referenced by there bare names within the same scope, but they can also be accessed from outside the scope if we use the attribute access operator `(.).` on a class or an instance of the class."
   ]
  }
 ],
 "metadata": {
  "language_info": {
   "name": "python"
  },
  "orig_nbformat": 4
 },
 "nbformat": 4,
 "nbformat_minor": 2
}
