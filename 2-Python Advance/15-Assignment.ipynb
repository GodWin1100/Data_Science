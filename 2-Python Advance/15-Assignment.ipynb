{
 "cells": [
  {
   "cell_type": "markdown",
   "metadata": {},
   "source": [
    "# Python Advance Assignment-15\n"
   ]
  },
  {
   "cell_type": "markdown",
   "metadata": {},
   "source": [
    "## 1. What are the new features added in Python 3.8 version?\n"
   ]
  },
  {
   "cell_type": "markdown",
   "metadata": {},
   "source": [
    "- Some New Features Added in Python 3.8 Version are:\n",
    "\n",
    "  - **Walrus Operator**: This operator is used to assign and return a value in the same expression. This removes the need for initializing the variable upfront. The major benefit of this is it saves some lines of code. It is also known as The Walrus Operator due to its similarity to the eyes and tusks of a walrus.\n",
    "  - **yield** and **return** statements do not require parentheses to return multiple values.\n",
    "  - Reversed works with a dictionary. The built-in method **reversed()** can be used for accessing the elements in the reverse order of insertion\n",
    "  - Dict comprehensions have been modified so that the key is computed first and the value second.\n",
    "  - **importlib_metadata** is a new library added in the Python’s standard utility modules, that provides an API for accessing an installed package’s metadata, such as its entry points or its top-level name.\n",
    "  - **f-strings** now support `=` , to make string interpolation easy. Python 3.8 allows the use of the above-discussed assignment operator and equal sign `(=)` inside the f-strings.\n",
    "  - In the three-argument form of **pow()**, when the exponent is `-1`, it calculates the modular multiplicative inverse of the given value\n"
   ]
  },
  {
   "cell_type": "markdown",
   "metadata": {},
   "source": [
    "## 2. What is monkey patching in Python?\n"
   ]
  },
  {
   "cell_type": "markdown",
   "metadata": {},
   "source": [
    "- In Python, the term monkey patch refers to making dynamic (or run-time) modifications to a class or module. In Python, we can actually change the behavior of code at run-time.\n"
   ]
  },
  {
   "cell_type": "markdown",
   "metadata": {},
   "source": [
    "## 3. What is the difference between a shallow copy and deep copy?\n"
   ]
  },
  {
   "cell_type": "markdown",
   "metadata": {},
   "source": [
    "- The Differences between a Shallow Copy and deep copy are as follows:\n",
    "  - When an object is copied using `copy()`, it is called shallow copy as changes made in copied object will also make corresponding changes in original object, because both the objects will be referencing same address location.\n",
    "  - When an object is copied using `deepcopy()`, it is called deep copy as changes made in copied object will not make corresponding changes in original object, because both the objects will not be referencing same address location.\n"
   ]
  },
  {
   "cell_type": "markdown",
   "metadata": {},
   "source": [
    "## 4. What is the maximum possible length of an identifier?\n"
   ]
  },
  {
   "cell_type": "markdown",
   "metadata": {},
   "source": [
    "Maximum possible length of identifier is `79`\n"
   ]
  },
  {
   "cell_type": "markdown",
   "metadata": {},
   "source": [
    "## 5. What is generator comprehension?\n"
   ]
  },
  {
   "cell_type": "markdown",
   "metadata": {},
   "source": [
    "- It is similar to list comprehension except we use parentheses instead of square bracket and we need to iterate through it.\n"
   ]
  }
 ],
 "metadata": {
  "language_info": {
   "name": "python"
  },
  "orig_nbformat": 4
 },
 "nbformat": 4,
 "nbformat_minor": 2
}
