{
 "cells": [
  {
   "cell_type": "markdown",
   "metadata": {},
   "source": [
    "# Python Advance Assignment-24\n"
   ]
  },
  {
   "cell_type": "markdown",
   "metadata": {},
   "source": [
    "## Q1. Is it permissible to use several import statements to import the same module? What would the goal be? Can you think of a situation where it would be beneficial?\n"
   ]
  },
  {
   "cell_type": "markdown",
   "metadata": {},
   "source": [
    "- yes it's permissible. We can import different function and module from same package.\n",
    "- the same module is evaluated only once, in other words, the module-level scope is executed just once.\n",
    "- If the module, once evaluated, is imported again, it's second evaluation is skipped and the resolved already exports are used.\n",
    "- If there's function with same name then it's advisable not to import function rather use `module.func` syntax.\n"
   ]
  },
  {
   "cell_type": "markdown",
   "metadata": {},
   "source": [
    "## Q2. What are some of a module's characteristics? (Name at least one.)\n"
   ]
  },
  {
   "cell_type": "markdown",
   "metadata": {},
   "source": [
    "- Modules contain instructions, processing logic, and data.\n",
    "- Modules can be separately compiled and stored in a library.\n",
    "- Modules can be included in a program.\n",
    "- Module segments can be used by invoking a name and some parameters.\n",
    "- Module segments can be used by other modules.\n"
   ]
  },
  {
   "cell_type": "markdown",
   "metadata": {},
   "source": [
    "## Q3. Circular importing, such as when two modules import each other, can lead to dependencies and bugs that aren't visible. How can you go about creating a program that avoids mutual importing?\n"
   ]
  },
  {
   "cell_type": "markdown",
   "metadata": {},
   "source": [
    "- A circular dependency occurs when two classes depend on each other. For example, class A needs class B, and class B also needs class A.\n",
    "- Circular dependencies can arise in Nest between modules and between providers.\n",
    "- This will give an import error and will result into endless loop.\n",
    "- To avoid we can check if file is executing or is being imported to avoid executing function which require such imports. `__name__==\"__man__\"`\n",
    "- In some cases it cannot be avoided.\n"
   ]
  },
  {
   "cell_type": "markdown",
   "metadata": {},
   "source": [
    "## Q4. Why is `__all__` in Python?\n"
   ]
  },
  {
   "cell_type": "markdown",
   "metadata": {},
   "source": [
    "- It is a list of strings defining what symbols in a module will be exported when from `<module> import *` is used on the module.\n",
    "- It's a list of public objects of that module, as interpreted by `import *`.\n",
    "- It overrides the default of hiding everything that begins with an underscore.\n"
   ]
  },
  {
   "cell_type": "markdown",
   "metadata": {},
   "source": [
    "## Q5. In what situation is it useful to refer to the `__name__` attribute or the string `'__main__'`?\n"
   ]
  },
  {
   "cell_type": "markdown",
   "metadata": {},
   "source": [
    "- When we want particular function/code to be run only if it's directly executing as main/index/entry file/point.\n",
    "- When we execute the module it get's `__name__` as `__main__` hence we can check.\n"
   ]
  },
  {
   "cell_type": "markdown",
   "metadata": {},
   "source": [
    "## Q6. What are some of the benefits of attaching a program counter to the RPN interpreter application, which interprets an RPN script line by line?\n"
   ]
  },
  {
   "cell_type": "markdown",
   "metadata": {},
   "source": [
    "- RPN stands for reverse polish notation in which operators follow operands like $(3+4)*5$ are $3 \\> 4 + 5 *$\n",
    "- RPN saves time and keystrokes.\n",
    "- You avoid using and keeping track of parentheses while doing calculations.\n",
    "- The process is similar to the way you learned math on paper.\n",
    "- You can see the intermediary results as you perform your computations rather than just the answer at the end.\n"
   ]
  },
  {
   "cell_type": "markdown",
   "metadata": {},
   "source": [
    "## Q7. What are the minimum expressions or statements (or both) that you'd need to render a basic programming language like RPN primitive but complete that is, capable of carrying out any computerized task theoretically possible?\n"
   ]
  },
  {
   "cell_type": "markdown",
   "metadata": {},
   "source": [
    "- Three operations\n"
   ]
  }
 ],
 "metadata": {
  "kernelspec": {
   "display_name": "Python 3.8.10 ('fsds')",
   "language": "python",
   "name": "python3"
  },
  "language_info": {
   "codemirror_mode": {
    "name": "ipython",
    "version": 3
   },
   "file_extension": ".py",
   "mimetype": "text/x-python",
   "name": "python",
   "nbconvert_exporter": "python",
   "pygments_lexer": "ipython3",
   "version": "3.8.10"
  },
  "orig_nbformat": 4,
  "vscode": {
   "interpreter": {
    "hash": "20f5f825ba7e1e0138bea706cf7ce76ba178632e6be331b5251920b13e58ac94"
   }
  }
 },
 "nbformat": 4,
 "nbformat_minor": 2
}
