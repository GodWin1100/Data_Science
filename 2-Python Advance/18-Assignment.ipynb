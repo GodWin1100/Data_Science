{
 "cells": [
  {
   "cell_type": "markdown",
   "metadata": {},
   "source": [
    "# Python Advance Assignment-18\n"
   ]
  },
  {
   "cell_type": "markdown",
   "metadata": {},
   "source": [
    "## Q1. Describe the differences between text and binary files in a single paragraph.\n"
   ]
  },
  {
   "cell_type": "markdown",
   "metadata": {},
   "source": [
    "- Text files are special subset of binary files that are used to store human readable characters as a rich text document or plain text document. Text files also store data in sequential bytes but bits in text file represents characters.\n",
    "\n",
    "- Binary files are those typical files that store data in the form of sequence of bytes grouped into eight bits or sometimes sixteen bits. These bits represent custom data and such files can store multiple types of data (images, audio, text, etc) under a single file.\n"
   ]
  },
  {
   "cell_type": "markdown",
   "metadata": {},
   "source": [
    "## Q2. What are some scenarios where using text files will be the better option? When would you like to use binary files instead of text files?\n"
   ]
  },
  {
   "cell_type": "markdown",
   "metadata": {},
   "source": [
    "- Text files are less prone to get corrupted as any undesired change may just show up once the file is opened and then can easily be removed.\n",
    "- Whereas Use binary files instead of text files for image data.\n"
   ]
  },
  {
   "cell_type": "markdown",
   "metadata": {},
   "source": [
    "## Q3. What are some of the issues with using binary operations to read and write a Python integer directly to disc?\n"
   ]
  },
  {
   "cell_type": "markdown",
   "metadata": {},
   "source": [
    "- When we read or write a python integer using binary operations.\n",
    "- Binary operations deal with raw data and one needs to identify how many bytes one would read or write.\n"
   ]
  },
  {
   "cell_type": "markdown",
   "metadata": {},
   "source": [
    "## Q4. Describe a benefit of using the with keyword instead of explicitly opening a file.\n"
   ]
  },
  {
   "cell_type": "markdown",
   "metadata": {},
   "source": [
    "- `with` statement is basically an context block which will hold the context till the block ends.\n",
    "- `with` statement ensures that opened file will be closed after completion of execution and if any error is encountered it will still ensure file will be closed.\n"
   ]
  },
  {
   "cell_type": "markdown",
   "metadata": {},
   "source": [
    "## Q5. Does Python have the trailing newline while reading a line of text? Does Python append a newline when you write a line of text?\n"
   ]
  },
  {
   "cell_type": "markdown",
   "metadata": {},
   "source": [
    "- Yes, Python have the trailing newline while reading a line of text.\n",
    "- When we write a newline it has to be provided in python explicitly .\n"
   ]
  },
  {
   "cell_type": "markdown",
   "metadata": {},
   "source": [
    "## Q6. What file operations enable for random-access operation?\n"
   ]
  },
  {
   "cell_type": "markdown",
   "metadata": {},
   "source": [
    "- `seek()` and `tell()`\n"
   ]
  },
  {
   "cell_type": "markdown",
   "metadata": {},
   "source": [
    "## Q7. When do you think you'll use the struct package the most?\n"
   ]
  },
  {
   "cell_type": "markdown",
   "metadata": {},
   "source": [
    "- The struct module in Python is used to convert native Python data types such as strings and numbers into a string of bytes and vice versa.\n"
   ]
  },
  {
   "cell_type": "markdown",
   "metadata": {},
   "source": [
    "## Q8. When is pickling the best option?\n"
   ]
  },
  {
   "cell_type": "markdown",
   "metadata": {},
   "source": [
    "- you can use Pickle to serialize (deserialize) an object structure into (from) a byte stream.\n"
   ]
  },
  {
   "cell_type": "markdown",
   "metadata": {},
   "source": [
    "## Q9. When will it be best to use the shelve package?\n"
   ]
  },
  {
   "cell_type": "markdown",
   "metadata": {},
   "source": [
    "- When we want to store multiple object as a pickle we can use `shelve`.\n",
    "- A “shelf” is a persistent, dictionary-like object.\n",
    "- The values (not the keys!) in a shelf can be essentially arbitrary Python objects — anything that the pickle module can handle.\n",
    "- This includes most class instances, recursive data types, and objects containing lots of shared sub-objects.\n",
    "- The keys are ordinary strings.\n"
   ]
  },
  {
   "cell_type": "markdown",
   "metadata": {},
   "source": [
    "## Q10. What is a special restriction when using the shelve package, as opposed to using other data dictionaries?\n"
   ]
  },
  {
   "cell_type": "markdown",
   "metadata": {},
   "source": [
    "- Only string data type can be used as key in this special dictionary object, whereas any picklable Python object can be used as value.\n"
   ]
  }
 ],
 "metadata": {
  "kernelspec": {
   "display_name": "Python 3.8.10 ('fsds')",
   "language": "python",
   "name": "python3"
  },
  "language_info": {
   "codemirror_mode": {
    "name": "ipython",
    "version": 3
   },
   "file_extension": ".py",
   "mimetype": "text/x-python",
   "name": "python",
   "nbconvert_exporter": "python",
   "pygments_lexer": "ipython3",
   "version": "3.8.10"
  },
  "orig_nbformat": 4,
  "vscode": {
   "interpreter": {
    "hash": "20f5f825ba7e1e0138bea706cf7ce76ba178632e6be331b5251920b13e58ac94"
   }
  }
 },
 "nbformat": 4,
 "nbformat_minor": 2
}
