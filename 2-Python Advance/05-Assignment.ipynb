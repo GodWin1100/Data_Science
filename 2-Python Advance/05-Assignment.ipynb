{
 "cells": [
  {
   "cell_type": "markdown",
   "metadata": {},
   "source": [
    "# Python Advance Assignment-05\n"
   ]
  },
  {
   "cell_type": "markdown",
   "metadata": {},
   "source": [
    "## Q1. What is the meaning of multiple inheritance?\n"
   ]
  },
  {
   "cell_type": "markdown",
   "metadata": {},
   "source": [
    "- Inheritance is a concept by which we can pass parent/super class attributes and method to child/sub class.\n",
    "- If subclass inherit from more than one class then it is called multiple inheritance.\n"
   ]
  },
  {
   "cell_type": "markdown",
   "metadata": {},
   "source": [
    "## Q2. What is the concept of delegation?\n"
   ]
  },
  {
   "cell_type": "markdown",
   "metadata": {},
   "source": [
    "- The delegation pattern is an object-oriented design pattern that allows object composition to achieve the same code reuse as inheritance.\n"
   ]
  },
  {
   "cell_type": "code",
   "execution_count": 2,
   "metadata": {},
   "outputs": [
    {
     "name": "stdout",
     "output_type": "stream",
     "text": [
      "Hello\n",
      "Goodbye\n",
      "Hello\n",
      "Goodbye\n",
      "Hello\n"
     ]
    },
    {
     "data": {
      "text/plain": [
       "(None, None, None, None, None, <__main__.Parent at 0x1335113faf0>)"
      ]
     },
     "execution_count": 2,
     "metadata": {},
     "output_type": "execute_result"
    }
   ],
   "source": [
    "class Parent:\n",
    "    def greet(self):\n",
    "        print(\"Hello\")\n",
    "\n",
    "    def bid(self):\n",
    "        print(\"Goodbye\")\n",
    "\n",
    "\n",
    "class Child:\n",
    "    def __init__(self, obj: Parent):\n",
    "        self.obj = obj\n",
    "\n",
    "    def respect(self):\n",
    "        self.obj.greet()\n",
    "\n",
    "\n",
    "a = Parent()\n",
    "b = Child(a)\n",
    "\n",
    "a.greet(), a.bid(), b.obj.greet(), b.obj.bid(), b.respect(), b.obj\n"
   ]
  },
  {
   "cell_type": "markdown",
   "metadata": {},
   "source": [
    "## Q3. What is the concept of composition?\n"
   ]
  },
  {
   "cell_type": "markdown",
   "metadata": {},
   "source": [
    "- Composition is a concept that models a **has a** relationship.\n",
    "- We describe a class that references to one or more objects of other classes as an Instance variable.\n"
   ]
  },
  {
   "cell_type": "code",
   "execution_count": 4,
   "metadata": {},
   "outputs": [
    {
     "name": "stdout",
     "output_type": "stream",
     "text": [
      "Parent Created\n",
      "Composition\n",
      "Parent Created\n",
      "Goodbye\n",
      "Goodbye\n",
      "Goodbye\n"
     ]
    },
    {
     "data": {
      "text/plain": [
       "(None, None, None)"
      ]
     },
     "execution_count": 4,
     "metadata": {},
     "output_type": "execute_result"
    }
   ],
   "source": [
    "class Parent:\n",
    "    def __init__(self):\n",
    "        print(\"Parent Created\")\n",
    "\n",
    "    def bid(self):\n",
    "        print(\"Goodbye\")\n",
    "\n",
    "\n",
    "class Child:\n",
    "    def __init__(self):\n",
    "        print(\"Composition\")\n",
    "        self.obj = Parent()\n",
    "\n",
    "    def farewell(self):\n",
    "        self.obj.bid()\n",
    "\n",
    "\n",
    "a = Parent()\n",
    "b = Child()\n",
    "a.bid(), b.farewell(), b.obj.bid()\n"
   ]
  },
  {
   "cell_type": "markdown",
   "metadata": {},
   "source": [
    "## Q4. What are bound methods and how do we use them?\n"
   ]
  },
  {
   "cell_type": "markdown",
   "metadata": {},
   "source": [
    "- A bound method is one which is accessed by an instance and generally have a self keyword i.e. it passes instance as the first argument, by default from python3 onwards all function in the class are by default bound methods.\n"
   ]
  },
  {
   "cell_type": "code",
   "execution_count": 12,
   "metadata": {},
   "outputs": [
    {
     "name": "stdout",
     "output_type": "stream",
     "text": [
      "Called method_one <__main__.Test object at 0x000001E416B5BFA0>\n",
      "Called method_two <class '__main__.Test'>\n",
      "Called method_three 3\n",
      "Called method_two <class '__main__.Test'>\n",
      "Called method_three 3\n"
     ]
    },
    {
     "data": {
      "text/plain": [
       "(None, None, None, None, None)"
      ]
     },
     "execution_count": 12,
     "metadata": {},
     "output_type": "execute_result"
    }
   ],
   "source": [
    "class Test:\n",
    "    def method_one(self):  # bound method\n",
    "        print(\"Called method_one\", self)  # object instance\n",
    "\n",
    "    @classmethod\n",
    "    def method_two(argument):  # unbound method\n",
    "        print(\"Called method_two\", argument)  # class instance\n",
    "\n",
    "    @staticmethod\n",
    "    def method_three(arg):  # static method\n",
    "        print(\"Called method_three\", arg)  # argument\n",
    "\n",
    "\n",
    "a = Test()\n",
    "a.method_one(), a.method_two(), a.method_three(3), Test.method_two(), Test.method_three(3)\n"
   ]
  },
  {
   "cell_type": "markdown",
   "metadata": {},
   "source": [
    "## Q5. What is the purpose of pseudoprivate attributes?\n"
   ]
  },
  {
   "cell_type": "markdown",
   "metadata": {},
   "source": [
    "- **Pseudoprivate** attributes are also useful in larger frameworks or tools, both to avoid introducing new method names that might accidentally hide definitions elsewhere in the class tree and to reduce the chance of internal methods being replaced by names defined lower in the tree.\n",
    "- If a method is intended for use only within a class that may be mixed into other classes, the double underscore prefix ensures that the method won't interfere with other names in the tree, especially in multiple-inheritance scenarios.\n"
   ]
  }
 ],
 "metadata": {
  "kernelspec": {
   "display_name": "Python 3.8.10 ('fsds')",
   "language": "python",
   "name": "python3"
  },
  "language_info": {
   "codemirror_mode": {
    "name": "ipython",
    "version": 3
   },
   "file_extension": ".py",
   "mimetype": "text/x-python",
   "name": "python",
   "nbconvert_exporter": "python",
   "pygments_lexer": "ipython3",
   "version": "3.8.10"
  },
  "orig_nbformat": 4,
  "vscode": {
   "interpreter": {
    "hash": "20f5f825ba7e1e0138bea706cf7ce76ba178632e6be331b5251920b13e58ac94"
   }
  }
 },
 "nbformat": 4,
 "nbformat_minor": 2
}
