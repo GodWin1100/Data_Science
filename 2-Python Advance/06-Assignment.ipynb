{
 "cells": [
  {
   "cell_type": "markdown",
   "metadata": {},
   "source": [
    "# Python Advance Assignment-06\n"
   ]
  },
  {
   "cell_type": "markdown",
   "metadata": {},
   "source": [
    "## Q1. Describe three applications for exception processing.\n"
   ]
  },
  {
   "cell_type": "markdown",
   "metadata": {},
   "source": [
    "- Exception Handling is necessary to handle run time errors. We can handle exception with `try-except` block.\n",
    "  1. File handling and i/o operation\n",
    "  2. Database connection and database operations\n",
    "  3. To catch validation errors\n"
   ]
  },
  {
   "cell_type": "markdown",
   "metadata": {},
   "source": [
    "## Q2. What happens if you don't do something extra to treat an exception?\n"
   ]
  },
  {
   "cell_type": "markdown",
   "metadata": {},
   "source": [
    "- If exception is not handled correctly it can lead to crash of the program/server.\n",
    "- Smooth execution will not be guaranteed and any files or database connection can be abruptly closed.\n"
   ]
  },
  {
   "cell_type": "markdown",
   "metadata": {},
   "source": [
    "## Q3. What are your options for recovering from an exception in your script?\n"
   ]
  },
  {
   "cell_type": "markdown",
   "metadata": {},
   "source": [
    "- In Python, exceptions can be handled using a `try` statement.\n",
    "- The critical operation which can raise an exception is placed inside the `try` clause.\n",
    "- The code that handles the exceptions is written in the `except` clause.\n"
   ]
  },
  {
   "cell_type": "markdown",
   "metadata": {},
   "source": [
    "## Q4. Describe two methods for triggering exceptions in your script.\n"
   ]
  },
  {
   "cell_type": "markdown",
   "metadata": {},
   "source": [
    "- `raise` can be used to raise/throw an exception.\n",
    "- `assert` statement will raise error if expected output is not correct.\n"
   ]
  },
  {
   "cell_type": "markdown",
   "metadata": {},
   "source": [
    "## Q5. Identify two methods for specifying actions to be executed at termination time, regardless of whether or not an exception exists.\n"
   ]
  },
  {
   "cell_type": "markdown",
   "metadata": {},
   "source": [
    "- `else` and `finally` are two keywords provided in python specifying actions to be executed at termination time, regardless of whether or not an exception exists.\n"
   ]
  }
 ],
 "metadata": {
  "language_info": {
   "name": "python"
  },
  "orig_nbformat": 4
 },
 "nbformat": 4,
 "nbformat_minor": 2
}
