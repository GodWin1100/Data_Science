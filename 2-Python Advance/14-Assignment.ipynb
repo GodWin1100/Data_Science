{
 "cells": [
  {
   "cell_type": "markdown",
   "metadata": {},
   "source": [
    "# Python Advance Assignment-14\n"
   ]
  },
  {
   "cell_type": "markdown",
   "metadata": {},
   "source": [
    "## Q1. Is an assignment operator like `+=` only for show? Is it possible that it would lead to faster results at the runtime?\n"
   ]
  },
  {
   "cell_type": "markdown",
   "metadata": {},
   "source": [
    "- `A=A+1` evaluates to finding `A`, adding `1` to it.\n",
    "- Then storing the value again in variable `A`.\n",
    "- This expression makes Python to look for memory holder of a twice.\n",
    "- But `A+=1` simply means value of `A` is to incremented by `1`. As memory address has to be identified once, `+=` leads to faster operation.\n"
   ]
  },
  {
   "cell_type": "markdown",
   "metadata": {},
   "source": [
    "## Q2. What is the smallest number of statements you'd have to write in most programming languages to replace the Python expression `a, b = a + b, a`?\n"
   ]
  },
  {
   "cell_type": "markdown",
   "metadata": {},
   "source": [
    "We need two statements for assigning `a` and `b` given `a` and `b` are already initialized.\n",
    "\n",
    "```\n",
    "a=a+b\n",
    "b=a\n",
    "```\n"
   ]
  },
  {
   "cell_type": "markdown",
   "metadata": {},
   "source": [
    "## Q3. In Python, what is the most effective way to set a list of 100 integers to 0?\n"
   ]
  },
  {
   "cell_type": "markdown",
   "metadata": {},
   "source": [
    "```py\n",
    "lst=[0]*100\n",
    "```\n"
   ]
  },
  {
   "cell_type": "markdown",
   "metadata": {},
   "source": [
    "## Q4. What is the most effective way to initialize a list of 99 integers that repeats the sequence 1, 2, 3? S If necessary, show step-by-step instructions on how to accomplish this.\n"
   ]
  },
  {
   "cell_type": "markdown",
   "metadata": {},
   "source": [
    "```py\n",
    "lst=[1,2,3]*33\n",
    "```\n"
   ]
  },
  {
   "cell_type": "markdown",
   "metadata": {},
   "source": [
    "## Q5. If you're using IDLE to run a Python application, explain how to print a multidimensional list as efficiently?\n"
   ]
  },
  {
   "cell_type": "markdown",
   "metadata": {},
   "source": [
    "- Using for loop for `n` times where `n` is the dimension of list.\n",
    "- We can use recursion function to print elements with `if-else` for recursion and `for` loop for printing.\n"
   ]
  },
  {
   "cell_type": "markdown",
   "metadata": {},
   "source": [
    "## Q6. Is it possible to use list comprehension with a string? If so, how can you go about doing it?\n"
   ]
  },
  {
   "cell_type": "markdown",
   "metadata": {},
   "source": [
    "`str` is also a type of sequence hence it can be iterated.\n",
    "\n",
    "```py\n",
    "[char for char in \"abcdef\"]\n",
    "```\n"
   ]
  },
  {
   "cell_type": "markdown",
   "metadata": {},
   "source": [
    "## Q7. From the command line, how do you get support with a user-written Python programme? Is this possible from inside IDLE?\n"
   ]
  },
  {
   "cell_type": "markdown",
   "metadata": {},
   "source": [
    "- _Get support with a user-written Python Programme_: Start a command prompt (Windows) or terminal window (Linux/Mac). If the current working directory is the same as the location in which you saved the file, you can simply specify the filename as a command-line argument to the Python interpreter.\n",
    "\n",
    "- _Get support with a User-written Python Program from IDLE_: You can also create script files and run them in IDLE. From the Shell window menu, select File → New File. That should open an additional editing window. Type in the code to be executed. From the menu in that window, select File → Save or File → Save As… and save the file to disk. Then select Run → Run Module. The output should appear back in the interpreter\n"
   ]
  },
  {
   "cell_type": "markdown",
   "metadata": {},
   "source": [
    "## Q8. Functions are said to be “first-class objects” in Python but not in most other languages, such as C++ or Java. What can you do in Python with a function (callable object) that you can't do in C or C++?\n"
   ]
  },
  {
   "cell_type": "markdown",
   "metadata": {},
   "source": [
    "- A function is an instance of the Object type.\n",
    "- You can store the function in a variable. You can pass the function as a parameter to another function.\n",
    "- You can return the function from a function.\n",
    "- You can store them in data structures such as hash tables, lists,\n"
   ]
  },
  {
   "cell_type": "markdown",
   "metadata": {},
   "source": [
    "## Q9. How do you distinguish between a wrapper, a wrapped feature, and a decorator?\n"
   ]
  },
  {
   "cell_type": "markdown",
   "metadata": {},
   "source": [
    "- Wrapper is something that wraps a function, usually adding some extra behavior to it.\n",
    "- Wrapped feature is the object which is wrapped by wrapper.\n",
    "- Decorator allows objects to be composed/add capabilities by wrapping them with a class with the same interface.\n"
   ]
  },
  {
   "cell_type": "markdown",
   "metadata": {},
   "source": [
    "## Q10. If a function is a generator function, what does it return?\n"
   ]
  },
  {
   "cell_type": "markdown",
   "metadata": {},
   "source": [
    "- Generator function will return a generator object which is not stored in the memory but it can be iterated using `for in` and `next` methods.\n"
   ]
  },
  {
   "cell_type": "markdown",
   "metadata": {},
   "source": [
    "## Q11. What is the one improvement that must be made to a function in order for it to become a generator function in the Python language?\n"
   ]
  },
  {
   "cell_type": "markdown",
   "metadata": {},
   "source": [
    "- Generator is a written as normal function but uses yield keyword to return values instead of return keyword.\n"
   ]
  },
  {
   "cell_type": "markdown",
   "metadata": {},
   "source": [
    "## Q12. Identify at least one benefit of generators.\n"
   ]
  },
  {
   "cell_type": "markdown",
   "metadata": {},
   "source": [
    "- Generator function will return a generator object which is not stored in the memory but it can be iterated using loops,next methods and can be iterated one at a time yield keyword ensures they retain the last iteration.\n"
   ]
  }
 ],
 "metadata": {
  "kernelspec": {
   "display_name": "Python 3.8.10 ('fsds')",
   "language": "python",
   "name": "python3"
  },
  "language_info": {
   "codemirror_mode": {
    "name": "ipython",
    "version": 3
   },
   "file_extension": ".py",
   "mimetype": "text/x-python",
   "name": "python",
   "nbconvert_exporter": "python",
   "pygments_lexer": "ipython3",
   "version": "3.8.10"
  },
  "orig_nbformat": 4,
  "vscode": {
   "interpreter": {
    "hash": "20f5f825ba7e1e0138bea706cf7ce76ba178632e6be331b5251920b13e58ac94"
   }
  }
 },
 "nbformat": 4,
 "nbformat_minor": 2
}
