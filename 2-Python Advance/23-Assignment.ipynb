{
 "cells": [
  {
   "cell_type": "markdown",
   "metadata": {},
   "source": [
    "# Python Advance Assignment-23\n"
   ]
  },
  {
   "cell_type": "markdown",
   "metadata": {},
   "source": [
    "## Q1. If you have any, what are your choices for increasing the comparison between different figures on the same graph?\n"
   ]
  },
  {
   "cell_type": "markdown",
   "metadata": {},
   "source": [
    "- we can use subplot for plotting multiple graphs side by side.\n"
   ]
  },
  {
   "cell_type": "markdown",
   "metadata": {},
   "source": [
    "## Q2. Can you explain the benefit of compound interest over a higher rate of interest that does not compound after reading this chapter?\n"
   ]
  },
  {
   "cell_type": "markdown",
   "metadata": {},
   "source": [
    "- Compound interest makes a sum of money grow at a faster rate than simple interest, because in addition to earning returns on the money you invest, you also earn returns on those returns at the end of every compounding period, which could be daily, monthly, quarterly or annually.\n"
   ]
  },
  {
   "cell_type": "markdown",
   "metadata": {},
   "source": [
    "## Q3. What is a histogram, exactly? Name a numpy method for creating such a graph.\n"
   ]
  },
  {
   "cell_type": "markdown",
   "metadata": {},
   "source": [
    "- A histogram is a graphical representation of the distribution of data.\n",
    "- It shows the frequency distribution of continuous number with given no of bins.\n",
    "- `numpy.histogram`\n"
   ]
  },
  {
   "cell_type": "markdown",
   "metadata": {},
   "source": [
    "## Q4. If necessary, how do you change the aspect ratios between the X and Y axes?\n"
   ]
  },
  {
   "cell_type": "markdown",
   "metadata": {},
   "source": [
    "- `axis.set_aspect()`\n",
    "\n",
    "  ```py\n",
    "  ratio = 1.0\n",
    "  x_left, x_right = ax.get_xlim()\n",
    "  y_low, y_high = ax.get_ylim()\n",
    "  ax.set_aspect(abs((x_right-x_left)/(y_low-y_high))*ratio)\n",
    "  ```\n",
    "\n",
    "- `plt.figure(figsize())` from `matplotlib.pyplot`\n"
   ]
  },
  {
   "cell_type": "markdown",
   "metadata": {},
   "source": [
    "## Q5. Compare and contrast the three types of array multiplication between two numpy arrays: dot product, outer product, and regular multiplication of two numpy arrays.\n"
   ]
  },
  {
   "cell_type": "markdown",
   "metadata": {},
   "source": [
    "- dot product does multiplication of two arrays as row and columns like we do in mathematical array.\n",
    "  - A=(M,N), B=(N,M) then A*B=(M*M)\n",
    "- The outer product of two vectors with dimensions of n and m is the m\\*n matrix.\n",
    "- regular multiplication is element wise multiplication\n"
   ]
  },
  {
   "cell_type": "markdown",
   "metadata": {},
   "source": [
    "## Q6. Before you buy a home, which numpy function will you use to measure your monthly mortgage payment?\n"
   ]
  },
  {
   "cell_type": "markdown",
   "metadata": {},
   "source": [
    "- The `pmt()` function is used to compute the payment against loan principal plus interest.\n",
    "- `pmt(rate,nper,pv,fv,when)` where\n",
    "  - rate=Rate of interest\n",
    "  - nper=Number of compounding periods\n",
    "  - pv=Present value\n",
    "  - fv=Future value\n",
    "  - when=When payments are due ('begin' or 'end')\n"
   ]
  },
  {
   "cell_type": "markdown",
   "metadata": {},
   "source": [
    "## Q7. Can string data be stored in numpy arrays? If so, list at least one restriction that applies to this data.\n"
   ]
  },
  {
   "cell_type": "markdown",
   "metadata": {},
   "source": [
    "- numpy array can store string.\n",
    "- max length of string is the longest length of string at time of creation and after that any string bigger than max length will be truncated i.e. it can store only string which has length less than or equal to max length.\n"
   ]
  }
 ],
 "metadata": {
  "kernelspec": {
   "display_name": "Python 3.10.4 64-bit",
   "language": "python",
   "name": "python3"
  },
  "language_info": {
   "name": "python",
   "version": "3.10.4"
  },
  "orig_nbformat": 4,
  "vscode": {
   "interpreter": {
    "hash": "2e4a015a5e8b3d416719d76fc156fe7e163a5f8678adc2f1ead049a4ae2a6091"
   }
  }
 },
 "nbformat": 4,
 "nbformat_minor": 2
}
