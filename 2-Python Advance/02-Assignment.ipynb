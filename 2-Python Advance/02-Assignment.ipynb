{
 "cells": [
  {
   "cell_type": "markdown",
   "metadata": {},
   "source": [
    "# Python Advance Assignment-02\n"
   ]
  },
  {
   "cell_type": "markdown",
   "metadata": {},
   "source": [
    "## Q1. What is the relationship between classes and modules?\n"
   ]
  },
  {
   "cell_type": "markdown",
   "metadata": {},
   "source": [
    "- A Python class is like an outline/blueprint for creating a new object.\n",
    "- Modules are simply files with the . py extension containing Python code that can be imported inside another Python Program.\n"
   ]
  },
  {
   "cell_type": "markdown",
   "metadata": {},
   "source": [
    "## Q2. How do you make instances and classes?\n"
   ]
  },
  {
   "cell_type": "markdown",
   "metadata": {},
   "source": [
    "- We can define class with `class` keyword.\n",
    "- To create instances of a class, we call the class using class name.\n"
   ]
  },
  {
   "cell_type": "markdown",
   "metadata": {},
   "source": [
    "## Q3. Where and how should be class attributes created?\n"
   ]
  },
  {
   "cell_type": "markdown",
   "metadata": {},
   "source": [
    "- Class attributes belong to the class itself they will be shared by all the instances. Such attributes are defined in the class body parts usually at the top, for legibility.\n"
   ]
  },
  {
   "cell_type": "markdown",
   "metadata": {},
   "source": [
    "## Q4. Where and how are instance attributes created?\n"
   ]
  },
  {
   "cell_type": "markdown",
   "metadata": {},
   "source": [
    "- Instance attributes are defined in the constructor directly inside a class.\n",
    "- Unlike class attributes, instance attributes are not shared by all objects of the class. instead each object maintains its own copy of instance attributes at object level.\n"
   ]
  },
  {
   "cell_type": "markdown",
   "metadata": {},
   "source": [
    "## Q5. What does the term \"self\" in a Python class mean?\n"
   ]
  },
  {
   "cell_type": "markdown",
   "metadata": {},
   "source": [
    "- The `self` represent the instance of the class i.e. object itself.\n",
    "- It references to the current instance and is used to access variables and methods.\n"
   ]
  },
  {
   "cell_type": "markdown",
   "metadata": {},
   "source": [
    "## Q6. How does a Python class handle operator overloading?\n"
   ]
  },
  {
   "cell_type": "markdown",
   "metadata": {},
   "source": [
    "- Operator Overloading means giving extended meaning beyond their predefined operational meaning.\n",
    "- Python handles operator overloading by using magic methods they end and begin with `__`.\n",
    "- Some of the methods are `__str(self)__`, `__repr(self)__`, `__add(self,other)__`, `__abs(self)__`.\n",
    "- For example, the `+` operator will perform arithmetic addition on two numbers, merge two lists, or concatenate two strings depending on the datatype class.\n"
   ]
  },
  {
   "cell_type": "markdown",
   "metadata": {},
   "source": [
    "## Q7. When do you consider allowing operator overloading of your classes?\n"
   ]
  },
  {
   "cell_type": "markdown",
   "metadata": {},
   "source": [
    "- By overloading standard operators on a class, one can exploit the intuition of the users of that class.\n",
    "- This allows programmer to program in the context of the problem domain rather than the default behavior.\n"
   ]
  },
  {
   "cell_type": "markdown",
   "metadata": {},
   "source": [
    "## Q8. What is the most popular form of operator overloading?\n"
   ]
  },
  {
   "cell_type": "markdown",
   "metadata": {},
   "source": [
    "- By using magic method we can perform operator overloading.\n"
   ]
  },
  {
   "cell_type": "code",
   "execution_count": 2,
   "metadata": {},
   "outputs": [
    {
     "data": {
      "text/plain": [
       "11"
      ]
     },
     "execution_count": 2,
     "metadata": {},
     "output_type": "execute_result"
    }
   ],
   "source": [
    "class Temp:\n",
    "    def __init__(self, num: int):\n",
    "        self.num = num\n",
    "\n",
    "    def __add__(self, obj) -> int:\n",
    "        return int(f\"{self.num}{obj.num}\")  # concatenating integer rather then adding\n",
    "\n",
    "\n",
    "one = Temp(1)\n",
    "one_one = Temp(1)\n",
    "one + one_one\n"
   ]
  },
  {
   "cell_type": "markdown",
   "metadata": {},
   "source": [
    "## Q9. What are the two most important concepts to grasp in order to comprehend Python OOP code?\n"
   ]
  },
  {
   "cell_type": "markdown",
   "metadata": {},
   "source": [
    "- Inheritance\n",
    "- Abstraction\n"
   ]
  }
 ],
 "metadata": {
  "kernelspec": {
   "display_name": "Python 3.8.10 ('fsds')",
   "language": "python",
   "name": "python3"
  },
  "language_info": {
   "codemirror_mode": {
    "name": "ipython",
    "version": 3
   },
   "file_extension": ".py",
   "mimetype": "text/x-python",
   "name": "python",
   "nbconvert_exporter": "python",
   "pygments_lexer": "ipython3",
   "version": "3.8.10"
  },
  "orig_nbformat": 4,
  "vscode": {
   "interpreter": {
    "hash": "20f5f825ba7e1e0138bea706cf7ce76ba178632e6be331b5251920b13e58ac94"
   }
  }
 },
 "nbformat": 4,
 "nbformat_minor": 2
}
