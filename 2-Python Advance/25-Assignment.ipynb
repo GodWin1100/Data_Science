{
 "cells": [
  {
   "cell_type": "markdown",
   "metadata": {},
   "source": [
    "# Python Advance Assignment-25\n"
   ]
  },
  {
   "cell_type": "markdown",
   "metadata": {},
   "source": [
    "## Q1. What is the distinction between a **numpy** array and a **pandas** data frame? Is there a way to convert between the two if there is?\n"
   ]
  },
  {
   "cell_type": "markdown",
   "metadata": {},
   "source": [
    "- **numpy** Ndarray provides a lot of convenient and optimized methods for performing several mathematical operations on vectors.\n",
    "- **pandas** Dataframe is an in-memory 2-dimensional tabular representation of data.\n",
    "- In simpler words, it can be seen as a spreadsheet having rows and columns.\n",
    "- It also provides ease of usage of data preprocessing including performing group operations, creation of matplotlib plots, rows and columns operations.\n"
   ]
  },
  {
   "cell_type": "markdown",
   "metadata": {},
   "source": [
    "## Q2. What can go wrong when an user enters in a stock-ticker symbol, and how do you handle it?\n"
   ]
  },
  {
   "cell_type": "markdown",
   "metadata": {},
   "source": [
    "- It can return different symbol or name.\n",
    "- Can apply text correction based on previous history or to nearest correction output.\n"
   ]
  },
  {
   "cell_type": "markdown",
   "metadata": {},
   "source": [
    "## Q3. Identify some of the plotting techniques that are used to produce a stock-market chart.\n"
   ]
  },
  {
   "cell_type": "markdown",
   "metadata": {},
   "source": [
    "- Line Chart\n",
    "- Candlestick Chart\n",
    "- Renko Chart\n",
    "- Point and Figure charts\n"
   ]
  },
  {
   "cell_type": "markdown",
   "metadata": {},
   "source": [
    "## Q4. Why is it essential to print a legend on a stock market chart?\n"
   ]
  },
  {
   "cell_type": "markdown",
   "metadata": {},
   "source": [
    "- To represent what different marker, size and color means.\n"
   ]
  },
  {
   "cell_type": "markdown",
   "metadata": {},
   "source": [
    "## Q5. What is the best way to limit the length of a **pandas** data frame to less than a year?\n"
   ]
  },
  {
   "cell_type": "markdown",
   "metadata": {},
   "source": [
    "- We can use `truncate` by specifying start and end.\n"
   ]
  },
  {
   "cell_type": "markdown",
   "metadata": {},
   "source": [
    "## Q6. What is the definition of a 180-day moving average?\n"
   ]
  },
  {
   "cell_type": "markdown",
   "metadata": {},
   "source": [
    "- The moving average can give traders a sense regarding whether the trend is up or down, while also identifying potential support or resistance areas.\n",
    "- The 180-day moving average is represented as a line on charts and represents the average price over the past 180 days.\n",
    "- When a stock price moves below the 180-day moving average, it's considered a bearish signal indicating a likely downward trend in the stock. When the price moves above, it's a bullish signal.\n"
   ]
  }
 ],
 "metadata": {
  "language_info": {
   "name": "python"
  },
  "orig_nbformat": 4
 },
 "nbformat": 4,
 "nbformat_minor": 2
}
