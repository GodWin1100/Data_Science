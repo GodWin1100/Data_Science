{
 "cells": [
  {
   "cell_type": "markdown",
   "metadata": {},
   "source": [
    "# Python Advance Assignment-19\n"
   ]
  },
  {
   "cell_type": "markdown",
   "metadata": {},
   "source": [
    "## Q1. Define the relationship between a class and its instances. Is it a one-to-one or a one-to-many partnership, for example?\n"
   ]
  },
  {
   "cell_type": "markdown",
   "metadata": {},
   "source": [
    "- Relationship between a class and it's instances is one-to-many partnership.\n"
   ]
  },
  {
   "cell_type": "markdown",
   "metadata": {},
   "source": [
    "## Q2. What kind of data is held only in an instance?\n"
   ]
  },
  {
   "cell_type": "markdown",
   "metadata": {},
   "source": [
    "- Instance object holds the instance variables of the class which are specific to that specific instance object.\n"
   ]
  },
  {
   "cell_type": "markdown",
   "metadata": {},
   "source": [
    "## Q3. What kind of knowledge is stored in a class?\n"
   ]
  },
  {
   "cell_type": "markdown",
   "metadata": {},
   "source": [
    "- A class act as blueprint which consists of data members and functions/methods.\n"
   ]
  },
  {
   "cell_type": "markdown",
   "metadata": {},
   "source": [
    "## Q4. What exactly is a method, and how is it different from a regular function?\n"
   ]
  },
  {
   "cell_type": "markdown",
   "metadata": {},
   "source": [
    "- Method can only be called via it's instance and not from any function. Method has access to the instance variables.\n",
    "- Function does not have access to instance variables nor it can modify it.\n"
   ]
  },
  {
   "cell_type": "markdown",
   "metadata": {},
   "source": [
    "## Q5. Is inheritance supported in Python, and if so, what is the syntax?\n"
   ]
  },
  {
   "cell_type": "markdown",
   "metadata": {},
   "source": [
    "- Python supports inheritance.\n",
    "\n",
    "```py\n",
    "class Parent:\n",
    "  pass\n",
    "\n",
    "class Child(Parent): # inherits Parent class\n",
    "  pass\n",
    "```\n"
   ]
  },
  {
   "cell_type": "markdown",
   "metadata": {},
   "source": [
    "## Q6. How much encapsulation (making instance or class variables private) does Python support?\n"
   ]
  },
  {
   "cell_type": "markdown",
   "metadata": {},
   "source": [
    "- Python does not have the private keyword, unlike some other object oriented languages, but encapsulation can be done.\n",
    "- Instead, it relies on the convention: a class variable that should not directly be accessed should be prefixed with an underscore.\n"
   ]
  },
  {
   "cell_type": "markdown",
   "metadata": {},
   "source": [
    "## Q7. How do you distinguish between a class variable and an instance variable?\n"
   ]
  },
  {
   "cell_type": "markdown",
   "metadata": {},
   "source": [
    "- The Class Attribute is available to all the instance objects of that class.\n",
    "- Instance Attributes are accessible only to the object or Instance of that class.\n"
   ]
  },
  {
   "cell_type": "markdown",
   "metadata": {},
   "source": [
    "## Q8. When, if ever, can `self` be included in a class's method definitions?\n"
   ]
  },
  {
   "cell_type": "markdown",
   "metadata": {},
   "source": [
    "- Yes, self can included in class method definitions to access the instance variables inside class methods.\n"
   ]
  },
  {
   "cell_type": "markdown",
   "metadata": {},
   "source": [
    "## Q9. What is the difference between the `__add__` and the `__radd__` methods?\n"
   ]
  },
  {
   "cell_type": "markdown",
   "metadata": {},
   "source": [
    "- `__add__` performs addition from left to right.\n",
    "- `__radd__` performs addition from right to left.\n",
    "- Output of the function is not different as addition of two numbers from left ot right or vice verse gives same result.\n"
   ]
  },
  {
   "cell_type": "markdown",
   "metadata": {},
   "source": [
    "## Q10. When is it necessary to use a reflection method? When do you not need it, even though you support the operation in question?\n"
   ]
  },
  {
   "cell_type": "markdown",
   "metadata": {},
   "source": [
    "- Reflection refers to the ability for code to be able to examine attributes about objects that might be passed as parameters to a function.\n",
    "- A Python script can find out about the type, class, attributes and methods of an object. This is referred.\n",
    "- For example, if we write `type(obj)` then Python will return an object which represents the type of obj.\n"
   ]
  },
  {
   "cell_type": "markdown",
   "metadata": {},
   "source": [
    "## Q11. What is the `__iadd__` method called?\n"
   ]
  },
  {
   "cell_type": "markdown",
   "metadata": {},
   "source": [
    "- `__iadd__` method is called inplace addition which performs inplace addition operation `foo+=1`\n"
   ]
  },
  {
   "cell_type": "markdown",
   "metadata": {},
   "source": [
    "## Q12. Is the `__init__` method inherited by subclasses? What do you do if you need to customize its behavior within a subclass?\n"
   ]
  },
  {
   "cell_type": "markdown",
   "metadata": {},
   "source": [
    "- `__init__` method is inherited by subclasses.\n",
    "- We can use `super()` method to override it.\n"
   ]
  }
 ],
 "metadata": {
  "kernelspec": {
   "display_name": "Python 3.10.4 64-bit",
   "language": "python",
   "name": "python3"
  },
  "language_info": {
   "name": "python",
   "version": "3.10.4"
  },
  "orig_nbformat": 4,
  "vscode": {
   "interpreter": {
    "hash": "2e4a015a5e8b3d416719d76fc156fe7e163a5f8678adc2f1ead049a4ae2a6091"
   }
  }
 },
 "nbformat": 4,
 "nbformat_minor": 2
}
