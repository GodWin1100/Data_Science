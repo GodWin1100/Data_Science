{
 "cells": [
  {
   "cell_type": "markdown",
   "metadata": {},
   "source": [
    "# Python Basic Assignment-01\n"
   ]
  },
  {
   "cell_type": "markdown",
   "metadata": {},
   "source": [
    "## 1. In the below elements which of them are values or an expression? eg:- values can be integer or string and expressions will be mathematical operators.\n",
    "\n",
    "```py\n",
    "*\n",
    "'hello'\n",
    "-87.8\n",
    "-\n",
    "/\n",
    "+\n",
    "6\n",
    "```\n"
   ]
  },
  {
   "cell_type": "markdown",
   "metadata": {},
   "source": [
    "```py\n",
    "* => Expression\n",
    "'hello' => Value\n",
    "-87.8 => Value\n",
    "- => Expression\n",
    "/ => Expression\n",
    "+ => Expression\n",
    "6 => Value\n",
    "```\n"
   ]
  },
  {
   "cell_type": "markdown",
   "metadata": {},
   "source": [
    "## 2. What is the difference between string and variable?\n"
   ]
  },
  {
   "cell_type": "markdown",
   "metadata": {},
   "source": [
    "String:\n",
    "\n",
    "- A string is a sequence of character data-type.\n",
    "- It is represented using single or double quotes.\n",
    "\n",
    "Variable:\n",
    "\n",
    "- A variable is a name given to a memory location that holds a value.\n",
    "- Variable name is given by the user.\n",
    "- It can store different data types like string, float, etc.\n"
   ]
  },
  {
   "cell_type": "markdown",
   "metadata": {},
   "source": [
    "## 3. Describe three different data types.\n"
   ]
  },
  {
   "cell_type": "markdown",
   "metadata": {},
   "source": [
    "1. **`string`:**\n",
    "   This data type is used to store a single character or a series of characters. It is enclosed with single or double quotes.\n",
    "\n",
    "2. **`boolean`:**\n",
    "   This data type has only two values i.e. `True` & `False` which corresponds to 0 and 1 of binary data type respectively.\n",
    "\n",
    "3. **`list`:**\n",
    "   It is ordered collection of element with different data-type. This element can be accessed via their index and it's an iterable object.\n"
   ]
  },
  {
   "cell_type": "markdown",
   "metadata": {},
   "source": [
    "## 4. What is an expression made up of? What do all expressions do?\n"
   ]
  },
  {
   "cell_type": "markdown",
   "metadata": {},
   "source": [
    "An expression is a combination of operators and operands as well as values that is intended to produce some value after it's execution/evaluation.  \n",
    "Eg.  \n",
    "Consider the expression `x = 3 + 6`  \n",
    "When this is executed, the resultant value `9` will be stored in variable x.  \n",
    "Here `3 & 6` are operands and `+` is operator\n"
   ]
  },
  {
   "cell_type": "markdown",
   "metadata": {},
   "source": [
    "## 5. This assignment statements, like spam = 10. What is the difference between an expression and a statement?\n"
   ]
  },
  {
   "cell_type": "markdown",
   "metadata": {},
   "source": [
    "Assignment statement is basically assigning right hand side value to the left hand side variable eg. `x=9*8` and `spam=10`. Here 10 is assigned to variable spam.  \n",
    "Expression consists of operators and operands i.e. mathematical, conditional expressions, etc. It will always produce or returns a result value\n"
   ]
  },
  {
   "cell_type": "markdown",
   "metadata": {},
   "source": [
    "## 6. After running the following code, what does the variable bacon contain?\n",
    "\n",
    "```py\n",
    "bacon = 22\n",
    "bacon + 1\n",
    "```\n"
   ]
  },
  {
   "cell_type": "markdown",
   "metadata": {},
   "source": [
    "Variable `bacon` will contain `22` only as +1 is added in the expression but it's not stored in the variable itself.\n"
   ]
  },
  {
   "cell_type": "markdown",
   "metadata": {},
   "source": [
    "## 7. What should the values of the following two terms be?\n",
    "\n",
    "```py\n",
    "'spam' + 'spamspam'\n",
    "'spam' * 3\n",
    "```\n"
   ]
  },
  {
   "cell_type": "markdown",
   "metadata": {},
   "source": [
    "Both the statement will return `spamspamspam`.  \n",
    "First method is string concatenation while second method is string multiplication\n"
   ]
  },
  {
   "cell_type": "markdown",
   "metadata": {},
   "source": [
    "## 8. Why is eggs a valid variable name while 100 is invalid?\n"
   ]
  },
  {
   "cell_type": "markdown",
   "metadata": {},
   "source": [
    "According to rule variable cannot start with numbers. Hence, eggs is a valid variable while 100 is invalid.\n"
   ]
  },
  {
   "cell_type": "markdown",
   "metadata": {},
   "source": [
    "## 9. What three functions can be used to get the integer, floating-point number, or string version of a value?\n"
   ]
  },
  {
   "cell_type": "markdown",
   "metadata": {},
   "source": [
    "Type casting functions are used for casting the type of value.\n",
    "\n",
    "```py\n",
    "int() => used to cast valid value of other datatype to integer\n",
    "float() => used to cast valid value of other datatype to floating-point number\n",
    "str() => used to cast valid value of other datatype to string\n",
    "```\n"
   ]
  },
  {
   "cell_type": "markdown",
   "metadata": {},
   "source": [
    "## 10. Why does this expression cause an error? How can you fix it?\n",
    "\n",
    "```py\n",
    "'I have eaten ' + 99 + ' burritos.'\n",
    "```\n"
   ]
  },
  {
   "cell_type": "markdown",
   "metadata": {},
   "source": [
    "Here it's trying to do string concatenation. It will throw error as 99 is not a string.  \n",
    "We can fix this by typecasting 99 to string as follows:-\n",
    "\n",
    "```py\n",
    "'I have eaten' + str(99) + ' burritos.'\n",
    "```\n"
   ]
  }
 ],
 "metadata": {
  "interpreter": {
   "hash": "94b533eeaf157eaf74bdfc2e654ed2c377d904e5d4016062aa8273fe06f5bb06"
  },
  "kernelspec": {
   "display_name": "Python 3.8.10 ('fsds')",
   "language": "python",
   "name": "python3"
  },
  "language_info": {
   "name": "python",
   "version": "3.8.10"
  },
  "orig_nbformat": 4
 },
 "nbformat": 4,
 "nbformat_minor": 2
}
