{
 "cells": [
  {
   "cell_type": "markdown",
   "metadata": {},
   "source": [
    "# Python Basic Assignment-24\n"
   ]
  },
  {
   "cell_type": "markdown",
   "metadata": {},
   "source": [
    "## 1. What is the relationship between `def` statements and `lambda` expressions ?\n"
   ]
  },
  {
   "cell_type": "markdown",
   "metadata": {},
   "source": [
    "`def` is used to create a normal named function. It needs to be called for execution.  \n",
    "`lambda` is used to create anonymous function which can be called at the moment it's declared i.e. it'e immediately invoked.\n"
   ]
  },
  {
   "cell_type": "markdown",
   "metadata": {},
   "source": [
    "## 2. What is the benefit of `lambda`?\n"
   ]
  },
  {
   "cell_type": "markdown",
   "metadata": {},
   "source": [
    "- Can be used without giving any name. Hence, anonymous function.\n",
    "- One liner code.\n"
   ]
  },
  {
   "cell_type": "markdown",
   "metadata": {},
   "source": [
    "## 3. Compare and contrast `map`, `filter`, and `reduce`.\n"
   ]
  },
  {
   "cell_type": "markdown",
   "metadata": {},
   "source": [
    "`map()`: The `map()` function is a type of higher-order. This function takes another function as a parameter along with a sequence of iterables and returns an output after applying the function to each iterable present in the sequence.\n",
    "\n",
    "`filter()`: The `filter()` function is used to create an output list consisting of values for which the function returns true.\n",
    "\n",
    "`reduce()`: The `reduce()` function, as the name describes, applies a given function to the iterables and returns a single value/accumulates all the elements into single value.\n"
   ]
  },
  {
   "cell_type": "markdown",
   "metadata": {},
   "source": [
    "## 4. What are function annotations, and how are they used?\n"
   ]
  },
  {
   "cell_type": "markdown",
   "metadata": {},
   "source": [
    "- Function annotation is the standard way to access the metadata with the arguments and the return value of the function.\n",
    "- They are only during compile-time and no significance at run-time.\n",
    "- They can be used to type check the function, it's parameter and it's return value.\n",
    "\n",
    "```py\n",
    "\n",
    "def add(a:int,b:int)->int:\n",
    "  return int(a+b)\n",
    "\n",
    "```\n"
   ]
  },
  {
   "cell_type": "markdown",
   "metadata": {},
   "source": [
    "## 5. What are recursive functions, and how are they used?\n"
   ]
  },
  {
   "cell_type": "markdown",
   "metadata": {},
   "source": [
    "A recursive function is a function that calls itself during its execution. This means that the function will continue to call itself until break condition is met.\n",
    "\n",
    "```py\n",
    "def fib(n):\n",
    "    if n < 1:\n",
    "        return 1\n",
    "    return n * fib(n - 1)\n",
    "```\n"
   ]
  },
  {
   "cell_type": "markdown",
   "metadata": {},
   "source": [
    "## 6. What are some general design guidelines for coding functions?\n"
   ]
  },
  {
   "cell_type": "markdown",
   "metadata": {},
   "source": [
    "- Always use docstring that describes the usage and variables of function\n",
    "- use of global variables to be limited to min\n",
    "- return type is needed and print statement should be limited to minimum\n",
    "- function name should be in synchronous with function\n",
    "- variable name should not start with numbers\n",
    "- constant should be represented in ALL CAPS\n"
   ]
  },
  {
   "cell_type": "markdown",
   "metadata": {},
   "source": [
    "## 7. Name three or more ways that functions can communicate results to a caller.\n"
   ]
  },
  {
   "cell_type": "markdown",
   "metadata": {},
   "source": [
    "- Functions can send back results with return statements, by changing passed-in mutable arguments, and by setting global variables.\n",
    "- Functions may also communicate results with system devices such as files and sockets, but these are beyond our scope here.\n",
    "- Function can yield in case of generator function.\n",
    "- Function can display the result with print statement.\n"
   ]
  }
 ],
 "metadata": {
  "kernelspec": {
   "display_name": "Python 3.8.10 ('fsds')",
   "language": "python",
   "name": "python3"
  },
  "language_info": {
   "codemirror_mode": {
    "name": "ipython",
    "version": 3
   },
   "file_extension": ".py",
   "mimetype": "text/x-python",
   "name": "python",
   "nbconvert_exporter": "python",
   "pygments_lexer": "ipython3",
   "version": "3.8.10"
  },
  "orig_nbformat": 4,
  "vscode": {
   "interpreter": {
    "hash": "20f5f825ba7e1e0138bea706cf7ce76ba178632e6be331b5251920b13e58ac94"
   }
  }
 },
 "nbformat": 4,
 "nbformat_minor": 2
}
