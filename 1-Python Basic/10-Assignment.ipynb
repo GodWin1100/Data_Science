{
 "cells": [
  {
   "cell_type": "markdown",
   "metadata": {},
   "source": [
    "# Python Basic Assignment-10\n"
   ]
  },
  {
   "cell_type": "markdown",
   "metadata": {},
   "source": [
    "## 1. How do you distinguish between `shutil.copy()` and `shutil.copytree()`?\n"
   ]
  },
  {
   "cell_type": "markdown",
   "metadata": {},
   "source": [
    "`shutil.copy()`: will copy a single file.  \n",
    "`shutil.copytree()`: will copy an entire folder with it's file.\n"
   ]
  },
  {
   "cell_type": "markdown",
   "metadata": {},
   "source": [
    "## 2. What function is used to rename files??\n"
   ]
  },
  {
   "cell_type": "markdown",
   "metadata": {},
   "source": [
    "`os.rename(src,dst)`\n"
   ]
  },
  {
   "cell_type": "markdown",
   "metadata": {},
   "source": [
    "## 3. What is the difference between the `delete` functions in the `send2trash` and `shutil` modules?\n"
   ]
  },
  {
   "cell_type": "markdown",
   "metadata": {},
   "source": [
    "- `send2trash`: will move file or folder to recycle bin.\n",
    "- `shutil`: will permanently delete file or folder.\n"
   ]
  },
  {
   "cell_type": "markdown",
   "metadata": {},
   "source": [
    "## 4. ZipFile objects have a `close()` method just like File objects’ `close()` method. What ZipFile method is equivalent to File objects’ `open()` method?\n"
   ]
  },
  {
   "cell_type": "markdown",
   "metadata": {},
   "source": [
    "`zipfile.ZipFile(file, mode)` is equivalent to `open()` function\n"
   ]
  },
  {
   "cell_type": "markdown",
   "metadata": {},
   "source": [
    "## 5. Create a programme that searches a folder tree for files with a certain file extension (such as .pdf or .jpg). Copy these files from whatever location they are in to a new folder.\n"
   ]
  },
  {
   "cell_type": "code",
   "execution_count": 19,
   "metadata": {},
   "outputs": [
    {
     "name": "stdout",
     "output_type": "stream",
     "text": [
      "test.ini is copied from ./ to ./dummy/setting/\n",
      "'./dummy\\\\setting\\\\lock.ini' and './dummy/setting/lock.ini' are the same file\n"
     ]
    }
   ],
   "source": [
    "import os, shutil\n",
    "\n",
    "\n",
    "def copyFile(src: str, dst: str, ext: str):\n",
    "    \"\"\"Copy file with defined `ext` extension from directory tree to other directory\n",
    "\n",
    "    Args:\n",
    "        src (str): Source directory path\n",
    "        dst (str): Destination directory path\n",
    "        ext (str): extension of file\n",
    "    \"\"\"\n",
    "    try:\n",
    "        for folder, sub_folder, file in os.walk(\"./\"):\n",
    "            for filename in file:\n",
    "                if filename.endswith(ext):\n",
    "                    shutil.copy(os.path.join(folder, filename), dst)\n",
    "                    print(f\"{filename} is copied from {src} to {dst}\")\n",
    "    except Exception as e:\n",
    "        print(e)\n",
    "\n",
    "\n",
    "copyFile(\"./\", \"./dummy/setting/\", \".ini\")\n"
   ]
  }
 ],
 "metadata": {
  "kernelspec": {
   "display_name": "Python 3.8.10 ('fsds')",
   "language": "python",
   "name": "python3"
  },
  "language_info": {
   "codemirror_mode": {
    "name": "ipython",
    "version": 3
   },
   "file_extension": ".py",
   "mimetype": "text/x-python",
   "name": "python",
   "nbconvert_exporter": "python",
   "pygments_lexer": "ipython3",
   "version": "3.8.10"
  },
  "orig_nbformat": 4,
  "vscode": {
   "interpreter": {
    "hash": "20f5f825ba7e1e0138bea706cf7ce76ba178632e6be331b5251920b13e58ac94"
   }
  }
 },
 "nbformat": 4,
 "nbformat_minor": 2
}
