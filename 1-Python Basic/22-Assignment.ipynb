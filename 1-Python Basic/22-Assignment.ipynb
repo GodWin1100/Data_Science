{
 "cells": [
  {
   "cell_type": "markdown",
   "metadata": {},
   "source": [
    "# Python Basic Assignment-22\n"
   ]
  },
  {
   "cell_type": "markdown",
   "metadata": {},
   "source": [
    "## 1. What is the result of the code, and explain?\n",
    "\n",
    "```py\n",
    "X = 'iNeuron'\n",
    "def func():\n",
    "  print(X)\n",
    "\n",
    "func()\n",
    "```\n"
   ]
  },
  {
   "cell_type": "code",
   "execution_count": 1,
   "metadata": {},
   "outputs": [
    {
     "name": "stdout",
     "output_type": "stream",
     "text": [
      "iNeuron\n"
     ]
    }
   ],
   "source": [
    "X = \"iNeuron\"\n",
    "\n",
    "\n",
    "def func():\n",
    "    print(X)\n",
    "\n",
    "\n",
    "func()\n",
    "# Print Global X as there's no any local X variable\n"
   ]
  },
  {
   "cell_type": "markdown",
   "metadata": {},
   "source": [
    "## 2. What is the result of the code, and explain?\n",
    "\n",
    "```py\n",
    "X = 'iNeuron'\n",
    "def func():\n",
    "  X = 'NI!'\n",
    "\n",
    "\n",
    "func()\n",
    "print(X)\n",
    "```\n"
   ]
  },
  {
   "cell_type": "code",
   "execution_count": 3,
   "metadata": {},
   "outputs": [
    {
     "name": "stdout",
     "output_type": "stream",
     "text": [
      "iNeuron\n"
     ]
    }
   ],
   "source": [
    "X = \"iNeuron\"\n",
    "\n",
    "\n",
    "def func():\n",
    "    X = \"NI!\"\n",
    "\n",
    "\n",
    "func()\n",
    "print(X)\n",
    "# Output is iNeuron because func() has X in it's local variable which will not mutate global X\n"
   ]
  },
  {
   "cell_type": "markdown",
   "metadata": {},
   "source": [
    "## 3. What does this code print, and why?\n",
    "\n",
    "```py\n",
    "X = 'iNeuron'\n",
    "def func():\n",
    "  X = 'NI'\n",
    "  print(X)\n",
    "\n",
    "\n",
    "func()\n",
    "print(X)\n",
    "```\n"
   ]
  },
  {
   "cell_type": "code",
   "execution_count": 5,
   "metadata": {},
   "outputs": [
    {
     "name": "stdout",
     "output_type": "stream",
     "text": [
      "NI\n",
      "iNeuron\n"
     ]
    }
   ],
   "source": [
    "X = \"iNeuron\"\n",
    "\n",
    "\n",
    "def func():\n",
    "    X = \"NI\"\n",
    "    print(X)\n",
    "\n",
    "\n",
    "func()\n",
    "print(X)\n",
    "\n",
    "# NI is printed because of func() which has local variable of X=\"NI\" and iNeuron is Global Scope X\n"
   ]
  },
  {
   "cell_type": "markdown",
   "metadata": {},
   "source": [
    "## 4. What output does this code produce? Why?\n",
    "\n",
    "```py\n",
    "X = 'iNeuron'\n",
    "def func():\n",
    "  global X\n",
    "  X = 'NI'\n",
    "\n",
    "\n",
    "func()\n",
    "print(X)\n",
    "```\n"
   ]
  },
  {
   "cell_type": "code",
   "execution_count": 7,
   "metadata": {},
   "outputs": [
    {
     "name": "stdout",
     "output_type": "stream",
     "text": [
      "NI\n"
     ]
    }
   ],
   "source": [
    "X = \"iNeuron\"\n",
    "\n",
    "\n",
    "def func():\n",
    "    global X\n",
    "    X = \"NI\"\n",
    "\n",
    "\n",
    "func()\n",
    "print(X)\n",
    "# Because in func() we are referencing Global X with global keyword hence it will mutate global X\n"
   ]
  },
  {
   "cell_type": "markdown",
   "metadata": {},
   "source": [
    "## 5. What about this code—what’s the output, and why?\n",
    "\n",
    "```py\n",
    "X = 'iNeuron'\n",
    "def func():\n",
    "  X = 'NI'\n",
    "  def nested():\n",
    "    print(X)\n",
    "  nested()\n",
    "\n",
    "func()\n",
    "X\n",
    "```\n"
   ]
  },
  {
   "cell_type": "code",
   "execution_count": 9,
   "metadata": {},
   "outputs": [
    {
     "name": "stdout",
     "output_type": "stream",
     "text": [
      "NI\n"
     ]
    },
    {
     "data": {
      "text/plain": [
       "'iNeuron'"
      ]
     },
     "execution_count": 9,
     "metadata": {},
     "output_type": "execute_result"
    }
   ],
   "source": [
    "X = \"iNeuron\"\n",
    "\n",
    "\n",
    "def func():\n",
    "    X = \"NI\"\n",
    "\n",
    "    def nested():\n",
    "        print(X)\n",
    "\n",
    "    nested()\n",
    "\n",
    "\n",
    "func()\n",
    "X\n",
    "# it will print NI because nested() is referencing to local X of func() because X is not defined in nested()\n",
    "# iNeuron is returned from Global X\n"
   ]
  },
  {
   "cell_type": "markdown",
   "metadata": {},
   "source": [
    "## 6. How about this code: what is its output in Python 3, and explain?\n",
    "\n",
    "```py\n",
    "def func():\n",
    "  X = 'NI'\n",
    "  def nested():\n",
    "    nonlocal X\n",
    "    X = 'Spam'\n",
    "  nested()\n",
    "  print(X)\n",
    "\n",
    "\n",
    "func()\n",
    "```\n"
   ]
  },
  {
   "cell_type": "code",
   "execution_count": 10,
   "metadata": {},
   "outputs": [
    {
     "name": "stdout",
     "output_type": "stream",
     "text": [
      "Spam\n"
     ]
    }
   ],
   "source": [
    "def func():\n",
    "    X = \"NI\"\n",
    "\n",
    "    def nested():\n",
    "        nonlocal X\n",
    "        X = \"Spam\"\n",
    "\n",
    "    nested()\n",
    "    print(X)\n",
    "\n",
    "\n",
    "func()\n",
    "# Nonlocal variables are used in nested functions where variable should not belong to inner function.\n",
    "# This means that the variable can be neither in the local nor the global scope, i.e. it will use parent's variable.\n"
   ]
  }
 ],
 "metadata": {
  "kernelspec": {
   "display_name": "Python 3.8.10 ('fsds')",
   "language": "python",
   "name": "python3"
  },
  "language_info": {
   "codemirror_mode": {
    "name": "ipython",
    "version": 3
   },
   "file_extension": ".py",
   "mimetype": "text/x-python",
   "name": "python",
   "nbconvert_exporter": "python",
   "pygments_lexer": "ipython3",
   "version": "3.8.10"
  },
  "orig_nbformat": 4,
  "vscode": {
   "interpreter": {
    "hash": "20f5f825ba7e1e0138bea706cf7ce76ba178632e6be331b5251920b13e58ac94"
   }
  }
 },
 "nbformat": 4,
 "nbformat_minor": 2
}
