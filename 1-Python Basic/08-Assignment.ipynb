{
 "cells": [
  {
   "cell_type": "markdown",
   "metadata": {},
   "source": [
    "# Python Basic Assignment-08\n"
   ]
  },
  {
   "cell_type": "markdown",
   "metadata": {},
   "source": [
    "## 1. Is the Python Standard Library included with PyInputPlus?\n"
   ]
  },
  {
   "cell_type": "markdown",
   "metadata": {},
   "source": [
    "No\n"
   ]
  },
  {
   "cell_type": "markdown",
   "metadata": {},
   "source": [
    "## 2. Why is PyInputPlus commonly imported with `import pyinputplus as pypi`?\n"
   ]
  },
  {
   "cell_type": "markdown",
   "metadata": {},
   "source": [
    "pypi is alias for pyintplus.\n"
   ]
  },
  {
   "cell_type": "markdown",
   "metadata": {},
   "source": [
    "## 3. How do you distinguish between `inputInt()` and `inputFloat()`?\n"
   ]
  },
  {
   "cell_type": "markdown",
   "metadata": {},
   "source": [
    "`inputInt()`: Accepts integer value and return as type int.  \n",
    "`inputFloat()`: Accepts float/integer value and return as type float.\n"
   ]
  },
  {
   "cell_type": "markdown",
   "metadata": {},
   "source": [
    "## 4. Using PyInputPlus, how do you ensure that the user enters a whole number between 0 and 99?\n"
   ]
  },
  {
   "cell_type": "markdown",
   "metadata": {},
   "source": [
    "We can use `inputInt()` for whole number with min and max parameter as 0 and 99 respectively.\n",
    "\n",
    "```py\n",
    "import pyinputplus as pypi\n",
    "pypi.inputInt(prompt=\"Enter whole no. between 0 and 99\", min=0, max=99)\n",
    "```\n"
   ]
  },
  {
   "cell_type": "markdown",
   "metadata": {},
   "source": [
    "## 5. What is transferred to the keyword arguments allowRegexes and blockRegexes?\n"
   ]
  },
  {
   "cell_type": "markdown",
   "metadata": {},
   "source": [
    "We can use regular expressions to specify whether an input is allowed or not.\n",
    "\n",
    "The `allowRegexes` and `blockRegexes` keyword arguments take a list of regular expression strings to determine whether it will be accepted or rejected as valid input respectively.\n"
   ]
  },
  {
   "cell_type": "markdown",
   "metadata": {},
   "source": [
    "## 6. If a blank input is entered three times, what does `inputStr(limit=3)` do?\n"
   ]
  },
  {
   "cell_type": "markdown",
   "metadata": {},
   "source": [
    "It will throw `RetryLimitException`.\n"
   ]
  },
  {
   "cell_type": "markdown",
   "metadata": {},
   "source": [
    "## 7. If blank input is entered three times, what does `inputStr(limit=3, default='hello')` do?\n"
   ]
  },
  {
   "cell_type": "markdown",
   "metadata": {},
   "source": [
    "It will consider default value as input i.e. `hello` will be accepted.\n"
   ]
  }
 ],
 "metadata": {
  "language_info": {
   "name": "python"
  },
  "orig_nbformat": 4
 },
 "nbformat": 4,
 "nbformat_minor": 2
}
