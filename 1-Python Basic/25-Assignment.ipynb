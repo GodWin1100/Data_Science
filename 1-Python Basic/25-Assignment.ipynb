{
 "cells": [
  {
   "cell_type": "markdown",
   "metadata": {},
   "source": [
    "# Python Basic Assignment-25\n"
   ]
  },
  {
   "cell_type": "markdown",
   "metadata": {},
   "source": [
    "## 1. What is the difference between enclosing a `list comprehension` in square brackets and parentheses?\n"
   ]
  },
  {
   "cell_type": "markdown",
   "metadata": {},
   "source": [
    "- `list comprehension` with brackets produces `list`.\n",
    "- `list comprehension` with parentheses produces `generator`.\n"
   ]
  },
  {
   "cell_type": "markdown",
   "metadata": {},
   "source": [
    "## 2. What is the relationship between `generators` and `iterators`?\n"
   ]
  },
  {
   "cell_type": "markdown",
   "metadata": {},
   "source": [
    "- `Generators` are another way of creating `iterators` in a simple way where it uses the keyword yield statement instead of return statement in a defined function.\n",
    "- `Generators` are implemented using a function with yield that returns the data without affecting or exiting the function.\n",
    "- It will return a sequence of data in an iterable format where we need to iterate over the sequence to use the data as they won’t store the entire sequence in the memory.\n",
    "- An `iterator` is an object which contains a countable number of values and it is used to iterate over iterable objects like list, tuples etc\n"
   ]
  },
  {
   "cell_type": "markdown",
   "metadata": {},
   "source": [
    "## 3. What are the signs that a function is a `generator` function?\n"
   ]
  },
  {
   "cell_type": "markdown",
   "metadata": {},
   "source": [
    "If a function contains at least one yield statement (it may contain other yield or return statements), it becomes a generator function. Both yield and return will return some value from a function.\n"
   ]
  },
  {
   "cell_type": "markdown",
   "metadata": {},
   "source": [
    "## 4. What is the purpose of a `yield` statement?\n"
   ]
  },
  {
   "cell_type": "markdown",
   "metadata": {},
   "source": [
    "- To return data without stopping/exiting the execution of the function.\n",
    "- It's provide a value to the code looping over the generator and pauses execution of the generator.\n"
   ]
  },
  {
   "cell_type": "markdown",
   "metadata": {},
   "source": [
    "## 5. What is the relationship between `map` calls and `list comprehensions`? Make a comparison and contrast between the two.\n"
   ]
  },
  {
   "cell_type": "markdown",
   "metadata": {},
   "source": [
    "1. We can provide filter condition in `list comprehension` no such facility is available in `map`.\n",
    "2. `list comprehension` is better readable.\n",
    "3. `list comprehension` results `list` object, while `map` returns `map` object.\n",
    "4. `list comprehension` is faster wen we need to calculate expression while `map` is faster for already defined functions.\n"
   ]
  }
 ],
 "metadata": {
  "language_info": {
   "name": "python"
  },
  "orig_nbformat": 4
 },
 "nbformat": 4,
 "nbformat_minor": 2
}
