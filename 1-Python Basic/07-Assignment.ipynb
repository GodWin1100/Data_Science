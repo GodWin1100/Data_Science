{
 "cells": [
  {
   "cell_type": "markdown",
   "metadata": {},
   "source": [
    "# Python Basic Assignment-07\n"
   ]
  },
  {
   "cell_type": "markdown",
   "metadata": {},
   "source": [
    "## 1. What is the name of the feature responsible for generating Regex objects?\n"
   ]
  },
  {
   "cell_type": "markdown",
   "metadata": {},
   "source": [
    "`compile()` from `re` module is responsible for generating regex object.\n"
   ]
  },
  {
   "cell_type": "markdown",
   "metadata": {},
   "source": [
    "## 2. Why do raw strings often appear in Regex objects?\n"
   ]
  },
  {
   "cell_type": "markdown",
   "metadata": {},
   "source": [
    "Raw strings are used so that escaped character are RegEx safely and retain their meaning rather then escape characters.\n"
   ]
  },
  {
   "cell_type": "markdown",
   "metadata": {},
   "source": [
    "## 3. What is the return value of the `search()` method?\n"
   ]
  },
  {
   "cell_type": "markdown",
   "metadata": {},
   "source": [
    "`search()` would return the match objects else None.\n"
   ]
  },
  {
   "cell_type": "markdown",
   "metadata": {},
   "source": [
    "## 4. From a Match item, how do you get the actual strings that match the pattern?\n"
   ]
  },
  {
   "cell_type": "markdown",
   "metadata": {},
   "source": [
    "`group()` method returns the actual string that match the pattern.\n"
   ]
  },
  {
   "cell_type": "markdown",
   "metadata": {},
   "source": [
    "## 5. In the regex which created from the `r'(\\d\\d\\d)-(\\d\\d\\d-\\d\\d\\d\\d)'`, what does group zero cover? Group 2? Group 1?\n"
   ]
  },
  {
   "cell_type": "markdown",
   "metadata": {},
   "source": [
    "group 0: `(\\d\\d\\d) - (\\d\\d\\d-\\d\\d\\d\\d)`  \n",
    "group 1: `(\\d\\d\\d)`  \n",
    "group 2: `(\\d\\d\\d-\\d\\d\\d\\d)`\n"
   ]
  },
  {
   "cell_type": "code",
   "execution_count": 37,
   "metadata": {},
   "outputs": [
    {
     "data": {
      "text/plain": [
       "('123-123-4567', '123', '123-4567')"
      ]
     },
     "execution_count": 37,
     "metadata": {},
     "output_type": "execute_result"
    }
   ],
   "source": [
    "import re\n",
    "\n",
    "res = re.search(r\"(\\d\\d\\d)-(\\d\\d\\d-\\d\\d\\d\\d)\", \"123-123-4567\")\n",
    "res.group(0), res.group(1), res.group(2)\n"
   ]
  },
  {
   "cell_type": "markdown",
   "metadata": {},
   "source": [
    "## 6. In standard expression syntax, parentheses and intervals have distinct meanings. How can you tell a regex that you want it to fit real parentheses and periods?\n"
   ]
  },
  {
   "cell_type": "markdown",
   "metadata": {},
   "source": [
    "We will escape special character as `. ( )` are special character in regex. We can escape those with leading `\\` backslash.  \n",
    "`\\. \\( \\)`\n"
   ]
  },
  {
   "cell_type": "markdown",
   "metadata": {},
   "source": [
    "## 7. The `findall()` method returns a string list or a list of string tuples. What causes it to return one of the two options?\n"
   ]
  },
  {
   "cell_type": "markdown",
   "metadata": {},
   "source": [
    "If there is a one group in the expression, `findall()` returns list of strings.  \n",
    "If there are groups in the expression, `findall()` returns list of tuple of strings.\n"
   ]
  },
  {
   "cell_type": "code",
   "execution_count": 38,
   "metadata": {},
   "outputs": [
    {
     "data": {
      "text/plain": [
       "[('9c', ''), ('5a', ''), ('89a', ''), ('', ' 9')]"
      ]
     },
     "execution_count": 38,
     "metadata": {},
     "output_type": "execute_result"
    }
   ],
   "source": [
    "import re\n",
    "\n",
    "re.findall(r\"(\\d+\\w+)|(\\W\\d)$\", \"sector 9c, 5a division at 89a 9\")\n"
   ]
  },
  {
   "cell_type": "code",
   "execution_count": 39,
   "metadata": {},
   "outputs": [
    {
     "data": {
      "text/plain": [
       "[('123', '123-4567'), ('254', '789-4587')]"
      ]
     },
     "execution_count": 39,
     "metadata": {},
     "output_type": "execute_result"
    }
   ],
   "source": [
    "re.findall(r\"(\\d\\d\\d)-(\\d\\d\\d-\\d\\d\\d\\d)\", \"123-123-4567 is tel 254-789-45879\")\n"
   ]
  },
  {
   "cell_type": "code",
   "execution_count": 40,
   "metadata": {},
   "outputs": [
    {
     "data": {
      "text/plain": [
       "['fsds', 'fsds']"
      ]
     },
     "execution_count": 40,
     "metadata": {},
     "output_type": "execute_result"
    }
   ],
   "source": [
    "re.findall(r\"(fsds)\", \"fsds is full stack data science. fsds is abbreviation\")\n"
   ]
  },
  {
   "cell_type": "markdown",
   "metadata": {},
   "source": [
    "## 8. In standard expressions, what does the `|` character mean?\n"
   ]
  },
  {
   "cell_type": "markdown",
   "metadata": {},
   "source": [
    "`|` stands for `boolean OR`\n"
   ]
  },
  {
   "cell_type": "markdown",
   "metadata": {},
   "source": [
    "## 9. In regular expressions, what does the character `?` stand for?\n"
   ]
  },
  {
   "cell_type": "markdown",
   "metadata": {},
   "source": [
    "`?` stands for whether preceding pattern matches 0 or 1 occurrence\n"
   ]
  },
  {
   "cell_type": "markdown",
   "metadata": {},
   "source": [
    "## 10. In regular expressions, what is the difference between the `+` and `*` characters?\n"
   ]
  },
  {
   "cell_type": "markdown",
   "metadata": {},
   "source": [
    "`+` stands for whether preceding pattern matches 1 or more occurrence  \n",
    "`*` stands for whether preceding pattern matches 0 or more occurrence\n"
   ]
  },
  {
   "cell_type": "markdown",
   "metadata": {},
   "source": [
    "## 11. What is the difference between `{4}` and `{4,5}` in regular expression?\n"
   ]
  },
  {
   "cell_type": "markdown",
   "metadata": {},
   "source": [
    "`{4}` match exactly 4 terms of preceding token.  \n",
    "`{4, 5}` match exactly 4 to 5 terms of preceding token.\n"
   ]
  },
  {
   "cell_type": "markdown",
   "metadata": {},
   "source": [
    "## 12. What do you mean by the `\\d`, `\\w`, and `\\s` shorthand character classes signify in regular expressions?\n"
   ]
  },
  {
   "cell_type": "markdown",
   "metadata": {},
   "source": [
    "`\\d`: Matches any digit character (0-9)  \n",
    "`\\w`: Matches any word character (alphanumeric and underscore)  \n",
    "`\\s`: Matches any whitespace character (spaces, tab, line breaks)\n"
   ]
  },
  {
   "cell_type": "markdown",
   "metadata": {},
   "source": [
    "## 13. What do means by `\\D`, `\\W`, and `\\S` shorthand character classes signify in regular expressions?\n"
   ]
  },
  {
   "cell_type": "markdown",
   "metadata": {},
   "source": [
    "`\\d`: Matches any character that is not digit character (0-9)  \n",
    "`\\w`: Matches any character that is not word character (alphanumeric and underscore)  \n",
    "`\\s`: Matches any character that is not whitespace character (spaces, tab, line breaks)\n"
   ]
  },
  {
   "cell_type": "markdown",
   "metadata": {},
   "source": [
    "## 14. What is the difference between `.*?` and `.*` ?\n"
   ]
  },
  {
   "cell_type": "markdown",
   "metadata": {},
   "source": [
    "`.*` performs a greedy match (match as much as it can and still allow the remainder of the regex to match)  \n",
    "`.*?` performs a nongreedy match (match the least amount of data while allowing the remainder of the regex to match)\n"
   ]
  },
  {
   "cell_type": "code",
   "execution_count": 48,
   "metadata": {},
   "outputs": [
    {
     "data": {
      "text/plain": [
       "(['aaaaaaa'], [('a', 'aa', 'aaaa')])"
      ]
     },
     "execution_count": 48,
     "metadata": {},
     "output_type": "execute_result"
    }
   ],
   "source": [
    "import re\n",
    "\n",
    "re.findall(r\"a+\", \"aaaaaaa\"), re.findall(r\"(a+?)(a{2})(a+)\", \"aaaaaaa\")\n"
   ]
  },
  {
   "cell_type": "markdown",
   "metadata": {},
   "source": [
    "## 15. What is the syntax for matching both numbers and lowercase letters with a character class?\n"
   ]
  },
  {
   "cell_type": "markdown",
   "metadata": {},
   "source": [
    "`[a-z0-9]` or `[0-9a-z]`\n"
   ]
  },
  {
   "cell_type": "markdown",
   "metadata": {},
   "source": [
    "## 16. What is the procedure for making a normal expression in regax case insensitive?\n"
   ]
  },
  {
   "cell_type": "markdown",
   "metadata": {},
   "source": [
    "We can pass ignore case flag. `re.IGNORECASE`\n"
   ]
  },
  {
   "cell_type": "code",
   "execution_count": 51,
   "metadata": {},
   "outputs": [
    {
     "data": {
      "text/plain": [
       "['ap', 'Ap']"
      ]
     },
     "execution_count": 51,
     "metadata": {},
     "output_type": "execute_result"
    }
   ],
   "source": [
    "import re\n",
    "\n",
    "re.findall(r\"(ap)\", \"apple Apple\", re.IGNORECASE)\n"
   ]
  },
  {
   "cell_type": "markdown",
   "metadata": {},
   "source": [
    "## 17. What does the `.` character normally match? What does it match if `re.DOTALL` is passed as 2nd argument in `re.compile()`?\n"
   ]
  },
  {
   "cell_type": "markdown",
   "metadata": {},
   "source": [
    "`.` matches any character except line breaks.  \n",
    "with `re.DOTALL` will match any character including line breaks.\n"
   ]
  },
  {
   "cell_type": "code",
   "execution_count": 54,
   "metadata": {},
   "outputs": [
    {
     "data": {
      "text/plain": [
       "(['a', '2'], ['a', '\\n', '2'])"
      ]
     },
     "execution_count": 54,
     "metadata": {},
     "output_type": "execute_result"
    }
   ],
   "source": [
    "import re\n",
    "\n",
    "re.findall(\".\", \"a\\n2\"), re.findall(\".\", \"a\\n2\", re.DOTALL)\n"
   ]
  },
  {
   "cell_type": "markdown",
   "metadata": {},
   "source": [
    "## 18. If `numRegex = re.compile(r'\\d+')`, what will `numRegex.sub('X', '11 drummers, 10 pipers, five rings, 4 hen')` return?\n"
   ]
  },
  {
   "cell_type": "code",
   "execution_count": 59,
   "metadata": {},
   "outputs": [
    {
     "data": {
      "text/plain": [
       "'X drummers, X pipers, five rings, X hen'"
      ]
     },
     "execution_count": 59,
     "metadata": {},
     "output_type": "execute_result"
    }
   ],
   "source": [
    "import re\n",
    "\n",
    "numRegex = re.compile(r\"\\d+\")  # match 1 or more digit character\n",
    "numRegex.sub(\"X\", \"11 drummers, 10 pipers, five rings, 4 hen\")  # substitute/replace matching pattern with X\n"
   ]
  },
  {
   "cell_type": "markdown",
   "metadata": {},
   "source": [
    "## 19. What does passing `re.VERBOSE` as the 2nd argument to `re.compile()` allow to do?\n"
   ]
  },
  {
   "cell_type": "markdown",
   "metadata": {},
   "source": [
    "`re.VERBOSE` allows to add whitespace and comments to string passed to `re.compile()`\n"
   ]
  },
  {
   "cell_type": "code",
   "execution_count": 69,
   "metadata": {},
   "outputs": [],
   "source": [
    "import re\n",
    "\n",
    "# Without Using VERBOSE\n",
    "regex_email = re.compile(r\"^([a-z]+)@([a-z]+)\\.([a-z\\.]{3})$\", re.IGNORECASE)\n",
    "\n",
    "# Using VERBOSE\n",
    "regex_email_verb = re.compile(\n",
    "    r\"\"\"\n",
    "            ^([a-z]+)              # local Part\n",
    "            @                      # single @ sign\n",
    "            ([a-z]+)               # Domain name\n",
    "            \\.                     # single Dot .\n",
    "            ([a-z]{3})$            # Top level Domain  \n",
    "             \"\"\",\n",
    "    re.VERBOSE | re.IGNORECASE,\n",
    ")\n"
   ]
  },
  {
   "cell_type": "code",
   "execution_count": 67,
   "metadata": {},
   "outputs": [
    {
     "data": {
      "text/plain": [
       "[('tester', 'tester', 'com')]"
      ]
     },
     "execution_count": 67,
     "metadata": {},
     "output_type": "execute_result"
    }
   ],
   "source": [
    "regex_email.findall(\"tester@tester.com\")\n"
   ]
  },
  {
   "cell_type": "code",
   "execution_count": 68,
   "metadata": {},
   "outputs": [
    {
     "data": {
      "text/plain": [
       "[('tester', 'tester', 'com')]"
      ]
     },
     "execution_count": 68,
     "metadata": {},
     "output_type": "execute_result"
    }
   ],
   "source": [
    "regex_email_verb.findall(\"tester@tester.com\")\n"
   ]
  },
  {
   "cell_type": "markdown",
   "metadata": {},
   "source": [
    "## 20. How would you write a regex that match a number with comma for every three digits? It must match the given following:\n",
    "\n",
    "```py\n",
    "'42'\n",
    "'1,234'\n",
    "'6,368,745'\n",
    "```\n",
    "\n",
    "but not the following:\n",
    "\n",
    "```py\n",
    "'12,34,567' # which has only two digits between the commas\n",
    "'1234' # which lacks commas\n",
    "```\n"
   ]
  },
  {
   "cell_type": "code",
   "execution_count": 95,
   "metadata": {},
   "outputs": [
    {
     "name": "stdout",
     "output_type": "stream",
     "text": [
      "42 is a match? True\n",
      "1,234 is a match? True\n",
      "6,368,745 is a match? True\n",
      "12,34,567 is a match? False\n",
      "1234 is a match? False\n"
     ]
    }
   ],
   "source": [
    "import re\n",
    "\n",
    "pat = re.compile(r\"^(\\d{1,3})(,\\d{3})*$\")  # r\"^\\d{1,3}(,\\d{3})*$\"  <<< search\n",
    "for elem in [\"42\", \"1,234\", \"6,368,745\", \"12,34,567\", \"1234\"]:\n",
    "    print(f\"{elem} is a match? {any(pat.findall(elem))}\")\n"
   ]
  },
  {
   "cell_type": "markdown",
   "metadata": {},
   "source": [
    "## 21. How would you write a regex that matches the full name of someone whose last name is Watanabe? You can assume that the first name that comes before it will always be one word that begins with a capital letter. The regex must match the following:\n",
    "\n",
    "```py\n",
    "'Haruto Watanabe'\n",
    "'Alice Watanabe'\n",
    "'RoboCop Watanabe'\n",
    "```\n",
    "\n",
    "but not the following:\n",
    "\n",
    "```py\n",
    "'haruto Watanabe' # where the first name is not capitalized\n",
    "'Mr. Watanabe' # where the preceding word has a non-letter character\n",
    "'Watanabe' # which has no first name\n",
    "'Haruto watanabe' # where Watanabe is not capitalized\n",
    "```\n"
   ]
  },
  {
   "cell_type": "code",
   "execution_count": 97,
   "metadata": {},
   "outputs": [
    {
     "name": "stdout",
     "output_type": "stream",
     "text": [
      "Haruto Watanabe is a match? True\n",
      "Alice Watanabe is a match? True\n",
      "RoboCop Watanabe is a match? True\n",
      "haruto Watanabe is a match? False\n",
      "Mr. Watanabe is a match? False\n",
      "Watanabe is a match? False\n",
      "Haruto watanabe is a match? False\n"
     ]
    }
   ],
   "source": [
    "pat = re.compile(r\"[A-Z]{1}[a-z]* (Watanabe)\")\n",
    "\n",
    "names = [\n",
    "    \"Haruto Watanabe\",\n",
    "    \"Alice Watanabe\",\n",
    "    \"RoboCop Watanabe\",\n",
    "    \"haruto Watanabe\",\n",
    "    \"Mr. Watanabe\",\n",
    "    \"Watanabe\",\n",
    "    \"Haruto watanabe\",\n",
    "]\n",
    "\n",
    "for elem in names:\n",
    "    print(f\"{elem} is a match? {any(pat.findall(elem))}\")\n"
   ]
  },
  {
   "cell_type": "markdown",
   "metadata": {},
   "source": [
    "## 22. How would you write a regex that matches a sentence where the first word is either Alice, Bob, or Carol; the second word is either eats, pets, or throws; the third word is apples, cats, or baseballs; and the sentence ends with a period? This regex should be case-insensitive. It must match the following:\n",
    "\n",
    "```py\n",
    "'Alice eats apples.'\n",
    "'Bob pets cats.'\n",
    "'Carol throws baseballs.'\n",
    "'Alice throws Apples.'\n",
    "'BOB EATS CATS.'\n",
    "```\n",
    "\n",
    "but not the following:\n",
    "\n",
    "```py\n",
    "'RoboCop eats apples.'\n",
    "'ALICE THROWS FOOTBALLS.'\n",
    "'Carol eats 7 cats.'\n",
    "```\n"
   ]
  },
  {
   "cell_type": "code",
   "execution_count": 98,
   "metadata": {},
   "outputs": [
    {
     "name": "stdout",
     "output_type": "stream",
     "text": [
      "Alice eats apples. is a match? True\n",
      "Bob pets cats. is a match? True\n",
      "Carol throws baseballs. is a match? True\n",
      "Alice throws Apples. is a match? True\n",
      "BOB EATS CATS. is a match? True\n",
      "RoboCop eats apples. is a match? False\n",
      "ALICE THROWS FOOTBALLS. is a match? False\n",
      "Carol eats 7 cats. is a match? False\n"
     ]
    }
   ],
   "source": [
    "pat = re.compile(r\"(Alice|Bob|Carol) (eats|pets|throws) (apples|cats|baseballs)\\.\", re.IGNORECASE)\n",
    "lst = [\n",
    "    \"Alice eats apples.\",\n",
    "    \"Bob pets cats.\",\n",
    "    \"Carol throws baseballs.\",\n",
    "    \"Alice throws Apples.\",\n",
    "    \"BOB EATS CATS.\",\n",
    "    \"RoboCop eats apples.\",\n",
    "    \"ALICE THROWS FOOTBALLS.\",\n",
    "    \"Carol eats 7 cats.\",\n",
    "]\n",
    "\n",
    "for elem in lst:\n",
    "    print(f\"{elem} is a match? {any(pat.findall(elem))}\")\n"
   ]
  }
 ],
 "metadata": {
  "kernelspec": {
   "display_name": "Python 3.8.10 ('fsds')",
   "language": "python",
   "name": "python3"
  },
  "language_info": {
   "codemirror_mode": {
    "name": "ipython",
    "version": 3
   },
   "file_extension": ".py",
   "mimetype": "text/x-python",
   "name": "python",
   "nbconvert_exporter": "python",
   "pygments_lexer": "ipython3",
   "version": "3.8.10"
  },
  "orig_nbformat": 4,
  "vscode": {
   "interpreter": {
    "hash": "20f5f825ba7e1e0138bea706cf7ce76ba178632e6be331b5251920b13e58ac94"
   }
  }
 },
 "nbformat": 4,
 "nbformat_minor": 2
}
