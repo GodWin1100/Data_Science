{
 "cells": [
  {
   "cell_type": "markdown",
   "metadata": {},
   "source": [
    "# Python Programming Basic Assignment-12\n"
   ]
  },
  {
   "cell_type": "markdown",
   "metadata": {},
   "source": [
    "## 1. Write a Python program to Extract Unique values dictionary values?\n"
   ]
  },
  {
   "cell_type": "code",
   "execution_count": 14,
   "metadata": {},
   "outputs": [],
   "source": [
    "def unique_dict(dictionary: dict) -> list:\n",
    "    \"\"\"Return list of unique values from dictionary\n",
    "\n",
    "    Args:\n",
    "        dictionary (dict): Dictionary to find unique values\n",
    "\n",
    "    Returns:\n",
    "        list: list of unique values\n",
    "    \"\"\"\n",
    "    return list({val for val in dictionary.values()})\n"
   ]
  },
  {
   "cell_type": "code",
   "execution_count": 17,
   "metadata": {},
   "outputs": [
    {
     "data": {
      "text/plain": [
       "[{1, 2, '5', 5}]"
      ]
     },
     "execution_count": 17,
     "metadata": {},
     "output_type": "execute_result"
    }
   ],
   "source": [
    "unique_dict({\"a\": 1, \"b\": 2, \"ab\": 1, \"c\": 5, \"d\": 2, \"cd\": \"5\"})\n"
   ]
  },
  {
   "cell_type": "markdown",
   "metadata": {},
   "source": [
    "## 2. Write a Python program to find the sum of all items in a dictionary?\n"
   ]
  },
  {
   "cell_type": "code",
   "execution_count": 20,
   "metadata": {},
   "outputs": [],
   "source": [
    "def dict_sum(dictionary: dict) -> float:\n",
    "    \"\"\"Returns summation of dictionary values.\n",
    "    Values should be float or integer\n",
    "\n",
    "    Args:\n",
    "        dictionary (dict): dictionary to find summation of it's values\n",
    "\n",
    "    Returns:\n",
    "        float: sum of dictionary values\n",
    "    \"\"\"\n",
    "    return float(sum([val for val in dictionary.values()]))\n"
   ]
  },
  {
   "cell_type": "code",
   "execution_count": 21,
   "metadata": {},
   "outputs": [
    {
     "data": {
      "text/plain": [
       "279.0"
      ]
     },
     "execution_count": 21,
     "metadata": {},
     "output_type": "execute_result"
    }
   ],
   "source": [
    "dict_sum({\"Maths\": 99, \"English\": 85, \"Science\": 95})\n"
   ]
  },
  {
   "cell_type": "markdown",
   "metadata": {},
   "source": [
    "## 3. Write a Python program to Merging two Dictionaries?\n"
   ]
  },
  {
   "cell_type": "code",
   "execution_count": 26,
   "metadata": {},
   "outputs": [],
   "source": [
    "def merge_dict(dict1: dict, dict2: dict) -> dict:\n",
    "    \"\"\"Merge two dictionaries. Keeps value of 2nd dictionary for similar key.\n",
    "\n",
    "    Args:\n",
    "        dict1 (dict): first dictionary\n",
    "        dict2 (dict): second dictionary\n",
    "\n",
    "    Returns:\n",
    "        dict: merged dictionary\n",
    "    \"\"\"\n",
    "    return {**dict1, **dict2}\n"
   ]
  },
  {
   "cell_type": "code",
   "execution_count": 27,
   "metadata": {},
   "outputs": [
    {
     "data": {
      "text/plain": [
       "{1: 5, 2: 2, 3: 2, 4: 4, 5: 5}"
      ]
     },
     "execution_count": 27,
     "metadata": {},
     "output_type": "execute_result"
    }
   ],
   "source": [
    "merge_dict({1: 1, 2: 2, 3: 3}, {1: 5, 4: 4, 5: 5, 3: 2})\n"
   ]
  },
  {
   "cell_type": "markdown",
   "metadata": {},
   "source": [
    "## 4. Write a Python program to convert key-values list to flat dictionary?\n"
   ]
  },
  {
   "cell_type": "code",
   "execution_count": 28,
   "metadata": {},
   "outputs": [],
   "source": [
    "def flat_dict(list1: list, list2: list) -> dict:\n",
    "    \"\"\"Convert two list into flat dictionary\n",
    "\n",
    "    Args:\n",
    "        list1 (list): list of keys\n",
    "        list2 (list): list of values\n",
    "\n",
    "    Returns:\n",
    "        dict: flat dictionary\n",
    "    \"\"\"\n",
    "    return {key: value for key, value in zip(list1, list2)}\n"
   ]
  },
  {
   "cell_type": "code",
   "execution_count": 30,
   "metadata": {},
   "outputs": [
    {
     "data": {
      "text/plain": [
       "{1: 'Mon', 2: 'Tues', 3: 'Wed', 4: 'Thurs', 5: 'Fri', 6: 'Sat', 7: 'Sun'}"
      ]
     },
     "execution_count": 30,
     "metadata": {},
     "output_type": "execute_result"
    }
   ],
   "source": [
    "flat_dict([1, 2, 3, 4, 5, 6, 7], [\"Mon\", \"Tues\", \"Wed\", \"Thurs\", \"Fri\", \"Sat\", \"Sun\"])\n"
   ]
  },
  {
   "cell_type": "markdown",
   "metadata": {},
   "source": [
    "## 5. Write a Python program to insertion at the beginning in OrderedDict?\n"
   ]
  },
  {
   "cell_type": "code",
   "execution_count": 50,
   "metadata": {},
   "outputs": [],
   "source": [
    "from collections import OrderedDict\n",
    "\n",
    "\n",
    "def ins_odict(base_dict: OrderedDict, new_dict: dict) -> OrderedDict:\n",
    "    \"\"\"Insert new dictionary at the beginning of ordered dictionary\n",
    "\n",
    "    Args:\n",
    "        base_dict (OrderedDict): dictionary for insertion\n",
    "        new_dict (dict): dictionary to be inserted\n",
    "\n",
    "    Returns:\n",
    "        OrderedDict: result dictionary\n",
    "    \"\"\"\n",
    "    base_dict.update(new_dict)\n",
    "    base_dict.move_to_end(list(new_dict.keys())[0], False)\n",
    "    return base_dict\n"
   ]
  },
  {
   "cell_type": "code",
   "execution_count": 51,
   "metadata": {},
   "outputs": [
    {
     "data": {
      "text/plain": [
       "OrderedDict([(0, 'Sun'), (1, 'Mon'), (2, 'Tues'), (3, 'Wed')])"
      ]
     },
     "execution_count": 51,
     "metadata": {},
     "output_type": "execute_result"
    }
   ],
   "source": [
    "ins_odict(OrderedDict([(1, \"Mon\"), (2, \"Tues\"), (3, \"Wed\")]), {0: \"Sun\"})\n"
   ]
  },
  {
   "cell_type": "markdown",
   "metadata": {},
   "source": [
    "## 6. Write a Python program to check order of character in string using OrderedDict()?\n"
   ]
  },
  {
   "cell_type": "code",
   "execution_count": 66,
   "metadata": {},
   "outputs": [],
   "source": [
    "from collections import OrderedDict\n",
    "\n",
    "\n",
    "def order_checker(string: str, pattern: str) -> bool:\n",
    "    \"\"\"Check if string matches the pattern order\n",
    "\n",
    "    Args:\n",
    "        string (str): string for checking\n",
    "        pattern (str): pattern for which order will be checked\n",
    "\n",
    "    Returns:\n",
    "        bool: is string in order\n",
    "    \"\"\"\n",
    "    seq_string = OrderedDict.fromkeys(string)\n",
    "    pc = 0\n",
    "    for key, _ in seq_string.items():\n",
    "        if key == pattern[pc]:\n",
    "            pc += 1\n",
    "    return pc == len(pattern)\n"
   ]
  },
  {
   "cell_type": "code",
   "execution_count": 69,
   "metadata": {},
   "outputs": [
    {
     "data": {
      "text/plain": [
       "(True, False)"
      ]
     },
     "execution_count": 69,
     "metadata": {},
     "output_type": "execute_result"
    }
   ],
   "source": [
    "order_checker(\"orphanage\", \"one\"), order_checker(\"racecar\", \"acer\")\n"
   ]
  },
  {
   "cell_type": "markdown",
   "metadata": {},
   "source": [
    "## 7. Write a Python program to sort Python Dictionaries by Key or Value?\n"
   ]
  },
  {
   "cell_type": "code",
   "execution_count": 83,
   "metadata": {},
   "outputs": [],
   "source": [
    "def sort_dict(dictionary: dict, *, by_key: bool = True) -> dict:\n",
    "    \"\"\"Sort dictionary based on key or value.\n",
    "\n",
    "    Args:\n",
    "        dictionary (dict): dictionary to be sorted\n",
    "        by_key (bool, optional): `True` for sorting with keys or `False` for sorting with values. Defaults to `True`.\n",
    "\n",
    "    Returns:\n",
    "        dict: sorted dictionary\n",
    "    \"\"\"\n",
    "    return sorted(dictionary.items(), key=lambda elem: elem[0] if by_key else elem[1])\n"
   ]
  },
  {
   "cell_type": "code",
   "execution_count": 84,
   "metadata": {},
   "outputs": [
    {
     "data": {
      "text/plain": [
       "[(1, 'Mon'),\n",
       " (2, 'Tues'),\n",
       " (3, 'Wed'),\n",
       " (4, 'Thurs'),\n",
       " (5, 'Fri'),\n",
       " (6, 'Sat'),\n",
       " (7, 'Sun')]"
      ]
     },
     "execution_count": 84,
     "metadata": {},
     "output_type": "execute_result"
    }
   ],
   "source": [
    "sort_dict({1: \"Mon\", 2: \"Tues\", 3: \"Wed\", 4: \"Thurs\", 5: \"Fri\", 6: \"Sat\", 7: \"Sun\"})\n"
   ]
  },
  {
   "cell_type": "code",
   "execution_count": 86,
   "metadata": {},
   "outputs": [
    {
     "data": {
      "text/plain": [
       "[(5, 'Fri'),\n",
       " (1, 'Mon'),\n",
       " (6, 'Sat'),\n",
       " (7, 'Sun'),\n",
       " (4, 'Thurs'),\n",
       " (2, 'Tues'),\n",
       " (3, 'Wed')]"
      ]
     },
     "execution_count": 86,
     "metadata": {},
     "output_type": "execute_result"
    }
   ],
   "source": [
    "sort_dict({1: \"Mon\", 2: \"Tues\", 3: \"Wed\", 4: \"Thurs\", 5: \"Fri\", 6: \"Sat\", 7: \"Sun\"}, by_key=False)\n"
   ]
  }
 ],
 "metadata": {
  "kernelspec": {
   "display_name": "Python 3.8.10 ('fsds')",
   "language": "python",
   "name": "python3"
  },
  "language_info": {
   "codemirror_mode": {
    "name": "ipython",
    "version": 3
   },
   "file_extension": ".py",
   "mimetype": "text/x-python",
   "name": "python",
   "nbconvert_exporter": "python",
   "pygments_lexer": "ipython3",
   "version": "3.8.10"
  },
  "orig_nbformat": 4,
  "vscode": {
   "interpreter": {
    "hash": "20f5f825ba7e1e0138bea706cf7ce76ba178632e6be331b5251920b13e58ac94"
   }
  }
 },
 "nbformat": 4,
 "nbformat_minor": 2
}
