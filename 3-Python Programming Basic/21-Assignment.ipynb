{
 "cells": [
  {
   "cell_type": "markdown",
   "metadata": {},
   "source": [
    "# Python Programming Basic Assignment-21\n"
   ]
  },
  {
   "cell_type": "markdown",
   "metadata": {},
   "source": [
    "## Question 1\n",
    "\n",
    "Write a function that takes a list and a number as arguments. Add the number to the end of the list, then remove the first element of the list. The function should then return the updated list.  \n",
    "Examples\n",
    "\n",
    "```py\n",
    "next_in_line([5, 6, 7, 8, 9], 1) ➞ [6, 7, 8, 9, 1]\n",
    "\n",
    "next_in_line([7, 6, 3, 23, 17], 10) ➞ [6, 3, 23, 17, 10]\n",
    "\n",
    "next_in_line([1, 10, 20, 42 ], 6) ➞ [10, 20, 42, 6]\n",
    "\n",
    "next_in_line([], 6) ➞ \"No list has been selected\"\n",
    "```\n"
   ]
  },
  {
   "cell_type": "code",
   "execution_count": 11,
   "metadata": {},
   "outputs": [],
   "source": [
    "def next_in_line(lst: list, n: int) -> (list or str):\n",
    "    \"\"\"List for updating\n",
    "\n",
    "    Args:\n",
    "        lst (list): list for updating\n",
    "        n (int): element to add in list\n",
    "    \"\"\"\n",
    "    if not lst:\n",
    "        return \"No list has been selected\"\n",
    "    lst.append(n)\n",
    "    return lst[1:]\n"
   ]
  },
  {
   "cell_type": "code",
   "execution_count": 15,
   "metadata": {},
   "outputs": [
    {
     "data": {
      "text/plain": [
       "([6, 7, 8, 9, 1],\n",
       " [6, 3, 23, 17, 10],\n",
       " [10, 20, 42, 6],\n",
       " 'No list has been selected')"
      ]
     },
     "execution_count": 15,
     "metadata": {},
     "output_type": "execute_result"
    }
   ],
   "source": [
    "next_in_line([5, 6, 7, 8, 9], 1), next_in_line([7, 6, 3, 23, 17], 10), next_in_line([1, 10, 20, 42], 6), next_in_line(\n",
    "    [], 6\n",
    ")\n"
   ]
  },
  {
   "cell_type": "markdown",
   "metadata": {},
   "source": [
    "## Question 2\n",
    "\n",
    "Create the function that takes a list of dictionaries and returns the sum of people's budgets.  \n",
    "Examples\n",
    "\n",
    "```py\n",
    "get_budgets([\n",
    "  { \"name\": \"John\", \"age\": 21, \"budget\": 23000 },\n",
    "  { \"name\": \"Steve\",  \"age\": 32, \"budget\": 40000 },\n",
    "  { \"name\": \"Martin\",  \"age\": 16, \"budget\": 2700 }\n",
    "]) ➞ 65700\n",
    "\n",
    "get_budgets([\n",
    "  { \"name\": \"John\",  \"age\": 21, \"budget\": 29000 },\n",
    "  { \"name\": \"Steve\",  \"age\": 32, \"budget\": 32000 },\n",
    "  { \"name\": \"Martin\",  \"age\": 16, \"budget\": 1600 }\n",
    "]) ➞ 62600\n",
    "```\n"
   ]
  },
  {
   "cell_type": "code",
   "execution_count": 17,
   "metadata": {},
   "outputs": [],
   "source": [
    "def get_budgets(lst: list) -> int:\n",
    "    \"\"\"Given list of dictionary return summation of budget\n",
    "\n",
    "    Args:\n",
    "        lst (list): List of dictionaries\n",
    "\n",
    "    Returns:\n",
    "        int: summation of budget\n",
    "    \"\"\"\n",
    "    return sum([i[\"budget\"] for i in lst])\n"
   ]
  },
  {
   "cell_type": "code",
   "execution_count": 18,
   "metadata": {},
   "outputs": [
    {
     "data": {
      "text/plain": [
       "65700"
      ]
     },
     "execution_count": 18,
     "metadata": {},
     "output_type": "execute_result"
    }
   ],
   "source": [
    "get_budgets(\n",
    "    [\n",
    "        {\"name\": \"John\", \"age\": 21, \"budget\": 23000},\n",
    "        {\"name\": \"Steve\", \"age\": 32, \"budget\": 40000},\n",
    "        {\"name\": \"Martin\", \"age\": 16, \"budget\": 2700},\n",
    "    ]\n",
    ")\n"
   ]
  },
  {
   "cell_type": "code",
   "execution_count": 19,
   "metadata": {},
   "outputs": [
    {
     "data": {
      "text/plain": [
       "62600"
      ]
     },
     "execution_count": 19,
     "metadata": {},
     "output_type": "execute_result"
    }
   ],
   "source": [
    "get_budgets(\n",
    "    [\n",
    "        {\"name\": \"John\", \"age\": 21, \"budget\": 29000},\n",
    "        {\"name\": \"Steve\", \"age\": 32, \"budget\": 32000},\n",
    "        {\"name\": \"Martin\", \"age\": 16, \"budget\": 1600},\n",
    "    ]\n",
    ")\n"
   ]
  },
  {
   "cell_type": "markdown",
   "metadata": {},
   "source": [
    "## Question 3\n",
    "\n",
    "Create a function that takes a string and returns a string with its letters in alphabetical order.  \n",
    "Examples\n",
    "\n",
    "```py\n",
    "alphabet_soup(\"hello\") ➞ \"ehllo\"\n",
    "\n",
    "alphabet_soup(\"edabit\") ➞ \"abdeit\"\n",
    "\n",
    "alphabet_soup(\"hacker\") ➞ \"acehkr\"\n",
    "\n",
    "alphabet_soup(\"geek\") ➞ \"eegk\"\n",
    "\n",
    "alphabet_soup(\"javascript\") ➞ \"aacijprstv\"\n",
    "```\n"
   ]
  },
  {
   "cell_type": "code",
   "execution_count": 24,
   "metadata": {},
   "outputs": [],
   "source": [
    "def alphabet_soup(string: str) -> str:\n",
    "    \"\"\"Return the string in it's alphabetical order\n",
    "\n",
    "    Args:\n",
    "        string (str): string for sorting\n",
    "\n",
    "    Returns:\n",
    "        str: string in alphabetical order\n",
    "    \"\"\"\n",
    "    return \"\".join(sorted(string))\n"
   ]
  },
  {
   "cell_type": "code",
   "execution_count": 26,
   "metadata": {},
   "outputs": [
    {
     "data": {
      "text/plain": [
       "('ehllo', 'abdeit', 'acehkr')"
      ]
     },
     "execution_count": 26,
     "metadata": {},
     "output_type": "execute_result"
    }
   ],
   "source": [
    "alphabet_soup(\"hello\"), alphabet_soup(\"edabit\"), alphabet_soup(\"hacker\")\n"
   ]
  },
  {
   "cell_type": "code",
   "execution_count": 27,
   "metadata": {},
   "outputs": [
    {
     "data": {
      "text/plain": [
       "('eegk', 'aacijprstv')"
      ]
     },
     "execution_count": 27,
     "metadata": {},
     "output_type": "execute_result"
    }
   ],
   "source": [
    "alphabet_soup(\"geek\"), alphabet_soup(\"javascript\")\n"
   ]
  },
  {
   "cell_type": "markdown",
   "metadata": {},
   "source": [
    "## Question 4\n",
    "\n",
    "Suppose that you invest $10,000 for 10 years at an interest rate of 6% compounded monthly. What will be the value of your investment at the end of the 10 year period?  \n",
    "Create a function that accepts the principal p, the term in years t, the interest rate r, and the number of compounding periods per year n. The function returns the value at the end of term rounded to the nearest cent.  \n",
    "For the example above:\n",
    "\n",
    "```py\n",
    "compound_interest(10000, 10, 0.06, 12) ➞ 18193.97\n",
    "# Note that the interest rate is given as a decimal and n=12 because with monthly compounding there are 12 periods per year. Compounding can also be done annually, quarterly, weekly, or daily.\n",
    "Examples\n",
    "compound_interest(100, 1, 0.05, 1) ➞ 105.0\n",
    "\n",
    "compound_interest(3500, 15, 0.1, 4) ➞ 15399.26\n",
    "\n",
    "compound_interest(100000, 20, 0.15, 365) ➞ 2007316.26\n",
    "```\n"
   ]
  },
  {
   "cell_type": "code",
   "execution_count": 38,
   "metadata": {},
   "outputs": [],
   "source": [
    "def compound_interest(p: int, t: int, r: float, n: int) -> float:\n",
    "    \"\"\"Calculate compound interest given it's initial principal amount `p`, no. of years `t`, rate of interest `r` and no. of periods in a year `n`\n",
    "\n",
    "    Args:\n",
    "        p (int): initial principal amount\n",
    "        t (int): no. of years\n",
    "        r (float): rate of interest\n",
    "        n (int): no. of periods in a year\n",
    "\n",
    "    Returns:\n",
    "        float: compound interest\n",
    "    \"\"\"\n",
    "    return round(p * (1 + r / n) ** (t * n), 2)\n"
   ]
  },
  {
   "cell_type": "code",
   "execution_count": 39,
   "metadata": {},
   "outputs": [
    {
     "data": {
      "text/plain": [
       "(105.0, 15399.26, 2007316.26)"
      ]
     },
     "execution_count": 39,
     "metadata": {},
     "output_type": "execute_result"
    }
   ],
   "source": [
    "compound_interest(100, 1, 0.05, 1), compound_interest(3500, 15, 0.1, 4), compound_interest(100000, 20, 0.15, 365)\n"
   ]
  },
  {
   "cell_type": "markdown",
   "metadata": {},
   "source": [
    "## Question 5\n",
    "\n",
    "Write a function that takes a list of elements and returns only the integers.  \n",
    "Examples\n",
    "\n",
    "```py\n",
    "return_only_integer([9, 2, \"space\", \"car\", \"lion\", 16]) ➞ [9, 2, 16]\n",
    "\n",
    "return_only_integer([\"hello\", 81, \"basketball\", 123, \"fox\"]) ➞ [81, 123]\n",
    "\n",
    "return_only_integer([10, \"121\", 56, 20, \"car\", 3, \"lion\"]) ➞ [10, 56, 20, 3]\n",
    "\n",
    "return_only_integer([\"String\",  True,  3.3,  1]) ➞ [1]\n",
    "```\n"
   ]
  },
  {
   "cell_type": "code",
   "execution_count": 44,
   "metadata": {},
   "outputs": [],
   "source": [
    "def return_only_integer(lst: list) -> list:\n",
    "    \"\"\"Filter list and return list of integers\n",
    "\n",
    "    Args:\n",
    "        lst (list): list for filtering\n",
    "\n",
    "    Returns:\n",
    "        list: filtered list with only integers\n",
    "    \"\"\"\n",
    "    return [i for i in lst if type(i) == int]\n",
    "    # using isinstance() will accept boolean also as boolean is subclass of int\n"
   ]
  },
  {
   "cell_type": "code",
   "execution_count": 45,
   "metadata": {},
   "outputs": [
    {
     "data": {
      "text/plain": [
       "([9, 2, 16], [81, 123])"
      ]
     },
     "execution_count": 45,
     "metadata": {},
     "output_type": "execute_result"
    }
   ],
   "source": [
    "return_only_integer([9, 2, \"space\", \"car\", \"lion\", 16]), return_only_integer([\"hello\", 81, \"basketball\", 123, \"fox\"])\n"
   ]
  },
  {
   "cell_type": "code",
   "execution_count": 46,
   "metadata": {},
   "outputs": [
    {
     "data": {
      "text/plain": [
       "([10, 56, 20, 3], [1])"
      ]
     },
     "execution_count": 46,
     "metadata": {},
     "output_type": "execute_result"
    }
   ],
   "source": [
    "return_only_integer([10, \"121\", 56, 20, \"car\", 3, \"lion\"]), return_only_integer([\"String\", True, 3.3, 1])\n"
   ]
  }
 ],
 "metadata": {
  "kernelspec": {
   "display_name": "Python 3.8.10 ('fsds')",
   "language": "python",
   "name": "python3"
  },
  "language_info": {
   "codemirror_mode": {
    "name": "ipython",
    "version": 3
   },
   "file_extension": ".py",
   "mimetype": "text/x-python",
   "name": "python",
   "nbconvert_exporter": "python",
   "pygments_lexer": "ipython3",
   "version": "3.8.10"
  },
  "orig_nbformat": 4,
  "vscode": {
   "interpreter": {
    "hash": "20f5f825ba7e1e0138bea706cf7ce76ba178632e6be331b5251920b13e58ac94"
   }
  }
 },
 "nbformat": 4,
 "nbformat_minor": 2
}
