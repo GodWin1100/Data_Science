{
 "cells": [
  {
   "cell_type": "markdown",
   "metadata": {},
   "source": [
    "# Python Programming Basic Assignment-11\n"
   ]
  },
  {
   "cell_type": "markdown",
   "metadata": {},
   "source": [
    "## 1. Write a Python program to find words which are greater than given length k?\n"
   ]
  },
  {
   "cell_type": "code",
   "execution_count": 8,
   "metadata": {},
   "outputs": [],
   "source": [
    "def len_check(words: list, length: int) -> list:\n",
    "    \"\"\"Check whether word is greater than given length\n",
    "\n",
    "    Args:\n",
    "        words (list): word list to check\n",
    "        length (int): minimum length\n",
    "\n",
    "    Returns:\n",
    "        list: Return words which are greater than the given length\n",
    "    \"\"\"\n",
    "    res = [word for word in words if len(word) > length]\n",
    "\n",
    "    return res\n"
   ]
  },
  {
   "cell_type": "code",
   "execution_count": 10,
   "metadata": {},
   "outputs": [
    {
     "data": {
      "text/plain": [
       "['orphanage', 'elephant', 'oesophagus', 'chocolate']"
      ]
     },
     "execution_count": 10,
     "metadata": {},
     "output_type": "execute_result"
    }
   ],
   "source": [
    "len_check([\"racecar\", \"python\", \"orphanage\", \"ice\", \"elephant\", \"oesophagus\", \"chocolate\"], 7)\n"
   ]
  },
  {
   "cell_type": "markdown",
   "metadata": {},
   "source": [
    "## 2. Write a Python program for removing i-th character from a string?\n"
   ]
  },
  {
   "cell_type": "code",
   "execution_count": 18,
   "metadata": {},
   "outputs": [],
   "source": [
    "def pop_string(string: str, index: int) -> str:\n",
    "    \"\"\"Remove ith character from string\n",
    "\n",
    "    Args:\n",
    "        string (str): string for removing ith character\n",
    "        index (int): index of character\n",
    "\n",
    "    Returns:\n",
    "        str: string without ith character\n",
    "    \"\"\"\n",
    "    return string[:index] + string[index + 1 :]\n"
   ]
  },
  {
   "cell_type": "code",
   "execution_count": 19,
   "metadata": {},
   "outputs": [
    {
     "data": {
      "text/plain": [
       "'The quick brown fox jumpsover the lazy dog'"
      ]
     },
     "execution_count": 19,
     "metadata": {},
     "output_type": "execute_result"
    }
   ],
   "source": [
    "pop_string(\"The quick brown fox jumps over the lazy dog\", 25)\n"
   ]
  },
  {
   "cell_type": "markdown",
   "metadata": {},
   "source": [
    "## 3. Write a Python program to split and join a string?\n"
   ]
  },
  {
   "cell_type": "code",
   "execution_count": 20,
   "metadata": {},
   "outputs": [],
   "source": [
    "def split_join(string: str):\n",
    "    \"\"\"Split at \" \"\n",
    "    Join with +\n",
    "\n",
    "    Args:\n",
    "        string (str): _description_\n",
    "    \"\"\"\n",
    "    split = string.split(\" \")\n",
    "    print(f\"string split at ' ': {split}\")\n",
    "    joint = \"+\".join(string)\n",
    "    print(f\"string joint with +: {joint}\")\n"
   ]
  },
  {
   "cell_type": "code",
   "execution_count": 21,
   "metadata": {},
   "outputs": [
    {
     "name": "stdout",
     "output_type": "stream",
     "text": [
      "string split at ' ': ['The', 'Quick', 'Brown', 'Fox', 'Jumps', 'Over', 'The', 'Lazy', 'Dog']\n",
      "string joint with +: T+h+e+ +Q+u+i+c+k+ +B+r+o+w+n+ +F+o+x+ +J+u+m+p+s+ +O+v+e+r+ +T+h+e+ +L+a+z+y+ +D+o+g\n"
     ]
    }
   ],
   "source": [
    "split_join(\"The Quick Brown Fox Jumps Over The Lazy Dog\")\n"
   ]
  },
  {
   "cell_type": "markdown",
   "metadata": {},
   "source": [
    "## 4. Write a Python to check if a given string is binary string or not?\n"
   ]
  },
  {
   "cell_type": "code",
   "execution_count": 31,
   "metadata": {},
   "outputs": [],
   "source": [
    "def is_binary(string: str) -> bool:\n",
    "    \"\"\"Check whether string is binary\n",
    "\n",
    "    Args:\n",
    "        string (str): string to check\n",
    "\n",
    "    Returns:\n",
    "        bool: is binary?\n",
    "    \"\"\"\n",
    "    set_str = set(string)\n",
    "    return set_str == {\"0\", \"1\"} or set_str == {\"0\"} or set_str == {\"1\"}\n"
   ]
  },
  {
   "cell_type": "code",
   "execution_count": 32,
   "metadata": {},
   "outputs": [
    {
     "data": {
      "text/plain": [
       "(True, False)"
      ]
     },
     "execution_count": 32,
     "metadata": {},
     "output_type": "execute_result"
    }
   ],
   "source": [
    "is_binary(\"010100110\"), is_binary(\"1f5dfa\")\n"
   ]
  },
  {
   "cell_type": "markdown",
   "metadata": {},
   "source": [
    "## 5. Write a Python program to find uncommon words from two Strings?\n"
   ]
  },
  {
   "cell_type": "code",
   "execution_count": 84,
   "metadata": {},
   "outputs": [],
   "source": [
    "from collections import Counter\n",
    "\n",
    "\n",
    "def uncommon(string1: str, string2: str) -> list:\n",
    "    \"\"\"Return uncommon words from two string\n",
    "\n",
    "    Args:\n",
    "        string1 (str): First String\n",
    "        string2 (str): Second String\n",
    "\n",
    "    Returns:\n",
    "        list: List of string which are not common\n",
    "    \"\"\"\n",
    "    arr = (string1 + \" \" + string2).split(\" \")\n",
    "    return [k for (k, v) in Counter(arr).items() if v == 1]\n"
   ]
  },
  {
   "cell_type": "code",
   "execution_count": 92,
   "metadata": {},
   "outputs": [
    {
     "data": {
      "text/plain": [
       "['Today', 'is', 'Tomorrow', 'will', 'be', 'much', 'more']"
      ]
     },
     "execution_count": 92,
     "metadata": {},
     "output_type": "execute_result"
    }
   ],
   "source": [
    "uncommon(\"Today is beautiful day\", \"Tomorrow will be much more beautiful day\")\n"
   ]
  },
  {
   "cell_type": "markdown",
   "metadata": {},
   "source": [
    "```py\n",
    "def uncommon(string1:str,string2:str)->list:\n",
    "    \"\"\"Return uncommon words from two string\n",
    "\n",
    "    Args:\n",
    "        string1 (str): First String\n",
    "        string2 (str): Second String\n",
    "\n",
    "    Returns:\n",
    "        list: List of string which are not common\n",
    "    \"\"\"\n",
    "    split_1=string1.split(\" \")\n",
    "    split_2=string2.split(\" \")\n",
    "    res=[i for i in split_1 if i not in split_2]\n",
    "    res.extend([i for i in split_2 if i not in split_1])\n",
    "\n",
    "    return res\n",
    "\n",
    "```\n",
    "\n",
    "> uncommon(\"Today is beautiful day\",\"Tomorrow will be much more beautiful day\")  \n",
    "> ['Today', 'is', 'Tomorrow', 'will', 'be', 'much', 'more']\n"
   ]
  },
  {
   "cell_type": "markdown",
   "metadata": {},
   "source": [
    "## 6. Write a Python to find all duplicate characters in string?\n"
   ]
  },
  {
   "cell_type": "code",
   "execution_count": 93,
   "metadata": {},
   "outputs": [],
   "source": [
    "from collections import Counter\n",
    "\n",
    "\n",
    "def duplicate(string: str) -> list:\n",
    "    \"\"\"Return duplicate character from string\n",
    "\n",
    "    Args:\n",
    "        string (str): String to find duplicates\n",
    "\n",
    "    Returns:\n",
    "        list: List of character which are not duplicate\n",
    "    \"\"\"\n",
    "    return [k for (k, v) in Counter(string).items() if v > 1]\n"
   ]
  },
  {
   "cell_type": "code",
   "execution_count": 94,
   "metadata": {},
   "outputs": [
    {
     "data": {
      "text/plain": [
       "(['o', 's'], ['r', 'a', 'c'], ['p'])"
      ]
     },
     "execution_count": 94,
     "metadata": {},
     "output_type": "execute_result"
    }
   ],
   "source": [
    "duplicate(\"oesophagus\"), duplicate(\"racecar\"), duplicate(\"apple\")\n"
   ]
  },
  {
   "cell_type": "markdown",
   "metadata": {},
   "source": [
    "```py\n",
    "def duplicate(string:str)->list:\n",
    "    \"\"\"Return duplicate character from string\n",
    "\n",
    "    Args:\n",
    "        string (str): String to find duplicates\n",
    "\n",
    "    Returns:\n",
    "        list: List of character which are not duplicate\n",
    "    \"\"\"\n",
    "    return [i for i in set(string) if string.count(i)>1]\n",
    "\n",
    "```\n",
    "\n",
    "> duplicate(\"oesophagus\"),duplicate(\"racecar\"),duplicate(\"apple\")  \n",
    "> (['s', 'o'], ['c', 'a', 'r'], ['p'])\n"
   ]
  },
  {
   "cell_type": "markdown",
   "metadata": {},
   "source": [
    "## 7. Write a Python Program to check if a string contains any special character?\n"
   ]
  },
  {
   "cell_type": "code",
   "execution_count": 117,
   "metadata": {},
   "outputs": [],
   "source": [
    "import re\n",
    "\n",
    "\n",
    "def is_special(string: str) -> bool:\n",
    "    \"\"\"Checks whether string contains special character\n",
    "\n",
    "    Args:\n",
    "        string (str): string to check\n",
    "\n",
    "    Returns:\n",
    "        bool: it contains special character\n",
    "    \"\"\"\n",
    "    regex = re.compile(\"[@_!#$%^&*()<>?/\\|}{~:]\")\n",
    "    return True if regex.search(string) else False\n"
   ]
  },
  {
   "cell_type": "code",
   "execution_count": 119,
   "metadata": {},
   "outputs": [
    {
     "data": {
      "text/plain": [
       "(True, False)"
      ]
     },
     "execution_count": 119,
     "metadata": {},
     "output_type": "execute_result"
    }
   ],
   "source": [
    "is_special(\"asd#@5asd(\"), is_special(\"asd57asd\")\n"
   ]
  },
  {
   "cell_type": "code",
   "execution_count": 120,
   "metadata": {},
   "outputs": [
    {
     "data": {
      "text/plain": [
       "False"
      ]
     },
     "execution_count": 120,
     "metadata": {},
     "output_type": "execute_result"
    }
   ],
   "source": [
    "# * Direct function to check if string is alphanumeric\n",
    "\"as52sdf&\".isalnum()\n"
   ]
  }
 ],
 "metadata": {
  "kernelspec": {
   "display_name": "Python 3.8.10 ('fsds')",
   "language": "python",
   "name": "python3"
  },
  "language_info": {
   "codemirror_mode": {
    "name": "ipython",
    "version": 3
   },
   "file_extension": ".py",
   "mimetype": "text/x-python",
   "name": "python",
   "nbconvert_exporter": "python",
   "pygments_lexer": "ipython3",
   "version": "3.8.10"
  },
  "orig_nbformat": 4,
  "vscode": {
   "interpreter": {
    "hash": "20f5f825ba7e1e0138bea706cf7ce76ba178632e6be331b5251920b13e58ac94"
   }
  }
 },
 "nbformat": 4,
 "nbformat_minor": 2
}
