{
 "cells": [
  {
   "cell_type": "markdown",
   "metadata": {},
   "source": [
    "# Python Programming Basic Assignment-05\n"
   ]
  },
  {
   "cell_type": "markdown",
   "metadata": {},
   "source": [
    "## 1. Write a Python Program to Find LCM?\n"
   ]
  },
  {
   "cell_type": "code",
   "execution_count": 17,
   "metadata": {},
   "outputs": [],
   "source": [
    "def lcm(a, b):\n",
    "    greater = a if a > b else b\n",
    "    while True:\n",
    "        if (greater % a == 0) and (greater % b == 0):\n",
    "            break\n",
    "        greater += 1\n",
    "    return greater\n"
   ]
  },
  {
   "cell_type": "code",
   "execution_count": 18,
   "metadata": {},
   "outputs": [
    {
     "data": {
      "text/plain": [
       "(20, 80, 187)"
      ]
     },
     "execution_count": 18,
     "metadata": {},
     "output_type": "execute_result"
    }
   ],
   "source": [
    "lcm(4, 5), lcm(16, 20), lcm(11, 17)\n"
   ]
  },
  {
   "cell_type": "markdown",
   "metadata": {},
   "source": [
    "## 2. Write a Python Program to Find HCF?\n"
   ]
  },
  {
   "cell_type": "code",
   "execution_count": 21,
   "metadata": {},
   "outputs": [],
   "source": [
    "def hcf(a, b):\n",
    "    low = a if a > b else b\n",
    "    for i in range(1, low + 1):\n",
    "        if (a % i == 0) and (b % i == 0):\n",
    "            hcf = i\n",
    "    return hcf\n"
   ]
  },
  {
   "cell_type": "code",
   "execution_count": 23,
   "metadata": {},
   "outputs": [
    {
     "data": {
      "text/plain": [
       "(3, 1, 11)"
      ]
     },
     "execution_count": 23,
     "metadata": {},
     "output_type": "execute_result"
    }
   ],
   "source": [
    "hcf(6, 9), hcf(27, 95), hcf(11, 121)\n"
   ]
  },
  {
   "cell_type": "markdown",
   "metadata": {},
   "source": [
    "## 3. Write a Python Program to Convert Decimal to Binary, Octal and Hexadecimal?\n"
   ]
  },
  {
   "cell_type": "code",
   "execution_count": 55,
   "metadata": {},
   "outputs": [],
   "source": [
    "def conversion(num):\n",
    "    print(f\"Decimal: {num}\\nBinary: {bin(num)[2:]}, Octal: {oct(num)[2:]}, Hexadecimal: {hex(num)[2:]}\")\n"
   ]
  },
  {
   "cell_type": "code",
   "execution_count": 57,
   "metadata": {},
   "outputs": [
    {
     "name": "stdout",
     "output_type": "stream",
     "text": [
      "Decimal: 5\n",
      "Binary: 101, Octal: 5, Hexadecimal: 5\n",
      "Decimal: 81\n",
      "Binary: 1010001, Octal: 121, Hexadecimal: 51\n",
      "Decimal: 64\n",
      "Binary: 1000000, Octal: 100, Hexadecimal: 40\n"
     ]
    },
    {
     "data": {
      "text/plain": [
       "(None, None, None)"
      ]
     },
     "execution_count": 57,
     "metadata": {},
     "output_type": "execute_result"
    }
   ],
   "source": [
    "conversion(5), conversion(81), conversion(64)\n"
   ]
  },
  {
   "cell_type": "markdown",
   "metadata": {},
   "source": [
    "## 4. Write a Python Program To Find ASCII value of a character?\n"
   ]
  },
  {
   "cell_type": "code",
   "execution_count": 58,
   "metadata": {},
   "outputs": [],
   "source": [
    "def ascii_value(char):\n",
    "    print(f\"Char: {char}, ASCII Value: {ord(char)}\")\n"
   ]
  },
  {
   "cell_type": "code",
   "execution_count": 59,
   "metadata": {},
   "outputs": [
    {
     "name": "stdout",
     "output_type": "stream",
     "text": [
      "Char: A, ASCII Value: 65\n",
      "Char: a, ASCII Value: 97\n",
      "Char: m, ASCII Value: 109\n"
     ]
    },
    {
     "data": {
      "text/plain": [
       "(None, None, None)"
      ]
     },
     "execution_count": 59,
     "metadata": {},
     "output_type": "execute_result"
    }
   ],
   "source": [
    "ascii_value(\"A\"), ascii_value(\"a\"), ascii_value(\"m\")\n"
   ]
  },
  {
   "cell_type": "markdown",
   "metadata": {},
   "source": [
    "## 5. Write a Python Program to Make a Simple Calculator with 4 basic mathematical operations?\n"
   ]
  },
  {
   "cell_type": "markdown",
   "metadata": {},
   "source": [
    "```py\n",
    "equation=input(\"\")\n",
    "eval(equation)\n",
    "```\n"
   ]
  },
  {
   "cell_type": "code",
   "execution_count": 66,
   "metadata": {},
   "outputs": [
    {
     "name": "stdout",
     "output_type": "stream",
     "text": [
      "89 * 94 = 8366\n"
     ]
    }
   ],
   "source": [
    "num1 = int(input(\"Enter 1st no.: \"))\n",
    "num2 = int(input(\"Enter 2nd no.: \"))\n",
    "op = input(\"Enter Operator: +, -, *, /: \")\n",
    "\n",
    "if op == \"+\":\n",
    "    print(f\"{num1} + {num2} = {num1+num2}\")\n",
    "elif op == \"-\":\n",
    "    print(f\"{num1} - {num2} = {num1-num2}\")\n",
    "elif op == \"*\":\n",
    "    print(f\"{num1} * {num2} = {num1*num2}\")\n",
    "elif op == \"/\":\n",
    "    print(f\"{num1} / {num2} = {num1/num2}\")\n"
   ]
  }
 ],
 "metadata": {
  "interpreter": {
   "hash": "94b533eeaf157eaf74bdfc2e654ed2c377d904e5d4016062aa8273fe06f5bb06"
  },
  "kernelspec": {
   "display_name": "Python 3.8.10 ('fsds')",
   "language": "python",
   "name": "python3"
  },
  "language_info": {
   "codemirror_mode": {
    "name": "ipython",
    "version": 3
   },
   "file_extension": ".py",
   "mimetype": "text/x-python",
   "name": "python",
   "nbconvert_exporter": "python",
   "pygments_lexer": "ipython3",
   "version": "3.8.10"
  },
  "orig_nbformat": 4
 },
 "nbformat": 4,
 "nbformat_minor": 2
}
