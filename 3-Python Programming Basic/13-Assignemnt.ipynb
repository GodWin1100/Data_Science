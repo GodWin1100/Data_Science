{
 "cells": [
  {
   "cell_type": "markdown",
   "metadata": {},
   "source": [
    "# Python Programming Basic Assignment-13\n"
   ]
  },
  {
   "cell_type": "markdown",
   "metadata": {},
   "source": [
    "## Question 1:\n",
    "\n",
    "Write a program that calculates and prints the value according to the given formula:\n",
    "\n",
    "> Q = Square root of [(2 * C * D)/H]\n",
    "\n",
    "Following are the fixed values of C and H:\n",
    "\n",
    "> C is 50. H is 30.  \n",
    "> D is the variable whose values should be input to your program in a comma-separated sequence.\n",
    "\n",
    "Example\n",
    "\n",
    "Let us assume the following comma separated input sequence is given to the program:\n",
    "\n",
    "> 100,150,180\n",
    "\n",
    "The output of the program should be:\n",
    "\n",
    "> 18,22,24\n"
   ]
  },
  {
   "cell_type": "code",
   "execution_count": 25,
   "metadata": {},
   "outputs": [],
   "source": [
    "def q():\n",
    "    C, H = 50, 30\n",
    "    d = [int(i) for i in input().split(\",\")]\n",
    "    return \", \".join([str(int(((2 * C * i) / H) ** 0.5)) for i in d])\n"
   ]
  },
  {
   "cell_type": "code",
   "execution_count": 26,
   "metadata": {},
   "outputs": [
    {
     "data": {
      "text/plain": [
       "'18, 22, 24'"
      ]
     },
     "execution_count": 26,
     "metadata": {},
     "output_type": "execute_result"
    }
   ],
   "source": [
    "q()  # 100,150,180\n"
   ]
  },
  {
   "cell_type": "markdown",
   "metadata": {},
   "source": [
    "## Question 2:\n",
    "\n",
    "Write a program which takes 2 digits, X,Y as input and generates a 2-dimensional array. The element value in the i-th row and j-th column of the array should be i\\*j.\n",
    "\n",
    "Note: i=0,1.., X-1; j=0,1,¡¬Y-1.\n",
    "\n",
    "Example\n",
    "\n",
    "Suppose the following inputs are given to the program:\n",
    "\n",
    "> 3,5\n",
    "\n",
    "Then, the output of the program should be:\n",
    "\n",
    "> [[0, 0, 0, 0, 0],[0, 1, 2, 3, 4],[0, 2, 4, 6, 8]]\n"
   ]
  },
  {
   "cell_type": "code",
   "execution_count": 42,
   "metadata": {},
   "outputs": [],
   "source": [
    "def matrix(x, y):\n",
    "    return [[i * j for j in range(y)] for i in range(x)]\n"
   ]
  },
  {
   "cell_type": "code",
   "execution_count": 43,
   "metadata": {},
   "outputs": [
    {
     "data": {
      "text/plain": [
       "[[0, 0, 0, 0, 0], [0, 1, 2, 3, 4], [0, 2, 4, 6, 8]]"
      ]
     },
     "execution_count": 43,
     "metadata": {},
     "output_type": "execute_result"
    }
   ],
   "source": [
    "matrix(int(input(\"Enter No. of Rows\")), int(input(\"Enter No. of Columns\")))  # 3, 5\n"
   ]
  },
  {
   "cell_type": "markdown",
   "metadata": {},
   "source": [
    "## Question 3:\n",
    "\n",
    "Write a program that accepts a comma separated sequence of words as input and prints the words in a comma-separated sequence after sorting them alphabetically.\n",
    "\n",
    "Suppose the following input is supplied to the program:\n",
    "\n",
    "> without,hello,bag,world\n",
    "\n",
    "Then, the output should be:\n",
    "\n",
    "> bag,hello,without,world\n"
   ]
  },
  {
   "cell_type": "code",
   "execution_count": 44,
   "metadata": {},
   "outputs": [],
   "source": [
    "def sort_string():\n",
    "    return \", \".join(sorted(input().split(\",\")))\n"
   ]
  },
  {
   "cell_type": "code",
   "execution_count": 46,
   "metadata": {},
   "outputs": [
    {
     "data": {
      "text/plain": [
       "'bag, hello, without, world'"
      ]
     },
     "execution_count": 46,
     "metadata": {},
     "output_type": "execute_result"
    }
   ],
   "source": [
    "sort_string()  # without,hello,bag,world\n"
   ]
  },
  {
   "cell_type": "markdown",
   "metadata": {},
   "source": [
    "## Question 4:\n",
    "\n",
    "Write a program that accepts a sequence of whitespace separated words as input and prints the words after removing all duplicate words and sorting them alphanumerically.\n",
    "\n",
    "Suppose the following input is supplied to the program:\n",
    "\n",
    "> hello world and practice makes perfect and hello world again\n",
    "\n",
    "Then, the output should be:\n",
    "\n",
    "> again and hello makes perfect practice world\n"
   ]
  },
  {
   "cell_type": "code",
   "execution_count": 47,
   "metadata": {},
   "outputs": [],
   "source": [
    "def sort_words():\n",
    "    return \", \".join(sorted(list(set(input().split(\" \")))))\n"
   ]
  },
  {
   "cell_type": "code",
   "execution_count": 48,
   "metadata": {},
   "outputs": [
    {
     "data": {
      "text/plain": [
       "'again, and, hello, makes, perfect, practice, world'"
      ]
     },
     "execution_count": 48,
     "metadata": {},
     "output_type": "execute_result"
    }
   ],
   "source": [
    "sort_words()\n"
   ]
  },
  {
   "cell_type": "markdown",
   "metadata": {},
   "source": [
    "## Question 5:\n",
    "\n",
    "Write a program that accepts a sentence and calculate the number of letters and digits.\n",
    "\n",
    "Suppose the following input is supplied to the program:\n",
    "\n",
    "> hello world! 123\n",
    "\n",
    "Then, the output should be:\n",
    "\n",
    "> LETTERS 10  \n",
    "> DIGITS 3\n"
   ]
  },
  {
   "cell_type": "code",
   "execution_count": 53,
   "metadata": {},
   "outputs": [],
   "source": [
    "def counting():\n",
    "    string = input()\n",
    "    letter = digit = 0\n",
    "    for i in string:\n",
    "        if i.isalpha():\n",
    "            letter += 1\n",
    "        if i.isdigit():\n",
    "            digit += 1\n",
    "    print(f\"LETTERS {letter}\\nDIGITS {digit}\")\n"
   ]
  },
  {
   "cell_type": "code",
   "execution_count": 54,
   "metadata": {},
   "outputs": [
    {
     "name": "stdout",
     "output_type": "stream",
     "text": [
      "LETTERS 10\n",
      "DIGITS 3\n"
     ]
    }
   ],
   "source": [
    "counting()  # hello world! 123\n"
   ]
  },
  {
   "cell_type": "markdown",
   "metadata": {},
   "source": [
    "### Difference between `.isdecimal()`,`.isdigit()`, `.isnumeric()`\n",
    "\n",
    "| String Type              |      Example       | `.isdecimal()` | `.isdigit()` | `.isnumeric()` |\n",
    "| :----------------------- | :----------------: | :------------- | :----------- | :------------- |\n",
    "| Base 10 Numbers          |       $0123$       | True           | True         | True           |\n",
    "| Fractions & Superscripts | $\\frac{2}{3}, 2^2$ | **False**      | True         | True           |\n",
    "| Roman Numerals           |    $\\text{IV}$     | **False**      | **False**    | True           |\n",
    "\n",
    "---\n"
   ]
  },
  {
   "cell_type": "markdown",
   "metadata": {},
   "source": [
    "## Question 6:\n",
    "\n",
    "A website requires the users to input username and password to register. Write a program to check the validity of password input by users.\n",
    "\n",
    "Following are the criteria for checking the password:\n",
    "\n",
    "1. At least 1 letter between [a-z]\n",
    "\n",
    "2. At least 1 number between [0-9]\n",
    "\n",
    "3. At least 1 letter between [A-Z]\n",
    "\n",
    "4. At least 1 character from [$#@]\n",
    "\n",
    "5. Minimum length of transaction password: 6\n",
    "\n",
    "6. Maximum length of transaction password: 12\n",
    "\n",
    "Your program should accept a sequence of comma separated passwords and will check them according to the above criteria. Passwords that match the criteria are to be printed, each separated by a comma.\n",
    "\n",
    "Example\n",
    "\n",
    "If the following passwords are given as input to the program:\n",
    "\n",
    "ABd1234@1,a F1#,2w3E\\*,2We3345\n",
    "\n",
    "Then, the output of the program should be:\n",
    "\n",
    "ABd1234@1\n"
   ]
  },
  {
   "cell_type": "code",
   "execution_count": 61,
   "metadata": {},
   "outputs": [],
   "source": [
    "import re\n",
    "\n",
    "\n",
    "def pw_checker(pw: str) -> bool:\n",
    "    \"\"\"Check if password meets the defined criteria\n",
    "\n",
    "    Args:\n",
    "        pw (str): password for checking\n",
    "\n",
    "    Returns:\n",
    "        bool: does password satisfies the criteria\n",
    "    \"\"\"\n",
    "    pw_regex = re.compile(r\"^(?=.*\\d)(?=.*[a-z])(?=.*[A-Z])(?=.*[$#@])(?!.*\\s).{6,12}$\")\n",
    "    return True if re.search(pw_regex, pw) else False\n",
    "\n",
    "\n",
    "def bulk_pw_checker() -> str:\n",
    "    \"\"\"Check bulk password\n",
    "\n",
    "    Returns:\n",
    "        str: password meeting criteria\n",
    "    \"\"\"\n",
    "    return \", \".join([i for i in input().split(\",\") if pw_checker(i)])\n"
   ]
  },
  {
   "cell_type": "code",
   "execution_count": 62,
   "metadata": {},
   "outputs": [
    {
     "data": {
      "text/plain": [
       "'ABd1234@1'"
      ]
     },
     "execution_count": 62,
     "metadata": {},
     "output_type": "execute_result"
    }
   ],
   "source": [
    "bulk_pw_checker()  # ABd1234@1,a F1#,2w3E*,2We3345\n"
   ]
  }
 ],
 "metadata": {
  "kernelspec": {
   "display_name": "Python 3.8.10 ('fsds')",
   "language": "python",
   "name": "python3"
  },
  "language_info": {
   "codemirror_mode": {
    "name": "ipython",
    "version": 3
   },
   "file_extension": ".py",
   "mimetype": "text/x-python",
   "name": "python",
   "nbconvert_exporter": "python",
   "pygments_lexer": "ipython3",
   "version": "3.8.10"
  },
  "orig_nbformat": 4,
  "vscode": {
   "interpreter": {
    "hash": "20f5f825ba7e1e0138bea706cf7ce76ba178632e6be331b5251920b13e58ac94"
   }
  }
 },
 "nbformat": 4,
 "nbformat_minor": 2
}
