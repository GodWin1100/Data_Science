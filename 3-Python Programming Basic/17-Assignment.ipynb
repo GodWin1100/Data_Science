{
 "cells": [
  {
   "cell_type": "markdown",
   "metadata": {},
   "source": [
    "# Python Programming Basic Assignment-17\n"
   ]
  },
  {
   "cell_type": "markdown",
   "metadata": {},
   "source": [
    "## Question 1. Create a function that takes three arguments a, b, c and returns the sum of the numbers that are evenly divided by c from the range a, b inclusive.\n",
    "\n",
    "Examples\n",
    "\n",
    "```py\n",
    "evenly_divisible(1, 10, 20) ➞ 0\n",
    "# No number between 1 and 10 can be evenly divided by 20.\n",
    "\n",
    "evenly_divisible(1, 10, 2) ➞ 30\n",
    "# 2 + 4 + 6 + 8 + 10 = 30\n",
    "\n",
    "evenly_divisible(1, 10, 3) ➞ 18\n",
    "# 3 + 6 + 9 = 18\n",
    "```\n"
   ]
  },
  {
   "cell_type": "code",
   "execution_count": 6,
   "metadata": {},
   "outputs": [],
   "source": [
    "def evenly_divisible(a: int, b: int, c: int) -> int:\n",
    "    \"\"\"Return sum of the numbers that are divided by `c` from the range `a, b` inclusive\n",
    "\n",
    "    Args:\n",
    "        a (int): minimum range\n",
    "        b (int): maximum range\n",
    "        c (int): divisor\n",
    "\n",
    "    Returns:\n",
    "        int: sum of number divided by `c`\n",
    "    \"\"\"\n",
    "    return sum([i for i in range(a, b + 1) if i % c == 0])\n"
   ]
  },
  {
   "cell_type": "code",
   "execution_count": 7,
   "metadata": {},
   "outputs": [
    {
     "data": {
      "text/plain": [
       "(0, 30, 18)"
      ]
     },
     "execution_count": 7,
     "metadata": {},
     "output_type": "execute_result"
    }
   ],
   "source": [
    "evenly_divisible(1, 10, 20), evenly_divisible(1, 10, 2), evenly_divisible(1, 10, 3)\n"
   ]
  },
  {
   "cell_type": "markdown",
   "metadata": {},
   "source": [
    "## Question 2. Create a function that returns True if a given inequality expression is correct and False otherwise.\n",
    "\n",
    "Examples\n",
    "\n",
    "```py\n",
    "correct_signs(\"3 < 7 < 11\") ➞ True\n",
    "\n",
    "correct_signs(\"13 > 44 > 33 > 1\") ➞ False\n",
    "\n",
    "correct_signs(\"1 < 2 < 6 < 9 > 3\") ➞ True\n",
    "```\n"
   ]
  },
  {
   "cell_type": "code",
   "execution_count": 8,
   "metadata": {},
   "outputs": [],
   "source": [
    "def correct_signs(expression: str) -> bool:\n",
    "    \"\"\"Return `True` if inequality expression is correct else `False`\n",
    "\n",
    "    Args:\n",
    "        expression (str): expression in string format\n",
    "\n",
    "    Returns:\n",
    "        bool: expression is right?\n",
    "    \"\"\"\n",
    "    return eval(expression)\n"
   ]
  },
  {
   "cell_type": "code",
   "execution_count": 9,
   "metadata": {},
   "outputs": [
    {
     "data": {
      "text/plain": [
       "(True, False, True)"
      ]
     },
     "execution_count": 9,
     "metadata": {},
     "output_type": "execute_result"
    }
   ],
   "source": [
    "correct_signs(\"3 < 7 < 11\"), correct_signs(\"13 > 44 > 33 > 1\"), correct_signs(\"1 < 2 < 6 < 9 > 3\")\n"
   ]
  },
  {
   "cell_type": "markdown",
   "metadata": {},
   "source": [
    "## Question 3. Create a function that replaces all the vowels in a string with a specified character.\n",
    "\n",
    "Examples\n",
    "\n",
    "```py\n",
    "replace_vowels(\"the aardvark\", \"#\") ➞ \"th# ##rdv#rk\"\n",
    "\n",
    "replace_vowels(\"minnie mouse\", \"?\") ➞ \"m?nn?? m??s?\"\n",
    "\n",
    "replace_vowels(\"shakespeare\", \"*\") ➞ \"sh*k*sp**r*\"\n",
    "```\n"
   ]
  },
  {
   "cell_type": "code",
   "execution_count": 21,
   "metadata": {},
   "outputs": [],
   "source": [
    "import re\n",
    "\n",
    "\n",
    "def replace_vowels(string: str, pattern: str) -> str:\n",
    "    \"\"\"Replace vowel with `pattern` in given `string`\n",
    "\n",
    "    Args:\n",
    "        string (str): string in which vowel is to be replaced\n",
    "        pattern (str): pattern with which vowel will be replaced\n",
    "\n",
    "    Returns:\n",
    "        str: replaced string\n",
    "    \"\"\"\n",
    "    return re.sub(r\"[aeiouAEIOU]\", pattern, string, flags=re.I)\n"
   ]
  },
  {
   "cell_type": "code",
   "execution_count": 23,
   "metadata": {},
   "outputs": [
    {
     "data": {
      "text/plain": [
       "('th# ##rdv#rk', 'm?nn?? m??s?', 'sh*k*sp**r*')"
      ]
     },
     "execution_count": 23,
     "metadata": {},
     "output_type": "execute_result"
    }
   ],
   "source": [
    "replace_vowels(\"the aardvark\", \"#\"), replace_vowels(\"minnie mouse\", \"?\"), replace_vowels(\"shakespeare\", \"*\")\n"
   ]
  },
  {
   "cell_type": "markdown",
   "metadata": {},
   "source": [
    "## Question 4. Write a function that calculates the factorial of a number recursively.\n",
    "\n",
    "Examples\n",
    "\n",
    "```py\n",
    "factorial(5) ➞ 120\n",
    "\n",
    "factorial(3) ➞ 6\n",
    "\n",
    "factorial(1) ➞ 1\n",
    "\n",
    "factorial(0) ➞ 1\n",
    "```\n"
   ]
  },
  {
   "cell_type": "code",
   "execution_count": 36,
   "metadata": {},
   "outputs": [],
   "source": [
    "def factorial(n: int) -> int:\n",
    "    \"\"\"Return the factorial of given number `n`\n",
    "\n",
    "    Args:\n",
    "        n (int): number for which factorial to be found\n",
    "\n",
    "    Returns:\n",
    "        int: factorial of `n`\n",
    "    \"\"\"\n",
    "    if n > 0:\n",
    "        return n * factorial(n - 1)\n",
    "    return 1\n"
   ]
  },
  {
   "cell_type": "code",
   "execution_count": 37,
   "metadata": {},
   "outputs": [
    {
     "data": {
      "text/plain": [
       "(120, 6, 1, 1)"
      ]
     },
     "execution_count": 37,
     "metadata": {},
     "output_type": "execute_result"
    }
   ],
   "source": [
    "factorial(5), factorial(3), factorial(1), factorial(0)\n"
   ]
  },
  {
   "cell_type": "markdown",
   "metadata": {},
   "source": [
    "## Question 5.\n",
    "\n",
    "Hamming distance is the number of characters that differ between two strings.  \n",
    "To illustrate:\n",
    "\n",
    "> String1: \"abcbba\"  \n",
    "> String2: \"abcbda\"\n",
    "\n",
    "> Hamming Distance: 1 - \"b\" vs. \"d\" is the only difference.\n",
    "\n",
    "Create a function that computes the hamming distance between two strings.  \n",
    "Examples\n",
    "\n",
    "```py\n",
    "hamming_distance(\"abcde\", \"bcdef\") ➞ 5\n",
    "\n",
    "hamming_distance(\"abcde\", \"abcde\") ➞ 0\n",
    "\n",
    "hamming_distance(\"strong\", \"strung\") ➞ 1\n",
    "```\n"
   ]
  },
  {
   "cell_type": "code",
   "execution_count": 39,
   "metadata": {},
   "outputs": [],
   "source": [
    "def hamming_distance(str1: str, str2: str) -> int:\n",
    "    \"\"\"Returns the hamming distance between `str1` and `str2`\n",
    "\n",
    "    Args:\n",
    "        str1 (str): string 1\n",
    "        str2 (str): string 2\n",
    "\n",
    "    Returns:\n",
    "        int: hamming distance\n",
    "    \"\"\"\n",
    "    dist = 0\n",
    "    for i in range(len(str1)):\n",
    "        if str1[i] != str2[i]:\n",
    "            dist += 1\n",
    "    return dist\n"
   ]
  },
  {
   "cell_type": "code",
   "execution_count": 40,
   "metadata": {},
   "outputs": [
    {
     "data": {
      "text/plain": [
       "(5, 0, 1)"
      ]
     },
     "execution_count": 40,
     "metadata": {},
     "output_type": "execute_result"
    }
   ],
   "source": [
    "hamming_distance(\"abcde\", \"bcdef\"), hamming_distance(\"abcde\", \"abcde\"), hamming_distance(\"strong\", \"strung\")\n"
   ]
  }
 ],
 "metadata": {
  "kernelspec": {
   "display_name": "Python 3.8.10 ('fsds')",
   "language": "python",
   "name": "python3"
  },
  "language_info": {
   "codemirror_mode": {
    "name": "ipython",
    "version": 3
   },
   "file_extension": ".py",
   "mimetype": "text/x-python",
   "name": "python",
   "nbconvert_exporter": "python",
   "pygments_lexer": "ipython3",
   "version": "3.8.10"
  },
  "orig_nbformat": 4,
  "vscode": {
   "interpreter": {
    "hash": "20f5f825ba7e1e0138bea706cf7ce76ba178632e6be331b5251920b13e58ac94"
   }
  }
 },
 "nbformat": 4,
 "nbformat_minor": 2
}
