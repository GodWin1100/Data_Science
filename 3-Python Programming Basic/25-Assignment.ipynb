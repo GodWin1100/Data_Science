{
 "cells": [
  {
   "cell_type": "markdown",
   "metadata": {},
   "source": [
    "# Python Programming Basic Assignment-25\n"
   ]
  },
  {
   "cell_type": "markdown",
   "metadata": {},
   "source": [
    "## Question 1\n",
    "\n",
    "Create a function that takes three integer arguments (a, b, c) and returns the amount of integers which are of equal value.  \n",
    "Examples\n",
    "\n",
    "```py\n",
    "equal(3, 4, 3) ➞ 2\n",
    "\n",
    "equal(1, 1, 1) ➞ 3\n",
    "\n",
    "equal(3, 4, 1) ➞ 0\n",
    "```\n",
    "\n",
    "Notes\n",
    "\n",
    "- Your function must return 0, 2 or 3.\n"
   ]
  },
  {
   "cell_type": "code",
   "execution_count": 16,
   "metadata": {},
   "outputs": [],
   "source": [
    "def equal(a: int, b: int, c: int) -> int:\n",
    "    \"\"\"Amount of integers which are of equal value\n",
    "\n",
    "    Args:\n",
    "        a (int): integer one\n",
    "        b (int): integer two\n",
    "        c (int): integer three\n",
    "\n",
    "    Returns:\n",
    "        int: amount of integer which are of equal value\n",
    "    \"\"\"\n",
    "    lst = [a, b, c]\n",
    "\n",
    "    for i in set(lst):\n",
    "        if lst.count(i) == 3:\n",
    "            return 3\n",
    "        elif lst.count(i) == 2:\n",
    "            return 2\n",
    "    return 0\n"
   ]
  },
  {
   "cell_type": "code",
   "execution_count": 17,
   "metadata": {},
   "outputs": [
    {
     "data": {
      "text/plain": [
       "(2, 3, 0)"
      ]
     },
     "execution_count": 17,
     "metadata": {},
     "output_type": "execute_result"
    }
   ],
   "source": [
    "equal(3, 4, 3), equal(1, 1, 1), equal(3, 4, 1)\n"
   ]
  },
  {
   "cell_type": "markdown",
   "metadata": {},
   "source": [
    "## Question 2\n",
    "\n",
    "Write a function that converts a dictionary into a list of keys-values tuples.  \n",
    "Examples\n",
    "\n",
    "```py\n",
    "dict_to_list({\n",
    "  \"D\": 1,\n",
    "  \"B\": 2,\n",
    "  \"C\": 3\n",
    "}) ➞ [(\"B\", 2), (\"C\", 3), (\"D\", 1)]\n",
    "\n",
    "dict_to_list({\n",
    "  \"likes\": 2,\n",
    "  \"dislikes\": 3,\n",
    "  \"followers\": 10\n",
    "}) ➞ [(\"dislikes\", 3), (\"followers\", 10), (\"likes\", 2)]\n",
    "```\n",
    "\n",
    "Notes\n",
    "\n",
    "- Return the elements in the list in alphabetical order.\n"
   ]
  },
  {
   "cell_type": "code",
   "execution_count": 18,
   "metadata": {},
   "outputs": [],
   "source": [
    "def dict_to_list(dictionary: dict) -> list:\n",
    "    \"\"\"Converts dictionary into a list of key-values tuples\n",
    "\n",
    "    Args:\n",
    "        dictionary (dict): dictionary to convert into list\n",
    "\n",
    "    Returns:\n",
    "        list: sorted list of key-value tuples\n",
    "    \"\"\"\n",
    "    return list(sorted(dictionary.items()))\n"
   ]
  },
  {
   "cell_type": "code",
   "execution_count": 19,
   "metadata": {},
   "outputs": [
    {
     "data": {
      "text/plain": [
       "([('B', 2), ('C', 3), ('D', 1)],\n",
       " [('dislikes', 3), ('followers', 10), ('likes', 2)])"
      ]
     },
     "execution_count": 19,
     "metadata": {},
     "output_type": "execute_result"
    }
   ],
   "source": [
    "dict_to_list({\"D\": 1, \"B\": 2, \"C\": 3}), dict_to_list({\"likes\": 2, \"dislikes\": 3, \"followers\": 10})\n"
   ]
  },
  {
   "cell_type": "markdown",
   "metadata": {},
   "source": [
    "## Question 3\n",
    "\n",
    "Write a function that creates a dictionary with each (key, value) pair being the (lower case, upper case) versions of a letter, respectively.  \n",
    "Examples\n",
    "\n",
    "```py\n",
    "mapping([\"p\", \"s\"]) ➞ { \"p\": \"P\", \"s\": \"S\" }\n",
    "\n",
    "mapping([\"a\", \"b\", \"c\"]) ➞ { \"a\": \"A\", \"b\": \"B\", \"c\": \"C\" }\n",
    "\n",
    "mapping([\"a\", \"v\", \"y\", \"z\"]) ➞ { \"a\": \"A\", \"v\": \"V\", \"y\": \"Y\", \"z\": \"Z\" }\n",
    "```\n",
    "\n",
    "Notes\n",
    "\n",
    "- All of the letters in the input list will always be lowercase.\n"
   ]
  },
  {
   "cell_type": "code",
   "execution_count": 20,
   "metadata": {},
   "outputs": [],
   "source": [
    "def mapping(lst: list) -> dict:\n",
    "    \"\"\"Create dictionary with key as lower case and value as upper case from given list\n",
    "\n",
    "    Args:\n",
    "        lst (list): list for converting to dictionary\n",
    "\n",
    "    Returns:\n",
    "        dict: resultant dictionary\n",
    "    \"\"\"\n",
    "    return {i: i.upper() for i in lst}\n"
   ]
  },
  {
   "cell_type": "code",
   "execution_count": 21,
   "metadata": {},
   "outputs": [
    {
     "data": {
      "text/plain": [
       "({'p': 'P', 's': 'S'},\n",
       " {'a': 'A', 'b': 'B', 'c': 'C'},\n",
       " {'a': 'A', 'v': 'V', 'y': 'Y', 'z': 'Z'})"
      ]
     },
     "execution_count": 21,
     "metadata": {},
     "output_type": "execute_result"
    }
   ],
   "source": [
    "mapping([\"p\", \"s\"]), mapping([\"a\", \"b\", \"c\"]), mapping([\"a\", \"v\", \"y\", \"z\"])\n"
   ]
  },
  {
   "cell_type": "markdown",
   "metadata": {},
   "source": [
    "## Question 4\n",
    "\n",
    "Write a function, that replaces all vowels in a string with a specified vowel.  \n",
    "Examples\n",
    "\n",
    "```py\n",
    "vow_replace(\"apples and bananas\", \"u\") ➞ \"upplus und bununus\"\n",
    "\n",
    "vow_replace(\"cheese casserole\", \"o\") ➞ \"chooso cossorolo\"\n",
    "\n",
    "vow_replace(\"stuffed jalapeno poppers\", \"e\") ➞ \"steffed jelepene peppers\"\n",
    "```\n",
    "\n",
    "Notes\n",
    "\n",
    "- All words will be lowercase. Y is not considered a vowel.\n"
   ]
  },
  {
   "cell_type": "code",
   "execution_count": 22,
   "metadata": {},
   "outputs": [],
   "source": [
    "import re\n",
    "\n",
    "\n",
    "def vow_replace(string: str, pattern: str) -> str:\n",
    "    \"\"\"Replace vowel with `pattern` in given `string`\n",
    "\n",
    "    Args:\n",
    "        string (str): string in which vowel is to be replaced\n",
    "        pattern (str): pattern with which vowel will be replaced\n",
    "\n",
    "    Returns:\n",
    "        str: replaced string\n",
    "    \"\"\"\n",
    "    return re.sub(r\"[aeiouAEIOU]\", pattern, string, flags=re.I)\n"
   ]
  },
  {
   "cell_type": "code",
   "execution_count": 23,
   "metadata": {},
   "outputs": [
    {
     "data": {
      "text/plain": [
       "('upplus und bununus', 'chooso cossorolo')"
      ]
     },
     "execution_count": 23,
     "metadata": {},
     "output_type": "execute_result"
    }
   ],
   "source": [
    "vow_replace(\"apples and bananas\", \"u\"), vow_replace(\"cheese casserole\", \"o\")\n"
   ]
  },
  {
   "cell_type": "code",
   "execution_count": 24,
   "metadata": {},
   "outputs": [
    {
     "data": {
      "text/plain": [
       "'steffed jelepene peppers'"
      ]
     },
     "execution_count": 24,
     "metadata": {},
     "output_type": "execute_result"
    }
   ],
   "source": [
    "vow_replace(\"stuffed jalapeno poppers\", \"e\")\n"
   ]
  },
  {
   "cell_type": "markdown",
   "metadata": {},
   "source": [
    "## Question 5\n",
    "\n",
    "Create a function that takes a string as input and capitalizes a letter if its ASCII code is even and returns its lower case version if its ASCII code is odd.  \n",
    "Examples\n",
    "\n",
    "```py\n",
    "ascii_capitalize(\"to be or not to be!\") ➞ \"To Be oR NoT To Be!\"\n",
    "\n",
    "ascii_capitalize(\"THE LITTLE MERMAID\") ➞ \"THe LiTTLe meRmaiD\"\n",
    "\n",
    "ascii_capitalize(\"Oh what a beautiful morning.\") ➞ \"oH wHaT a BeauTiFuL moRNiNg.\"\n",
    "```\n"
   ]
  },
  {
   "cell_type": "code",
   "execution_count": 25,
   "metadata": {},
   "outputs": [],
   "source": [
    "def ascii_capitalize(string: str) -> str:\n",
    "    \"\"\"Capitalize character if ASCII code is even else lower case\n",
    "\n",
    "    Args:\n",
    "        string (str): string for conversion\n",
    "\n",
    "    Returns:\n",
    "        str: converted string\n",
    "    \"\"\"\n",
    "\n",
    "    return \"\".join([i.upper() if ord(i) % 2 == 0 else i.lower() for i in string])\n"
   ]
  },
  {
   "cell_type": "code",
   "execution_count": 26,
   "metadata": {},
   "outputs": [
    {
     "data": {
      "text/plain": [
       "('To Be oR NoT To Be!', 'THe LiTTLe meRmaiD')"
      ]
     },
     "execution_count": 26,
     "metadata": {},
     "output_type": "execute_result"
    }
   ],
   "source": [
    "ascii_capitalize(\"to be or not to be!\"), ascii_capitalize(\"THE LITTLE MERMAID\")\n"
   ]
  },
  {
   "cell_type": "code",
   "execution_count": 27,
   "metadata": {},
   "outputs": [
    {
     "data": {
      "text/plain": [
       "'oH wHaT a BeauTiFuL moRNiNg.'"
      ]
     },
     "execution_count": 27,
     "metadata": {},
     "output_type": "execute_result"
    }
   ],
   "source": [
    "ascii_capitalize(\"Oh what a beautiful morning.\")\n"
   ]
  }
 ],
 "metadata": {
  "kernelspec": {
   "display_name": "Python 3.8.10 ('fsds')",
   "language": "python",
   "name": "python3"
  },
  "language_info": {
   "codemirror_mode": {
    "name": "ipython",
    "version": 3
   },
   "file_extension": ".py",
   "mimetype": "text/x-python",
   "name": "python",
   "nbconvert_exporter": "python",
   "pygments_lexer": "ipython3",
   "version": "3.8.10"
  },
  "orig_nbformat": 4,
  "vscode": {
   "interpreter": {
    "hash": "20f5f825ba7e1e0138bea706cf7ce76ba178632e6be331b5251920b13e58ac94"
   }
  }
 },
 "nbformat": 4,
 "nbformat_minor": 2
}
