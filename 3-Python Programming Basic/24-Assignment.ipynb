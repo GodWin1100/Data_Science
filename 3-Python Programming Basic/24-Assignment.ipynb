{
 "cells": [
  {
   "cell_type": "markdown",
   "metadata": {},
   "source": [
    "# Python Programming Basic Assignment-24\n"
   ]
  },
  {
   "cell_type": "markdown",
   "metadata": {},
   "source": [
    "## Question 1\n",
    "\n",
    "Create a function that takes an integer and returns a list from 1 to the given number, where:\n",
    "\n",
    "1. If the number can be divided evenly by 4, amplify it by 10 (i.e. return 10 times the number).\n",
    "2. If the number cannot be divided evenly by 4, simply return the number.  \n",
    "   Examples\n",
    "\n",
    "```py\n",
    "amplify(4) ➞ [1, 2, 3, 40]\n",
    "\n",
    "amplify(3) ➞ [1, 2, 3]\n",
    "\n",
    "amplify(25) ➞ [1, 2, 3, 40, 5, 6, 7, 80, 9, 10, 11, 120, 13, 14, 15, 160, 17, 18, 19, 200, 21, 22, 23, 240, 25]\n",
    "```\n",
    "\n",
    "Notes\n",
    "\n",
    "- The given integer will always be equal to or greater than 1.\n",
    "- Include the number (see example above).\n",
    "- To perform this problem with its intended purpose, try doing it with list comprehensions. If that's too difficult, just solve the challenge any way you can.\n"
   ]
  },
  {
   "cell_type": "code",
   "execution_count": 41,
   "metadata": {},
   "outputs": [],
   "source": [
    "def amplify(n: int) -> list:\n",
    "    \"\"\"return list from 1 to `n` and amplify multiple of 4\n",
    "\n",
    "    Args:\n",
    "        n (int): end range of list\n",
    "\n",
    "    Returns:\n",
    "        list: resultant list\n",
    "    \"\"\"\n",
    "    return [i * 10 if i % 4 == 0 else i for i in range(1, n + 1)]\n"
   ]
  },
  {
   "cell_type": "code",
   "execution_count": 42,
   "metadata": {},
   "outputs": [
    {
     "data": {
      "text/plain": [
       "([1, 2, 3, 40],\n",
       " [1, 2, 3],\n",
       " [1,\n",
       "  2,\n",
       "  3,\n",
       "  40,\n",
       "  5,\n",
       "  6,\n",
       "  7,\n",
       "  80,\n",
       "  9,\n",
       "  10,\n",
       "  11,\n",
       "  120,\n",
       "  13,\n",
       "  14,\n",
       "  15,\n",
       "  160,\n",
       "  17,\n",
       "  18,\n",
       "  19,\n",
       "  200,\n",
       "  21,\n",
       "  22,\n",
       "  23,\n",
       "  240,\n",
       "  25])"
      ]
     },
     "execution_count": 42,
     "metadata": {},
     "output_type": "execute_result"
    }
   ],
   "source": [
    "amplify(4), amplify(3), amplify(25)\n"
   ]
  },
  {
   "cell_type": "markdown",
   "metadata": {},
   "source": [
    "## Question 2\n",
    "\n",
    "Create a function that takes a list of numbers and return the number that's unique.  \n",
    "Examples\n",
    "\n",
    "```py\n",
    "unique([3, 3, 3, 7, 3, 3]) ➞ 7\n",
    "\n",
    "unique([0, 0, 0.77, 0, 0]) ➞ 0.77\n",
    "\n",
    "unique([0, 1, 1, 1, 1, 1, 1, 1]) ➞ 0\n",
    "```\n",
    "\n",
    "Notes\n",
    "\n",
    "- Test cases will always have exactly one unique number while all others are the same.\n"
   ]
  },
  {
   "cell_type": "code",
   "execution_count": 43,
   "metadata": {},
   "outputs": [],
   "source": [
    "def unique(lst: list) -> (int or float):\n",
    "    \"\"\"Return unique element from the list\n",
    "\n",
    "    Args:\n",
    "        lst (list): list with one unique element\n",
    "    \"\"\"\n",
    "    for i in set(lst):\n",
    "        if lst.count(i) == 1:\n",
    "            return i\n"
   ]
  },
  {
   "cell_type": "code",
   "execution_count": 44,
   "metadata": {},
   "outputs": [
    {
     "data": {
      "text/plain": [
       "(7, 0.77, 0)"
      ]
     },
     "execution_count": 44,
     "metadata": {},
     "output_type": "execute_result"
    }
   ],
   "source": [
    "unique([3, 3, 3, 7, 3, 3]), unique([0, 0, 0.77, 0, 0]), unique([0, 1, 1, 1, 1, 1, 1, 1])\n"
   ]
  },
  {
   "cell_type": "markdown",
   "metadata": {},
   "source": [
    "## Question 3\n",
    "\n",
    "Your task is to create a Circle constructor that creates a circle with a radius provided by an argument.  \n",
    "The circles constructed must have two getters getArea() (PIr^2) and getPerimeter() (2PI\\*r) which give both respective areas and perimeter (circumference).  \n",
    "For help with this class, I have provided you with a Rectangle constructor which you can use as a base example.  \n",
    "Examples\n",
    "\n",
    "```py\n",
    "circy = Circle(11)\n",
    "circy.getArea()\n",
    "\n",
    "# Should return 380.132711084365\n",
    "\n",
    "circy = Circle(4.44)\n",
    "circy.getPerimeter()\n",
    "\n",
    "# Should return 27.897342763877365\n",
    "```\n",
    "\n",
    "Notes\n",
    "\n",
    "- Round results up to the nearest integer.\n"
   ]
  },
  {
   "cell_type": "code",
   "execution_count": 45,
   "metadata": {},
   "outputs": [],
   "source": [
    "from math import pi\n",
    "\n",
    "\n",
    "class Circle:\n",
    "    \"\"\"Circle class\"\"\"\n",
    "\n",
    "    def __init__(self, r: (int or float)):\n",
    "        \"\"\"Instantiate circle object with radius `r`\n",
    "\n",
    "        Args:\n",
    "            r (int or float): radius\n",
    "        \"\"\"\n",
    "        self.r = r\n",
    "\n",
    "    def getArea(self) -> float:\n",
    "        \"\"\"Return area of the circle\n",
    "\n",
    "        Returns:\n",
    "            float: area of the circle\n",
    "        \"\"\"\n",
    "        return round(pi * self.r * self.r)\n",
    "\n",
    "    def getPerimeter(self) -> float:\n",
    "        \"\"\"Return perimeter of circle\n",
    "\n",
    "        Returns:\n",
    "            float: perimeter of circle\n",
    "        \"\"\"\n",
    "        return round(2 * pi * self.r)\n"
   ]
  },
  {
   "cell_type": "code",
   "execution_count": 46,
   "metadata": {},
   "outputs": [
    {
     "data": {
      "text/plain": [
       "380"
      ]
     },
     "execution_count": 46,
     "metadata": {},
     "output_type": "execute_result"
    }
   ],
   "source": [
    "circy = Circle(11)\n",
    "circy.getArea()\n"
   ]
  },
  {
   "cell_type": "code",
   "execution_count": 47,
   "metadata": {},
   "outputs": [
    {
     "data": {
      "text/plain": [
       "28"
      ]
     },
     "execution_count": 47,
     "metadata": {},
     "output_type": "execute_result"
    }
   ],
   "source": [
    "circy = Circle(4.44)\n",
    "circy.getPerimeter()\n"
   ]
  },
  {
   "cell_type": "markdown",
   "metadata": {},
   "source": [
    "## Question 4\n",
    "\n",
    "Create a function that takes a list of strings and return a list, sorted from shortest to longest.  \n",
    "Examples\n",
    "\n",
    "```py\n",
    "sort_by_length([\"Google\", \"Apple\", \"Microsoft\"])\n",
    "➞ [\"Apple\", \"Google\", \"Microsoft\"]\n",
    "\n",
    "sort_by_length([\"Leonardo\", \"Michelangelo\", \"Raphael\", \"Donatello\"])\n",
    "➞ [\"Raphael\", \"Leonardo\", \"Donatello\", \"Michelangelo\"]\n",
    "\n",
    "sort_by_length([\"Turing\", \"Einstein\", \"Jung\"])\n",
    "➞ [\"Jung\", \"Turing\", \"Einstein\"]\n",
    "```\n",
    "\n",
    "Notes\n",
    "\n",
    "- All test cases contain lists with strings of different lengths, so you won't have to deal with multiple strings of the same length.\n"
   ]
  },
  {
   "cell_type": "code",
   "execution_count": 48,
   "metadata": {},
   "outputs": [],
   "source": [
    "def sort_by_length(lst: list) -> list:\n",
    "    \"\"\"Sort the list according to length of it's element\n",
    "\n",
    "    Args:\n",
    "        lst (list): List of string\n",
    "\n",
    "    Returns:\n",
    "        list: list of string sorted according to length\n",
    "    \"\"\"\n",
    "    return sorted(lst, key=len)\n"
   ]
  },
  {
   "cell_type": "code",
   "execution_count": 49,
   "metadata": {},
   "outputs": [
    {
     "data": {
      "text/plain": [
       "(['Apple', 'Google', 'Microsoft'],\n",
       " ['Raphael', 'Leonardo', 'Donatello', 'Michelangelo'])"
      ]
     },
     "execution_count": 49,
     "metadata": {},
     "output_type": "execute_result"
    }
   ],
   "source": [
    "sort_by_length([\"Google\", \"Apple\", \"Microsoft\"]), sort_by_length([\"Leonardo\", \"Michelangelo\", \"Raphael\", \"Donatello\"])\n"
   ]
  },
  {
   "cell_type": "code",
   "execution_count": 50,
   "metadata": {},
   "outputs": [
    {
     "data": {
      "text/plain": [
       "['Jung', 'Turing', 'Einstein']"
      ]
     },
     "execution_count": 50,
     "metadata": {},
     "output_type": "execute_result"
    }
   ],
   "source": [
    "sort_by_length([\"Turing\", \"Einstein\", \"Jung\"])\n"
   ]
  },
  {
   "cell_type": "markdown",
   "metadata": {},
   "source": [
    "## Question 5\n",
    "\n",
    "Create a function that validates whether three given integers form a Pythagorean triplet. The sum of the squares of the two smallest integers must equal the square of the largest number to be validated.  \n",
    "Examples\n",
    "\n",
    "```py\n",
    "is_triplet(3, 4, 5) ➞ True\n",
    "# 3² + 4² = 25\n",
    "# 5² = 25\n",
    "\n",
    "is_triplet(13, 5, 12) ➞ True\n",
    "# 5² + 12² = 169\n",
    "# 13² = 169\n",
    "\n",
    "is_triplet(1, 2, 3) ➞ False\n",
    "# 1² + 2² = 5\n",
    "# 3² = 9\n",
    "```\n",
    "\n",
    "Notes\n",
    "\n",
    "- Numbers may not be given in a sorted order.\n"
   ]
  },
  {
   "cell_type": "code",
   "execution_count": 51,
   "metadata": {},
   "outputs": [],
   "source": [
    "def is_triplet(a: int, b: int, c: int) -> bool:\n",
    "    \"\"\"Validates whether given integers form a Pythagorean triplet\n",
    "\n",
    "    Args:\n",
    "        a (int): first number\n",
    "        b (int): second number\n",
    "        c (int): third number\n",
    "\n",
    "    Returns:\n",
    "        bool: is pythagorean triplet\n",
    "    \"\"\"\n",
    "    side = sorted([a, b, c])\n",
    "    return side[0] ** 2 + side[1] ** 2 == side[2] ** 2\n"
   ]
  },
  {
   "cell_type": "code",
   "execution_count": 52,
   "metadata": {},
   "outputs": [
    {
     "data": {
      "text/plain": [
       "(True, True, False)"
      ]
     },
     "execution_count": 52,
     "metadata": {},
     "output_type": "execute_result"
    }
   ],
   "source": [
    "is_triplet(3, 4, 5), is_triplet(13, 5, 12), is_triplet(1, 2, 3)\n"
   ]
  },
  {
   "cell_type": "markdown",
   "metadata": {},
   "source": [
    "```py\n",
    "def is_triplet(a: int, b: int, c: int) -> bool:\n",
    "    \"\"\"Validates whether given integers form a Pythagorean triplet\n",
    "\n",
    "    Args:\n",
    "        a (int): first number\n",
    "        b (int): second number\n",
    "        c (int): third number\n",
    "\n",
    "    Returns:\n",
    "        bool: is pythagorean triplet\n",
    "    \"\"\"\n",
    "    side = [a, b, c]\n",
    "    max_side = max(side)\n",
    "    side.remove(max_side)\n",
    "    return max_side**2 == sum([i**2 for i in side])\n",
    "```\n"
   ]
  }
 ],
 "metadata": {
  "kernelspec": {
   "display_name": "Python 3.8.10 ('fsds')",
   "language": "python",
   "name": "python3"
  },
  "language_info": {
   "codemirror_mode": {
    "name": "ipython",
    "version": 3
   },
   "file_extension": ".py",
   "mimetype": "text/x-python",
   "name": "python",
   "nbconvert_exporter": "python",
   "pygments_lexer": "ipython3",
   "version": "3.8.10"
  },
  "orig_nbformat": 4,
  "vscode": {
   "interpreter": {
    "hash": "20f5f825ba7e1e0138bea706cf7ce76ba178632e6be331b5251920b13e58ac94"
   }
  }
 },
 "nbformat": 4,
 "nbformat_minor": 2
}
