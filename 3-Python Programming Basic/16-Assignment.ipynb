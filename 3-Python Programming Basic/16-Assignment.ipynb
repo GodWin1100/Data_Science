{
 "cells": [
  {
   "cell_type": "markdown",
   "metadata": {},
   "source": [
    "# Python Programming Basic-16\n"
   ]
  },
  {
   "cell_type": "markdown",
   "metadata": {},
   "source": [
    "## Question 1.\n",
    "\n",
    "Write a function that stutters a word as if someone is struggling to read it.\n",
    "\n",
    "> The first two letters are repeated twice with an ellipsis ... and space after each, and then the word is pronounced with a question mark ?.\n",
    "\n",
    "Examples\n",
    "\n",
    "```py\n",
    "stutter(\"incredible\") ➞ \"in... in... incredible?\"\n",
    "\n",
    "stutter(\"enthusiastic\") ➞ \"en... en... enthusiastic?\"\n",
    "\n",
    "stutter(\"outstanding\") ➞ \"ou... ou... outstanding?\"\n",
    "```\n",
    "\n",
    "Hint :- Assume all input is in lower case and at least two characters long.\n"
   ]
  },
  {
   "cell_type": "code",
   "execution_count": 1,
   "metadata": {},
   "outputs": [],
   "source": [
    "def stutter(word: str) -> str:\n",
    "    \"\"\"Stutter the given word\n",
    "\n",
    "    Args:\n",
    "        word (str): word for stuttering\n",
    "\n",
    "    Returns:\n",
    "        str: stuttered word\n",
    "    \"\"\"\n",
    "    return f\"{word[:2]}... {word[:2]}... {word}\"\n"
   ]
  },
  {
   "cell_type": "code",
   "execution_count": 2,
   "metadata": {},
   "outputs": [
    {
     "data": {
      "text/plain": [
       "('in... in... incredible',\n",
       " 'en... en... enthusiastic',\n",
       " 'ou... ou... outstanding')"
      ]
     },
     "execution_count": 2,
     "metadata": {},
     "output_type": "execute_result"
    }
   ],
   "source": [
    "stutter(\"incredible\"), stutter(\"enthusiastic\"), stutter(\"outstanding\")\n"
   ]
  },
  {
   "cell_type": "markdown",
   "metadata": {},
   "source": [
    "## Question 2.\n",
    "\n",
    "Create a function that takes an angle in radians and returns the corresponding angle in degrees rounded to one decimal place.\n",
    "Examples\n",
    "\n",
    "```py\n",
    "radians_to_degrees(1) ➞ 57.3\n",
    "\n",
    "radians_to_degrees(20) ➞ 1145.9\n",
    "\n",
    "radians_to_degrees(50) ➞ 2864.8\n",
    "```\n"
   ]
  },
  {
   "cell_type": "code",
   "execution_count": 3,
   "metadata": {},
   "outputs": [],
   "source": [
    "from math import pi\n",
    "\n",
    "\n",
    "def radians_to_degrees(rad: float) -> float:\n",
    "    \"\"\"Convert radian to degree\n",
    "\n",
    "    Args:\n",
    "        rad (float): radian value\n",
    "\n",
    "    Returns:\n",
    "        float: degree value\n",
    "    \"\"\"\n",
    "    return round(rad * 180 / pi, 1)\n"
   ]
  },
  {
   "cell_type": "code",
   "execution_count": 4,
   "metadata": {},
   "outputs": [
    {
     "data": {
      "text/plain": [
       "(57.3, 1145.9, 2864.8)"
      ]
     },
     "execution_count": 4,
     "metadata": {},
     "output_type": "execute_result"
    }
   ],
   "source": [
    "radians_to_degrees(1), radians_to_degrees(20), radians_to_degrees(50)\n"
   ]
  },
  {
   "cell_type": "markdown",
   "metadata": {},
   "source": [
    "## Question 3.\n",
    "\n",
    "In this challenge, establish if a given integer num is a Curzon number.\n",
    "\n",
    "> If 1 plus 2 elevated to num is exactly divisible by 1 plus 2 multiplied by num, then num is a Curzon number.\n",
    "\n",
    "Given a non-negative integer num, implement a function that returns True if num is a Curzon number, or False otherwise.\n",
    "Examples\n",
    "\n",
    "```py\n",
    "is_curzon(5) ➞ True\n",
    "> 2 ** 5 + 1 = 33\n",
    "> 2 * 5 + 1 = 11\n",
    "> 33 is a multiple of 11\n",
    "\n",
    "is_curzon(10) ➞ False\n",
    "> 2 ** 10 + 1 = 1025\n",
    "> 2 * 10 + 1 = 21\n",
    "> 1025 is not a multiple of 21\n",
    "\n",
    "is_curzon(14) ➞ True\n",
    "> 2 ** 14 + 1 = 16385\n",
    "> 2 * 14 + 1 = 29\n",
    "> 16385 is a multiple of 29\n",
    "```\n"
   ]
  },
  {
   "cell_type": "code",
   "execution_count": 5,
   "metadata": {},
   "outputs": [],
   "source": [
    "def is_curzon(num: int) -> bool:\n",
    "    \"\"\"check whether number is curzon number\n",
    "\n",
    "    Args:\n",
    "        num (int): number to check\n",
    "\n",
    "    Returns:\n",
    "        bool: is curzon number\n",
    "    \"\"\"\n",
    "    return (2**num + 1) % (2 * num + 1) == 0\n"
   ]
  },
  {
   "cell_type": "code",
   "execution_count": 6,
   "metadata": {},
   "outputs": [
    {
     "data": {
      "text/plain": [
       "(True, False, True)"
      ]
     },
     "execution_count": 6,
     "metadata": {},
     "output_type": "execute_result"
    }
   ],
   "source": [
    "is_curzon(5), is_curzon(10), is_curzon(14)\n"
   ]
  },
  {
   "cell_type": "markdown",
   "metadata": {},
   "source": [
    "## Question 4.\n",
    "\n",
    "Given the side length x find the area of a hexagon.  \n",
    "![a16](./a16-1.png)  \n",
    "Examples\n",
    "\n",
    "```py\n",
    "area_of_hexagon(1) ➞ 2.6\n",
    "\n",
    "area_of_hexagon(2) ➞ 10.4\n",
    "\n",
    "area_of_hexagon(3) ➞ 23.4\n",
    "```\n"
   ]
  },
  {
   "cell_type": "code",
   "execution_count": 7,
   "metadata": {},
   "outputs": [],
   "source": [
    "def area_of_hexagon(length: float) -> float:\n",
    "    \"\"\"To find area of hexagon given it's length\n",
    "\n",
    "    Args:\n",
    "        length (float): length of hexagon\n",
    "\n",
    "    Returns:\n",
    "        float: area of hexagon\n",
    "    \"\"\"\n",
    "    return round(3 * 3**0.5 * length**2 / 2, 1)\n"
   ]
  },
  {
   "cell_type": "code",
   "execution_count": 8,
   "metadata": {},
   "outputs": [
    {
     "data": {
      "text/plain": [
       "(2.6, 10.4, 23.4)"
      ]
     },
     "execution_count": 8,
     "metadata": {},
     "output_type": "execute_result"
    }
   ],
   "source": [
    "area_of_hexagon(1), area_of_hexagon(2), area_of_hexagon(3)\n"
   ]
  },
  {
   "cell_type": "markdown",
   "metadata": {},
   "source": [
    "## Question 5.\n",
    "\n",
    "Create a function that returns a base-2 (binary) representation of a base-10 (decimal) string number. To convert is simple:\n",
    "\n",
    "> ((2) means base-2 and (10) means base-10) 010101001(2) = 1 + 8 + 32 + 128.\n",
    "\n",
    "Going from right to left, the value of the most right bit is 1, now from that every bit to the left will be x2 the value, value of an 8 bit binary numbers are (256, 128, 64, 32, 16, 8, 4, 2, 1).\n",
    "Examples\n",
    "\n",
    "```py\n",
    "binary(1) ➞ \"1\"\n",
    "> 1*1 = 1\n",
    "\n",
    "binary(5) ➞ \"101\"\n",
    "> 1*1 + 1*4 = 5\n",
    "\n",
    "binary(10) ➞ \"1010\"\n",
    "> 1*2 + 1*8 = 10\n",
    "```\n"
   ]
  },
  {
   "cell_type": "code",
   "execution_count": 9,
   "metadata": {},
   "outputs": [],
   "source": [
    "def binary(n: str) -> str:\n",
    "    \"\"\"Return binary string format of n\n",
    "\n",
    "    Args:\n",
    "        n (str): base 10 decimal number\n",
    "\n",
    "    Returns:\n",
    "        str: binary string\n",
    "    \"\"\"\n",
    "    return f\"{int(n):b}\"\n"
   ]
  },
  {
   "cell_type": "code",
   "execution_count": 10,
   "metadata": {},
   "outputs": [
    {
     "data": {
      "text/plain": [
       "('1', '101', '1010')"
      ]
     },
     "execution_count": 10,
     "metadata": {},
     "output_type": "execute_result"
    }
   ],
   "source": [
    "binary(1), binary(5), binary(10)\n"
   ]
  }
 ],
 "metadata": {
  "kernelspec": {
   "display_name": "Python 3.8.10 ('fsds')",
   "language": "python",
   "name": "python3"
  },
  "language_info": {
   "codemirror_mode": {
    "name": "ipython",
    "version": 3
   },
   "file_extension": ".py",
   "mimetype": "text/x-python",
   "name": "python",
   "nbconvert_exporter": "python",
   "pygments_lexer": "ipython3",
   "version": "3.8.10"
  },
  "orig_nbformat": 4,
  "vscode": {
   "interpreter": {
    "hash": "20f5f825ba7e1e0138bea706cf7ce76ba178632e6be331b5251920b13e58ac94"
   }
  }
 },
 "nbformat": 4,
 "nbformat_minor": 2
}
